{
  "cells": [
    {
      "cell_type": "markdown",
      "metadata": {
        "id": "view-in-github",
        "colab_type": "text"
      },
      "source": [
        "<a href=\"https://colab.research.google.com/github/Hillascher5/nlp-tweets-sentiment-analysis/blob/main/Text_Classification_Tweets_Sentiment_no_eda.ipynb\" target=\"_parent\"><img src=\"https://colab.research.google.com/assets/colab-badge.svg\" alt=\"Open In Colab\"/></a>"
      ]
    },
    {
      "cell_type": "markdown",
      "id": "fd1db53d",
      "metadata": {
        "id": "fd1db53d"
      },
      "source": [
        "## **NLP - Text Classification Project**\n",
        "Group H - August 2025"
      ]
    },
    {
      "cell_type": "markdown",
      "id": "0e39c64d",
      "metadata": {
        "id": "0e39c64d"
      },
      "source": [
        "Classification of tweets from Twitter that have been manually tagged for sentiment analysis."
      ]
    },
    {
      "cell_type": "code",
      "source": [
        "# # Needed for Google Colab\n",
        "# !pip install --quiet evaluate transformers optuna datasets nltk scikit-learn\n",
        "# !pip install numpy==1.26.4"
      ],
      "metadata": {
        "id": "MdWj5rFhiNYR"
      },
      "id": "MdWj5rFhiNYR",
      "execution_count": 101,
      "outputs": []
    },
    {
      "cell_type": "code",
      "execution_count": 102,
      "id": "01b425b0",
      "metadata": {
        "colab": {
          "base_uri": "https://localhost:8080/"
        },
        "id": "01b425b0",
        "outputId": "10b1c68d-e6ea-4259-d785-cd59498215d1"
      },
      "outputs": [
        {
          "output_type": "stream",
          "name": "stdout",
          "text": [
            "env: CUDA_LAUNCH_BLOCKING=1\n"
          ]
        },
        {
          "output_type": "stream",
          "name": "stderr",
          "text": [
            "\u001b[34m\u001b[1mwandb\u001b[0m: \u001b[33mWARNING\u001b[0m Calling wandb.login() after wandb.init() has no effect.\n"
          ]
        },
        {
          "output_type": "stream",
          "name": "stdout",
          "text": [
            "Drive already mounted at /content/drive; to attempt to forcibly remount, call drive.mount(\"/content/drive\", force_remount=True).\n"
          ]
        },
        {
          "output_type": "stream",
          "name": "stderr",
          "text": [
            "[nltk_data] Downloading package stopwords to /root/nltk_data...\n",
            "[nltk_data]   Package stopwords is already up-to-date!\n",
            "[nltk_data] Downloading package wordnet to /root/nltk_data...\n",
            "[nltk_data]   Package wordnet is already up-to-date!\n",
            "[nltk_data] Downloading package omw-1.4 to /root/nltk_data...\n",
            "[nltk_data]   Package omw-1.4 is already up-to-date!\n"
          ]
        },
        {
          "output_type": "execute_result",
          "data": {
            "text/plain": [
              "True"
            ]
          },
          "metadata": {},
          "execution_count": 102
        }
      ],
      "source": [
        "%env CUDA_LAUNCH_BLOCKING=1\n",
        "\n",
        "from wordcloud import WordCloud, STOPWORDS\n",
        "from geopy.geocoders import Nominatim\n",
        "from geopy.exc import GeocoderTimedOut\n",
        "from tqdm import tqdm\n",
        "from collections import Counter\n",
        "from nltk.corpus import stopwords\n",
        "from sklearn.feature_extraction.text import CountVectorizer\n",
        "from sklearn.metrics import accuracy_score, classification_report\n",
        "from sklearn.model_selection import train_test_split\n",
        "from nltk.stem import WordNetLemmatizer\n",
        "from transformers import AutoTokenizer, AutoModelForSequenceClassification, DataCollatorWithPadding, TrainingArguments, Trainer\n",
        "from datasets import Dataset\n",
        "from optuna.pruners import MedianPruner\n",
        "from google.colab import drive\n",
        "drive.mount('/content/drive')\n",
        "\n",
        "import pandas as pd\n",
        "import seaborn as sns\n",
        "import matplotlib.pyplot as plt\n",
        "import numpy as np\n",
        "import os\n",
        "import re\n",
        "import string\n",
        "import time\n",
        "import glob\n",
        "import nltk\n",
        "import evaluate\n",
        "import transformers\n",
        "import optuna\n",
        "import wandb\n",
        "wandb.login()\n",
        "\n",
        "os.environ[\"WANDB_PROJECT\"] = \"tweet-sentiment-classification\"\n",
        "os.environ[\"WANDB_INIT_TIMEOUT\"] = \"180\"\n",
        "\n",
        "nltk.download('stopwords')\n",
        "nltk.download('wordnet')\n",
        "nltk.download('omw-1.4')"
      ]
    },
    {
      "cell_type": "code",
      "execution_count": 103,
      "id": "862fa5f6",
      "metadata": {
        "id": "862fa5f6"
      },
      "outputs": [],
      "source": [
        "# Load data\n",
        "df_train = pd.read_csv('/content/drive/MyDrive/Colab Notebooks/nlp_project/Data/Corona_NLP_train.csv', encoding='latin1')\n",
        "df_val = pd.read_csv('/content/drive/MyDrive/Colab Notebooks/nlp_project/Data/Corona_NLP_test.csv', encoding='latin1')"
      ]
    },
    {
      "cell_type": "markdown",
      "id": "bfa38e28",
      "metadata": {
        "id": "bfa38e28"
      },
      "source": [
        "### Pre-processing the Data\n",
        "\n",
        "The tweets were cleaned by lowercasing (to reduce redundancy), removing stopwords, punctuation, numbers, short words, and applying lemmatization to reduce words to their base form (e.g. running → run). <br>This helps reduce noise and improve model performance.\n"
      ]
    },
    {
      "cell_type": "code",
      "execution_count": 104,
      "id": "ab93defa",
      "metadata": {
        "id": "ab93defa"
      },
      "outputs": [],
      "source": [
        "# # Try agressive pre-processing\n",
        "# lemmatizer = WordNetLemmatizer()\n",
        "\n",
        "# def preprocess_text(text):\n",
        "#     text = str(text).lower()\n",
        "#     text = re.sub(r\"http\\S+|www.\\S+\", \"\", text)              # Remove URLs\n",
        "#     text = re.sub(r\"[^a-z\\s]\", \"\", text)                     # Remove punctuation & numbers\n",
        "#     tokens = text.split()\n",
        "#     tokens = [\n",
        "#         lemmatizer.lemmatize(word)\n",
        "#         for word in tokens\n",
        "#         if word not in stop_words\n",
        "#         and word not in domain_stopwords\n",
        "#         and len(word) > 2\n",
        "#     ]\n",
        "#     return \" \".join(tokens)\n",
        "\n",
        "# df_train[\"clean_text\"] = df_train[\"OriginalTweet\"].apply(preprocess_text)\n",
        "# df_val[\"clean_text\"] = df_val[\"OriginalTweet\"].apply(preprocess_text)"
      ]
    },
    {
      "cell_type": "code",
      "source": [
        "# Try lighter preprocessing\n",
        "def light_preprocess(text):\n",
        "    text = re.sub(r\"http\\S+|www.\\S+\", \"\", text)   # Remove URLs\n",
        "    text = re.sub(r\"@\\w+\", \"\", text)              # Remove @mentions\n",
        "    text = re.sub(r\"#(\\w+)\", r\"\\1\", text)         # Unwrap hashtags\n",
        "    return text.strip()\n",
        "\n",
        "df_train[\"clean_text\"] = df_train[\"OriginalTweet\"].apply(light_preprocess)\n",
        "df_val[\"clean_text\"] = df_val[\"OriginalTweet\"].apply(light_preprocess)"
      ],
      "metadata": {
        "id": "CQFqLTPYEGMt"
      },
      "id": "CQFqLTPYEGMt",
      "execution_count": 105,
      "outputs": []
    },
    {
      "cell_type": "code",
      "source": [
        "# # Try without pre-processing\n",
        "# df_train[\"clean_text\"] = df_train[\"OriginalTweet\"]\n",
        "# df_val[\"clean_text\"] = df_val[\"OriginalTweet\"]"
      ],
      "metadata": {
        "id": "E0CCJPvOeOUL"
      },
      "id": "E0CCJPvOeOUL",
      "execution_count": 106,
      "outputs": []
    },
    {
      "cell_type": "markdown",
      "id": "09004284",
      "metadata": {
        "id": "09004284"
      },
      "source": [
        "## Fine-Tuning Pretrained Language Models\n",
        "\n",
        "Apply NLP techniques using transfer learning on our tweets dataset. Specifically, fine-tuning two pretrained transformer-based models from the Hugging Face library — BERT and RoBERTa — on our sentiment classification task. These models will be trained using both standard PyTorch and the Hugging Face API. Model performance will be monitored and tuned using hyperparameter optimization (Optuna) and experiment tracking (Weights & Biases)."
      ]
    },
    {
      "cell_type": "markdown",
      "id": "f150169f",
      "metadata": {
        "id": "f150169f"
      },
      "source": [
        "**Load Pretrained Models**\n",
        "\n",
        "Initialize tokenizers and models for BERT and RoBERTa, both widely used transformer architectures for text classification. The classification head is configured based on the number of sentiment labels."
      ]
    },
    {
      "cell_type": "code",
      "execution_count": 107,
      "id": "eaa45887",
      "metadata": {
        "colab": {
          "base_uri": "https://localhost:8080/"
        },
        "id": "eaa45887",
        "outputId": "abe0fcfe-bb5d-447b-9184-ffd54db7e636"
      },
      "outputs": [
        {
          "output_type": "stream",
          "name": "stderr",
          "text": [
            "Some weights of BertForSequenceClassification were not initialized from the model checkpoint at bert-base-uncased and are newly initialized: ['classifier.bias', 'classifier.weight']\n",
            "You should probably TRAIN this model on a down-stream task to be able to use it for predictions and inference.\n",
            "Some weights of RobertaForSequenceClassification were not initialized from the model checkpoint at roberta-base and are newly initialized: ['classifier.dense.bias', 'classifier.dense.weight', 'classifier.out_proj.bias', 'classifier.out_proj.weight']\n",
            "You should probably TRAIN this model on a down-stream task to be able to use it for predictions and inference.\n"
          ]
        }
      ],
      "source": [
        "# Choose pretrained models\n",
        "bert_model_name = \"bert-base-uncased\"\n",
        "roberta_model_name = \"roberta-base\"\n",
        "\n",
        "sentiment_labels = df_train['Sentiment'].unique()\n",
        "n_labels = len(sentiment_labels)\n",
        "\n",
        "# Load BERT tokenizer and model\n",
        "bert_tokenizer = AutoTokenizer.from_pretrained(bert_model_name)\n",
        "bert_model = AutoModelForSequenceClassification.from_pretrained(bert_model_name, num_labels=n_labels)\n",
        "\n",
        "# Load RoBERTa tokenizer and model\n",
        "roberta_tokenizer = AutoTokenizer.from_pretrained(roberta_model_name)\n",
        "roberta_model = AutoModelForSequenceClassification.from_pretrained(roberta_model_name, num_labels=n_labels)"
      ]
    },
    {
      "cell_type": "markdown",
      "id": "51f221d5",
      "metadata": {
        "id": "51f221d5"
      },
      "source": [
        "**Encode Sentiment Labels**\n",
        "\n",
        "Map each unique sentiment label to a numeric ID for model compatibility, and apply this mapping to both training and validation datasets."
      ]
    },
    {
      "cell_type": "code",
      "execution_count": 108,
      "id": "b2e31c36",
      "metadata": {
        "id": "b2e31c36"
      },
      "outputs": [],
      "source": [
        "# Mapping sentiments to unique numeric IDs\n",
        "unique_labels = sorted(df_train[\"Sentiment\"].unique())\n",
        "\n",
        "label2id = {label: idx for idx, label in enumerate(unique_labels)}\n",
        "id2label = {idx: label for label, idx in label2id.items()}\n",
        "\n",
        "df_train[\"label\"] = df_train[\"Sentiment\"].map(label2id)\n",
        "df_val[\"label\"] = df_val[\"Sentiment\"].map(label2id)"
      ]
    },
    {
      "cell_type": "code",
      "source": [
        "# Create stratified subset for Optuna\n",
        "train_subset_df, _ = train_test_split(\n",
        "    df_train[[\"clean_text\", \"label\"]],\n",
        "    train_size=2000,\n",
        "    stratify=df_train[\"label\"],\n",
        "    random_state=42\n",
        "    )\n",
        "val_subset_df, _ = train_test_split(\n",
        "    df_val[[\"clean_text\", \"label\"]],\n",
        "    train_size=500,\n",
        "    stratify=df_val[\"label\"],\n",
        "    random_state=42\n",
        "    )"
      ],
      "metadata": {
        "id": "xRmOeAQKdptn"
      },
      "id": "xRmOeAQKdptn",
      "execution_count": 109,
      "outputs": []
    },
    {
      "cell_type": "markdown",
      "id": "92b74ad6",
      "metadata": {
        "id": "92b74ad6"
      },
      "source": [
        "**Tokenization**\n",
        "\n",
        "Define tokenization functions for BERT and RoBERTa to preprocess text with truncation and fixed padding.\n",
        "\n",
        "Transform training and validation DataFrames into Dataset objects compatible with Hugging Face workflows.\n",
        "\n",
        "Apply tokenization to training and validation datasets using each model's tokenizer."
      ]
    },
    {
      "cell_type": "code",
      "execution_count": 110,
      "id": "dcb7752d",
      "metadata": {
        "id": "dcb7752d"
      },
      "outputs": [],
      "source": [
        "# Tokenize function\n",
        "def tokenize_function_bert(examples):\n",
        "    return bert_tokenizer(examples[\"clean_text\"], truncation=True, padding='max_length', max_length=64)\n",
        "\n",
        "def tokenize_function_roberta(examples):\n",
        "    return roberta_tokenizer(examples[\"clean_text\"], truncation=True, padding='max_length', max_length=64)"
      ]
    },
    {
      "cell_type": "code",
      "execution_count": 111,
      "id": "7d9f44db",
      "metadata": {
        "id": "7d9f44db"
      },
      "outputs": [],
      "source": [
        "# Convert DataFrame to Hugging Face Dataset\n",
        "hf_dataset_train = Dataset.from_pandas(df_train[[\"clean_text\", \"label\"]])\n",
        "hf_dataset_val = Dataset.from_pandas(df_val[[\"clean_text\", \"label\"]])\n",
        "\n",
        "hf_subset_train = Dataset.from_pandas(train_subset_df)\n",
        "hf_subset_val = Dataset.from_pandas(val_subset_df)"
      ]
    },
    {
      "cell_type": "code",
      "execution_count": 112,
      "id": "46d7765e",
      "metadata": {
        "colab": {
          "base_uri": "https://localhost:8080/",
          "height": 145,
          "referenced_widgets": [
            "66067071c6494e2088e00903e30bfb6c",
            "06a277e0e84b4062a2a65cea04f43b4b",
            "3a0e701470654088a6f1e615799f7c4a",
            "7d0a5db1fdc7454d8babb0228de49edb",
            "c937c815c6b84b49bede7d4568ea38fc",
            "37c2446b44cd475fa7a483412465d6cc",
            "e1539684d46149779ca163cc732da03b",
            "b977e3eb9910416598ca220a1df062c6",
            "c94d6082774f498380d1a1d36e5a9485",
            "092b9233fd434d47a657a6b04c0d1a34",
            "659561a77cbd4d699435dd5c1738f806",
            "46759dc5ee7c4c25a2c1330697e8357c",
            "43531d88858347b1b1d791870756a323",
            "db8178f5a911464f82fe5aabeb9d1af8",
            "eb07ab8247a64aaab9af4f843417d4c4",
            "6b948e0c68ec4a3aa639d82b4c7cbcac",
            "641db748dde8429da494a619e280a4b3",
            "0683f32d16a4494b96acb040f8b13516",
            "41de94d0744944248244424652bb24ec",
            "1d3a1095490b48e3a6938133746a915d",
            "948fc6e683f4471ca29b1c298de0fbd7",
            "4add4ebc6e544f019e0518b739921a21",
            "42427e941a8b49f8a8b7645de8600c1f",
            "d3feb992c99d45729d51baff8dee9958",
            "9f68d0f6dc534a0b88f1bc61c6d5cbd1",
            "39c82ad984524512819c82a3e11b2e3a",
            "0a0ee988aeec498d99968528d9f480fe",
            "aa1c0f22060e490d82ede48942f61997",
            "e69f7f37279f4e308412c27349d9733d",
            "7a83bcf7db644f6e94d24bdff3df8718",
            "b75bfa741c6245de8b05924ee824a3cb",
            "76280facd5e741e3acb54ab13504ca40",
            "3c9a9376017f45528f65ee60372aa91a",
            "edaf9f22e4974f4784c225947f7c7df7",
            "b7a412785abf41138933c2c3f28b2e52",
            "45cad97ef1814c02aa865e96d91cd870",
            "a1b8b118d51e4515afd8519b181b9e0d",
            "8605997f22f4456096eea986b9033376",
            "c662b398c3254ac1ba8d2a769642cde9",
            "9fea9bd2a13f426ab1599bc505dbaed6",
            "7faeff53890e4e139a93487bbff88230",
            "4096683cfcb24a978e61968a5a4f77f8",
            "03d881d604844d7985efacfe5e81848f",
            "b20245d4776a4713a4aa3631d753305d"
          ]
        },
        "id": "46d7765e",
        "outputId": "eaaff1e9-269c-441b-f8a6-7678a3410661"
      },
      "outputs": [
        {
          "output_type": "display_data",
          "data": {
            "text/plain": [
              "Map:   0%|          | 0/2000 [00:00<?, ? examples/s]"
            ],
            "application/vnd.jupyter.widget-view+json": {
              "version_major": 2,
              "version_minor": 0,
              "model_id": "66067071c6494e2088e00903e30bfb6c"
            }
          },
          "metadata": {}
        },
        {
          "output_type": "display_data",
          "data": {
            "text/plain": [
              "Map:   0%|          | 0/500 [00:00<?, ? examples/s]"
            ],
            "application/vnd.jupyter.widget-view+json": {
              "version_major": 2,
              "version_minor": 0,
              "model_id": "46759dc5ee7c4c25a2c1330697e8357c"
            }
          },
          "metadata": {}
        },
        {
          "output_type": "display_data",
          "data": {
            "text/plain": [
              "Map:   0%|          | 0/2000 [00:00<?, ? examples/s]"
            ],
            "application/vnd.jupyter.widget-view+json": {
              "version_major": 2,
              "version_minor": 0,
              "model_id": "42427e941a8b49f8a8b7645de8600c1f"
            }
          },
          "metadata": {}
        },
        {
          "output_type": "display_data",
          "data": {
            "text/plain": [
              "Map:   0%|          | 0/500 [00:00<?, ? examples/s]"
            ],
            "application/vnd.jupyter.widget-view+json": {
              "version_major": 2,
              "version_minor": 0,
              "model_id": "edaf9f22e4974f4784c225947f7c7df7"
            }
          },
          "metadata": {}
        }
      ],
      "source": [
        "# Tokenize subsets\n",
        "# Tokenize for BERT\n",
        "tokenized_bert_train_sub = hf_subset_train.map(tokenize_function_bert, batched=True)\n",
        "tokenized_bert_train_sub.set_format(\"torch\", columns=[\"input_ids\", \"attention_mask\", \"label\"])\n",
        "\n",
        "tokenized_bert_val_sub = hf_subset_val.map(tokenize_function_bert, batched=True)\n",
        "tokenized_bert_val_sub.set_format(\"torch\", columns=[\"input_ids\", \"attention_mask\", \"label\"])\n",
        "\n",
        "# Tokenize for RoBERTa\n",
        "tokenized_roberta_train_sub = hf_subset_train.map(tokenize_function_roberta, batched=True)\n",
        "tokenized_roberta_train_sub.set_format(\"torch\", columns=[\"input_ids\", \"attention_mask\", \"label\"])\n",
        "\n",
        "tokenized_roberta_val_sub = hf_subset_val.map(tokenize_function_roberta, batched=True)\n",
        "tokenized_roberta_val_sub.set_format(\"torch\", columns=[\"input_ids\", \"attention_mask\", \"label\"])"
      ]
    },
    {
      "cell_type": "code",
      "source": [
        "# Tokenize full dataset\n",
        "# Tokenize for BERT\n",
        "tokenized_bert_train = hf_dataset_train.map(tokenize_function_bert, batched=True)\n",
        "tokenized_bert_train.set_format(\"torch\", columns=[\"input_ids\", \"attention_mask\", \"label\"])\n",
        "\n",
        "tokenized_bert_val = hf_dataset_val.map(tokenize_function_bert, batched=True)\n",
        "tokenized_bert_val.set_format(\"torch\", columns=[\"input_ids\", \"attention_mask\", \"label\"])\n",
        "\n",
        "# Tokenize for RoBERTa\n",
        "tokenized_roberta_train = hf_dataset_train.map(tokenize_function_roberta, batched=True)\n",
        "tokenized_roberta_train.set_format(\"torch\", columns=[\"input_ids\", \"attention_mask\", \"label\"])\n",
        "\n",
        "tokenized_roberta_val = hf_dataset_val.map(tokenize_function_roberta, batched=True)\n",
        "tokenized_roberta_val.set_format(\"torch\", columns=[\"input_ids\", \"attention_mask\", \"label\"])"
      ],
      "metadata": {
        "colab": {
          "base_uri": "https://localhost:8080/",
          "height": 145,
          "referenced_widgets": [
            "6a409c96b98747d183c989db6db99442",
            "47c02fdfb2d04faf92bc9d785dbf8417",
            "928f4bc157974f769d0840b82fcdbdfe",
            "3eaeae08c87d4163aab0d9d5ece87ef8",
            "3ca861ac4095484f87b5724f48b81acf",
            "b4d9298844b6443f85e00a6a76ece667",
            "c9eae60f4c8b44a18ef0f2b9a2fbc48a",
            "8952f27c0bb9442c9157e5539ba41b6a",
            "33788a52aae74fb2b93388aafee5a773",
            "908db0ad055f4b2eb6e812ba7c671967",
            "c396011c4b1e43adad4416b5f191aa76",
            "1fe0afdc4c3e472fb29325403b9f6bd2",
            "a1e2aea7b6e4489693b826be97a87027",
            "5e3a161949af412d8c2993e1d9d960c5",
            "e9f33ae45f1c4402b1061ab4e4aa0a24",
            "132326ef532f42da9854766ed561eff9",
            "37540525ce0b46eda101ca874877ecfb",
            "6d5649e68b1b48488ebd5ac2ccc762d0",
            "5f633d309b504e58b8cd2421455bc000",
            "807cc3c8e5df47b5902af231b01aad97",
            "30c14d22799543fd9179ce5eb17f8350",
            "1e446b4dea59450da332d21ac65c2418",
            "f85c380ed1e1443c870c139c598119e2",
            "2df42ddd2bf64126a00194413764dcac",
            "7838d41186514d508abea617eb1ffeb5",
            "5a986545fa3e41f298b85dff427d82f7",
            "db5d43007ceb439c99e54da958c55247",
            "c35c664759cb4fe3bd5eb666ebf3628e",
            "dae807902e984aacb156c8e2c5516d76",
            "c24e6b43e4c8450791a45db0feddcd22",
            "f2894215d26b4d0ea5a47690fef64667",
            "be813f7be7ef43c588475e5b3d9f8631",
            "16b8b1f2b306491da4d5b0cf9d2228d0",
            "032a29b8ac144fcdb8449bde6f58f887",
            "ad7ed35b6a4e49ff9dc91a469c5af9a1",
            "0afcb0d590064ff59d63a618d48c25c1",
            "66d370460b18401eba81ed08d067f6d5",
            "9067ab3172d74c5797e16d3a8a5aac6d",
            "40ba58c6c60847fa91f7411fcd6e5bed",
            "ac2a67bbaba948029d78bb46cbb60c84",
            "8d603b472fb54adaa32949845ef8ba03",
            "bae232dd0a6642a8993a9c2b464214b2",
            "dfe3ad32354f46caa74d472660be5849",
            "eab3960755724db7a73c10204bb2c591"
          ]
        },
        "id": "rPCWA4vWokv0",
        "outputId": "744b24d1-4ef3-4873-b960-a85da329bc9f"
      },
      "id": "rPCWA4vWokv0",
      "execution_count": 113,
      "outputs": [
        {
          "output_type": "display_data",
          "data": {
            "text/plain": [
              "Map:   0%|          | 0/41157 [00:00<?, ? examples/s]"
            ],
            "application/vnd.jupyter.widget-view+json": {
              "version_major": 2,
              "version_minor": 0,
              "model_id": "6a409c96b98747d183c989db6db99442"
            }
          },
          "metadata": {}
        },
        {
          "output_type": "display_data",
          "data": {
            "text/plain": [
              "Map:   0%|          | 0/3798 [00:00<?, ? examples/s]"
            ],
            "application/vnd.jupyter.widget-view+json": {
              "version_major": 2,
              "version_minor": 0,
              "model_id": "1fe0afdc4c3e472fb29325403b9f6bd2"
            }
          },
          "metadata": {}
        },
        {
          "output_type": "display_data",
          "data": {
            "text/plain": [
              "Map:   0%|          | 0/41157 [00:00<?, ? examples/s]"
            ],
            "application/vnd.jupyter.widget-view+json": {
              "version_major": 2,
              "version_minor": 0,
              "model_id": "f85c380ed1e1443c870c139c598119e2"
            }
          },
          "metadata": {}
        },
        {
          "output_type": "display_data",
          "data": {
            "text/plain": [
              "Map:   0%|          | 0/3798 [00:00<?, ? examples/s]"
            ],
            "application/vnd.jupyter.widget-view+json": {
              "version_major": 2,
              "version_minor": 0,
              "model_id": "032a29b8ac144fcdb8449bde6f58f887"
            }
          },
          "metadata": {}
        }
      ]
    },
    {
      "cell_type": "code",
      "execution_count": 114,
      "id": "56f7558c",
      "metadata": {
        "id": "56f7558c"
      },
      "outputs": [],
      "source": [
        "# # Define evaluation metric, Set up an evaluation function using accuracy as the metric to assess model performance during training.\n",
        "\n",
        "# accuracy_metric = evaluate.load(\"accuracy\")\n",
        "\n",
        "# def compute_metrics(eval_pred):\n",
        "#     logits, labels = eval_pred\n",
        "#     predictions = np.argmax(logits, axis=1)\n",
        "#     return accuracy_metric.compute(predictions=predictions, references=labels)"
      ]
    },
    {
      "cell_type": "code",
      "source": [
        "accuracy_metric = evaluate.load(\"accuracy\")\n",
        "f1_metric = evaluate.load(\"f1\")\n",
        "\n",
        "def compute_metrics(eval_pred):\n",
        "    logits, labels = eval_pred\n",
        "    predictions = np.argmax(logits, axis=1)\n",
        "    return {\n",
        "        \"accuracy\": accuracy_metric.compute(predictions=predictions, references=labels)[\"accuracy\"],\n",
        "        \"f1_macro\": f1_metric.compute(predictions=predictions, references=labels, average=\"macro\")[\"f1\"]\n",
        "    }"
      ],
      "metadata": {
        "id": "7cU06d3QJVps"
      },
      "id": "7cU06d3QJVps",
      "execution_count": 115,
      "outputs": []
    },
    {
      "cell_type": "markdown",
      "id": "2fd3d806",
      "metadata": {
        "id": "2fd3d806"
      },
      "source": [
        "**Use Small Subsets for Quick Evaluation**\n",
        "\n",
        "Select shuffled samples from each training and validation dataset for both BERT and RoBERTa. This allows faster experimentation during model development."
      ]
    },
    {
      "cell_type": "code",
      "execution_count": 116,
      "id": "21818098",
      "metadata": {
        "id": "21818098"
      },
      "outputs": [],
      "source": [
        "USE_SMALL_DATASET = True\n",
        "# if USE_SMALL_DATASET:\n",
        "#   n_samples_train = 2000\n",
        "#   n_samples_val = 500\n",
        "\n",
        "#   train_dataset_bert = tokenized_bert_train.shuffle(seed=42).select(range(n_samples_train))\n",
        "#   val_dataset_bert = tokenized_bert_val.shuffle(seed=42).select(range(n_samples_val))\n",
        "\n",
        "#   train_dataset_roberta = tokenized_roberta_train.shuffle(seed=42).select(range(n_samples_train))\n",
        "#   val_dataset_roberta = tokenized_roberta_val.shuffle(seed=42).select(range(n_samples_val))\n",
        "\n",
        "# else:\n",
        "#   n_samples_train = len(tokenized_bert_train)\n",
        "#   n_samples_val = len(tokenized_bert_val)\n",
        "\n",
        "#   train_dataset_bert = tokenized_bert_train\n",
        "#   val_dataset_bert = tokenized_bert_val\n",
        "\n",
        "#   train_dataset_roberta = tokenized_roberta_train\n",
        "#   val_dataset_roberta = tokenized_roberta_val"
      ]
    },
    {
      "cell_type": "markdown",
      "id": "486b7810",
      "metadata": {
        "id": "486b7810"
      },
      "source": [
        "**Define Training Arguments**\n",
        "\n",
        "Configure hyperparameters and training settings for both BERT and RoBERTa models, including batch size, number of epochs, learning rate, and evaluation strategy."
      ]
    },
    {
      "cell_type": "code",
      "execution_count": 117,
      "id": "10fd9daf",
      "metadata": {
        "id": "10fd9daf"
      },
      "outputs": [],
      "source": [
        "# # Define hyperparameters\n",
        "# run_time = f\"run-{int(time.time())}\"\n",
        "\n",
        "# num_epochs_bert = 5\n",
        "# learning_rate_bert = 4.037872385196561e-05\n",
        "# batch_size_bert = 16\n",
        "\n",
        "# bert_training_args = TrainingArguments(\n",
        "#     output_dir=\"./results/bert/{run_time}\",\n",
        "#     eval_strategy=\"epoch\",\n",
        "#     save_strategy=\"epoch\",\n",
        "#     per_device_train_batch_size=batch_size_bert,\n",
        "#     per_device_eval_batch_size=batch_size_bert,\n",
        "#     num_train_epochs=num_epochs_bert,\n",
        "#     learning_rate=learning_rate_bert,\n",
        "#     weight_decay=0.01,\n",
        "#     load_best_model_at_end=True,\n",
        "#     logging_dir=\"./logs/bert/{run_time}\",\n",
        "#     run_name = f\"bert-ep{num_epochs_bert}-lr{learning_rate_bert}-bs{batch_size_bert}-samples{n_samples_train}-run{int(time.time())}-no_preprocess\",\n",
        "#     report_to=\"wandb\"\n",
        "# )"
      ]
    },
    {
      "cell_type": "code",
      "execution_count": 118,
      "id": "bf8b509c",
      "metadata": {
        "id": "bf8b509c"
      },
      "outputs": [],
      "source": [
        "# # Define hyperparameters\n",
        "# num_epochs_roberta = 4\n",
        "# learning_rate_roberta = 4e-5\n",
        "# batch_size_roberta = 16\n",
        "\n",
        "# roberta_training_args = TrainingArguments(\n",
        "#     output_dir=\"./results/roberta/{run_time}\",\n",
        "#     eval_strategy=\"epoch\",\n",
        "#     save_strategy=\"epoch\",\n",
        "#     per_device_train_batch_size=batch_size_roberta,\n",
        "#     per_device_eval_batch_size=batch_size_roberta,\n",
        "#     num_train_epochs=num_epochs_roberta,\n",
        "#     learning_rate=learning_rate_roberta,\n",
        "#     weight_decay=0.01,\n",
        "#     load_best_model_at_end=True,\n",
        "#     logging_dir=\"./logs/roberta/{run_time}\",\n",
        "#     run_name=f\"roberta-ep{num_epochs_roberta}-lr{learning_rate_roberta}-bs{batch_size_roberta}-samples{n_samples_train}-run{int(time.time())}-no_preprocess\",\n",
        "#     report_to=\"wandb\"\n",
        "# )"
      ]
    },
    {
      "cell_type": "markdown",
      "id": "e30c66bb",
      "metadata": {
        "id": "e30c66bb"
      },
      "source": [
        "**Initialize Trainers**\n",
        "\n",
        "Configure Trainer objects for both BERT and RoBERTa using the small training and validation sets, tokenizers, training arguments, and evaluation metric."
      ]
    },
    {
      "cell_type": "code",
      "execution_count": 119,
      "id": "c7164d5b",
      "metadata": {
        "id": "c7164d5b"
      },
      "outputs": [],
      "source": [
        "# bert_trainer = Trainer(\n",
        "#     model=bert_model,\n",
        "#     args=bert_training_args,\n",
        "#     train_dataset=train_dataset_bert,\n",
        "#     eval_dataset=val_dataset_bert,\n",
        "#     tokenizer=bert_tokenizer,\n",
        "#     compute_metrics=compute_metrics\n",
        "# )"
      ]
    },
    {
      "cell_type": "code",
      "execution_count": 120,
      "id": "8d1be505",
      "metadata": {
        "id": "8d1be505"
      },
      "outputs": [],
      "source": [
        "# roberta_trainer = Trainer(\n",
        "#     model=roberta_model,\n",
        "#     args=roberta_training_args,\n",
        "#     train_dataset=train_dataset_roberta,\n",
        "#     eval_dataset=val_dataset_roberta,\n",
        "#     tokenizer=roberta_tokenizer,\n",
        "#     compute_metrics=compute_metrics\n",
        "# )"
      ]
    },
    {
      "cell_type": "markdown",
      "id": "44a08c2c",
      "metadata": {
        "id": "44a08c2c"
      },
      "source": [
        "**Model Training**\n",
        "\n",
        "Train both BERT and RoBERTa models on the small datasets using the Trainer interface."
      ]
    },
    {
      "cell_type": "markdown",
      "source": [
        "## Manual Trials\n",
        "\n",
        "Manually trained BERT and RoBERTa on various sample sizes to understand how accuracy scales:\n",
        "- 1000, 5000, 10000 train samples for 5 epochs\n",
        "\n",
        "This section is useful for baseline comparison before running Optuna for automated tuning.\n"
      ],
      "metadata": {
        "id": "B0UWqqzpOF1S"
      },
      "id": "B0UWqqzpOF1S"
    },
    {
      "cell_type": "code",
      "execution_count": 121,
      "id": "6c296d08",
      "metadata": {
        "scrolled": false,
        "id": "6c296d08"
      },
      "outputs": [],
      "source": [
        "# bert_trainer.train()"
      ]
    },
    {
      "cell_type": "code",
      "source": [
        "# roberta_trainer.train()\n",
        "\n",
        "# # Safely finish run with specific parameters\n",
        "# wandb.finish()"
      ],
      "metadata": {
        "id": "GIMF8cGiV73j"
      },
      "id": "GIMF8cGiV73j",
      "execution_count": 122,
      "outputs": []
    },
    {
      "cell_type": "markdown",
      "id": "580f4688",
      "metadata": {
        "id": "580f4688"
      },
      "source": [
        "**Hyperparameters Tuning with Optuna**"
      ]
    },
    {
      "cell_type": "code",
      "source": [
        "def build_trainer(model_checkpoint, trial, run_prefix, train_dataset, val_dataset):\n",
        "    # Sample hyperparameters\n",
        "    learning_rate = trial.suggest_float(\"learning_rate\", 1e-5, 5e-5, log=True)\n",
        "    batch_size = trial.suggest_categorical(\"batch_size\", [8, 16, 32])\n",
        "    num_epochs = trial.suggest_int(\"num_train_epochs\", 2, 5)\n",
        "    n_samples = len(train_dataset)\n",
        "\n",
        "    model = AutoModelForSequenceClassification.from_pretrained(model_checkpoint, num_labels=5)\n",
        "    tokenizer = AutoTokenizer.from_pretrained(model_checkpoint)\n",
        "\n",
        "    run_name = f\"{run_prefix}-ep{num_epochs}-lr{learning_rate}-bs{batch_size}-samples{n_samples}-run{int(time.time())}-w_preprocess\"\n",
        "\n",
        "    args = TrainingArguments(\n",
        "        output_dir=f\"./results/{run_prefix}/{run_name}\",\n",
        "        disable_tqdm=True,\n",
        "        fp16=True,\n",
        "        eval_strategy=\"epoch\",\n",
        "        save_strategy=\"epoch\",\n",
        "        per_device_train_batch_size=batch_size,\n",
        "        per_device_eval_batch_size=batch_size,\n",
        "        num_train_epochs=num_epochs,\n",
        "        learning_rate=learning_rate,\n",
        "        weight_decay=0.01,\n",
        "        load_best_model_at_end=True,\n",
        "        save_total_limit=1,\n",
        "        logging_strategy=\"epoch\",\n",
        "        logging_dir=f\"./logs/{run_prefix}/{run_name}\",\n",
        "        run_name=run_name,\n",
        "        report_to=\"wandb\",\n",
        "        metric_for_best_model=\"f1_macro\",\n",
        "        greater_is_better=True\n",
        "    )\n",
        "\n",
        "    trainer = Trainer(\n",
        "        model=model,\n",
        "        args=args,\n",
        "        train_dataset=train_dataset,\n",
        "        eval_dataset=val_dataset,\n",
        "        tokenizer=tokenizer,\n",
        "        compute_metrics=compute_metrics\n",
        "    )\n",
        "\n",
        "    return trainer"
      ],
      "metadata": {
        "id": "8X9aALiCIFgT"
      },
      "id": "8X9aALiCIFgT",
      "execution_count": 123,
      "outputs": []
    },
    {
      "cell_type": "code",
      "source": [
        "def objective_bert(trial):\n",
        "    trainer = build_trainer(\n",
        "        model_checkpoint=\"bert-base-uncased\",\n",
        "        trial=trial,\n",
        "        run_prefix=\"bert\",\n",
        "        train_dataset=tokenized_bert_train_sub,\n",
        "        val_dataset=tokenized_bert_val_sub\n",
        "    )\n",
        "    trainer.train()\n",
        "    eval_result = trainer.evaluate()\n",
        "    return eval_result[\"eval_f1_macro\"]\n",
        "\n",
        "def objective_roberta(trial):\n",
        "    trainer = build_trainer(\n",
        "        model_checkpoint=\"roberta-base\",\n",
        "        trial=trial,\n",
        "        run_prefix=\"roberta\",\n",
        "        train_dataset=tokenized_roberta_train_sub,\n",
        "        val_dataset=tokenized_roberta_val_sub\n",
        "    )\n",
        "    trainer.train()\n",
        "    eval_result = trainer.evaluate()\n",
        "    return eval_result[\"eval_f1_macro\"]"
      ],
      "metadata": {
        "id": "RDTlIbcgTdbS"
      },
      "id": "RDTlIbcgTdbS",
      "execution_count": 124,
      "outputs": []
    },
    {
      "cell_type": "code",
      "source": [
        "study_bert = optuna.create_study(direction=\"maximize\",\n",
        "                                 pruner=MedianPruner(n_startup_trials=2, n_warmup_steps=1),\n",
        "                                 study_name=\"bert_study_stratify_w_preprocess\",\n",
        "                                 storage=\"sqlite:////content/drive/MyDrive/Colab Notebooks/nlp_project/optuna/bert_study_stratify_w_preprocess.db\",\n",
        "                                 load_if_exists=True)\n",
        "study_bert.optimize(objective_bert, n_trials=5)"
      ],
      "metadata": {
        "id": "FVHz-uRATikZ",
        "colab": {
          "base_uri": "https://localhost:8080/"
        },
        "outputId": "7680f760-5dfb-44ba-b786-f5f286dd9f75"
      },
      "id": "FVHz-uRATikZ",
      "execution_count": 125,
      "outputs": [
        {
          "output_type": "stream",
          "name": "stderr",
          "text": [
            "[I 2025-07-27 21:47:15,620] A new study created in RDB with name: bert_study_stratify_w_preprocess\n",
            "Some weights of BertForSequenceClassification were not initialized from the model checkpoint at bert-base-uncased and are newly initialized: ['classifier.bias', 'classifier.weight']\n",
            "You should probably TRAIN this model on a down-stream task to be able to use it for predictions and inference.\n",
            "/tmp/ipython-input-123-459110852.py:34: FutureWarning: `tokenizer` is deprecated and will be removed in version 5.0.0 for `Trainer.__init__`. Use `processing_class` instead.\n",
            "  trainer = Trainer(\n"
          ]
        },
        {
          "output_type": "stream",
          "name": "stdout",
          "text": [
            "{'loss': 1.5707, 'grad_norm': 7.429507732391357, 'learning_rate': 1.0984125391680366e-05, 'epoch': 1.0}\n",
            "{'eval_loss': 1.5513710975646973, 'eval_accuracy': 0.294, 'eval_f1_macro': 0.19602703876682515, 'eval_runtime': 0.4366, 'eval_samples_per_second': 1145.131, 'eval_steps_per_second': 36.644, 'epoch': 1.0}\n",
            "{'loss': 1.4413, 'grad_norm': 6.583423614501953, 'learning_rate': 7.399831842816247e-06, 'epoch': 2.0}\n",
            "{'eval_loss': 1.4327157735824585, 'eval_accuracy': 0.384, 'eval_f1_macro': 0.3436538882590473, 'eval_runtime': 0.4172, 'eval_samples_per_second': 1198.363, 'eval_steps_per_second': 38.348, 'epoch': 2.0}\n",
            "{'loss': 1.3092, 'grad_norm': 11.536330223083496, 'learning_rate': 3.757727107680126e-06, 'epoch': 3.0}\n",
            "{'eval_loss': 1.3724521398544312, 'eval_accuracy': 0.422, 'eval_f1_macro': 0.4098431988317487, 'eval_runtime': 0.4241, 'eval_samples_per_second': 1178.983, 'eval_steps_per_second': 37.727, 'epoch': 3.0}\n",
            "{'loss': 1.216, 'grad_norm': 12.700071334838867, 'learning_rate': 1.1562237254400385e-07, 'epoch': 4.0}\n",
            "{'eval_loss': 1.35353422164917, 'eval_accuracy': 0.434, 'eval_f1_macro': 0.42585554954587834, 'eval_runtime': 0.4379, 'eval_samples_per_second': 1141.743, 'eval_steps_per_second': 36.536, 'epoch': 4.0}\n",
            "{'train_runtime': 31.6226, 'train_samples_per_second': 252.983, 'train_steps_per_second': 7.969, 'train_loss': 1.3842828538682725, 'epoch': 4.0}\n"
          ]
        },
        {
          "output_type": "stream",
          "name": "stderr",
          "text": [
            "[I 2025-07-27 21:47:48,950] Trial 0 finished with value: 0.42585554954587834 and parameters: {'learning_rate': 1.4568418940544487e-05, 'batch_size': 32, 'num_train_epochs': 4}. Best is trial 0 with value: 0.42585554954587834.\n"
          ]
        },
        {
          "output_type": "stream",
          "name": "stdout",
          "text": [
            "{'eval_loss': 1.35353422164917, 'eval_accuracy': 0.434, 'eval_f1_macro': 0.42585554954587834, 'eval_runtime': 0.4423, 'eval_samples_per_second': 1130.553, 'eval_steps_per_second': 36.178, 'epoch': 4.0}\n"
          ]
        },
        {
          "output_type": "stream",
          "name": "stderr",
          "text": [
            "Some weights of BertForSequenceClassification were not initialized from the model checkpoint at bert-base-uncased and are newly initialized: ['classifier.bias', 'classifier.weight']\n",
            "You should probably TRAIN this model on a down-stream task to be able to use it for predictions and inference.\n",
            "/tmp/ipython-input-123-459110852.py:34: FutureWarning: `tokenizer` is deprecated and will be removed in version 5.0.0 for `Trainer.__init__`. Use `processing_class` instead.\n",
            "  trainer = Trainer(\n"
          ]
        },
        {
          "output_type": "stream",
          "name": "stdout",
          "text": [
            "{'loss': 1.5166, 'grad_norm': 8.078140258789062, 'learning_rate': 1.0799434213431655e-05, 'epoch': 1.0}\n",
            "{'eval_loss': 1.4024677276611328, 'eval_accuracy': 0.41, 'eval_f1_macro': 0.34334283948419153, 'eval_runtime': 1.4182, 'eval_samples_per_second': 352.561, 'eval_steps_per_second': 44.423, 'epoch': 1.0}\n",
            "{'loss': 1.2527, 'grad_norm': 9.871053695678711, 'learning_rate': 8.118418142499969e-06, 'epoch': 2.0}\n",
            "{'eval_loss': 1.2415952682495117, 'eval_accuracy': 0.456, 'eval_f1_macro': 0.452355587486454, 'eval_runtime': 1.3693, 'eval_samples_per_second': 365.144, 'eval_steps_per_second': 46.008, 'epoch': 2.0}\n",
            "{'loss': 0.9842, 'grad_norm': 27.95313835144043, 'learning_rate': 5.4266349387532945e-06, 'epoch': 3.0}\n",
            "{'eval_loss': 1.251840591430664, 'eval_accuracy': 0.472, 'eval_f1_macro': 0.47056142943732926, 'eval_runtime': 1.3644, 'eval_samples_per_second': 366.468, 'eval_steps_per_second': 46.175, 'epoch': 3.0}\n",
            "{'loss': 0.7885, 'grad_norm': 14.682958602905273, 'learning_rate': 2.7348517350066206e-06, 'epoch': 4.0}\n",
            "{'eval_loss': 1.2432795763015747, 'eval_accuracy': 0.492, 'eval_f1_macro': 0.5036404956466991, 'eval_runtime': 1.3788, 'eval_samples_per_second': 362.631, 'eval_steps_per_second': 45.692, 'epoch': 4.0}\n",
            "{'loss': 0.6509, 'grad_norm': 6.945397853851318, 'learning_rate': 4.306853125994679e-08, 'epoch': 5.0}\n",
            "{'eval_loss': 1.2641823291778564, 'eval_accuracy': 0.502, 'eval_f1_macro': 0.5131221884196895, 'eval_runtime': 1.3876, 'eval_samples_per_second': 360.334, 'eval_steps_per_second': 45.402, 'epoch': 5.0}\n",
            "{'train_runtime': 112.8684, 'train_samples_per_second': 88.599, 'train_steps_per_second': 11.075, 'train_loss': 1.0385998413085937, 'epoch': 5.0}\n"
          ]
        },
        {
          "output_type": "stream",
          "name": "stderr",
          "text": [
            "[I 2025-07-27 21:49:46,723] Trial 1 finished with value: 0.5131221884196895 and parameters: {'learning_rate': 1.345891601873337e-05, 'batch_size': 8, 'num_train_epochs': 5}. Best is trial 1 with value: 0.5131221884196895.\n"
          ]
        },
        {
          "output_type": "stream",
          "name": "stdout",
          "text": [
            "{'eval_loss': 1.2641823291778564, 'eval_accuracy': 0.502, 'eval_f1_macro': 0.5131221884196895, 'eval_runtime': 1.37, 'eval_samples_per_second': 364.954, 'eval_steps_per_second': 45.984, 'epoch': 5.0}\n"
          ]
        },
        {
          "output_type": "stream",
          "name": "stderr",
          "text": [
            "Some weights of BertForSequenceClassification were not initialized from the model checkpoint at bert-base-uncased and are newly initialized: ['classifier.bias', 'classifier.weight']\n",
            "You should probably TRAIN this model on a down-stream task to be able to use it for predictions and inference.\n",
            "/tmp/ipython-input-123-459110852.py:34: FutureWarning: `tokenizer` is deprecated and will be removed in version 5.0.0 for `Trainer.__init__`. Use `processing_class` instead.\n",
            "  trainer = Trainer(\n"
          ]
        },
        {
          "output_type": "stream",
          "name": "stdout",
          "text": [
            "{'loss': 1.5033, 'grad_norm': 7.666100025177002, 'learning_rate': 8.589518914456689e-06, 'epoch': 1.0}\n",
            "{'eval_loss': 1.3906620740890503, 'eval_accuracy': 0.394, 'eval_f1_macro': 0.34988442473472414, 'eval_runtime': 1.3982, 'eval_samples_per_second': 357.59, 'eval_steps_per_second': 45.056, 'epoch': 1.0}\n",
            "{'loss': 1.1859, 'grad_norm': 15.818553924560547, 'learning_rate': 1.3526801440089274e-07, 'epoch': 2.0}\n",
            "{'eval_loss': 1.282095193862915, 'eval_accuracy': 0.43, 'eval_f1_macro': 0.4400924153995757, 'eval_runtime': 1.3511, 'eval_samples_per_second': 370.079, 'eval_steps_per_second': 46.63, 'epoch': 2.0}\n",
            "{'train_runtime': 44.5641, 'train_samples_per_second': 89.758, 'train_steps_per_second': 11.22, 'train_loss': 1.3446031494140624, 'epoch': 2.0}\n"
          ]
        },
        {
          "output_type": "stream",
          "name": "stderr",
          "text": [
            "[I 2025-07-27 21:50:33,900] Trial 2 finished with value: 0.4400924153995757 and parameters: {'learning_rate': 1.6908501800111593e-05, 'batch_size': 8, 'num_train_epochs': 2}. Best is trial 1 with value: 0.5131221884196895.\n"
          ]
        },
        {
          "output_type": "stream",
          "name": "stdout",
          "text": [
            "{'eval_loss': 1.282095193862915, 'eval_accuracy': 0.43, 'eval_f1_macro': 0.4400924153995757, 'eval_runtime': 1.376, 'eval_samples_per_second': 363.37, 'eval_steps_per_second': 45.785, 'epoch': 2.0}\n"
          ]
        },
        {
          "output_type": "stream",
          "name": "stderr",
          "text": [
            "Some weights of BertForSequenceClassification were not initialized from the model checkpoint at bert-base-uncased and are newly initialized: ['classifier.bias', 'classifier.weight']\n",
            "You should probably TRAIN this model on a down-stream task to be able to use it for predictions and inference.\n",
            "/tmp/ipython-input-123-459110852.py:34: FutureWarning: `tokenizer` is deprecated and will be removed in version 5.0.0 for `Trainer.__init__`. Use `processing_class` instead.\n",
            "  trainer = Trainer(\n"
          ]
        },
        {
          "output_type": "stream",
          "name": "stdout",
          "text": [
            "{'loss': 1.5038, 'grad_norm': 10.170616149902344, 'learning_rate': 1.183070087692655e-05, 'epoch': 1.0}\n",
            "{'eval_loss': 1.3729413747787476, 'eval_accuracy': 0.378, 'eval_f1_macro': 0.3814512219979995, 'eval_runtime': 1.3644, 'eval_samples_per_second': 366.458, 'eval_steps_per_second': 46.174, 'epoch': 1.0}\n",
            "{'loss': 1.1726, 'grad_norm': 12.486678123474121, 'learning_rate': 8.88187214389401e-06, 'epoch': 2.0}\n",
            "{'eval_loss': 1.2073100805282593, 'eval_accuracy': 0.52, 'eval_f1_macro': 0.5304234805579976, 'eval_runtime': 1.3827, 'eval_samples_per_second': 361.622, 'eval_steps_per_second': 45.564, 'epoch': 2.0}\n",
            "{'loss': 0.898, 'grad_norm': 21.29502296447754, 'learning_rate': 5.93304341086147e-06, 'epoch': 3.0}\n",
            "{'eval_loss': 1.2406476736068726, 'eval_accuracy': 0.498, 'eval_f1_macro': 0.49909510693501186, 'eval_runtime': 1.4576, 'eval_samples_per_second': 343.027, 'eval_steps_per_second': 43.221, 'epoch': 3.0}\n",
            "{'loss': 0.6738, 'grad_norm': 9.70681095123291, 'learning_rate': 2.9960099927610604e-06, 'epoch': 4.0}\n",
            "{'eval_loss': 1.2721160650253296, 'eval_accuracy': 0.52, 'eval_f1_macro': 0.5274554829776618, 'eval_runtime': 1.3701, 'eval_samples_per_second': 364.943, 'eval_steps_per_second': 45.983, 'epoch': 4.0}\n",
            "{'loss': 0.5339, 'grad_norm': 5.2087626457214355, 'learning_rate': 4.718125972852064e-08, 'epoch': 5.0}\n",
            "{'eval_loss': 1.2964872121810913, 'eval_accuracy': 0.522, 'eval_f1_macro': 0.5298500039353412, 'eval_runtime': 1.4048, 'eval_samples_per_second': 355.929, 'eval_steps_per_second': 44.847, 'epoch': 5.0}\n",
            "{'train_runtime': 112.4356, 'train_samples_per_second': 88.94, 'train_steps_per_second': 11.117, 'train_loss': 0.9564140991210938, 'epoch': 5.0}\n",
            "{'eval_loss': 1.2073100805282593, 'eval_accuracy': 0.52, 'eval_f1_macro': 0.5304234805579976, 'eval_runtime': 1.3915, 'eval_samples_per_second': 359.337, 'eval_steps_per_second': 45.276, 'epoch': 5.0}\n"
          ]
        },
        {
          "output_type": "stream",
          "name": "stderr",
          "text": [
            "[I 2025-07-27 21:52:31,760] Trial 3 finished with value: 0.5304234805579976 and parameters: {'learning_rate': 1.47441436651627e-05, 'batch_size': 8, 'num_train_epochs': 5}. Best is trial 3 with value: 0.5304234805579976.\n",
            "Some weights of BertForSequenceClassification were not initialized from the model checkpoint at bert-base-uncased and are newly initialized: ['classifier.bias', 'classifier.weight']\n",
            "You should probably TRAIN this model on a down-stream task to be able to use it for predictions and inference.\n",
            "/tmp/ipython-input-123-459110852.py:34: FutureWarning: `tokenizer` is deprecated and will be removed in version 5.0.0 for `Trainer.__init__`. Use `processing_class` instead.\n",
            "  trainer = Trainer(\n"
          ]
        },
        {
          "output_type": "stream",
          "name": "stdout",
          "text": [
            "{'loss': 1.4401, 'grad_norm': 8.896726608276367, 'learning_rate': 2.1786201916404838e-05, 'epoch': 1.0}\n",
            "{'eval_loss': 1.3133612871170044, 'eval_accuracy': 0.398, 'eval_f1_macro': 0.38155321206153536, 'eval_runtime': 1.3653, 'eval_samples_per_second': 366.215, 'eval_steps_per_second': 46.143, 'epoch': 1.0}\n",
            "{'loss': 1.0101, 'grad_norm': 15.091058731079102, 'learning_rate': 1.0979554140410375e-05, 'epoch': 2.0}\n",
            "{'eval_loss': 1.1193854808807373, 'eval_accuracy': 0.542, 'eval_f1_macro': 0.5578473719711086, 'eval_runtime': 1.3798, 'eval_samples_per_second': 362.375, 'eval_steps_per_second': 45.659, 'epoch': 2.0}\n",
            "{'loss': 0.6369, 'grad_norm': 18.44041633605957, 'learning_rate': 1.729063644159114e-07, 'epoch': 3.0}\n",
            "{'eval_loss': 1.1420174837112427, 'eval_accuracy': 0.56, 'eval_f1_macro': 0.5731334451845292, 'eval_runtime': 1.3702, 'eval_samples_per_second': 364.923, 'eval_steps_per_second': 45.98, 'epoch': 3.0}\n",
            "{'train_runtime': 66.2995, 'train_samples_per_second': 90.498, 'train_steps_per_second': 11.312, 'train_loss': 1.0290444946289063, 'epoch': 3.0}\n"
          ]
        },
        {
          "output_type": "stream",
          "name": "stderr",
          "text": [
            "[I 2025-07-27 21:53:40,631] Trial 4 finished with value: 0.5731334451845292 and parameters: {'learning_rate': 3.241994332798339e-05, 'batch_size': 8, 'num_train_epochs': 3}. Best is trial 4 with value: 0.5731334451845292.\n"
          ]
        },
        {
          "output_type": "stream",
          "name": "stdout",
          "text": [
            "{'eval_loss': 1.1420174837112427, 'eval_accuracy': 0.56, 'eval_f1_macro': 0.5731334451845292, 'eval_runtime': 1.3465, 'eval_samples_per_second': 371.33, 'eval_steps_per_second': 46.788, 'epoch': 3.0}\n"
          ]
        }
      ]
    },
    {
      "cell_type": "code",
      "source": [
        "study_roberta = optuna.create_study(direction=\"maximize\",\n",
        "                                    pruner=MedianPruner(n_startup_trials=2, n_warmup_steps=1),\n",
        "                                    study_name=\"roberta_study_stratify_w_preprocess\",\n",
        "                                    storage=\"sqlite:////content/drive/MyDrive/Colab Notebooks/nlp_project/optuna/roberta_study_stratify_w_preprocess.db\",\n",
        "                                    load_if_exists=True)\n",
        "study_roberta.optimize(objective_roberta, n_trials=5)"
      ],
      "metadata": {
        "id": "tuNyZvQkgY64",
        "colab": {
          "base_uri": "https://localhost:8080/"
        },
        "outputId": "cf6dbe50-8be8-415a-dc91-92f8aa4b45b2"
      },
      "id": "tuNyZvQkgY64",
      "execution_count": 126,
      "outputs": [
        {
          "output_type": "stream",
          "name": "stderr",
          "text": [
            "[I 2025-07-27 21:53:42,171] A new study created in RDB with name: roberta_study_stratify_w_preprocess\n",
            "Some weights of RobertaForSequenceClassification were not initialized from the model checkpoint at roberta-base and are newly initialized: ['classifier.dense.bias', 'classifier.dense.weight', 'classifier.out_proj.bias', 'classifier.out_proj.weight']\n",
            "You should probably TRAIN this model on a down-stream task to be able to use it for predictions and inference.\n",
            "/tmp/ipython-input-123-459110852.py:34: FutureWarning: `tokenizer` is deprecated and will be removed in version 5.0.0 for `Trainer.__init__`. Use `processing_class` instead.\n",
            "  trainer = Trainer(\n"
          ]
        },
        {
          "output_type": "stream",
          "name": "stdout",
          "text": [
            "{'loss': 1.5047, 'grad_norm': 17.84319496154785, 'learning_rate': 7.986974451273315e-06, 'epoch': 1.0}\n",
            "{'eval_loss': 1.400625467300415, 'eval_accuracy': 0.342, 'eval_f1_macro': 0.34047397985967753, 'eval_runtime': 1.3971, 'eval_samples_per_second': 357.888, 'eval_steps_per_second': 45.094, 'epoch': 1.0}\n",
            "{'loss': 1.2045, 'grad_norm': 18.301443099975586, 'learning_rate': 5.3422809243616216e-06, 'epoch': 2.0}\n",
            "{'eval_loss': 1.292461633682251, 'eval_accuracy': 0.432, 'eval_f1_macro': 0.45012255049140293, 'eval_runtime': 1.3795, 'eval_samples_per_second': 362.456, 'eval_steps_per_second': 45.67, 'epoch': 2.0}\n",
            "{'loss': 0.9985, 'grad_norm': 23.73128318786621, 'learning_rate': 2.6975873974499275e-06, 'epoch': 3.0}\n",
            "{'eval_loss': 1.3321565389633179, 'eval_accuracy': 0.44, 'eval_f1_macro': 0.45703453941336136, 'eval_runtime': 1.4593, 'eval_samples_per_second': 342.634, 'eval_steps_per_second': 43.172, 'epoch': 3.0}\n",
            "{'loss': 0.8694, 'grad_norm': 21.534589767456055, 'learning_rate': 5.289387053823387e-08, 'epoch': 4.0}\n",
            "{'eval_loss': 1.3310420513153076, 'eval_accuracy': 0.466, 'eval_f1_macro': 0.4828958225796941, 'eval_runtime': 1.3746, 'eval_samples_per_second': 363.751, 'eval_steps_per_second': 45.833, 'epoch': 4.0}\n",
            "{'train_runtime': 93.699, 'train_samples_per_second': 85.38, 'train_steps_per_second': 10.672, 'train_loss': 1.1442787475585938, 'epoch': 4.0}\n"
          ]
        },
        {
          "output_type": "stream",
          "name": "stderr",
          "text": [
            "[I 2025-07-27 21:55:18,662] Trial 0 finished with value: 0.4828958225796941 and parameters: {'learning_rate': 1.0578774107646774e-05, 'batch_size': 8, 'num_train_epochs': 4}. Best is trial 0 with value: 0.4828958225796941.\n"
          ]
        },
        {
          "output_type": "stream",
          "name": "stdout",
          "text": [
            "{'eval_loss': 1.3310420513153076, 'eval_accuracy': 0.466, 'eval_f1_macro': 0.4828958225796941, 'eval_runtime': 1.4026, 'eval_samples_per_second': 356.485, 'eval_steps_per_second': 44.917, 'epoch': 4.0}\n"
          ]
        },
        {
          "output_type": "stream",
          "name": "stderr",
          "text": [
            "Some weights of RobertaForSequenceClassification were not initialized from the model checkpoint at roberta-base and are newly initialized: ['classifier.dense.bias', 'classifier.dense.weight', 'classifier.out_proj.bias', 'classifier.out_proj.weight']\n",
            "You should probably TRAIN this model on a down-stream task to be able to use it for predictions and inference.\n",
            "/tmp/ipython-input-123-459110852.py:34: FutureWarning: `tokenizer` is deprecated and will be removed in version 5.0.0 for `Trainer.__init__`. Use `processing_class` instead.\n",
            "  trainer = Trainer(\n"
          ]
        },
        {
          "output_type": "stream",
          "name": "stdout",
          "text": [
            "{'loss': 1.5123, 'grad_norm': 16.679306030273438, 'learning_rate': 1.1530847677301968e-05, 'epoch': 1.0}\n",
            "{'eval_loss': 1.3675898313522339, 'eval_accuracy': 0.404, 'eval_f1_macro': 0.41014152892795763, 'eval_runtime': 1.4172, 'eval_samples_per_second': 352.82, 'eval_steps_per_second': 44.455, 'epoch': 1.0}\n",
            "{'loss': 1.1891, 'grad_norm': 16.18921661376953, 'learning_rate': 1.8158815239845618e-07, 'epoch': 2.0}\n",
            "{'eval_loss': 1.2712265253067017, 'eval_accuracy': 0.428, 'eval_f1_macro': 0.447992349043728, 'eval_runtime': 1.4457, 'eval_samples_per_second': 345.853, 'eval_steps_per_second': 43.577, 'epoch': 2.0}\n",
            "{'train_runtime': 47.5186, 'train_samples_per_second': 84.177, 'train_steps_per_second': 10.522, 'train_loss': 1.3506869506835937, 'epoch': 2.0}\n",
            "{'eval_loss': 1.2712265253067017, 'eval_accuracy': 0.428, 'eval_f1_macro': 0.447992349043728, 'eval_runtime': 1.4915, 'eval_samples_per_second': 335.242, 'eval_steps_per_second': 42.24, 'epoch': 2.0}\n"
          ]
        },
        {
          "output_type": "stream",
          "name": "stderr",
          "text": [
            "[I 2025-07-27 21:56:12,196] Trial 1 finished with value: 0.447992349043728 and parameters: {'learning_rate': 2.2698519049807023e-05, 'batch_size': 8, 'num_train_epochs': 2}. Best is trial 0 with value: 0.4828958225796941.\n",
            "Some weights of RobertaForSequenceClassification were not initialized from the model checkpoint at roberta-base and are newly initialized: ['classifier.dense.bias', 'classifier.dense.weight', 'classifier.out_proj.bias', 'classifier.out_proj.weight']\n",
            "You should probably TRAIN this model on a down-stream task to be able to use it for predictions and inference.\n",
            "/tmp/ipython-input-123-459110852.py:34: FutureWarning: `tokenizer` is deprecated and will be removed in version 5.0.0 for `Trainer.__init__`. Use `processing_class` instead.\n",
            "  trainer = Trainer(\n"
          ]
        },
        {
          "output_type": "stream",
          "name": "stdout",
          "text": [
            "{'loss': 1.5928, 'grad_norm': 1.980730414390564, 'learning_rate': 3.46405853801914e-05, 'epoch': 1.0}\n",
            "{'eval_loss': 1.586761713027954, 'eval_accuracy': 0.25, 'eval_f1_macro': 0.08, 'eval_runtime': 1.3893, 'eval_samples_per_second': 359.904, 'eval_steps_per_second': 45.348, 'epoch': 1.0}\n",
            "{'loss': 1.5752, 'grad_norm': 2.8929874897003174, 'learning_rate': 2.6006341765986173e-05, 'epoch': 2.0}\n",
            "{'eval_loss': 2.071761131286621, 'eval_accuracy': 0.162, 'eval_f1_macro': 0.05576592082616179, 'eval_runtime': 1.3965, 'eval_samples_per_second': 358.037, 'eval_steps_per_second': 45.113, 'epoch': 2.0}\n",
            "{'loss': 1.5754, 'grad_norm': 4.024458408355713, 'learning_rate': 1.7372098151780932e-05, 'epoch': 3.0}\n",
            "{'eval_loss': 1.7624355554580688, 'eval_accuracy': 0.162, 'eval_f1_macro': 0.05576592082616179, 'eval_runtime': 1.393, 'eval_samples_per_second': 358.928, 'eval_steps_per_second': 45.225, 'epoch': 3.0}\n",
            "{'loss': 1.5727, 'grad_norm': 9.088292121887207, 'learning_rate': 8.737854537575698e-06, 'epoch': 4.0}\n",
            "{'eval_loss': 1.7006367444992065, 'eval_accuracy': 0.162, 'eval_f1_macro': 0.05576592082616179, 'eval_runtime': 1.3922, 'eval_samples_per_second': 359.145, 'eval_steps_per_second': 45.252, 'epoch': 4.0}\n",
            "{'loss': 1.5664, 'grad_norm': 3.8383073806762695, 'learning_rate': 1.0361092337046282e-07, 'epoch': 5.0}\n",
            "{'eval_loss': 1.7693222761154175, 'eval_accuracy': 0.162, 'eval_f1_macro': 0.05576592082616179, 'eval_runtime': 1.4009, 'eval_samples_per_second': 356.904, 'eval_steps_per_second': 44.97, 'epoch': 5.0}\n",
            "{'train_runtime': 117.0578, 'train_samples_per_second': 85.428, 'train_steps_per_second': 10.678, 'train_loss': 1.5764996826171875, 'epoch': 5.0}\n"
          ]
        },
        {
          "output_type": "stream",
          "name": "stderr",
          "text": [
            "[I 2025-07-27 21:58:12,435] Trial 2 finished with value: 0.08 and parameters: {'learning_rate': 4.317121807102618e-05, 'batch_size': 8, 'num_train_epochs': 5}. Best is trial 0 with value: 0.4828958225796941.\n"
          ]
        },
        {
          "output_type": "stream",
          "name": "stdout",
          "text": [
            "{'eval_loss': 1.586761713027954, 'eval_accuracy': 0.25, 'eval_f1_macro': 0.08, 'eval_runtime': 1.4029, 'eval_samples_per_second': 356.399, 'eval_steps_per_second': 44.906, 'epoch': 5.0}\n"
          ]
        },
        {
          "output_type": "stream",
          "name": "stderr",
          "text": [
            "Some weights of RobertaForSequenceClassification were not initialized from the model checkpoint at roberta-base and are newly initialized: ['classifier.dense.bias', 'classifier.dense.weight', 'classifier.out_proj.bias', 'classifier.out_proj.weight']\n",
            "You should probably TRAIN this model on a down-stream task to be able to use it for predictions and inference.\n",
            "/tmp/ipython-input-123-459110852.py:34: FutureWarning: `tokenizer` is deprecated and will be removed in version 5.0.0 for `Trainer.__init__`. Use `processing_class` instead.\n",
            "  trainer = Trainer(\n"
          ]
        },
        {
          "output_type": "stream",
          "name": "stdout",
          "text": [
            "{'loss': 1.5249, 'grad_norm': 23.396484375, 'learning_rate': 2.4265850260665134e-05, 'epoch': 1.0}\n",
            "{'eval_loss': 1.406002402305603, 'eval_accuracy': 0.348, 'eval_f1_macro': 0.34271265245967164, 'eval_runtime': 0.4293, 'eval_samples_per_second': 1164.709, 'eval_steps_per_second': 37.271, 'epoch': 1.0}\n",
            "{'loss': 1.2213, 'grad_norm': 15.116259574890137, 'learning_rate': 1.834268996081774e-05, 'epoch': 2.0}\n",
            "{'eval_loss': 1.2626487016677856, 'eval_accuracy': 0.456, 'eval_f1_macro': 0.47022276899043225, 'eval_runtime': 0.4342, 'eval_samples_per_second': 1151.449, 'eval_steps_per_second': 36.846, 'epoch': 2.0}\n",
            "{'loss': 0.9681, 'grad_norm': 31.646955490112305, 'learning_rate': 1.2323994817424417e-05, 'epoch': 3.0}\n",
            "{'eval_loss': 1.2392878532409668, 'eval_accuracy': 0.5, 'eval_f1_macro': 0.5155050846257556, 'eval_runtime': 0.4234, 'eval_samples_per_second': 1180.911, 'eval_steps_per_second': 37.789, 'epoch': 3.0}\n",
            "{'loss': 0.7665, 'grad_norm': 34.591854095458984, 'learning_rate': 6.400834517577023e-06, 'epoch': 4.0}\n",
            "{'eval_loss': 1.3109129667282104, 'eval_accuracy': 0.474, 'eval_f1_macro': 0.48979371101862385, 'eval_runtime': 0.4348, 'eval_samples_per_second': 1149.999, 'eval_steps_per_second': 36.8, 'epoch': 4.0}\n",
            "{'loss': 0.6282, 'grad_norm': 24.864398956298828, 'learning_rate': 3.821393741837029e-07, 'epoch': 5.0}\n",
            "{'eval_loss': 1.3494945764541626, 'eval_accuracy': 0.498, 'eval_f1_macro': 0.5172949202532156, 'eval_runtime': 0.4351, 'eval_samples_per_second': 1149.117, 'eval_steps_per_second': 36.772, 'epoch': 5.0}\n",
            "{'train_runtime': 42.3921, 'train_samples_per_second': 235.893, 'train_steps_per_second': 7.431, 'train_loss': 1.0218094477577815, 'epoch': 5.0}\n"
          ]
        },
        {
          "output_type": "stream",
          "name": "stderr",
          "text": [
            "[I 2025-07-27 21:58:58,100] Trial 3 finished with value: 0.5172949202532156 and parameters: {'learning_rate': 3.00934757169666e-05, 'batch_size': 32, 'num_train_epochs': 5}. Best is trial 3 with value: 0.5172949202532156.\n"
          ]
        },
        {
          "output_type": "stream",
          "name": "stdout",
          "text": [
            "{'eval_loss': 1.3494945764541626, 'eval_accuracy': 0.498, 'eval_f1_macro': 0.5172949202532156, 'eval_runtime': 0.4292, 'eval_samples_per_second': 1165.027, 'eval_steps_per_second': 37.281, 'epoch': 5.0}\n"
          ]
        },
        {
          "output_type": "stream",
          "name": "stderr",
          "text": [
            "Some weights of RobertaForSequenceClassification were not initialized from the model checkpoint at roberta-base and are newly initialized: ['classifier.dense.bias', 'classifier.dense.weight', 'classifier.out_proj.bias', 'classifier.out_proj.weight']\n",
            "You should probably TRAIN this model on a down-stream task to be able to use it for predictions and inference.\n",
            "/tmp/ipython-input-123-459110852.py:34: FutureWarning: `tokenizer` is deprecated and will be removed in version 5.0.0 for `Trainer.__init__`. Use `processing_class` instead.\n",
            "  trainer = Trainer(\n"
          ]
        },
        {
          "output_type": "stream",
          "name": "stdout",
          "text": [
            "{'loss': 1.5323, 'grad_norm': inf, 'learning_rate': 2.2048304869918244e-05, 'epoch': 1.0}\n",
            "{'eval_loss': 1.393764615058899, 'eval_accuracy': 0.386, 'eval_f1_macro': 0.3572182187430565, 'eval_runtime': 0.4374, 'eval_samples_per_second': 1143.178, 'eval_steps_per_second': 36.582, 'epoch': 1.0}\n",
            "{'loss': 1.2366, 'grad_norm': 15.865453720092773, 'learning_rate': 1.6666435177261037e-05, 'epoch': 2.0}\n",
            "{'eval_loss': 1.2744221687316895, 'eval_accuracy': 0.448, 'eval_f1_macro': 0.4659571519267809, 'eval_runtime': 0.4231, 'eval_samples_per_second': 1181.616, 'eval_steps_per_second': 37.812, 'epoch': 2.0}\n",
            "{'loss': 1.0, 'grad_norm': 24.58997917175293, 'learning_rate': 1.1197761134722257e-05, 'epoch': 3.0}\n",
            "{'eval_loss': 1.258523941040039, 'eval_accuracy': 0.478, 'eval_f1_macro': 0.49358036006984635, 'eval_runtime': 0.4238, 'eval_samples_per_second': 1179.781, 'eval_steps_per_second': 37.753, 'epoch': 3.0}\n",
            "{'loss': 0.816, 'grad_norm': 25.1953125, 'learning_rate': 5.729087092183481e-06, 'epoch': 4.0}\n",
            "{'eval_loss': 1.3255176544189453, 'eval_accuracy': 0.462, 'eval_f1_macro': 0.4739154650506913, 'eval_runtime': 0.4284, 'eval_samples_per_second': 1167.078, 'eval_steps_per_second': 37.347, 'epoch': 4.0}\n",
            "{'loss': 0.6929, 'grad_norm': 22.399860382080078, 'learning_rate': 2.604130496447037e-07, 'epoch': 5.0}\n",
            "{'eval_loss': 1.3516103029251099, 'eval_accuracy': 0.482, 'eval_f1_macro': 0.49797889821977953, 'eval_runtime': 0.4359, 'eval_samples_per_second': 1147.129, 'eval_steps_per_second': 36.708, 'epoch': 5.0}\n",
            "{'train_runtime': 42.4657, 'train_samples_per_second': 235.484, 'train_steps_per_second': 7.418, 'train_loss': 1.055554925827753, 'epoch': 5.0}\n",
            "{'eval_loss': 1.3516103029251099, 'eval_accuracy': 0.482, 'eval_f1_macro': 0.49797889821977953, 'eval_runtime': 0.4544, 'eval_samples_per_second': 1100.428, 'eval_steps_per_second': 35.214, 'epoch': 5.0}\n"
          ]
        },
        {
          "output_type": "stream",
          "name": "stderr",
          "text": [
            "[I 2025-07-27 21:59:44,849] Trial 4 finished with value: 0.49797889821977953 and parameters: {'learning_rate': 2.7343370212693884e-05, 'batch_size': 32, 'num_train_epochs': 5}. Best is trial 3 with value: 0.5172949202532156.\n"
          ]
        }
      ]
    },
    {
      "cell_type": "code",
      "source": [
        "best_trial_bert = study_bert.best_trial\n",
        "print('Bert best trial on subset:')\n",
        "print(best_trial_bert.params)\n",
        "best_trial_roberta = study_roberta.best_trial\n",
        "print('RoBerta best trial on subset:')\n",
        "print(best_trial_roberta.params)"
      ],
      "metadata": {
        "id": "o6_NmeZoZ8FI",
        "colab": {
          "base_uri": "https://localhost:8080/"
        },
        "outputId": "01163674-848a-44bb-90ba-f2db10af0d09"
      },
      "id": "o6_NmeZoZ8FI",
      "execution_count": 127,
      "outputs": [
        {
          "output_type": "stream",
          "name": "stdout",
          "text": [
            "Bert best trial on subset:\n",
            "{'learning_rate': 3.241994332798339e-05, 'batch_size': 8, 'num_train_epochs': 3}\n",
            "RoBerta best trial on subset:\n",
            "{'learning_rate': 3.00934757169666e-05, 'batch_size': 32, 'num_train_epochs': 5}\n"
          ]
        }
      ]
    },
    {
      "cell_type": "code",
      "source": [
        "final_trainer_bert = build_trainer(\n",
        "    model_checkpoint=\"bert-base-uncased\",\n",
        "    trial=best_trial_bert,\n",
        "    run_prefix=\"bert_final_stratify_w_preprocess\",\n",
        "    train_dataset=tokenized_bert_train,\n",
        "    val_dataset=tokenized_bert_val\n",
        ")\n",
        "final_trainer_bert.train()"
      ],
      "metadata": {
        "colab": {
          "base_uri": "https://localhost:8080/"
        },
        "id": "iAjcXgiz1HDn",
        "outputId": "c6208adb-9d84-4e19-c462-f8f97a6a8a6e"
      },
      "id": "iAjcXgiz1HDn",
      "execution_count": 128,
      "outputs": [
        {
          "output_type": "stream",
          "name": "stderr",
          "text": [
            "Some weights of BertForSequenceClassification were not initialized from the model checkpoint at bert-base-uncased and are newly initialized: ['classifier.bias', 'classifier.weight']\n",
            "You should probably TRAIN this model on a down-stream task to be able to use it for predictions and inference.\n",
            "/tmp/ipython-input-123-459110852.py:34: FutureWarning: `tokenizer` is deprecated and will be removed in version 5.0.0 for `Trainer.__init__`. Use `processing_class` instead.\n",
            "  trainer = Trainer(\n"
          ]
        },
        {
          "output_type": "stream",
          "name": "stdout",
          "text": [
            "{'loss': 0.7319, 'grad_norm': 122.37641906738281, 'learning_rate': 2.1627998474133138e-05, 'epoch': 1.0}\n",
            "{'eval_loss': 0.5761656761169434, 'eval_accuracy': 0.814902580305424, 'eval_f1_macro': 0.8212106741617727, 'eval_runtime': 10.2924, 'eval_samples_per_second': 369.008, 'eval_steps_per_second': 46.15, 'epoch': 1.0}\n",
            "{'loss': 0.4138, 'grad_norm': 4.548095226287842, 'learning_rate': 1.082555153303702e-05, 'epoch': 2.0}\n",
            "{'eval_loss': 0.5603269934654236, 'eval_accuracy': 0.8507109004739336, 'eval_f1_macro': 0.8563363631079952, 'eval_runtime': 10.3404, 'eval_samples_per_second': 367.297, 'eval_steps_per_second': 45.936, 'epoch': 2.0}\n",
            "{'loss': 0.2758, 'grad_norm': 0.13800150156021118, 'learning_rate': 2.310459194090167e-08, 'epoch': 3.0}\n",
            "{'eval_loss': 0.6360498666763306, 'eval_accuracy': 0.8512374934175883, 'eval_f1_macro': 0.8552087104829782, 'eval_runtime': 10.349, 'eval_samples_per_second': 366.991, 'eval_steps_per_second': 45.898, 'epoch': 3.0}\n",
            "{'train_runtime': 1227.3237, 'train_samples_per_second': 100.602, 'train_steps_per_second': 12.576, 'train_loss': 0.4738183498845967, 'epoch': 3.0}\n"
          ]
        },
        {
          "output_type": "execute_result",
          "data": {
            "text/plain": [
              "TrainOutput(global_step=15435, training_loss=0.4738183498845967, metrics={'train_runtime': 1227.3237, 'train_samples_per_second': 100.602, 'train_steps_per_second': 12.576, 'train_loss': 0.4738183498845967, 'epoch': 3.0})"
            ]
          },
          "metadata": {},
          "execution_count": 128
        }
      ]
    },
    {
      "cell_type": "code",
      "source": [
        "final_trainer_roberta = build_trainer(\n",
        "    model_checkpoint=\"roberta-base\",\n",
        "    trial=best_trial_roberta,\n",
        "    run_prefix=\"roberta_final_stratify_w_preprocess\",\n",
        "    train_dataset=tokenized_roberta_train,\n",
        "    val_dataset=tokenized_roberta_val\n",
        ")\n",
        "final_trainer_roberta.train()"
      ],
      "metadata": {
        "colab": {
          "base_uri": "https://localhost:8080/"
        },
        "id": "3z1JVX-11g_o",
        "outputId": "9a850c54-5a4f-4bd6-d509-7b3911f78918"
      },
      "id": "3z1JVX-11g_o",
      "execution_count": 129,
      "outputs": [
        {
          "output_type": "stream",
          "name": "stderr",
          "text": [
            "Some weights of RobertaForSequenceClassification were not initialized from the model checkpoint at roberta-base and are newly initialized: ['classifier.dense.bias', 'classifier.dense.weight', 'classifier.out_proj.bias', 'classifier.out_proj.weight']\n",
            "You should probably TRAIN this model on a down-stream task to be able to use it for predictions and inference.\n",
            "/tmp/ipython-input-123-459110852.py:34: FutureWarning: `tokenizer` is deprecated and will be removed in version 5.0.0 for `Trainer.__init__`. Use `processing_class` instead.\n",
            "  trainer = Trainer(\n"
          ]
        },
        {
          "output_type": "stream",
          "name": "stdout",
          "text": [
            "{'loss': 0.875, 'grad_norm': 40.04572677612305, 'learning_rate': 2.4088810165982123e-05, 'epoch': 1.0}\n",
            "{'eval_loss': 0.7696745991706848, 'eval_accuracy': 0.7101105845181674, 'eval_f1_macro': 0.7135517580361457, 'eval_runtime': 3.0536, 'eval_samples_per_second': 1243.785, 'eval_steps_per_second': 38.971, 'epoch': 1.0}\n",
            "{'loss': 0.529, 'grad_norm': 38.62520217895508, 'learning_rate': 1.807479155339175e-05, 'epoch': 2.0}\n",
            "{'eval_loss': 0.6237698197364807, 'eval_accuracy': 0.7754081095313323, 'eval_f1_macro': 0.7831979755402771, 'eval_runtime': 3.0402, 'eval_samples_per_second': 1249.244, 'eval_steps_per_second': 39.142, 'epoch': 2.0}\n",
            "{'loss': 0.3824, 'grad_norm': 44.8629150390625, 'learning_rate': 1.2060772940801378e-05, 'epoch': 3.0}\n",
            "{'eval_loss': 0.6089505553245544, 'eval_accuracy': 0.791205897840969, 'eval_f1_macro': 0.7987148024675961, 'eval_runtime': 3.1378, 'eval_samples_per_second': 1210.402, 'eval_steps_per_second': 37.925, 'epoch': 3.0}\n",
            "{'loss': 0.2912, 'grad_norm': 45.47392654418945, 'learning_rate': 6.046754328211005e-06, 'epoch': 4.0}\n",
            "{'eval_loss': 0.5813321471214294, 'eval_accuracy': 0.8127962085308057, 'eval_f1_macro': 0.8187040728111539, 'eval_runtime': 3.1931, 'eval_samples_per_second': 1189.432, 'eval_steps_per_second': 37.268, 'epoch': 4.0}\n",
            "{'loss': 0.2212, 'grad_norm': 0.4777202606201172, 'learning_rate': 2.8059184817684476e-08, 'epoch': 5.0}\n",
            "{'eval_loss': 0.6479055285453796, 'eval_accuracy': 0.80173775671406, 'eval_f1_macro': 0.8081801206564567, 'eval_runtime': 3.1012, 'eval_samples_per_second': 1224.697, 'eval_steps_per_second': 38.373, 'epoch': 5.0}\n",
            "{'train_runtime': 610.254, 'train_samples_per_second': 337.212, 'train_steps_per_second': 10.545, 'train_loss': 0.4597655111815268, 'epoch': 5.0}\n"
          ]
        },
        {
          "output_type": "execute_result",
          "data": {
            "text/plain": [
              "TrainOutput(global_step=6435, training_loss=0.4597655111815268, metrics={'train_runtime': 610.254, 'train_samples_per_second': 337.212, 'train_steps_per_second': 10.545, 'train_loss': 0.4597655111815268, 'epoch': 5.0})"
            ]
          },
          "metadata": {},
          "execution_count": 129
        }
      ]
    },
    {
      "cell_type": "code",
      "source": [
        "final_trainer_bert.save_model(\"models/bert_final_stratify_w_preprocess\")\n",
        "bert_tokenizer.save_pretrained(\"models/bert_final_stratify_w_preprocess\")\n",
        "!cp -r models/bert_final_stratify_w_preprocess \"/content/drive/MyDrive/Colab Notebooks/nlp_project/models/bert_best_model_stratify_w_preprocess\"\n",
        "\n",
        "final_trainer_roberta.save_model(\"models/roberta_final_stratify_w_preprocess\")\n",
        "roberta_tokenizer.save_pretrained(\"models/roberta_final_stratify_w_preprocess\")\n",
        "!cp -r models/roberta_final_stratify_w_preprocess \"/content/drive/MyDrive/Colab Notebooks/nlp_project/models/roberta_best_model_stratify_w_preprocess\""
      ],
      "metadata": {
        "id": "orC3ee4J3ng4"
      },
      "id": "orC3ee4J3ng4",
      "execution_count": 130,
      "outputs": []
    },
    {
      "cell_type": "code",
      "source": [],
      "metadata": {
        "id": "VZe9xCMR8vbj"
      },
      "id": "VZe9xCMR8vbj",
      "execution_count": 130,
      "outputs": []
    },
    {
      "cell_type": "code",
      "source": [],
      "metadata": {
        "id": "-hFHWbvH9YBM"
      },
      "id": "-hFHWbvH9YBM",
      "execution_count": 130,
      "outputs": []
    }
  ],
  "metadata": {
    "kernelspec": {
      "display_name": "Python 3",
      "name": "python3"
    },
    "language_info": {
      "codemirror_mode": {
        "name": "ipython",
        "version": 3
      },
      "file_extension": ".py",
      "mimetype": "text/x-python",
      "name": "python",
      "nbconvert_exporter": "python",
      "pygments_lexer": "ipython3",
      "version": "3.9.13"
    },
    "colab": {
      "provenance": [],
      "machine_shape": "hm",
      "gpuType": "A100",
      "include_colab_link": true
    },
    "accelerator": "GPU",
    "widgets": {
      "application/vnd.jupyter.widget-state+json": {
        "66067071c6494e2088e00903e30bfb6c": {
          "model_module": "@jupyter-widgets/controls",
          "model_name": "HBoxModel",
          "model_module_version": "1.5.0",
          "state": {
            "_dom_classes": [],
            "_model_module": "@jupyter-widgets/controls",
            "_model_module_version": "1.5.0",
            "_model_name": "HBoxModel",
            "_view_count": null,
            "_view_module": "@jupyter-widgets/controls",
            "_view_module_version": "1.5.0",
            "_view_name": "HBoxView",
            "box_style": "",
            "children": [
              "IPY_MODEL_06a277e0e84b4062a2a65cea04f43b4b",
              "IPY_MODEL_3a0e701470654088a6f1e615799f7c4a",
              "IPY_MODEL_7d0a5db1fdc7454d8babb0228de49edb"
            ],
            "layout": "IPY_MODEL_c937c815c6b84b49bede7d4568ea38fc"
          }
        },
        "06a277e0e84b4062a2a65cea04f43b4b": {
          "model_module": "@jupyter-widgets/controls",
          "model_name": "HTMLModel",
          "model_module_version": "1.5.0",
          "state": {
            "_dom_classes": [],
            "_model_module": "@jupyter-widgets/controls",
            "_model_module_version": "1.5.0",
            "_model_name": "HTMLModel",
            "_view_count": null,
            "_view_module": "@jupyter-widgets/controls",
            "_view_module_version": "1.5.0",
            "_view_name": "HTMLView",
            "description": "",
            "description_tooltip": null,
            "layout": "IPY_MODEL_37c2446b44cd475fa7a483412465d6cc",
            "placeholder": "​",
            "style": "IPY_MODEL_e1539684d46149779ca163cc732da03b",
            "value": "Map: 100%"
          }
        },
        "3a0e701470654088a6f1e615799f7c4a": {
          "model_module": "@jupyter-widgets/controls",
          "model_name": "FloatProgressModel",
          "model_module_version": "1.5.0",
          "state": {
            "_dom_classes": [],
            "_model_module": "@jupyter-widgets/controls",
            "_model_module_version": "1.5.0",
            "_model_name": "FloatProgressModel",
            "_view_count": null,
            "_view_module": "@jupyter-widgets/controls",
            "_view_module_version": "1.5.0",
            "_view_name": "ProgressView",
            "bar_style": "success",
            "description": "",
            "description_tooltip": null,
            "layout": "IPY_MODEL_b977e3eb9910416598ca220a1df062c6",
            "max": 2000,
            "min": 0,
            "orientation": "horizontal",
            "style": "IPY_MODEL_c94d6082774f498380d1a1d36e5a9485",
            "value": 2000
          }
        },
        "7d0a5db1fdc7454d8babb0228de49edb": {
          "model_module": "@jupyter-widgets/controls",
          "model_name": "HTMLModel",
          "model_module_version": "1.5.0",
          "state": {
            "_dom_classes": [],
            "_model_module": "@jupyter-widgets/controls",
            "_model_module_version": "1.5.0",
            "_model_name": "HTMLModel",
            "_view_count": null,
            "_view_module": "@jupyter-widgets/controls",
            "_view_module_version": "1.5.0",
            "_view_name": "HTMLView",
            "description": "",
            "description_tooltip": null,
            "layout": "IPY_MODEL_092b9233fd434d47a657a6b04c0d1a34",
            "placeholder": "​",
            "style": "IPY_MODEL_659561a77cbd4d699435dd5c1738f806",
            "value": " 2000/2000 [00:00&lt;00:00, 14443.27 examples/s]"
          }
        },
        "c937c815c6b84b49bede7d4568ea38fc": {
          "model_module": "@jupyter-widgets/base",
          "model_name": "LayoutModel",
          "model_module_version": "1.2.0",
          "state": {
            "_model_module": "@jupyter-widgets/base",
            "_model_module_version": "1.2.0",
            "_model_name": "LayoutModel",
            "_view_count": null,
            "_view_module": "@jupyter-widgets/base",
            "_view_module_version": "1.2.0",
            "_view_name": "LayoutView",
            "align_content": null,
            "align_items": null,
            "align_self": null,
            "border": null,
            "bottom": null,
            "display": null,
            "flex": null,
            "flex_flow": null,
            "grid_area": null,
            "grid_auto_columns": null,
            "grid_auto_flow": null,
            "grid_auto_rows": null,
            "grid_column": null,
            "grid_gap": null,
            "grid_row": null,
            "grid_template_areas": null,
            "grid_template_columns": null,
            "grid_template_rows": null,
            "height": null,
            "justify_content": null,
            "justify_items": null,
            "left": null,
            "margin": null,
            "max_height": null,
            "max_width": null,
            "min_height": null,
            "min_width": null,
            "object_fit": null,
            "object_position": null,
            "order": null,
            "overflow": null,
            "overflow_x": null,
            "overflow_y": null,
            "padding": null,
            "right": null,
            "top": null,
            "visibility": null,
            "width": null
          }
        },
        "37c2446b44cd475fa7a483412465d6cc": {
          "model_module": "@jupyter-widgets/base",
          "model_name": "LayoutModel",
          "model_module_version": "1.2.0",
          "state": {
            "_model_module": "@jupyter-widgets/base",
            "_model_module_version": "1.2.0",
            "_model_name": "LayoutModel",
            "_view_count": null,
            "_view_module": "@jupyter-widgets/base",
            "_view_module_version": "1.2.0",
            "_view_name": "LayoutView",
            "align_content": null,
            "align_items": null,
            "align_self": null,
            "border": null,
            "bottom": null,
            "display": null,
            "flex": null,
            "flex_flow": null,
            "grid_area": null,
            "grid_auto_columns": null,
            "grid_auto_flow": null,
            "grid_auto_rows": null,
            "grid_column": null,
            "grid_gap": null,
            "grid_row": null,
            "grid_template_areas": null,
            "grid_template_columns": null,
            "grid_template_rows": null,
            "height": null,
            "justify_content": null,
            "justify_items": null,
            "left": null,
            "margin": null,
            "max_height": null,
            "max_width": null,
            "min_height": null,
            "min_width": null,
            "object_fit": null,
            "object_position": null,
            "order": null,
            "overflow": null,
            "overflow_x": null,
            "overflow_y": null,
            "padding": null,
            "right": null,
            "top": null,
            "visibility": null,
            "width": null
          }
        },
        "e1539684d46149779ca163cc732da03b": {
          "model_module": "@jupyter-widgets/controls",
          "model_name": "DescriptionStyleModel",
          "model_module_version": "1.5.0",
          "state": {
            "_model_module": "@jupyter-widgets/controls",
            "_model_module_version": "1.5.0",
            "_model_name": "DescriptionStyleModel",
            "_view_count": null,
            "_view_module": "@jupyter-widgets/base",
            "_view_module_version": "1.2.0",
            "_view_name": "StyleView",
            "description_width": ""
          }
        },
        "b977e3eb9910416598ca220a1df062c6": {
          "model_module": "@jupyter-widgets/base",
          "model_name": "LayoutModel",
          "model_module_version": "1.2.0",
          "state": {
            "_model_module": "@jupyter-widgets/base",
            "_model_module_version": "1.2.0",
            "_model_name": "LayoutModel",
            "_view_count": null,
            "_view_module": "@jupyter-widgets/base",
            "_view_module_version": "1.2.0",
            "_view_name": "LayoutView",
            "align_content": null,
            "align_items": null,
            "align_self": null,
            "border": null,
            "bottom": null,
            "display": null,
            "flex": null,
            "flex_flow": null,
            "grid_area": null,
            "grid_auto_columns": null,
            "grid_auto_flow": null,
            "grid_auto_rows": null,
            "grid_column": null,
            "grid_gap": null,
            "grid_row": null,
            "grid_template_areas": null,
            "grid_template_columns": null,
            "grid_template_rows": null,
            "height": null,
            "justify_content": null,
            "justify_items": null,
            "left": null,
            "margin": null,
            "max_height": null,
            "max_width": null,
            "min_height": null,
            "min_width": null,
            "object_fit": null,
            "object_position": null,
            "order": null,
            "overflow": null,
            "overflow_x": null,
            "overflow_y": null,
            "padding": null,
            "right": null,
            "top": null,
            "visibility": null,
            "width": null
          }
        },
        "c94d6082774f498380d1a1d36e5a9485": {
          "model_module": "@jupyter-widgets/controls",
          "model_name": "ProgressStyleModel",
          "model_module_version": "1.5.0",
          "state": {
            "_model_module": "@jupyter-widgets/controls",
            "_model_module_version": "1.5.0",
            "_model_name": "ProgressStyleModel",
            "_view_count": null,
            "_view_module": "@jupyter-widgets/base",
            "_view_module_version": "1.2.0",
            "_view_name": "StyleView",
            "bar_color": null,
            "description_width": ""
          }
        },
        "092b9233fd434d47a657a6b04c0d1a34": {
          "model_module": "@jupyter-widgets/base",
          "model_name": "LayoutModel",
          "model_module_version": "1.2.0",
          "state": {
            "_model_module": "@jupyter-widgets/base",
            "_model_module_version": "1.2.0",
            "_model_name": "LayoutModel",
            "_view_count": null,
            "_view_module": "@jupyter-widgets/base",
            "_view_module_version": "1.2.0",
            "_view_name": "LayoutView",
            "align_content": null,
            "align_items": null,
            "align_self": null,
            "border": null,
            "bottom": null,
            "display": null,
            "flex": null,
            "flex_flow": null,
            "grid_area": null,
            "grid_auto_columns": null,
            "grid_auto_flow": null,
            "grid_auto_rows": null,
            "grid_column": null,
            "grid_gap": null,
            "grid_row": null,
            "grid_template_areas": null,
            "grid_template_columns": null,
            "grid_template_rows": null,
            "height": null,
            "justify_content": null,
            "justify_items": null,
            "left": null,
            "margin": null,
            "max_height": null,
            "max_width": null,
            "min_height": null,
            "min_width": null,
            "object_fit": null,
            "object_position": null,
            "order": null,
            "overflow": null,
            "overflow_x": null,
            "overflow_y": null,
            "padding": null,
            "right": null,
            "top": null,
            "visibility": null,
            "width": null
          }
        },
        "659561a77cbd4d699435dd5c1738f806": {
          "model_module": "@jupyter-widgets/controls",
          "model_name": "DescriptionStyleModel",
          "model_module_version": "1.5.0",
          "state": {
            "_model_module": "@jupyter-widgets/controls",
            "_model_module_version": "1.5.0",
            "_model_name": "DescriptionStyleModel",
            "_view_count": null,
            "_view_module": "@jupyter-widgets/base",
            "_view_module_version": "1.2.0",
            "_view_name": "StyleView",
            "description_width": ""
          }
        },
        "46759dc5ee7c4c25a2c1330697e8357c": {
          "model_module": "@jupyter-widgets/controls",
          "model_name": "HBoxModel",
          "model_module_version": "1.5.0",
          "state": {
            "_dom_classes": [],
            "_model_module": "@jupyter-widgets/controls",
            "_model_module_version": "1.5.0",
            "_model_name": "HBoxModel",
            "_view_count": null,
            "_view_module": "@jupyter-widgets/controls",
            "_view_module_version": "1.5.0",
            "_view_name": "HBoxView",
            "box_style": "",
            "children": [
              "IPY_MODEL_43531d88858347b1b1d791870756a323",
              "IPY_MODEL_db8178f5a911464f82fe5aabeb9d1af8",
              "IPY_MODEL_eb07ab8247a64aaab9af4f843417d4c4"
            ],
            "layout": "IPY_MODEL_6b948e0c68ec4a3aa639d82b4c7cbcac"
          }
        },
        "43531d88858347b1b1d791870756a323": {
          "model_module": "@jupyter-widgets/controls",
          "model_name": "HTMLModel",
          "model_module_version": "1.5.0",
          "state": {
            "_dom_classes": [],
            "_model_module": "@jupyter-widgets/controls",
            "_model_module_version": "1.5.0",
            "_model_name": "HTMLModel",
            "_view_count": null,
            "_view_module": "@jupyter-widgets/controls",
            "_view_module_version": "1.5.0",
            "_view_name": "HTMLView",
            "description": "",
            "description_tooltip": null,
            "layout": "IPY_MODEL_641db748dde8429da494a619e280a4b3",
            "placeholder": "​",
            "style": "IPY_MODEL_0683f32d16a4494b96acb040f8b13516",
            "value": "Map: 100%"
          }
        },
        "db8178f5a911464f82fe5aabeb9d1af8": {
          "model_module": "@jupyter-widgets/controls",
          "model_name": "FloatProgressModel",
          "model_module_version": "1.5.0",
          "state": {
            "_dom_classes": [],
            "_model_module": "@jupyter-widgets/controls",
            "_model_module_version": "1.5.0",
            "_model_name": "FloatProgressModel",
            "_view_count": null,
            "_view_module": "@jupyter-widgets/controls",
            "_view_module_version": "1.5.0",
            "_view_name": "ProgressView",
            "bar_style": "success",
            "description": "",
            "description_tooltip": null,
            "layout": "IPY_MODEL_41de94d0744944248244424652bb24ec",
            "max": 500,
            "min": 0,
            "orientation": "horizontal",
            "style": "IPY_MODEL_1d3a1095490b48e3a6938133746a915d",
            "value": 500
          }
        },
        "eb07ab8247a64aaab9af4f843417d4c4": {
          "model_module": "@jupyter-widgets/controls",
          "model_name": "HTMLModel",
          "model_module_version": "1.5.0",
          "state": {
            "_dom_classes": [],
            "_model_module": "@jupyter-widgets/controls",
            "_model_module_version": "1.5.0",
            "_model_name": "HTMLModel",
            "_view_count": null,
            "_view_module": "@jupyter-widgets/controls",
            "_view_module_version": "1.5.0",
            "_view_name": "HTMLView",
            "description": "",
            "description_tooltip": null,
            "layout": "IPY_MODEL_948fc6e683f4471ca29b1c298de0fbd7",
            "placeholder": "​",
            "style": "IPY_MODEL_4add4ebc6e544f019e0518b739921a21",
            "value": " 500/500 [00:00&lt;00:00, 10304.50 examples/s]"
          }
        },
        "6b948e0c68ec4a3aa639d82b4c7cbcac": {
          "model_module": "@jupyter-widgets/base",
          "model_name": "LayoutModel",
          "model_module_version": "1.2.0",
          "state": {
            "_model_module": "@jupyter-widgets/base",
            "_model_module_version": "1.2.0",
            "_model_name": "LayoutModel",
            "_view_count": null,
            "_view_module": "@jupyter-widgets/base",
            "_view_module_version": "1.2.0",
            "_view_name": "LayoutView",
            "align_content": null,
            "align_items": null,
            "align_self": null,
            "border": null,
            "bottom": null,
            "display": null,
            "flex": null,
            "flex_flow": null,
            "grid_area": null,
            "grid_auto_columns": null,
            "grid_auto_flow": null,
            "grid_auto_rows": null,
            "grid_column": null,
            "grid_gap": null,
            "grid_row": null,
            "grid_template_areas": null,
            "grid_template_columns": null,
            "grid_template_rows": null,
            "height": null,
            "justify_content": null,
            "justify_items": null,
            "left": null,
            "margin": null,
            "max_height": null,
            "max_width": null,
            "min_height": null,
            "min_width": null,
            "object_fit": null,
            "object_position": null,
            "order": null,
            "overflow": null,
            "overflow_x": null,
            "overflow_y": null,
            "padding": null,
            "right": null,
            "top": null,
            "visibility": null,
            "width": null
          }
        },
        "641db748dde8429da494a619e280a4b3": {
          "model_module": "@jupyter-widgets/base",
          "model_name": "LayoutModel",
          "model_module_version": "1.2.0",
          "state": {
            "_model_module": "@jupyter-widgets/base",
            "_model_module_version": "1.2.0",
            "_model_name": "LayoutModel",
            "_view_count": null,
            "_view_module": "@jupyter-widgets/base",
            "_view_module_version": "1.2.0",
            "_view_name": "LayoutView",
            "align_content": null,
            "align_items": null,
            "align_self": null,
            "border": null,
            "bottom": null,
            "display": null,
            "flex": null,
            "flex_flow": null,
            "grid_area": null,
            "grid_auto_columns": null,
            "grid_auto_flow": null,
            "grid_auto_rows": null,
            "grid_column": null,
            "grid_gap": null,
            "grid_row": null,
            "grid_template_areas": null,
            "grid_template_columns": null,
            "grid_template_rows": null,
            "height": null,
            "justify_content": null,
            "justify_items": null,
            "left": null,
            "margin": null,
            "max_height": null,
            "max_width": null,
            "min_height": null,
            "min_width": null,
            "object_fit": null,
            "object_position": null,
            "order": null,
            "overflow": null,
            "overflow_x": null,
            "overflow_y": null,
            "padding": null,
            "right": null,
            "top": null,
            "visibility": null,
            "width": null
          }
        },
        "0683f32d16a4494b96acb040f8b13516": {
          "model_module": "@jupyter-widgets/controls",
          "model_name": "DescriptionStyleModel",
          "model_module_version": "1.5.0",
          "state": {
            "_model_module": "@jupyter-widgets/controls",
            "_model_module_version": "1.5.0",
            "_model_name": "DescriptionStyleModel",
            "_view_count": null,
            "_view_module": "@jupyter-widgets/base",
            "_view_module_version": "1.2.0",
            "_view_name": "StyleView",
            "description_width": ""
          }
        },
        "41de94d0744944248244424652bb24ec": {
          "model_module": "@jupyter-widgets/base",
          "model_name": "LayoutModel",
          "model_module_version": "1.2.0",
          "state": {
            "_model_module": "@jupyter-widgets/base",
            "_model_module_version": "1.2.0",
            "_model_name": "LayoutModel",
            "_view_count": null,
            "_view_module": "@jupyter-widgets/base",
            "_view_module_version": "1.2.0",
            "_view_name": "LayoutView",
            "align_content": null,
            "align_items": null,
            "align_self": null,
            "border": null,
            "bottom": null,
            "display": null,
            "flex": null,
            "flex_flow": null,
            "grid_area": null,
            "grid_auto_columns": null,
            "grid_auto_flow": null,
            "grid_auto_rows": null,
            "grid_column": null,
            "grid_gap": null,
            "grid_row": null,
            "grid_template_areas": null,
            "grid_template_columns": null,
            "grid_template_rows": null,
            "height": null,
            "justify_content": null,
            "justify_items": null,
            "left": null,
            "margin": null,
            "max_height": null,
            "max_width": null,
            "min_height": null,
            "min_width": null,
            "object_fit": null,
            "object_position": null,
            "order": null,
            "overflow": null,
            "overflow_x": null,
            "overflow_y": null,
            "padding": null,
            "right": null,
            "top": null,
            "visibility": null,
            "width": null
          }
        },
        "1d3a1095490b48e3a6938133746a915d": {
          "model_module": "@jupyter-widgets/controls",
          "model_name": "ProgressStyleModel",
          "model_module_version": "1.5.0",
          "state": {
            "_model_module": "@jupyter-widgets/controls",
            "_model_module_version": "1.5.0",
            "_model_name": "ProgressStyleModel",
            "_view_count": null,
            "_view_module": "@jupyter-widgets/base",
            "_view_module_version": "1.2.0",
            "_view_name": "StyleView",
            "bar_color": null,
            "description_width": ""
          }
        },
        "948fc6e683f4471ca29b1c298de0fbd7": {
          "model_module": "@jupyter-widgets/base",
          "model_name": "LayoutModel",
          "model_module_version": "1.2.0",
          "state": {
            "_model_module": "@jupyter-widgets/base",
            "_model_module_version": "1.2.0",
            "_model_name": "LayoutModel",
            "_view_count": null,
            "_view_module": "@jupyter-widgets/base",
            "_view_module_version": "1.2.0",
            "_view_name": "LayoutView",
            "align_content": null,
            "align_items": null,
            "align_self": null,
            "border": null,
            "bottom": null,
            "display": null,
            "flex": null,
            "flex_flow": null,
            "grid_area": null,
            "grid_auto_columns": null,
            "grid_auto_flow": null,
            "grid_auto_rows": null,
            "grid_column": null,
            "grid_gap": null,
            "grid_row": null,
            "grid_template_areas": null,
            "grid_template_columns": null,
            "grid_template_rows": null,
            "height": null,
            "justify_content": null,
            "justify_items": null,
            "left": null,
            "margin": null,
            "max_height": null,
            "max_width": null,
            "min_height": null,
            "min_width": null,
            "object_fit": null,
            "object_position": null,
            "order": null,
            "overflow": null,
            "overflow_x": null,
            "overflow_y": null,
            "padding": null,
            "right": null,
            "top": null,
            "visibility": null,
            "width": null
          }
        },
        "4add4ebc6e544f019e0518b739921a21": {
          "model_module": "@jupyter-widgets/controls",
          "model_name": "DescriptionStyleModel",
          "model_module_version": "1.5.0",
          "state": {
            "_model_module": "@jupyter-widgets/controls",
            "_model_module_version": "1.5.0",
            "_model_name": "DescriptionStyleModel",
            "_view_count": null,
            "_view_module": "@jupyter-widgets/base",
            "_view_module_version": "1.2.0",
            "_view_name": "StyleView",
            "description_width": ""
          }
        },
        "42427e941a8b49f8a8b7645de8600c1f": {
          "model_module": "@jupyter-widgets/controls",
          "model_name": "HBoxModel",
          "model_module_version": "1.5.0",
          "state": {
            "_dom_classes": [],
            "_model_module": "@jupyter-widgets/controls",
            "_model_module_version": "1.5.0",
            "_model_name": "HBoxModel",
            "_view_count": null,
            "_view_module": "@jupyter-widgets/controls",
            "_view_module_version": "1.5.0",
            "_view_name": "HBoxView",
            "box_style": "",
            "children": [
              "IPY_MODEL_d3feb992c99d45729d51baff8dee9958",
              "IPY_MODEL_9f68d0f6dc534a0b88f1bc61c6d5cbd1",
              "IPY_MODEL_39c82ad984524512819c82a3e11b2e3a"
            ],
            "layout": "IPY_MODEL_0a0ee988aeec498d99968528d9f480fe"
          }
        },
        "d3feb992c99d45729d51baff8dee9958": {
          "model_module": "@jupyter-widgets/controls",
          "model_name": "HTMLModel",
          "model_module_version": "1.5.0",
          "state": {
            "_dom_classes": [],
            "_model_module": "@jupyter-widgets/controls",
            "_model_module_version": "1.5.0",
            "_model_name": "HTMLModel",
            "_view_count": null,
            "_view_module": "@jupyter-widgets/controls",
            "_view_module_version": "1.5.0",
            "_view_name": "HTMLView",
            "description": "",
            "description_tooltip": null,
            "layout": "IPY_MODEL_aa1c0f22060e490d82ede48942f61997",
            "placeholder": "​",
            "style": "IPY_MODEL_e69f7f37279f4e308412c27349d9733d",
            "value": "Map: 100%"
          }
        },
        "9f68d0f6dc534a0b88f1bc61c6d5cbd1": {
          "model_module": "@jupyter-widgets/controls",
          "model_name": "FloatProgressModel",
          "model_module_version": "1.5.0",
          "state": {
            "_dom_classes": [],
            "_model_module": "@jupyter-widgets/controls",
            "_model_module_version": "1.5.0",
            "_model_name": "FloatProgressModel",
            "_view_count": null,
            "_view_module": "@jupyter-widgets/controls",
            "_view_module_version": "1.5.0",
            "_view_name": "ProgressView",
            "bar_style": "success",
            "description": "",
            "description_tooltip": null,
            "layout": "IPY_MODEL_7a83bcf7db644f6e94d24bdff3df8718",
            "max": 2000,
            "min": 0,
            "orientation": "horizontal",
            "style": "IPY_MODEL_b75bfa741c6245de8b05924ee824a3cb",
            "value": 2000
          }
        },
        "39c82ad984524512819c82a3e11b2e3a": {
          "model_module": "@jupyter-widgets/controls",
          "model_name": "HTMLModel",
          "model_module_version": "1.5.0",
          "state": {
            "_dom_classes": [],
            "_model_module": "@jupyter-widgets/controls",
            "_model_module_version": "1.5.0",
            "_model_name": "HTMLModel",
            "_view_count": null,
            "_view_module": "@jupyter-widgets/controls",
            "_view_module_version": "1.5.0",
            "_view_name": "HTMLView",
            "description": "",
            "description_tooltip": null,
            "layout": "IPY_MODEL_76280facd5e741e3acb54ab13504ca40",
            "placeholder": "​",
            "style": "IPY_MODEL_3c9a9376017f45528f65ee60372aa91a",
            "value": " 2000/2000 [00:00&lt;00:00, 16766.45 examples/s]"
          }
        },
        "0a0ee988aeec498d99968528d9f480fe": {
          "model_module": "@jupyter-widgets/base",
          "model_name": "LayoutModel",
          "model_module_version": "1.2.0",
          "state": {
            "_model_module": "@jupyter-widgets/base",
            "_model_module_version": "1.2.0",
            "_model_name": "LayoutModel",
            "_view_count": null,
            "_view_module": "@jupyter-widgets/base",
            "_view_module_version": "1.2.0",
            "_view_name": "LayoutView",
            "align_content": null,
            "align_items": null,
            "align_self": null,
            "border": null,
            "bottom": null,
            "display": null,
            "flex": null,
            "flex_flow": null,
            "grid_area": null,
            "grid_auto_columns": null,
            "grid_auto_flow": null,
            "grid_auto_rows": null,
            "grid_column": null,
            "grid_gap": null,
            "grid_row": null,
            "grid_template_areas": null,
            "grid_template_columns": null,
            "grid_template_rows": null,
            "height": null,
            "justify_content": null,
            "justify_items": null,
            "left": null,
            "margin": null,
            "max_height": null,
            "max_width": null,
            "min_height": null,
            "min_width": null,
            "object_fit": null,
            "object_position": null,
            "order": null,
            "overflow": null,
            "overflow_x": null,
            "overflow_y": null,
            "padding": null,
            "right": null,
            "top": null,
            "visibility": null,
            "width": null
          }
        },
        "aa1c0f22060e490d82ede48942f61997": {
          "model_module": "@jupyter-widgets/base",
          "model_name": "LayoutModel",
          "model_module_version": "1.2.0",
          "state": {
            "_model_module": "@jupyter-widgets/base",
            "_model_module_version": "1.2.0",
            "_model_name": "LayoutModel",
            "_view_count": null,
            "_view_module": "@jupyter-widgets/base",
            "_view_module_version": "1.2.0",
            "_view_name": "LayoutView",
            "align_content": null,
            "align_items": null,
            "align_self": null,
            "border": null,
            "bottom": null,
            "display": null,
            "flex": null,
            "flex_flow": null,
            "grid_area": null,
            "grid_auto_columns": null,
            "grid_auto_flow": null,
            "grid_auto_rows": null,
            "grid_column": null,
            "grid_gap": null,
            "grid_row": null,
            "grid_template_areas": null,
            "grid_template_columns": null,
            "grid_template_rows": null,
            "height": null,
            "justify_content": null,
            "justify_items": null,
            "left": null,
            "margin": null,
            "max_height": null,
            "max_width": null,
            "min_height": null,
            "min_width": null,
            "object_fit": null,
            "object_position": null,
            "order": null,
            "overflow": null,
            "overflow_x": null,
            "overflow_y": null,
            "padding": null,
            "right": null,
            "top": null,
            "visibility": null,
            "width": null
          }
        },
        "e69f7f37279f4e308412c27349d9733d": {
          "model_module": "@jupyter-widgets/controls",
          "model_name": "DescriptionStyleModel",
          "model_module_version": "1.5.0",
          "state": {
            "_model_module": "@jupyter-widgets/controls",
            "_model_module_version": "1.5.0",
            "_model_name": "DescriptionStyleModel",
            "_view_count": null,
            "_view_module": "@jupyter-widgets/base",
            "_view_module_version": "1.2.0",
            "_view_name": "StyleView",
            "description_width": ""
          }
        },
        "7a83bcf7db644f6e94d24bdff3df8718": {
          "model_module": "@jupyter-widgets/base",
          "model_name": "LayoutModel",
          "model_module_version": "1.2.0",
          "state": {
            "_model_module": "@jupyter-widgets/base",
            "_model_module_version": "1.2.0",
            "_model_name": "LayoutModel",
            "_view_count": null,
            "_view_module": "@jupyter-widgets/base",
            "_view_module_version": "1.2.0",
            "_view_name": "LayoutView",
            "align_content": null,
            "align_items": null,
            "align_self": null,
            "border": null,
            "bottom": null,
            "display": null,
            "flex": null,
            "flex_flow": null,
            "grid_area": null,
            "grid_auto_columns": null,
            "grid_auto_flow": null,
            "grid_auto_rows": null,
            "grid_column": null,
            "grid_gap": null,
            "grid_row": null,
            "grid_template_areas": null,
            "grid_template_columns": null,
            "grid_template_rows": null,
            "height": null,
            "justify_content": null,
            "justify_items": null,
            "left": null,
            "margin": null,
            "max_height": null,
            "max_width": null,
            "min_height": null,
            "min_width": null,
            "object_fit": null,
            "object_position": null,
            "order": null,
            "overflow": null,
            "overflow_x": null,
            "overflow_y": null,
            "padding": null,
            "right": null,
            "top": null,
            "visibility": null,
            "width": null
          }
        },
        "b75bfa741c6245de8b05924ee824a3cb": {
          "model_module": "@jupyter-widgets/controls",
          "model_name": "ProgressStyleModel",
          "model_module_version": "1.5.0",
          "state": {
            "_model_module": "@jupyter-widgets/controls",
            "_model_module_version": "1.5.0",
            "_model_name": "ProgressStyleModel",
            "_view_count": null,
            "_view_module": "@jupyter-widgets/base",
            "_view_module_version": "1.2.0",
            "_view_name": "StyleView",
            "bar_color": null,
            "description_width": ""
          }
        },
        "76280facd5e741e3acb54ab13504ca40": {
          "model_module": "@jupyter-widgets/base",
          "model_name": "LayoutModel",
          "model_module_version": "1.2.0",
          "state": {
            "_model_module": "@jupyter-widgets/base",
            "_model_module_version": "1.2.0",
            "_model_name": "LayoutModel",
            "_view_count": null,
            "_view_module": "@jupyter-widgets/base",
            "_view_module_version": "1.2.0",
            "_view_name": "LayoutView",
            "align_content": null,
            "align_items": null,
            "align_self": null,
            "border": null,
            "bottom": null,
            "display": null,
            "flex": null,
            "flex_flow": null,
            "grid_area": null,
            "grid_auto_columns": null,
            "grid_auto_flow": null,
            "grid_auto_rows": null,
            "grid_column": null,
            "grid_gap": null,
            "grid_row": null,
            "grid_template_areas": null,
            "grid_template_columns": null,
            "grid_template_rows": null,
            "height": null,
            "justify_content": null,
            "justify_items": null,
            "left": null,
            "margin": null,
            "max_height": null,
            "max_width": null,
            "min_height": null,
            "min_width": null,
            "object_fit": null,
            "object_position": null,
            "order": null,
            "overflow": null,
            "overflow_x": null,
            "overflow_y": null,
            "padding": null,
            "right": null,
            "top": null,
            "visibility": null,
            "width": null
          }
        },
        "3c9a9376017f45528f65ee60372aa91a": {
          "model_module": "@jupyter-widgets/controls",
          "model_name": "DescriptionStyleModel",
          "model_module_version": "1.5.0",
          "state": {
            "_model_module": "@jupyter-widgets/controls",
            "_model_module_version": "1.5.0",
            "_model_name": "DescriptionStyleModel",
            "_view_count": null,
            "_view_module": "@jupyter-widgets/base",
            "_view_module_version": "1.2.0",
            "_view_name": "StyleView",
            "description_width": ""
          }
        },
        "edaf9f22e4974f4784c225947f7c7df7": {
          "model_module": "@jupyter-widgets/controls",
          "model_name": "HBoxModel",
          "model_module_version": "1.5.0",
          "state": {
            "_dom_classes": [],
            "_model_module": "@jupyter-widgets/controls",
            "_model_module_version": "1.5.0",
            "_model_name": "HBoxModel",
            "_view_count": null,
            "_view_module": "@jupyter-widgets/controls",
            "_view_module_version": "1.5.0",
            "_view_name": "HBoxView",
            "box_style": "",
            "children": [
              "IPY_MODEL_b7a412785abf41138933c2c3f28b2e52",
              "IPY_MODEL_45cad97ef1814c02aa865e96d91cd870",
              "IPY_MODEL_a1b8b118d51e4515afd8519b181b9e0d"
            ],
            "layout": "IPY_MODEL_8605997f22f4456096eea986b9033376"
          }
        },
        "b7a412785abf41138933c2c3f28b2e52": {
          "model_module": "@jupyter-widgets/controls",
          "model_name": "HTMLModel",
          "model_module_version": "1.5.0",
          "state": {
            "_dom_classes": [],
            "_model_module": "@jupyter-widgets/controls",
            "_model_module_version": "1.5.0",
            "_model_name": "HTMLModel",
            "_view_count": null,
            "_view_module": "@jupyter-widgets/controls",
            "_view_module_version": "1.5.0",
            "_view_name": "HTMLView",
            "description": "",
            "description_tooltip": null,
            "layout": "IPY_MODEL_c662b398c3254ac1ba8d2a769642cde9",
            "placeholder": "​",
            "style": "IPY_MODEL_9fea9bd2a13f426ab1599bc505dbaed6",
            "value": "Map: 100%"
          }
        },
        "45cad97ef1814c02aa865e96d91cd870": {
          "model_module": "@jupyter-widgets/controls",
          "model_name": "FloatProgressModel",
          "model_module_version": "1.5.0",
          "state": {
            "_dom_classes": [],
            "_model_module": "@jupyter-widgets/controls",
            "_model_module_version": "1.5.0",
            "_model_name": "FloatProgressModel",
            "_view_count": null,
            "_view_module": "@jupyter-widgets/controls",
            "_view_module_version": "1.5.0",
            "_view_name": "ProgressView",
            "bar_style": "success",
            "description": "",
            "description_tooltip": null,
            "layout": "IPY_MODEL_7faeff53890e4e139a93487bbff88230",
            "max": 500,
            "min": 0,
            "orientation": "horizontal",
            "style": "IPY_MODEL_4096683cfcb24a978e61968a5a4f77f8",
            "value": 500
          }
        },
        "a1b8b118d51e4515afd8519b181b9e0d": {
          "model_module": "@jupyter-widgets/controls",
          "model_name": "HTMLModel",
          "model_module_version": "1.5.0",
          "state": {
            "_dom_classes": [],
            "_model_module": "@jupyter-widgets/controls",
            "_model_module_version": "1.5.0",
            "_model_name": "HTMLModel",
            "_view_count": null,
            "_view_module": "@jupyter-widgets/controls",
            "_view_module_version": "1.5.0",
            "_view_name": "HTMLView",
            "description": "",
            "description_tooltip": null,
            "layout": "IPY_MODEL_03d881d604844d7985efacfe5e81848f",
            "placeholder": "​",
            "style": "IPY_MODEL_b20245d4776a4713a4aa3631d753305d",
            "value": " 500/500 [00:00&lt;00:00, 12121.28 examples/s]"
          }
        },
        "8605997f22f4456096eea986b9033376": {
          "model_module": "@jupyter-widgets/base",
          "model_name": "LayoutModel",
          "model_module_version": "1.2.0",
          "state": {
            "_model_module": "@jupyter-widgets/base",
            "_model_module_version": "1.2.0",
            "_model_name": "LayoutModel",
            "_view_count": null,
            "_view_module": "@jupyter-widgets/base",
            "_view_module_version": "1.2.0",
            "_view_name": "LayoutView",
            "align_content": null,
            "align_items": null,
            "align_self": null,
            "border": null,
            "bottom": null,
            "display": null,
            "flex": null,
            "flex_flow": null,
            "grid_area": null,
            "grid_auto_columns": null,
            "grid_auto_flow": null,
            "grid_auto_rows": null,
            "grid_column": null,
            "grid_gap": null,
            "grid_row": null,
            "grid_template_areas": null,
            "grid_template_columns": null,
            "grid_template_rows": null,
            "height": null,
            "justify_content": null,
            "justify_items": null,
            "left": null,
            "margin": null,
            "max_height": null,
            "max_width": null,
            "min_height": null,
            "min_width": null,
            "object_fit": null,
            "object_position": null,
            "order": null,
            "overflow": null,
            "overflow_x": null,
            "overflow_y": null,
            "padding": null,
            "right": null,
            "top": null,
            "visibility": null,
            "width": null
          }
        },
        "c662b398c3254ac1ba8d2a769642cde9": {
          "model_module": "@jupyter-widgets/base",
          "model_name": "LayoutModel",
          "model_module_version": "1.2.0",
          "state": {
            "_model_module": "@jupyter-widgets/base",
            "_model_module_version": "1.2.0",
            "_model_name": "LayoutModel",
            "_view_count": null,
            "_view_module": "@jupyter-widgets/base",
            "_view_module_version": "1.2.0",
            "_view_name": "LayoutView",
            "align_content": null,
            "align_items": null,
            "align_self": null,
            "border": null,
            "bottom": null,
            "display": null,
            "flex": null,
            "flex_flow": null,
            "grid_area": null,
            "grid_auto_columns": null,
            "grid_auto_flow": null,
            "grid_auto_rows": null,
            "grid_column": null,
            "grid_gap": null,
            "grid_row": null,
            "grid_template_areas": null,
            "grid_template_columns": null,
            "grid_template_rows": null,
            "height": null,
            "justify_content": null,
            "justify_items": null,
            "left": null,
            "margin": null,
            "max_height": null,
            "max_width": null,
            "min_height": null,
            "min_width": null,
            "object_fit": null,
            "object_position": null,
            "order": null,
            "overflow": null,
            "overflow_x": null,
            "overflow_y": null,
            "padding": null,
            "right": null,
            "top": null,
            "visibility": null,
            "width": null
          }
        },
        "9fea9bd2a13f426ab1599bc505dbaed6": {
          "model_module": "@jupyter-widgets/controls",
          "model_name": "DescriptionStyleModel",
          "model_module_version": "1.5.0",
          "state": {
            "_model_module": "@jupyter-widgets/controls",
            "_model_module_version": "1.5.0",
            "_model_name": "DescriptionStyleModel",
            "_view_count": null,
            "_view_module": "@jupyter-widgets/base",
            "_view_module_version": "1.2.0",
            "_view_name": "StyleView",
            "description_width": ""
          }
        },
        "7faeff53890e4e139a93487bbff88230": {
          "model_module": "@jupyter-widgets/base",
          "model_name": "LayoutModel",
          "model_module_version": "1.2.0",
          "state": {
            "_model_module": "@jupyter-widgets/base",
            "_model_module_version": "1.2.0",
            "_model_name": "LayoutModel",
            "_view_count": null,
            "_view_module": "@jupyter-widgets/base",
            "_view_module_version": "1.2.0",
            "_view_name": "LayoutView",
            "align_content": null,
            "align_items": null,
            "align_self": null,
            "border": null,
            "bottom": null,
            "display": null,
            "flex": null,
            "flex_flow": null,
            "grid_area": null,
            "grid_auto_columns": null,
            "grid_auto_flow": null,
            "grid_auto_rows": null,
            "grid_column": null,
            "grid_gap": null,
            "grid_row": null,
            "grid_template_areas": null,
            "grid_template_columns": null,
            "grid_template_rows": null,
            "height": null,
            "justify_content": null,
            "justify_items": null,
            "left": null,
            "margin": null,
            "max_height": null,
            "max_width": null,
            "min_height": null,
            "min_width": null,
            "object_fit": null,
            "object_position": null,
            "order": null,
            "overflow": null,
            "overflow_x": null,
            "overflow_y": null,
            "padding": null,
            "right": null,
            "top": null,
            "visibility": null,
            "width": null
          }
        },
        "4096683cfcb24a978e61968a5a4f77f8": {
          "model_module": "@jupyter-widgets/controls",
          "model_name": "ProgressStyleModel",
          "model_module_version": "1.5.0",
          "state": {
            "_model_module": "@jupyter-widgets/controls",
            "_model_module_version": "1.5.0",
            "_model_name": "ProgressStyleModel",
            "_view_count": null,
            "_view_module": "@jupyter-widgets/base",
            "_view_module_version": "1.2.0",
            "_view_name": "StyleView",
            "bar_color": null,
            "description_width": ""
          }
        },
        "03d881d604844d7985efacfe5e81848f": {
          "model_module": "@jupyter-widgets/base",
          "model_name": "LayoutModel",
          "model_module_version": "1.2.0",
          "state": {
            "_model_module": "@jupyter-widgets/base",
            "_model_module_version": "1.2.0",
            "_model_name": "LayoutModel",
            "_view_count": null,
            "_view_module": "@jupyter-widgets/base",
            "_view_module_version": "1.2.0",
            "_view_name": "LayoutView",
            "align_content": null,
            "align_items": null,
            "align_self": null,
            "border": null,
            "bottom": null,
            "display": null,
            "flex": null,
            "flex_flow": null,
            "grid_area": null,
            "grid_auto_columns": null,
            "grid_auto_flow": null,
            "grid_auto_rows": null,
            "grid_column": null,
            "grid_gap": null,
            "grid_row": null,
            "grid_template_areas": null,
            "grid_template_columns": null,
            "grid_template_rows": null,
            "height": null,
            "justify_content": null,
            "justify_items": null,
            "left": null,
            "margin": null,
            "max_height": null,
            "max_width": null,
            "min_height": null,
            "min_width": null,
            "object_fit": null,
            "object_position": null,
            "order": null,
            "overflow": null,
            "overflow_x": null,
            "overflow_y": null,
            "padding": null,
            "right": null,
            "top": null,
            "visibility": null,
            "width": null
          }
        },
        "b20245d4776a4713a4aa3631d753305d": {
          "model_module": "@jupyter-widgets/controls",
          "model_name": "DescriptionStyleModel",
          "model_module_version": "1.5.0",
          "state": {
            "_model_module": "@jupyter-widgets/controls",
            "_model_module_version": "1.5.0",
            "_model_name": "DescriptionStyleModel",
            "_view_count": null,
            "_view_module": "@jupyter-widgets/base",
            "_view_module_version": "1.2.0",
            "_view_name": "StyleView",
            "description_width": ""
          }
        },
        "6a409c96b98747d183c989db6db99442": {
          "model_module": "@jupyter-widgets/controls",
          "model_name": "HBoxModel",
          "model_module_version": "1.5.0",
          "state": {
            "_dom_classes": [],
            "_model_module": "@jupyter-widgets/controls",
            "_model_module_version": "1.5.0",
            "_model_name": "HBoxModel",
            "_view_count": null,
            "_view_module": "@jupyter-widgets/controls",
            "_view_module_version": "1.5.0",
            "_view_name": "HBoxView",
            "box_style": "",
            "children": [
              "IPY_MODEL_47c02fdfb2d04faf92bc9d785dbf8417",
              "IPY_MODEL_928f4bc157974f769d0840b82fcdbdfe",
              "IPY_MODEL_3eaeae08c87d4163aab0d9d5ece87ef8"
            ],
            "layout": "IPY_MODEL_3ca861ac4095484f87b5724f48b81acf"
          }
        },
        "47c02fdfb2d04faf92bc9d785dbf8417": {
          "model_module": "@jupyter-widgets/controls",
          "model_name": "HTMLModel",
          "model_module_version": "1.5.0",
          "state": {
            "_dom_classes": [],
            "_model_module": "@jupyter-widgets/controls",
            "_model_module_version": "1.5.0",
            "_model_name": "HTMLModel",
            "_view_count": null,
            "_view_module": "@jupyter-widgets/controls",
            "_view_module_version": "1.5.0",
            "_view_name": "HTMLView",
            "description": "",
            "description_tooltip": null,
            "layout": "IPY_MODEL_b4d9298844b6443f85e00a6a76ece667",
            "placeholder": "​",
            "style": "IPY_MODEL_c9eae60f4c8b44a18ef0f2b9a2fbc48a",
            "value": "Map: 100%"
          }
        },
        "928f4bc157974f769d0840b82fcdbdfe": {
          "model_module": "@jupyter-widgets/controls",
          "model_name": "FloatProgressModel",
          "model_module_version": "1.5.0",
          "state": {
            "_dom_classes": [],
            "_model_module": "@jupyter-widgets/controls",
            "_model_module_version": "1.5.0",
            "_model_name": "FloatProgressModel",
            "_view_count": null,
            "_view_module": "@jupyter-widgets/controls",
            "_view_module_version": "1.5.0",
            "_view_name": "ProgressView",
            "bar_style": "success",
            "description": "",
            "description_tooltip": null,
            "layout": "IPY_MODEL_8952f27c0bb9442c9157e5539ba41b6a",
            "max": 41157,
            "min": 0,
            "orientation": "horizontal",
            "style": "IPY_MODEL_33788a52aae74fb2b93388aafee5a773",
            "value": 41157
          }
        },
        "3eaeae08c87d4163aab0d9d5ece87ef8": {
          "model_module": "@jupyter-widgets/controls",
          "model_name": "HTMLModel",
          "model_module_version": "1.5.0",
          "state": {
            "_dom_classes": [],
            "_model_module": "@jupyter-widgets/controls",
            "_model_module_version": "1.5.0",
            "_model_name": "HTMLModel",
            "_view_count": null,
            "_view_module": "@jupyter-widgets/controls",
            "_view_module_version": "1.5.0",
            "_view_name": "HTMLView",
            "description": "",
            "description_tooltip": null,
            "layout": "IPY_MODEL_908db0ad055f4b2eb6e812ba7c671967",
            "placeholder": "​",
            "style": "IPY_MODEL_c396011c4b1e43adad4416b5f191aa76",
            "value": " 41157/41157 [00:03&lt;00:00, 12893.42 examples/s]"
          }
        },
        "3ca861ac4095484f87b5724f48b81acf": {
          "model_module": "@jupyter-widgets/base",
          "model_name": "LayoutModel",
          "model_module_version": "1.2.0",
          "state": {
            "_model_module": "@jupyter-widgets/base",
            "_model_module_version": "1.2.0",
            "_model_name": "LayoutModel",
            "_view_count": null,
            "_view_module": "@jupyter-widgets/base",
            "_view_module_version": "1.2.0",
            "_view_name": "LayoutView",
            "align_content": null,
            "align_items": null,
            "align_self": null,
            "border": null,
            "bottom": null,
            "display": null,
            "flex": null,
            "flex_flow": null,
            "grid_area": null,
            "grid_auto_columns": null,
            "grid_auto_flow": null,
            "grid_auto_rows": null,
            "grid_column": null,
            "grid_gap": null,
            "grid_row": null,
            "grid_template_areas": null,
            "grid_template_columns": null,
            "grid_template_rows": null,
            "height": null,
            "justify_content": null,
            "justify_items": null,
            "left": null,
            "margin": null,
            "max_height": null,
            "max_width": null,
            "min_height": null,
            "min_width": null,
            "object_fit": null,
            "object_position": null,
            "order": null,
            "overflow": null,
            "overflow_x": null,
            "overflow_y": null,
            "padding": null,
            "right": null,
            "top": null,
            "visibility": null,
            "width": null
          }
        },
        "b4d9298844b6443f85e00a6a76ece667": {
          "model_module": "@jupyter-widgets/base",
          "model_name": "LayoutModel",
          "model_module_version": "1.2.0",
          "state": {
            "_model_module": "@jupyter-widgets/base",
            "_model_module_version": "1.2.0",
            "_model_name": "LayoutModel",
            "_view_count": null,
            "_view_module": "@jupyter-widgets/base",
            "_view_module_version": "1.2.0",
            "_view_name": "LayoutView",
            "align_content": null,
            "align_items": null,
            "align_self": null,
            "border": null,
            "bottom": null,
            "display": null,
            "flex": null,
            "flex_flow": null,
            "grid_area": null,
            "grid_auto_columns": null,
            "grid_auto_flow": null,
            "grid_auto_rows": null,
            "grid_column": null,
            "grid_gap": null,
            "grid_row": null,
            "grid_template_areas": null,
            "grid_template_columns": null,
            "grid_template_rows": null,
            "height": null,
            "justify_content": null,
            "justify_items": null,
            "left": null,
            "margin": null,
            "max_height": null,
            "max_width": null,
            "min_height": null,
            "min_width": null,
            "object_fit": null,
            "object_position": null,
            "order": null,
            "overflow": null,
            "overflow_x": null,
            "overflow_y": null,
            "padding": null,
            "right": null,
            "top": null,
            "visibility": null,
            "width": null
          }
        },
        "c9eae60f4c8b44a18ef0f2b9a2fbc48a": {
          "model_module": "@jupyter-widgets/controls",
          "model_name": "DescriptionStyleModel",
          "model_module_version": "1.5.0",
          "state": {
            "_model_module": "@jupyter-widgets/controls",
            "_model_module_version": "1.5.0",
            "_model_name": "DescriptionStyleModel",
            "_view_count": null,
            "_view_module": "@jupyter-widgets/base",
            "_view_module_version": "1.2.0",
            "_view_name": "StyleView",
            "description_width": ""
          }
        },
        "8952f27c0bb9442c9157e5539ba41b6a": {
          "model_module": "@jupyter-widgets/base",
          "model_name": "LayoutModel",
          "model_module_version": "1.2.0",
          "state": {
            "_model_module": "@jupyter-widgets/base",
            "_model_module_version": "1.2.0",
            "_model_name": "LayoutModel",
            "_view_count": null,
            "_view_module": "@jupyter-widgets/base",
            "_view_module_version": "1.2.0",
            "_view_name": "LayoutView",
            "align_content": null,
            "align_items": null,
            "align_self": null,
            "border": null,
            "bottom": null,
            "display": null,
            "flex": null,
            "flex_flow": null,
            "grid_area": null,
            "grid_auto_columns": null,
            "grid_auto_flow": null,
            "grid_auto_rows": null,
            "grid_column": null,
            "grid_gap": null,
            "grid_row": null,
            "grid_template_areas": null,
            "grid_template_columns": null,
            "grid_template_rows": null,
            "height": null,
            "justify_content": null,
            "justify_items": null,
            "left": null,
            "margin": null,
            "max_height": null,
            "max_width": null,
            "min_height": null,
            "min_width": null,
            "object_fit": null,
            "object_position": null,
            "order": null,
            "overflow": null,
            "overflow_x": null,
            "overflow_y": null,
            "padding": null,
            "right": null,
            "top": null,
            "visibility": null,
            "width": null
          }
        },
        "33788a52aae74fb2b93388aafee5a773": {
          "model_module": "@jupyter-widgets/controls",
          "model_name": "ProgressStyleModel",
          "model_module_version": "1.5.0",
          "state": {
            "_model_module": "@jupyter-widgets/controls",
            "_model_module_version": "1.5.0",
            "_model_name": "ProgressStyleModel",
            "_view_count": null,
            "_view_module": "@jupyter-widgets/base",
            "_view_module_version": "1.2.0",
            "_view_name": "StyleView",
            "bar_color": null,
            "description_width": ""
          }
        },
        "908db0ad055f4b2eb6e812ba7c671967": {
          "model_module": "@jupyter-widgets/base",
          "model_name": "LayoutModel",
          "model_module_version": "1.2.0",
          "state": {
            "_model_module": "@jupyter-widgets/base",
            "_model_module_version": "1.2.0",
            "_model_name": "LayoutModel",
            "_view_count": null,
            "_view_module": "@jupyter-widgets/base",
            "_view_module_version": "1.2.0",
            "_view_name": "LayoutView",
            "align_content": null,
            "align_items": null,
            "align_self": null,
            "border": null,
            "bottom": null,
            "display": null,
            "flex": null,
            "flex_flow": null,
            "grid_area": null,
            "grid_auto_columns": null,
            "grid_auto_flow": null,
            "grid_auto_rows": null,
            "grid_column": null,
            "grid_gap": null,
            "grid_row": null,
            "grid_template_areas": null,
            "grid_template_columns": null,
            "grid_template_rows": null,
            "height": null,
            "justify_content": null,
            "justify_items": null,
            "left": null,
            "margin": null,
            "max_height": null,
            "max_width": null,
            "min_height": null,
            "min_width": null,
            "object_fit": null,
            "object_position": null,
            "order": null,
            "overflow": null,
            "overflow_x": null,
            "overflow_y": null,
            "padding": null,
            "right": null,
            "top": null,
            "visibility": null,
            "width": null
          }
        },
        "c396011c4b1e43adad4416b5f191aa76": {
          "model_module": "@jupyter-widgets/controls",
          "model_name": "DescriptionStyleModel",
          "model_module_version": "1.5.0",
          "state": {
            "_model_module": "@jupyter-widgets/controls",
            "_model_module_version": "1.5.0",
            "_model_name": "DescriptionStyleModel",
            "_view_count": null,
            "_view_module": "@jupyter-widgets/base",
            "_view_module_version": "1.2.0",
            "_view_name": "StyleView",
            "description_width": ""
          }
        },
        "1fe0afdc4c3e472fb29325403b9f6bd2": {
          "model_module": "@jupyter-widgets/controls",
          "model_name": "HBoxModel",
          "model_module_version": "1.5.0",
          "state": {
            "_dom_classes": [],
            "_model_module": "@jupyter-widgets/controls",
            "_model_module_version": "1.5.0",
            "_model_name": "HBoxModel",
            "_view_count": null,
            "_view_module": "@jupyter-widgets/controls",
            "_view_module_version": "1.5.0",
            "_view_name": "HBoxView",
            "box_style": "",
            "children": [
              "IPY_MODEL_a1e2aea7b6e4489693b826be97a87027",
              "IPY_MODEL_5e3a161949af412d8c2993e1d9d960c5",
              "IPY_MODEL_e9f33ae45f1c4402b1061ab4e4aa0a24"
            ],
            "layout": "IPY_MODEL_132326ef532f42da9854766ed561eff9"
          }
        },
        "a1e2aea7b6e4489693b826be97a87027": {
          "model_module": "@jupyter-widgets/controls",
          "model_name": "HTMLModel",
          "model_module_version": "1.5.0",
          "state": {
            "_dom_classes": [],
            "_model_module": "@jupyter-widgets/controls",
            "_model_module_version": "1.5.0",
            "_model_name": "HTMLModel",
            "_view_count": null,
            "_view_module": "@jupyter-widgets/controls",
            "_view_module_version": "1.5.0",
            "_view_name": "HTMLView",
            "description": "",
            "description_tooltip": null,
            "layout": "IPY_MODEL_37540525ce0b46eda101ca874877ecfb",
            "placeholder": "​",
            "style": "IPY_MODEL_6d5649e68b1b48488ebd5ac2ccc762d0",
            "value": "Map: 100%"
          }
        },
        "5e3a161949af412d8c2993e1d9d960c5": {
          "model_module": "@jupyter-widgets/controls",
          "model_name": "FloatProgressModel",
          "model_module_version": "1.5.0",
          "state": {
            "_dom_classes": [],
            "_model_module": "@jupyter-widgets/controls",
            "_model_module_version": "1.5.0",
            "_model_name": "FloatProgressModel",
            "_view_count": null,
            "_view_module": "@jupyter-widgets/controls",
            "_view_module_version": "1.5.0",
            "_view_name": "ProgressView",
            "bar_style": "success",
            "description": "",
            "description_tooltip": null,
            "layout": "IPY_MODEL_5f633d309b504e58b8cd2421455bc000",
            "max": 3798,
            "min": 0,
            "orientation": "horizontal",
            "style": "IPY_MODEL_807cc3c8e5df47b5902af231b01aad97",
            "value": 3798
          }
        },
        "e9f33ae45f1c4402b1061ab4e4aa0a24": {
          "model_module": "@jupyter-widgets/controls",
          "model_name": "HTMLModel",
          "model_module_version": "1.5.0",
          "state": {
            "_dom_classes": [],
            "_model_module": "@jupyter-widgets/controls",
            "_model_module_version": "1.5.0",
            "_model_name": "HTMLModel",
            "_view_count": null,
            "_view_module": "@jupyter-widgets/controls",
            "_view_module_version": "1.5.0",
            "_view_name": "HTMLView",
            "description": "",
            "description_tooltip": null,
            "layout": "IPY_MODEL_30c14d22799543fd9179ce5eb17f8350",
            "placeholder": "​",
            "style": "IPY_MODEL_1e446b4dea59450da332d21ac65c2418",
            "value": " 3798/3798 [00:00&lt;00:00, 14238.36 examples/s]"
          }
        },
        "132326ef532f42da9854766ed561eff9": {
          "model_module": "@jupyter-widgets/base",
          "model_name": "LayoutModel",
          "model_module_version": "1.2.0",
          "state": {
            "_model_module": "@jupyter-widgets/base",
            "_model_module_version": "1.2.0",
            "_model_name": "LayoutModel",
            "_view_count": null,
            "_view_module": "@jupyter-widgets/base",
            "_view_module_version": "1.2.0",
            "_view_name": "LayoutView",
            "align_content": null,
            "align_items": null,
            "align_self": null,
            "border": null,
            "bottom": null,
            "display": null,
            "flex": null,
            "flex_flow": null,
            "grid_area": null,
            "grid_auto_columns": null,
            "grid_auto_flow": null,
            "grid_auto_rows": null,
            "grid_column": null,
            "grid_gap": null,
            "grid_row": null,
            "grid_template_areas": null,
            "grid_template_columns": null,
            "grid_template_rows": null,
            "height": null,
            "justify_content": null,
            "justify_items": null,
            "left": null,
            "margin": null,
            "max_height": null,
            "max_width": null,
            "min_height": null,
            "min_width": null,
            "object_fit": null,
            "object_position": null,
            "order": null,
            "overflow": null,
            "overflow_x": null,
            "overflow_y": null,
            "padding": null,
            "right": null,
            "top": null,
            "visibility": null,
            "width": null
          }
        },
        "37540525ce0b46eda101ca874877ecfb": {
          "model_module": "@jupyter-widgets/base",
          "model_name": "LayoutModel",
          "model_module_version": "1.2.0",
          "state": {
            "_model_module": "@jupyter-widgets/base",
            "_model_module_version": "1.2.0",
            "_model_name": "LayoutModel",
            "_view_count": null,
            "_view_module": "@jupyter-widgets/base",
            "_view_module_version": "1.2.0",
            "_view_name": "LayoutView",
            "align_content": null,
            "align_items": null,
            "align_self": null,
            "border": null,
            "bottom": null,
            "display": null,
            "flex": null,
            "flex_flow": null,
            "grid_area": null,
            "grid_auto_columns": null,
            "grid_auto_flow": null,
            "grid_auto_rows": null,
            "grid_column": null,
            "grid_gap": null,
            "grid_row": null,
            "grid_template_areas": null,
            "grid_template_columns": null,
            "grid_template_rows": null,
            "height": null,
            "justify_content": null,
            "justify_items": null,
            "left": null,
            "margin": null,
            "max_height": null,
            "max_width": null,
            "min_height": null,
            "min_width": null,
            "object_fit": null,
            "object_position": null,
            "order": null,
            "overflow": null,
            "overflow_x": null,
            "overflow_y": null,
            "padding": null,
            "right": null,
            "top": null,
            "visibility": null,
            "width": null
          }
        },
        "6d5649e68b1b48488ebd5ac2ccc762d0": {
          "model_module": "@jupyter-widgets/controls",
          "model_name": "DescriptionStyleModel",
          "model_module_version": "1.5.0",
          "state": {
            "_model_module": "@jupyter-widgets/controls",
            "_model_module_version": "1.5.0",
            "_model_name": "DescriptionStyleModel",
            "_view_count": null,
            "_view_module": "@jupyter-widgets/base",
            "_view_module_version": "1.2.0",
            "_view_name": "StyleView",
            "description_width": ""
          }
        },
        "5f633d309b504e58b8cd2421455bc000": {
          "model_module": "@jupyter-widgets/base",
          "model_name": "LayoutModel",
          "model_module_version": "1.2.0",
          "state": {
            "_model_module": "@jupyter-widgets/base",
            "_model_module_version": "1.2.0",
            "_model_name": "LayoutModel",
            "_view_count": null,
            "_view_module": "@jupyter-widgets/base",
            "_view_module_version": "1.2.0",
            "_view_name": "LayoutView",
            "align_content": null,
            "align_items": null,
            "align_self": null,
            "border": null,
            "bottom": null,
            "display": null,
            "flex": null,
            "flex_flow": null,
            "grid_area": null,
            "grid_auto_columns": null,
            "grid_auto_flow": null,
            "grid_auto_rows": null,
            "grid_column": null,
            "grid_gap": null,
            "grid_row": null,
            "grid_template_areas": null,
            "grid_template_columns": null,
            "grid_template_rows": null,
            "height": null,
            "justify_content": null,
            "justify_items": null,
            "left": null,
            "margin": null,
            "max_height": null,
            "max_width": null,
            "min_height": null,
            "min_width": null,
            "object_fit": null,
            "object_position": null,
            "order": null,
            "overflow": null,
            "overflow_x": null,
            "overflow_y": null,
            "padding": null,
            "right": null,
            "top": null,
            "visibility": null,
            "width": null
          }
        },
        "807cc3c8e5df47b5902af231b01aad97": {
          "model_module": "@jupyter-widgets/controls",
          "model_name": "ProgressStyleModel",
          "model_module_version": "1.5.0",
          "state": {
            "_model_module": "@jupyter-widgets/controls",
            "_model_module_version": "1.5.0",
            "_model_name": "ProgressStyleModel",
            "_view_count": null,
            "_view_module": "@jupyter-widgets/base",
            "_view_module_version": "1.2.0",
            "_view_name": "StyleView",
            "bar_color": null,
            "description_width": ""
          }
        },
        "30c14d22799543fd9179ce5eb17f8350": {
          "model_module": "@jupyter-widgets/base",
          "model_name": "LayoutModel",
          "model_module_version": "1.2.0",
          "state": {
            "_model_module": "@jupyter-widgets/base",
            "_model_module_version": "1.2.0",
            "_model_name": "LayoutModel",
            "_view_count": null,
            "_view_module": "@jupyter-widgets/base",
            "_view_module_version": "1.2.0",
            "_view_name": "LayoutView",
            "align_content": null,
            "align_items": null,
            "align_self": null,
            "border": null,
            "bottom": null,
            "display": null,
            "flex": null,
            "flex_flow": null,
            "grid_area": null,
            "grid_auto_columns": null,
            "grid_auto_flow": null,
            "grid_auto_rows": null,
            "grid_column": null,
            "grid_gap": null,
            "grid_row": null,
            "grid_template_areas": null,
            "grid_template_columns": null,
            "grid_template_rows": null,
            "height": null,
            "justify_content": null,
            "justify_items": null,
            "left": null,
            "margin": null,
            "max_height": null,
            "max_width": null,
            "min_height": null,
            "min_width": null,
            "object_fit": null,
            "object_position": null,
            "order": null,
            "overflow": null,
            "overflow_x": null,
            "overflow_y": null,
            "padding": null,
            "right": null,
            "top": null,
            "visibility": null,
            "width": null
          }
        },
        "1e446b4dea59450da332d21ac65c2418": {
          "model_module": "@jupyter-widgets/controls",
          "model_name": "DescriptionStyleModel",
          "model_module_version": "1.5.0",
          "state": {
            "_model_module": "@jupyter-widgets/controls",
            "_model_module_version": "1.5.0",
            "_model_name": "DescriptionStyleModel",
            "_view_count": null,
            "_view_module": "@jupyter-widgets/base",
            "_view_module_version": "1.2.0",
            "_view_name": "StyleView",
            "description_width": ""
          }
        },
        "f85c380ed1e1443c870c139c598119e2": {
          "model_module": "@jupyter-widgets/controls",
          "model_name": "HBoxModel",
          "model_module_version": "1.5.0",
          "state": {
            "_dom_classes": [],
            "_model_module": "@jupyter-widgets/controls",
            "_model_module_version": "1.5.0",
            "_model_name": "HBoxModel",
            "_view_count": null,
            "_view_module": "@jupyter-widgets/controls",
            "_view_module_version": "1.5.0",
            "_view_name": "HBoxView",
            "box_style": "",
            "children": [
              "IPY_MODEL_2df42ddd2bf64126a00194413764dcac",
              "IPY_MODEL_7838d41186514d508abea617eb1ffeb5",
              "IPY_MODEL_5a986545fa3e41f298b85dff427d82f7"
            ],
            "layout": "IPY_MODEL_db5d43007ceb439c99e54da958c55247"
          }
        },
        "2df42ddd2bf64126a00194413764dcac": {
          "model_module": "@jupyter-widgets/controls",
          "model_name": "HTMLModel",
          "model_module_version": "1.5.0",
          "state": {
            "_dom_classes": [],
            "_model_module": "@jupyter-widgets/controls",
            "_model_module_version": "1.5.0",
            "_model_name": "HTMLModel",
            "_view_count": null,
            "_view_module": "@jupyter-widgets/controls",
            "_view_module_version": "1.5.0",
            "_view_name": "HTMLView",
            "description": "",
            "description_tooltip": null,
            "layout": "IPY_MODEL_c35c664759cb4fe3bd5eb666ebf3628e",
            "placeholder": "​",
            "style": "IPY_MODEL_dae807902e984aacb156c8e2c5516d76",
            "value": "Map: 100%"
          }
        },
        "7838d41186514d508abea617eb1ffeb5": {
          "model_module": "@jupyter-widgets/controls",
          "model_name": "FloatProgressModel",
          "model_module_version": "1.5.0",
          "state": {
            "_dom_classes": [],
            "_model_module": "@jupyter-widgets/controls",
            "_model_module_version": "1.5.0",
            "_model_name": "FloatProgressModel",
            "_view_count": null,
            "_view_module": "@jupyter-widgets/controls",
            "_view_module_version": "1.5.0",
            "_view_name": "ProgressView",
            "bar_style": "success",
            "description": "",
            "description_tooltip": null,
            "layout": "IPY_MODEL_c24e6b43e4c8450791a45db0feddcd22",
            "max": 41157,
            "min": 0,
            "orientation": "horizontal",
            "style": "IPY_MODEL_f2894215d26b4d0ea5a47690fef64667",
            "value": 41157
          }
        },
        "5a986545fa3e41f298b85dff427d82f7": {
          "model_module": "@jupyter-widgets/controls",
          "model_name": "HTMLModel",
          "model_module_version": "1.5.0",
          "state": {
            "_dom_classes": [],
            "_model_module": "@jupyter-widgets/controls",
            "_model_module_version": "1.5.0",
            "_model_name": "HTMLModel",
            "_view_count": null,
            "_view_module": "@jupyter-widgets/controls",
            "_view_module_version": "1.5.0",
            "_view_name": "HTMLView",
            "description": "",
            "description_tooltip": null,
            "layout": "IPY_MODEL_be813f7be7ef43c588475e5b3d9f8631",
            "placeholder": "​",
            "style": "IPY_MODEL_16b8b1f2b306491da4d5b0cf9d2228d0",
            "value": " 41157/41157 [00:02&lt;00:00, 20004.86 examples/s]"
          }
        },
        "db5d43007ceb439c99e54da958c55247": {
          "model_module": "@jupyter-widgets/base",
          "model_name": "LayoutModel",
          "model_module_version": "1.2.0",
          "state": {
            "_model_module": "@jupyter-widgets/base",
            "_model_module_version": "1.2.0",
            "_model_name": "LayoutModel",
            "_view_count": null,
            "_view_module": "@jupyter-widgets/base",
            "_view_module_version": "1.2.0",
            "_view_name": "LayoutView",
            "align_content": null,
            "align_items": null,
            "align_self": null,
            "border": null,
            "bottom": null,
            "display": null,
            "flex": null,
            "flex_flow": null,
            "grid_area": null,
            "grid_auto_columns": null,
            "grid_auto_flow": null,
            "grid_auto_rows": null,
            "grid_column": null,
            "grid_gap": null,
            "grid_row": null,
            "grid_template_areas": null,
            "grid_template_columns": null,
            "grid_template_rows": null,
            "height": null,
            "justify_content": null,
            "justify_items": null,
            "left": null,
            "margin": null,
            "max_height": null,
            "max_width": null,
            "min_height": null,
            "min_width": null,
            "object_fit": null,
            "object_position": null,
            "order": null,
            "overflow": null,
            "overflow_x": null,
            "overflow_y": null,
            "padding": null,
            "right": null,
            "top": null,
            "visibility": null,
            "width": null
          }
        },
        "c35c664759cb4fe3bd5eb666ebf3628e": {
          "model_module": "@jupyter-widgets/base",
          "model_name": "LayoutModel",
          "model_module_version": "1.2.0",
          "state": {
            "_model_module": "@jupyter-widgets/base",
            "_model_module_version": "1.2.0",
            "_model_name": "LayoutModel",
            "_view_count": null,
            "_view_module": "@jupyter-widgets/base",
            "_view_module_version": "1.2.0",
            "_view_name": "LayoutView",
            "align_content": null,
            "align_items": null,
            "align_self": null,
            "border": null,
            "bottom": null,
            "display": null,
            "flex": null,
            "flex_flow": null,
            "grid_area": null,
            "grid_auto_columns": null,
            "grid_auto_flow": null,
            "grid_auto_rows": null,
            "grid_column": null,
            "grid_gap": null,
            "grid_row": null,
            "grid_template_areas": null,
            "grid_template_columns": null,
            "grid_template_rows": null,
            "height": null,
            "justify_content": null,
            "justify_items": null,
            "left": null,
            "margin": null,
            "max_height": null,
            "max_width": null,
            "min_height": null,
            "min_width": null,
            "object_fit": null,
            "object_position": null,
            "order": null,
            "overflow": null,
            "overflow_x": null,
            "overflow_y": null,
            "padding": null,
            "right": null,
            "top": null,
            "visibility": null,
            "width": null
          }
        },
        "dae807902e984aacb156c8e2c5516d76": {
          "model_module": "@jupyter-widgets/controls",
          "model_name": "DescriptionStyleModel",
          "model_module_version": "1.5.0",
          "state": {
            "_model_module": "@jupyter-widgets/controls",
            "_model_module_version": "1.5.0",
            "_model_name": "DescriptionStyleModel",
            "_view_count": null,
            "_view_module": "@jupyter-widgets/base",
            "_view_module_version": "1.2.0",
            "_view_name": "StyleView",
            "description_width": ""
          }
        },
        "c24e6b43e4c8450791a45db0feddcd22": {
          "model_module": "@jupyter-widgets/base",
          "model_name": "LayoutModel",
          "model_module_version": "1.2.0",
          "state": {
            "_model_module": "@jupyter-widgets/base",
            "_model_module_version": "1.2.0",
            "_model_name": "LayoutModel",
            "_view_count": null,
            "_view_module": "@jupyter-widgets/base",
            "_view_module_version": "1.2.0",
            "_view_name": "LayoutView",
            "align_content": null,
            "align_items": null,
            "align_self": null,
            "border": null,
            "bottom": null,
            "display": null,
            "flex": null,
            "flex_flow": null,
            "grid_area": null,
            "grid_auto_columns": null,
            "grid_auto_flow": null,
            "grid_auto_rows": null,
            "grid_column": null,
            "grid_gap": null,
            "grid_row": null,
            "grid_template_areas": null,
            "grid_template_columns": null,
            "grid_template_rows": null,
            "height": null,
            "justify_content": null,
            "justify_items": null,
            "left": null,
            "margin": null,
            "max_height": null,
            "max_width": null,
            "min_height": null,
            "min_width": null,
            "object_fit": null,
            "object_position": null,
            "order": null,
            "overflow": null,
            "overflow_x": null,
            "overflow_y": null,
            "padding": null,
            "right": null,
            "top": null,
            "visibility": null,
            "width": null
          }
        },
        "f2894215d26b4d0ea5a47690fef64667": {
          "model_module": "@jupyter-widgets/controls",
          "model_name": "ProgressStyleModel",
          "model_module_version": "1.5.0",
          "state": {
            "_model_module": "@jupyter-widgets/controls",
            "_model_module_version": "1.5.0",
            "_model_name": "ProgressStyleModel",
            "_view_count": null,
            "_view_module": "@jupyter-widgets/base",
            "_view_module_version": "1.2.0",
            "_view_name": "StyleView",
            "bar_color": null,
            "description_width": ""
          }
        },
        "be813f7be7ef43c588475e5b3d9f8631": {
          "model_module": "@jupyter-widgets/base",
          "model_name": "LayoutModel",
          "model_module_version": "1.2.0",
          "state": {
            "_model_module": "@jupyter-widgets/base",
            "_model_module_version": "1.2.0",
            "_model_name": "LayoutModel",
            "_view_count": null,
            "_view_module": "@jupyter-widgets/base",
            "_view_module_version": "1.2.0",
            "_view_name": "LayoutView",
            "align_content": null,
            "align_items": null,
            "align_self": null,
            "border": null,
            "bottom": null,
            "display": null,
            "flex": null,
            "flex_flow": null,
            "grid_area": null,
            "grid_auto_columns": null,
            "grid_auto_flow": null,
            "grid_auto_rows": null,
            "grid_column": null,
            "grid_gap": null,
            "grid_row": null,
            "grid_template_areas": null,
            "grid_template_columns": null,
            "grid_template_rows": null,
            "height": null,
            "justify_content": null,
            "justify_items": null,
            "left": null,
            "margin": null,
            "max_height": null,
            "max_width": null,
            "min_height": null,
            "min_width": null,
            "object_fit": null,
            "object_position": null,
            "order": null,
            "overflow": null,
            "overflow_x": null,
            "overflow_y": null,
            "padding": null,
            "right": null,
            "top": null,
            "visibility": null,
            "width": null
          }
        },
        "16b8b1f2b306491da4d5b0cf9d2228d0": {
          "model_module": "@jupyter-widgets/controls",
          "model_name": "DescriptionStyleModel",
          "model_module_version": "1.5.0",
          "state": {
            "_model_module": "@jupyter-widgets/controls",
            "_model_module_version": "1.5.0",
            "_model_name": "DescriptionStyleModel",
            "_view_count": null,
            "_view_module": "@jupyter-widgets/base",
            "_view_module_version": "1.2.0",
            "_view_name": "StyleView",
            "description_width": ""
          }
        },
        "032a29b8ac144fcdb8449bde6f58f887": {
          "model_module": "@jupyter-widgets/controls",
          "model_name": "HBoxModel",
          "model_module_version": "1.5.0",
          "state": {
            "_dom_classes": [],
            "_model_module": "@jupyter-widgets/controls",
            "_model_module_version": "1.5.0",
            "_model_name": "HBoxModel",
            "_view_count": null,
            "_view_module": "@jupyter-widgets/controls",
            "_view_module_version": "1.5.0",
            "_view_name": "HBoxView",
            "box_style": "",
            "children": [
              "IPY_MODEL_ad7ed35b6a4e49ff9dc91a469c5af9a1",
              "IPY_MODEL_0afcb0d590064ff59d63a618d48c25c1",
              "IPY_MODEL_66d370460b18401eba81ed08d067f6d5"
            ],
            "layout": "IPY_MODEL_9067ab3172d74c5797e16d3a8a5aac6d"
          }
        },
        "ad7ed35b6a4e49ff9dc91a469c5af9a1": {
          "model_module": "@jupyter-widgets/controls",
          "model_name": "HTMLModel",
          "model_module_version": "1.5.0",
          "state": {
            "_dom_classes": [],
            "_model_module": "@jupyter-widgets/controls",
            "_model_module_version": "1.5.0",
            "_model_name": "HTMLModel",
            "_view_count": null,
            "_view_module": "@jupyter-widgets/controls",
            "_view_module_version": "1.5.0",
            "_view_name": "HTMLView",
            "description": "",
            "description_tooltip": null,
            "layout": "IPY_MODEL_40ba58c6c60847fa91f7411fcd6e5bed",
            "placeholder": "​",
            "style": "IPY_MODEL_ac2a67bbaba948029d78bb46cbb60c84",
            "value": "Map: 100%"
          }
        },
        "0afcb0d590064ff59d63a618d48c25c1": {
          "model_module": "@jupyter-widgets/controls",
          "model_name": "FloatProgressModel",
          "model_module_version": "1.5.0",
          "state": {
            "_dom_classes": [],
            "_model_module": "@jupyter-widgets/controls",
            "_model_module_version": "1.5.0",
            "_model_name": "FloatProgressModel",
            "_view_count": null,
            "_view_module": "@jupyter-widgets/controls",
            "_view_module_version": "1.5.0",
            "_view_name": "ProgressView",
            "bar_style": "success",
            "description": "",
            "description_tooltip": null,
            "layout": "IPY_MODEL_8d603b472fb54adaa32949845ef8ba03",
            "max": 3798,
            "min": 0,
            "orientation": "horizontal",
            "style": "IPY_MODEL_bae232dd0a6642a8993a9c2b464214b2",
            "value": 3798
          }
        },
        "66d370460b18401eba81ed08d067f6d5": {
          "model_module": "@jupyter-widgets/controls",
          "model_name": "HTMLModel",
          "model_module_version": "1.5.0",
          "state": {
            "_dom_classes": [],
            "_model_module": "@jupyter-widgets/controls",
            "_model_module_version": "1.5.0",
            "_model_name": "HTMLModel",
            "_view_count": null,
            "_view_module": "@jupyter-widgets/controls",
            "_view_module_version": "1.5.0",
            "_view_name": "HTMLView",
            "description": "",
            "description_tooltip": null,
            "layout": "IPY_MODEL_dfe3ad32354f46caa74d472660be5849",
            "placeholder": "​",
            "style": "IPY_MODEL_eab3960755724db7a73c10204bb2c591",
            "value": " 3798/3798 [00:00&lt;00:00, 16513.56 examples/s]"
          }
        },
        "9067ab3172d74c5797e16d3a8a5aac6d": {
          "model_module": "@jupyter-widgets/base",
          "model_name": "LayoutModel",
          "model_module_version": "1.2.0",
          "state": {
            "_model_module": "@jupyter-widgets/base",
            "_model_module_version": "1.2.0",
            "_model_name": "LayoutModel",
            "_view_count": null,
            "_view_module": "@jupyter-widgets/base",
            "_view_module_version": "1.2.0",
            "_view_name": "LayoutView",
            "align_content": null,
            "align_items": null,
            "align_self": null,
            "border": null,
            "bottom": null,
            "display": null,
            "flex": null,
            "flex_flow": null,
            "grid_area": null,
            "grid_auto_columns": null,
            "grid_auto_flow": null,
            "grid_auto_rows": null,
            "grid_column": null,
            "grid_gap": null,
            "grid_row": null,
            "grid_template_areas": null,
            "grid_template_columns": null,
            "grid_template_rows": null,
            "height": null,
            "justify_content": null,
            "justify_items": null,
            "left": null,
            "margin": null,
            "max_height": null,
            "max_width": null,
            "min_height": null,
            "min_width": null,
            "object_fit": null,
            "object_position": null,
            "order": null,
            "overflow": null,
            "overflow_x": null,
            "overflow_y": null,
            "padding": null,
            "right": null,
            "top": null,
            "visibility": null,
            "width": null
          }
        },
        "40ba58c6c60847fa91f7411fcd6e5bed": {
          "model_module": "@jupyter-widgets/base",
          "model_name": "LayoutModel",
          "model_module_version": "1.2.0",
          "state": {
            "_model_module": "@jupyter-widgets/base",
            "_model_module_version": "1.2.0",
            "_model_name": "LayoutModel",
            "_view_count": null,
            "_view_module": "@jupyter-widgets/base",
            "_view_module_version": "1.2.0",
            "_view_name": "LayoutView",
            "align_content": null,
            "align_items": null,
            "align_self": null,
            "border": null,
            "bottom": null,
            "display": null,
            "flex": null,
            "flex_flow": null,
            "grid_area": null,
            "grid_auto_columns": null,
            "grid_auto_flow": null,
            "grid_auto_rows": null,
            "grid_column": null,
            "grid_gap": null,
            "grid_row": null,
            "grid_template_areas": null,
            "grid_template_columns": null,
            "grid_template_rows": null,
            "height": null,
            "justify_content": null,
            "justify_items": null,
            "left": null,
            "margin": null,
            "max_height": null,
            "max_width": null,
            "min_height": null,
            "min_width": null,
            "object_fit": null,
            "object_position": null,
            "order": null,
            "overflow": null,
            "overflow_x": null,
            "overflow_y": null,
            "padding": null,
            "right": null,
            "top": null,
            "visibility": null,
            "width": null
          }
        },
        "ac2a67bbaba948029d78bb46cbb60c84": {
          "model_module": "@jupyter-widgets/controls",
          "model_name": "DescriptionStyleModel",
          "model_module_version": "1.5.0",
          "state": {
            "_model_module": "@jupyter-widgets/controls",
            "_model_module_version": "1.5.0",
            "_model_name": "DescriptionStyleModel",
            "_view_count": null,
            "_view_module": "@jupyter-widgets/base",
            "_view_module_version": "1.2.0",
            "_view_name": "StyleView",
            "description_width": ""
          }
        },
        "8d603b472fb54adaa32949845ef8ba03": {
          "model_module": "@jupyter-widgets/base",
          "model_name": "LayoutModel",
          "model_module_version": "1.2.0",
          "state": {
            "_model_module": "@jupyter-widgets/base",
            "_model_module_version": "1.2.0",
            "_model_name": "LayoutModel",
            "_view_count": null,
            "_view_module": "@jupyter-widgets/base",
            "_view_module_version": "1.2.0",
            "_view_name": "LayoutView",
            "align_content": null,
            "align_items": null,
            "align_self": null,
            "border": null,
            "bottom": null,
            "display": null,
            "flex": null,
            "flex_flow": null,
            "grid_area": null,
            "grid_auto_columns": null,
            "grid_auto_flow": null,
            "grid_auto_rows": null,
            "grid_column": null,
            "grid_gap": null,
            "grid_row": null,
            "grid_template_areas": null,
            "grid_template_columns": null,
            "grid_template_rows": null,
            "height": null,
            "justify_content": null,
            "justify_items": null,
            "left": null,
            "margin": null,
            "max_height": null,
            "max_width": null,
            "min_height": null,
            "min_width": null,
            "object_fit": null,
            "object_position": null,
            "order": null,
            "overflow": null,
            "overflow_x": null,
            "overflow_y": null,
            "padding": null,
            "right": null,
            "top": null,
            "visibility": null,
            "width": null
          }
        },
        "bae232dd0a6642a8993a9c2b464214b2": {
          "model_module": "@jupyter-widgets/controls",
          "model_name": "ProgressStyleModel",
          "model_module_version": "1.5.0",
          "state": {
            "_model_module": "@jupyter-widgets/controls",
            "_model_module_version": "1.5.0",
            "_model_name": "ProgressStyleModel",
            "_view_count": null,
            "_view_module": "@jupyter-widgets/base",
            "_view_module_version": "1.2.0",
            "_view_name": "StyleView",
            "bar_color": null,
            "description_width": ""
          }
        },
        "dfe3ad32354f46caa74d472660be5849": {
          "model_module": "@jupyter-widgets/base",
          "model_name": "LayoutModel",
          "model_module_version": "1.2.0",
          "state": {
            "_model_module": "@jupyter-widgets/base",
            "_model_module_version": "1.2.0",
            "_model_name": "LayoutModel",
            "_view_count": null,
            "_view_module": "@jupyter-widgets/base",
            "_view_module_version": "1.2.0",
            "_view_name": "LayoutView",
            "align_content": null,
            "align_items": null,
            "align_self": null,
            "border": null,
            "bottom": null,
            "display": null,
            "flex": null,
            "flex_flow": null,
            "grid_area": null,
            "grid_auto_columns": null,
            "grid_auto_flow": null,
            "grid_auto_rows": null,
            "grid_column": null,
            "grid_gap": null,
            "grid_row": null,
            "grid_template_areas": null,
            "grid_template_columns": null,
            "grid_template_rows": null,
            "height": null,
            "justify_content": null,
            "justify_items": null,
            "left": null,
            "margin": null,
            "max_height": null,
            "max_width": null,
            "min_height": null,
            "min_width": null,
            "object_fit": null,
            "object_position": null,
            "order": null,
            "overflow": null,
            "overflow_x": null,
            "overflow_y": null,
            "padding": null,
            "right": null,
            "top": null,
            "visibility": null,
            "width": null
          }
        },
        "eab3960755724db7a73c10204bb2c591": {
          "model_module": "@jupyter-widgets/controls",
          "model_name": "DescriptionStyleModel",
          "model_module_version": "1.5.0",
          "state": {
            "_model_module": "@jupyter-widgets/controls",
            "_model_module_version": "1.5.0",
            "_model_name": "DescriptionStyleModel",
            "_view_count": null,
            "_view_module": "@jupyter-widgets/base",
            "_view_module_version": "1.2.0",
            "_view_name": "StyleView",
            "description_width": ""
          }
        }
      }
    }
  },
  "nbformat": 4,
  "nbformat_minor": 5
}