{
  "cells": [
    {
      "cell_type": "markdown",
      "metadata": {
        "id": "view-in-github",
        "colab_type": "text"
      },
      "source": [
        "<a href=\"https://colab.research.google.com/github/Hillascher5/nlp-tweets-sentiment-analysis/blob/main/Text_Classification_Tweets_Sentiment_no_eda.ipynb\" target=\"_parent\"><img src=\"https://colab.research.google.com/assets/colab-badge.svg\" alt=\"Open In Colab\"/></a>"
      ]
    },
    {
      "cell_type": "markdown",
      "id": "fd1db53d",
      "metadata": {
        "id": "fd1db53d"
      },
      "source": [
        "## **NLP - Text Classification Project**\n",
        "Group H - August 2025"
      ]
    },
    {
      "cell_type": "markdown",
      "id": "0e39c64d",
      "metadata": {
        "id": "0e39c64d"
      },
      "source": [
        "Classification of tweets from Twitter that have been manually tagged for sentiment analysis."
      ]
    },
    {
      "cell_type": "code",
      "source": [
        "# # Needed for Google Colab\n",
        "# !pip install --quiet evaluate transformers optuna datasets nltk scikit-learn\n",
        "# !pip install numpy==1.26.4"
      ],
      "metadata": {
        "id": "MdWj5rFhiNYR"
      },
      "id": "MdWj5rFhiNYR",
      "execution_count": 71,
      "outputs": []
    },
    {
      "cell_type": "code",
      "execution_count": 72,
      "id": "01b425b0",
      "metadata": {
        "colab": {
          "base_uri": "https://localhost:8080/"
        },
        "id": "01b425b0",
        "outputId": "16884023-f5ee-4910-9658-269222eb67dd"
      },
      "outputs": [
        {
          "output_type": "stream",
          "name": "stdout",
          "text": [
            "env: CUDA_LAUNCH_BLOCKING=1\n"
          ]
        },
        {
          "output_type": "stream",
          "name": "stderr",
          "text": [
            "\u001b[34m\u001b[1mwandb\u001b[0m: \u001b[33mWARNING\u001b[0m Calling wandb.login() after wandb.init() has no effect.\n"
          ]
        },
        {
          "output_type": "stream",
          "name": "stdout",
          "text": [
            "Drive already mounted at /content/drive; to attempt to forcibly remount, call drive.mount(\"/content/drive\", force_remount=True).\n"
          ]
        },
        {
          "output_type": "stream",
          "name": "stderr",
          "text": [
            "[nltk_data] Downloading package stopwords to /root/nltk_data...\n",
            "[nltk_data]   Package stopwords is already up-to-date!\n",
            "[nltk_data] Downloading package wordnet to /root/nltk_data...\n",
            "[nltk_data]   Package wordnet is already up-to-date!\n",
            "[nltk_data] Downloading package omw-1.4 to /root/nltk_data...\n",
            "[nltk_data]   Package omw-1.4 is already up-to-date!\n"
          ]
        },
        {
          "output_type": "execute_result",
          "data": {
            "text/plain": [
              "True"
            ]
          },
          "metadata": {},
          "execution_count": 72
        }
      ],
      "source": [
        "%env CUDA_LAUNCH_BLOCKING=1\n",
        "\n",
        "from wordcloud import WordCloud, STOPWORDS\n",
        "from geopy.geocoders import Nominatim\n",
        "from geopy.exc import GeocoderTimedOut\n",
        "from tqdm import tqdm\n",
        "from collections import Counter\n",
        "from nltk.corpus import stopwords\n",
        "from sklearn.feature_extraction.text import CountVectorizer\n",
        "from sklearn.metrics import accuracy_score, classification_report\n",
        "from sklearn.model_selection import train_test_split\n",
        "from nltk.stem import WordNetLemmatizer\n",
        "from transformers import AutoTokenizer, AutoModelForSequenceClassification, DataCollatorWithPadding, TrainingArguments, Trainer\n",
        "from datasets import Dataset\n",
        "from optuna.pruners import MedianPruner\n",
        "from google.colab import drive\n",
        "drive.mount('/content/drive')\n",
        "\n",
        "import pandas as pd\n",
        "import seaborn as sns\n",
        "import matplotlib.pyplot as plt\n",
        "import numpy as np\n",
        "import os\n",
        "import re\n",
        "import string\n",
        "import time\n",
        "import glob\n",
        "import nltk\n",
        "import evaluate\n",
        "import transformers\n",
        "import optuna\n",
        "import wandb\n",
        "wandb.login()\n",
        "\n",
        "os.environ[\"WANDB_PROJECT\"] = \"tweet-sentiment-classification\"\n",
        "os.environ[\"WANDB_INIT_TIMEOUT\"] = \"180\"\n",
        "\n",
        "nltk.download('stopwords')\n",
        "nltk.download('wordnet')\n",
        "nltk.download('omw-1.4')"
      ]
    },
    {
      "cell_type": "code",
      "execution_count": 73,
      "id": "862fa5f6",
      "metadata": {
        "id": "862fa5f6"
      },
      "outputs": [],
      "source": [
        "# Load data\n",
        "df_train = pd.read_csv('/content/drive/MyDrive/Colab Notebooks/nlp_project/Data/Corona_NLP_train.csv', encoding='latin1')\n",
        "df_val = pd.read_csv('/content/drive/MyDrive/Colab Notebooks/nlp_project/Data/Corona_NLP_test.csv', encoding='latin1')"
      ]
    },
    {
      "cell_type": "markdown",
      "id": "bfa38e28",
      "metadata": {
        "id": "bfa38e28"
      },
      "source": [
        "### Pre-processing the Data\n",
        "\n",
        "The tweets were cleaned by lowercasing (to reduce redundancy), removing stopwords, punctuation, numbers, short words, and applying lemmatization to reduce words to their base form (e.g. running → run). <br>This helps reduce noise and improve model performance.\n"
      ]
    },
    {
      "cell_type": "code",
      "execution_count": 74,
      "id": "ab93defa",
      "metadata": {
        "id": "ab93defa"
      },
      "outputs": [],
      "source": [
        "# # Try agressive pre-processing\n",
        "# lemmatizer = WordNetLemmatizer()\n",
        "\n",
        "# def preprocess_text(text):\n",
        "#     text = str(text).lower()\n",
        "#     text = re.sub(r\"http\\S+|www.\\S+\", \"\", text)              # Remove URLs\n",
        "#     text = re.sub(r\"[^a-z\\s]\", \"\", text)                     # Remove punctuation & numbers\n",
        "#     tokens = text.split()\n",
        "#     tokens = [\n",
        "#         lemmatizer.lemmatize(word)\n",
        "#         for word in tokens\n",
        "#         if word not in stop_words\n",
        "#         and word not in domain_stopwords\n",
        "#         and len(word) > 2\n",
        "#     ]\n",
        "#     return \" \".join(tokens)\n",
        "\n",
        "# df_train[\"clean_text\"] = df_train[\"OriginalTweet\"].apply(preprocess_text)\n",
        "# df_val[\"clean_text\"] = df_val[\"OriginalTweet\"].apply(preprocess_text)"
      ]
    },
    {
      "cell_type": "code",
      "source": [
        "# # Try lighter preprocessing\n",
        "# def light_preprocess(text):\n",
        "#     text = re.sub(r\"http\\S+|www.\\S+\", \"\", text)   # Remove URLs\n",
        "#     text = re.sub(r\"@\\w+\", \"\", text)              # Remove @mentions\n",
        "#     text = re.sub(r\"#(\\w+)\", r\"\\1\", text)         # Unwrap hashtags\n",
        "#     return text.strip()\n",
        "#\n",
        "# df_train[\"clean_text\"] = df_train[\"OriginalTweet\"].apply(light_preprocess)\n",
        "# df_val[\"clean_text\"] = df_val[\"OriginalTweet\"].apply(light_preprocess)"
      ],
      "metadata": {
        "id": "CQFqLTPYEGMt"
      },
      "id": "CQFqLTPYEGMt",
      "execution_count": 75,
      "outputs": []
    },
    {
      "cell_type": "code",
      "source": [
        "# Try without pre-processing\n",
        "df_train[\"clean_text\"] = df_train[\"OriginalTweet\"]\n",
        "df_val[\"clean_text\"] = df_val[\"OriginalTweet\"]"
      ],
      "metadata": {
        "id": "E0CCJPvOeOUL"
      },
      "id": "E0CCJPvOeOUL",
      "execution_count": 76,
      "outputs": []
    },
    {
      "cell_type": "markdown",
      "id": "09004284",
      "metadata": {
        "id": "09004284"
      },
      "source": [
        "## Fine-Tuning Pretrained Language Models\n",
        "\n",
        "Apply NLP techniques using transfer learning on our tweets dataset. Specifically, fine-tuning two pretrained transformer-based models from the Hugging Face library — BERT and RoBERTa — on our sentiment classification task. These models will be trained using both standard PyTorch and the Hugging Face API. Model performance will be monitored and tuned using hyperparameter optimization (Optuna) and experiment tracking (Weights & Biases)."
      ]
    },
    {
      "cell_type": "markdown",
      "id": "f150169f",
      "metadata": {
        "id": "f150169f"
      },
      "source": [
        "**Load Pretrained Models**\n",
        "\n",
        "Initialize tokenizers and models for BERT and RoBERTa, both widely used transformer architectures for text classification. The classification head is configured based on the number of sentiment labels."
      ]
    },
    {
      "cell_type": "code",
      "execution_count": 77,
      "id": "eaa45887",
      "metadata": {
        "colab": {
          "base_uri": "https://localhost:8080/"
        },
        "id": "eaa45887",
        "outputId": "605dbf45-c65a-414a-df74-ce3642ea8168"
      },
      "outputs": [
        {
          "output_type": "stream",
          "name": "stderr",
          "text": [
            "Some weights of BertForSequenceClassification were not initialized from the model checkpoint at bert-base-uncased and are newly initialized: ['classifier.bias', 'classifier.weight']\n",
            "You should probably TRAIN this model on a down-stream task to be able to use it for predictions and inference.\n",
            "Some weights of RobertaForSequenceClassification were not initialized from the model checkpoint at roberta-base and are newly initialized: ['classifier.dense.bias', 'classifier.dense.weight', 'classifier.out_proj.bias', 'classifier.out_proj.weight']\n",
            "You should probably TRAIN this model on a down-stream task to be able to use it for predictions and inference.\n"
          ]
        }
      ],
      "source": [
        "# Choose pretrained models\n",
        "bert_model_name = \"bert-base-uncased\"\n",
        "roberta_model_name = \"roberta-base\"\n",
        "\n",
        "sentiment_labels = df_train['Sentiment'].unique()\n",
        "n_labels = len(sentiment_labels)\n",
        "\n",
        "# Load BERT tokenizer and model\n",
        "bert_tokenizer = AutoTokenizer.from_pretrained(bert_model_name)\n",
        "bert_model = AutoModelForSequenceClassification.from_pretrained(bert_model_name, num_labels=n_labels)\n",
        "\n",
        "# Load RoBERTa tokenizer and model\n",
        "roberta_tokenizer = AutoTokenizer.from_pretrained(roberta_model_name)\n",
        "roberta_model = AutoModelForSequenceClassification.from_pretrained(roberta_model_name, num_labels=n_labels)"
      ]
    },
    {
      "cell_type": "markdown",
      "id": "51f221d5",
      "metadata": {
        "id": "51f221d5"
      },
      "source": [
        "**Encode Sentiment Labels**\n",
        "\n",
        "Map each unique sentiment label to a numeric ID for model compatibility, and apply this mapping to both training and validation datasets."
      ]
    },
    {
      "cell_type": "code",
      "execution_count": 78,
      "id": "b2e31c36",
      "metadata": {
        "id": "b2e31c36"
      },
      "outputs": [],
      "source": [
        "# Mapping sentiments to unique numeric IDs\n",
        "unique_labels = sorted(df_train[\"Sentiment\"].unique())\n",
        "\n",
        "label2id = {label: idx for idx, label in enumerate(unique_labels)}\n",
        "id2label = {idx: label for label, idx in label2id.items()}\n",
        "\n",
        "df_train[\"label\"] = df_train[\"Sentiment\"].map(label2id)\n",
        "df_val[\"label\"] = df_val[\"Sentiment\"].map(label2id)"
      ]
    },
    {
      "cell_type": "code",
      "source": [
        "# Create stratified subset for Optuna\n",
        "train_subset_df, _ = train_test_split(\n",
        "    df_train[[\"clean_text\", \"label\"]],\n",
        "    train_size=2000,\n",
        "    stratify=df_train[\"label\"],\n",
        "    random_state=42\n",
        "    )\n",
        "val_subset_df, _ = train_test_split(\n",
        "    df_val[[\"clean_text\", \"label\"]],\n",
        "    train_size=500,\n",
        "    stratify=df_val[\"label\"],\n",
        "    random_state=42\n",
        "    )"
      ],
      "metadata": {
        "id": "xRmOeAQKdptn"
      },
      "id": "xRmOeAQKdptn",
      "execution_count": 79,
      "outputs": []
    },
    {
      "cell_type": "markdown",
      "id": "92b74ad6",
      "metadata": {
        "id": "92b74ad6"
      },
      "source": [
        "**Tokenization**\n",
        "\n",
        "Define tokenization functions for BERT and RoBERTa to preprocess text with truncation and fixed padding.\n",
        "\n",
        "Transform training and validation DataFrames into Dataset objects compatible with Hugging Face workflows.\n",
        "\n",
        "Apply tokenization to training and validation datasets using each model's tokenizer."
      ]
    },
    {
      "cell_type": "code",
      "execution_count": 80,
      "id": "dcb7752d",
      "metadata": {
        "id": "dcb7752d"
      },
      "outputs": [],
      "source": [
        "# Tokenize function\n",
        "def tokenize_function_bert(examples):\n",
        "    return bert_tokenizer(examples[\"clean_text\"], truncation=True, padding='max_length', max_length=64)\n",
        "\n",
        "def tokenize_function_roberta(examples):\n",
        "    return roberta_tokenizer(examples[\"clean_text\"], truncation=True, padding='max_length', max_length=64)"
      ]
    },
    {
      "cell_type": "code",
      "execution_count": 81,
      "id": "7d9f44db",
      "metadata": {
        "id": "7d9f44db"
      },
      "outputs": [],
      "source": [
        "# Convert DataFrame to Hugging Face Dataset\n",
        "hf_dataset_train = Dataset.from_pandas(df_train[[\"clean_text\", \"label\"]])\n",
        "hf_dataset_val = Dataset.from_pandas(df_val[[\"clean_text\", \"label\"]])\n",
        "\n",
        "hf_subset_train = Dataset.from_pandas(train_subset_df)\n",
        "hf_subset_val = Dataset.from_pandas(val_subset_df)"
      ]
    },
    {
      "cell_type": "code",
      "execution_count": 82,
      "id": "46d7765e",
      "metadata": {
        "colab": {
          "base_uri": "https://localhost:8080/",
          "height": 145,
          "referenced_widgets": [
            "a814dd3ac07743c7929ff84ea4f3b760",
            "b975beecbe194fa9a7fc561d8ba764e8",
            "8dac41efefe44aaf8d381d3ef451bd0f",
            "e42d5fcfca46456aa3bb0f086aa8bfea",
            "fcc467ff26264e6cb90aad2da1f2e9bf",
            "5ce8a6b948f347e294021bd2f155c40f",
            "b8ff6bc20d734a6f80ad4e0ac77284e7",
            "9e7d7993eb0749689a106e0e04cbf935",
            "1853e092154f4168b55e578521ec7bfc",
            "9b096919021c4845bfbbb1d28a401f55",
            "3784a34da8d646c9b0a9d61f0137a227",
            "588054b1929549b280e3194e2f403014",
            "97dc22e76f8142beb5b9b3580b081c26",
            "3034741a3e2e4d518648f1c1d0bcefa3",
            "124fafbdb5604ad38ed9bc33542b3b43",
            "3366e67f85aa4dbdb697ee1fe6163dd3",
            "76e08ea3751f4b9bbcaf140c2c0edc70",
            "a45e75ed999a4bd8b9cafe5366f15a6a",
            "ea963a9429974e3380aa1350b3efc599",
            "dd74d6bfa6d94999822e8ff350e898eb",
            "40f94c84cc16458f80ba0fbeba77ca9d",
            "c39639af9e4a42dda13d356c676ebed1",
            "18ccf6f103984aa1af3e1bb9fc75b784",
            "1bfd94f468e84aed8116e45afe814a44",
            "48dcfeddf3d84c5092f41a7e3ea02a92",
            "f85531f3191c4d34bce0f7289c089f12",
            "39825b2baaab489b9dc78f9d78d091d0",
            "613ad2579c0a402e836105156c63eb2e",
            "22c381efe12044caa4784180dd8bb532",
            "339c9c4ef9a44e3da3c1b4dfaf7f531b",
            "8a1a545680e74ca2b9bc66e7bef86758",
            "ef2ca3fe9ba84e37b1cefb5344377f19",
            "e79cfc2bc22b4d2884a6b59661332a99",
            "217cb232c12549189aa642ee862985ea",
            "ea3a75df4ee5472a9315123343b16de1",
            "758f2fa2dd3d4765b0a5ef8ecebb920c",
            "ac4376d1bbe74fa4a928bc72a2cc5410",
            "af2892f43502416fb671e1d4d1ed47a5",
            "edbf8af993ae4a5a84f59ea583ce6d25",
            "9530c66303df49e7b2c1a02138627846",
            "a6e18804490f4efb9d64b850da42a077",
            "cae79b190cd04ea4ad98b716b9c4eab6",
            "96f1a81fcfcc44cb9af53e2a5f1757af",
            "db2303fafa494bd2b046399317194417"
          ]
        },
        "id": "46d7765e",
        "outputId": "03ce84fb-efac-47e2-8ba2-e41bb1d3bf46"
      },
      "outputs": [
        {
          "output_type": "display_data",
          "data": {
            "text/plain": [
              "Map:   0%|          | 0/2000 [00:00<?, ? examples/s]"
            ],
            "application/vnd.jupyter.widget-view+json": {
              "version_major": 2,
              "version_minor": 0,
              "model_id": "a814dd3ac07743c7929ff84ea4f3b760"
            }
          },
          "metadata": {}
        },
        {
          "output_type": "display_data",
          "data": {
            "text/plain": [
              "Map:   0%|          | 0/500 [00:00<?, ? examples/s]"
            ],
            "application/vnd.jupyter.widget-view+json": {
              "version_major": 2,
              "version_minor": 0,
              "model_id": "588054b1929549b280e3194e2f403014"
            }
          },
          "metadata": {}
        },
        {
          "output_type": "display_data",
          "data": {
            "text/plain": [
              "Map:   0%|          | 0/2000 [00:00<?, ? examples/s]"
            ],
            "application/vnd.jupyter.widget-view+json": {
              "version_major": 2,
              "version_minor": 0,
              "model_id": "18ccf6f103984aa1af3e1bb9fc75b784"
            }
          },
          "metadata": {}
        },
        {
          "output_type": "display_data",
          "data": {
            "text/plain": [
              "Map:   0%|          | 0/500 [00:00<?, ? examples/s]"
            ],
            "application/vnd.jupyter.widget-view+json": {
              "version_major": 2,
              "version_minor": 0,
              "model_id": "217cb232c12549189aa642ee862985ea"
            }
          },
          "metadata": {}
        }
      ],
      "source": [
        "# Tokenize subsets\n",
        "# Tokenize for BERT\n",
        "tokenized_bert_train_sub = hf_subset_train.map(tokenize_function_bert, batched=True)\n",
        "tokenized_bert_train_sub.set_format(\"torch\", columns=[\"input_ids\", \"attention_mask\", \"label\"])\n",
        "\n",
        "tokenized_bert_val_sub = hf_subset_val.map(tokenize_function_bert, batched=True)\n",
        "tokenized_bert_val_sub.set_format(\"torch\", columns=[\"input_ids\", \"attention_mask\", \"label\"])\n",
        "\n",
        "# Tokenize for RoBERTa\n",
        "tokenized_roberta_train_sub = hf_subset_train.map(tokenize_function_roberta, batched=True)\n",
        "tokenized_roberta_train_sub.set_format(\"torch\", columns=[\"input_ids\", \"attention_mask\", \"label\"])\n",
        "\n",
        "tokenized_roberta_val_sub = hf_subset_val.map(tokenize_function_roberta, batched=True)\n",
        "tokenized_roberta_val_sub.set_format(\"torch\", columns=[\"input_ids\", \"attention_mask\", \"label\"])"
      ]
    },
    {
      "cell_type": "code",
      "source": [
        "# Tokenize full dataset\n",
        "# Tokenize for BERT\n",
        "tokenized_bert_train = hf_dataset_train.map(tokenize_function_bert, batched=True)\n",
        "tokenized_bert_train.set_format(\"torch\", columns=[\"input_ids\", \"attention_mask\", \"label\"])\n",
        "\n",
        "tokenized_bert_val = hf_dataset_val.map(tokenize_function_bert, batched=True)\n",
        "tokenized_bert_val.set_format(\"torch\", columns=[\"input_ids\", \"attention_mask\", \"label\"])\n",
        "\n",
        "# Tokenize for RoBERTa\n",
        "tokenized_roberta_train = hf_dataset_train.map(tokenize_function_roberta, batched=True)\n",
        "tokenized_roberta_train.set_format(\"torch\", columns=[\"input_ids\", \"attention_mask\", \"label\"])\n",
        "\n",
        "tokenized_roberta_val = hf_dataset_val.map(tokenize_function_roberta, batched=True)\n",
        "tokenized_roberta_val.set_format(\"torch\", columns=[\"input_ids\", \"attention_mask\", \"label\"])"
      ],
      "metadata": {
        "colab": {
          "base_uri": "https://localhost:8080/",
          "height": 145,
          "referenced_widgets": [
            "edfe6aa3d11d4684b7d5e7fe068d4671",
            "51104b85e84a47a497cfee0c34b57fed",
            "c4d07333de714294bc1c7c39b3e27788",
            "3df521b0b48943c691a1b829ae48930a",
            "46bd879fd2d7473ea759f96955266ec7",
            "c8a9abe74f8b49a0a4d15e01fcd25eaa",
            "d34ef56014744eae8b5ce80b09382441",
            "f5a8e1fe92944a09ae1f73a8e36f686e",
            "00190930f0a24a7aa376539255c8b8ff",
            "8d08305c6b134b6597f904bc5f0940c6",
            "812d046ad8884b279c80b8748480a0f9",
            "cbb160ce152b47d89a479cd7f67c9516",
            "9ece7ef850ae45fe9f3a5d4474adbb5d",
            "0fe6296249694bd887719554cff5706e",
            "96dee1a8118b44acb11c6291591cb956",
            "fc19301964f447aca1a228620c512a66",
            "94c44fd114ff48cb9f9d06bd32fa21fa",
            "9b082a2a866e4819b9a97278eca27341",
            "e22fde3c2ee342dd8ad4d197086c8008",
            "af80a0bdeb5348629bf584cb945e64f0",
            "2ccfc466b80341ad8cad38c3afb41c48",
            "7896516c30ab49108e9014fd826036b8",
            "f2a04dc1ca69442eb820a8acf16906aa",
            "8884a5b513cb402cac60a9069cebff74",
            "34705faa499a4dc4841aadcacda8c171",
            "b0067fe2fc5b4a6ea4567dae1de772a9",
            "97ba5edda16249b7b21efdf3b41881f5",
            "d9aab4eb32e046458a768e2c03d22913",
            "ff543fd1cea64e9482263cd6a2f7654d",
            "602bf7f7ad7046689b4ed6bbd13054dd",
            "91c5becb3d5f41cd818d3a79d889f7c7",
            "28d3d0b9f4744ed2b5bfaa441343b1fb",
            "c6c89a1968de4e3ab4b17e7ead8fd916",
            "e080a4caac9046b398b047c0599ea17c",
            "417eca9cff7c46cda0ab328703ad7dc5",
            "791f22603eac4c919824eb1941d2693c",
            "5a9405ed1cc3436c9e84ff23fad047b6",
            "5641af475fb74f339f9c015334f7eea6",
            "2df53b9629c84bb9a6f720dcda160854",
            "4be6cc4a8faf421f8e63e13a61485c72",
            "449474690963413ab2b075b6589fff19",
            "94277b7ce9e446008ac31d03dd9a6ba4",
            "a6a5dfe8f3124d149f8cb433a8972fb1",
            "adb9513534ca47d78c70bcd17d3c5735"
          ]
        },
        "id": "rPCWA4vWokv0",
        "outputId": "ed0e1f17-4524-4e8b-f8e8-51bed67c3be5"
      },
      "id": "rPCWA4vWokv0",
      "execution_count": 83,
      "outputs": [
        {
          "output_type": "display_data",
          "data": {
            "text/plain": [
              "Map:   0%|          | 0/41157 [00:00<?, ? examples/s]"
            ],
            "application/vnd.jupyter.widget-view+json": {
              "version_major": 2,
              "version_minor": 0,
              "model_id": "edfe6aa3d11d4684b7d5e7fe068d4671"
            }
          },
          "metadata": {}
        },
        {
          "output_type": "display_data",
          "data": {
            "text/plain": [
              "Map:   0%|          | 0/3798 [00:00<?, ? examples/s]"
            ],
            "application/vnd.jupyter.widget-view+json": {
              "version_major": 2,
              "version_minor": 0,
              "model_id": "cbb160ce152b47d89a479cd7f67c9516"
            }
          },
          "metadata": {}
        },
        {
          "output_type": "display_data",
          "data": {
            "text/plain": [
              "Map:   0%|          | 0/41157 [00:00<?, ? examples/s]"
            ],
            "application/vnd.jupyter.widget-view+json": {
              "version_major": 2,
              "version_minor": 0,
              "model_id": "f2a04dc1ca69442eb820a8acf16906aa"
            }
          },
          "metadata": {}
        },
        {
          "output_type": "display_data",
          "data": {
            "text/plain": [
              "Map:   0%|          | 0/3798 [00:00<?, ? examples/s]"
            ],
            "application/vnd.jupyter.widget-view+json": {
              "version_major": 2,
              "version_minor": 0,
              "model_id": "e080a4caac9046b398b047c0599ea17c"
            }
          },
          "metadata": {}
        }
      ]
    },
    {
      "cell_type": "code",
      "execution_count": 84,
      "id": "56f7558c",
      "metadata": {
        "id": "56f7558c"
      },
      "outputs": [],
      "source": [
        "# # Define evaluation metric, Set up an evaluation function using accuracy as the metric to assess model performance during training.\n",
        "\n",
        "# accuracy_metric = evaluate.load(\"accuracy\")\n",
        "\n",
        "# def compute_metrics(eval_pred):\n",
        "#     logits, labels = eval_pred\n",
        "#     predictions = np.argmax(logits, axis=1)\n",
        "#     return accuracy_metric.compute(predictions=predictions, references=labels)"
      ]
    },
    {
      "cell_type": "code",
      "source": [
        "accuracy_metric = evaluate.load(\"accuracy\")\n",
        "f1_metric = evaluate.load(\"f1\")\n",
        "\n",
        "def compute_metrics(eval_pred):\n",
        "    logits, labels = eval_pred\n",
        "    predictions = np.argmax(logits, axis=1)\n",
        "    return {\n",
        "        \"accuracy\": accuracy_metric.compute(predictions=predictions, references=labels)[\"accuracy\"],\n",
        "        \"f1_macro\": f1_metric.compute(predictions=predictions, references=labels, average=\"macro\")[\"f1\"]\n",
        "    }"
      ],
      "metadata": {
        "id": "7cU06d3QJVps"
      },
      "id": "7cU06d3QJVps",
      "execution_count": 85,
      "outputs": []
    },
    {
      "cell_type": "markdown",
      "id": "2fd3d806",
      "metadata": {
        "id": "2fd3d806"
      },
      "source": [
        "**Use Small Subsets for Quick Evaluation**\n",
        "\n",
        "Select shuffled samples from each training and validation dataset for both BERT and RoBERTa. This allows faster experimentation during model development."
      ]
    },
    {
      "cell_type": "code",
      "execution_count": 86,
      "id": "21818098",
      "metadata": {
        "id": "21818098"
      },
      "outputs": [],
      "source": [
        "USE_SMALL_DATASET = True\n",
        "# if USE_SMALL_DATASET:\n",
        "#   n_samples_train = 2000\n",
        "#   n_samples_val = 500\n",
        "\n",
        "#   train_dataset_bert = tokenized_bert_train.shuffle(seed=42).select(range(n_samples_train))\n",
        "#   val_dataset_bert = tokenized_bert_val.shuffle(seed=42).select(range(n_samples_val))\n",
        "\n",
        "#   train_dataset_roberta = tokenized_roberta_train.shuffle(seed=42).select(range(n_samples_train))\n",
        "#   val_dataset_roberta = tokenized_roberta_val.shuffle(seed=42).select(range(n_samples_val))\n",
        "\n",
        "# else:\n",
        "#   n_samples_train = len(tokenized_bert_train)\n",
        "#   n_samples_val = len(tokenized_bert_val)\n",
        "\n",
        "#   train_dataset_bert = tokenized_bert_train\n",
        "#   val_dataset_bert = tokenized_bert_val\n",
        "\n",
        "#   train_dataset_roberta = tokenized_roberta_train\n",
        "#   val_dataset_roberta = tokenized_roberta_val"
      ]
    },
    {
      "cell_type": "markdown",
      "id": "486b7810",
      "metadata": {
        "id": "486b7810"
      },
      "source": [
        "**Define Training Arguments**\n",
        "\n",
        "Configure hyperparameters and training settings for both BERT and RoBERTa models, including batch size, number of epochs, learning rate, and evaluation strategy."
      ]
    },
    {
      "cell_type": "code",
      "execution_count": 87,
      "id": "10fd9daf",
      "metadata": {
        "id": "10fd9daf"
      },
      "outputs": [],
      "source": [
        "# # Define hyperparameters\n",
        "# run_time = f\"run-{int(time.time())}\"\n",
        "\n",
        "# num_epochs_bert = 5\n",
        "# learning_rate_bert = 4.037872385196561e-05\n",
        "# batch_size_bert = 16\n",
        "\n",
        "# bert_training_args = TrainingArguments(\n",
        "#     output_dir=\"./results/bert/{run_time}\",\n",
        "#     eval_strategy=\"epoch\",\n",
        "#     save_strategy=\"epoch\",\n",
        "#     per_device_train_batch_size=batch_size_bert,\n",
        "#     per_device_eval_batch_size=batch_size_bert,\n",
        "#     num_train_epochs=num_epochs_bert,\n",
        "#     learning_rate=learning_rate_bert,\n",
        "#     weight_decay=0.01,\n",
        "#     load_best_model_at_end=True,\n",
        "#     logging_dir=\"./logs/bert/{run_time}\",\n",
        "#     run_name = f\"bert-ep{num_epochs_bert}-lr{learning_rate_bert}-bs{batch_size_bert}-samples{n_samples_train}-run{int(time.time())}-no_preprocess\",\n",
        "#     report_to=\"wandb\"\n",
        "# )"
      ]
    },
    {
      "cell_type": "code",
      "execution_count": 88,
      "id": "bf8b509c",
      "metadata": {
        "id": "bf8b509c"
      },
      "outputs": [],
      "source": [
        "# # Define hyperparameters\n",
        "# num_epochs_roberta = 4\n",
        "# learning_rate_roberta = 4e-5\n",
        "# batch_size_roberta = 16\n",
        "\n",
        "# roberta_training_args = TrainingArguments(\n",
        "#     output_dir=\"./results/roberta/{run_time}\",\n",
        "#     eval_strategy=\"epoch\",\n",
        "#     save_strategy=\"epoch\",\n",
        "#     per_device_train_batch_size=batch_size_roberta,\n",
        "#     per_device_eval_batch_size=batch_size_roberta,\n",
        "#     num_train_epochs=num_epochs_roberta,\n",
        "#     learning_rate=learning_rate_roberta,\n",
        "#     weight_decay=0.01,\n",
        "#     load_best_model_at_end=True,\n",
        "#     logging_dir=\"./logs/roberta/{run_time}\",\n",
        "#     run_name=f\"roberta-ep{num_epochs_roberta}-lr{learning_rate_roberta}-bs{batch_size_roberta}-samples{n_samples_train}-run{int(time.time())}-no_preprocess\",\n",
        "#     report_to=\"wandb\"\n",
        "# )"
      ]
    },
    {
      "cell_type": "markdown",
      "id": "e30c66bb",
      "metadata": {
        "id": "e30c66bb"
      },
      "source": [
        "**Initialize Trainers**\n",
        "\n",
        "Configure Trainer objects for both BERT and RoBERTa using the small training and validation sets, tokenizers, training arguments, and evaluation metric."
      ]
    },
    {
      "cell_type": "code",
      "execution_count": 89,
      "id": "c7164d5b",
      "metadata": {
        "id": "c7164d5b"
      },
      "outputs": [],
      "source": [
        "# bert_trainer = Trainer(\n",
        "#     model=bert_model,\n",
        "#     args=bert_training_args,\n",
        "#     train_dataset=train_dataset_bert,\n",
        "#     eval_dataset=val_dataset_bert,\n",
        "#     tokenizer=bert_tokenizer,\n",
        "#     compute_metrics=compute_metrics\n",
        "# )"
      ]
    },
    {
      "cell_type": "code",
      "execution_count": 90,
      "id": "8d1be505",
      "metadata": {
        "id": "8d1be505"
      },
      "outputs": [],
      "source": [
        "# roberta_trainer = Trainer(\n",
        "#     model=roberta_model,\n",
        "#     args=roberta_training_args,\n",
        "#     train_dataset=train_dataset_roberta,\n",
        "#     eval_dataset=val_dataset_roberta,\n",
        "#     tokenizer=roberta_tokenizer,\n",
        "#     compute_metrics=compute_metrics\n",
        "# )"
      ]
    },
    {
      "cell_type": "markdown",
      "id": "44a08c2c",
      "metadata": {
        "id": "44a08c2c"
      },
      "source": [
        "**Model Training**\n",
        "\n",
        "Train both BERT and RoBERTa models on the small datasets using the Trainer interface."
      ]
    },
    {
      "cell_type": "markdown",
      "source": [
        "## Manual Trials\n",
        "\n",
        "Manually trained BERT and RoBERTa on various sample sizes to understand how accuracy scales:\n",
        "- 1000, 5000, 10000 train samples for 5 epochs\n",
        "\n",
        "This section is useful for baseline comparison before running Optuna for automated tuning.\n"
      ],
      "metadata": {
        "id": "B0UWqqzpOF1S"
      },
      "id": "B0UWqqzpOF1S"
    },
    {
      "cell_type": "code",
      "execution_count": 91,
      "id": "6c296d08",
      "metadata": {
        "scrolled": false,
        "id": "6c296d08"
      },
      "outputs": [],
      "source": [
        "# bert_trainer.train()"
      ]
    },
    {
      "cell_type": "code",
      "source": [
        "# roberta_trainer.train()\n",
        "\n",
        "# # Safely finish run with specific parameters\n",
        "# wandb.finish()"
      ],
      "metadata": {
        "id": "GIMF8cGiV73j"
      },
      "id": "GIMF8cGiV73j",
      "execution_count": 92,
      "outputs": []
    },
    {
      "cell_type": "markdown",
      "id": "580f4688",
      "metadata": {
        "id": "580f4688"
      },
      "source": [
        "**Hyperparameters Tuning with Optuna**"
      ]
    },
    {
      "cell_type": "code",
      "source": [
        "def build_trainer(model_checkpoint, trial, run_prefix, train_dataset, val_dataset):\n",
        "    # Sample hyperparameters\n",
        "    learning_rate = trial.suggest_float(\"learning_rate\", 1e-5, 5e-5, log=True)\n",
        "    batch_size = trial.suggest_categorical(\"batch_size\", [8, 16, 32])\n",
        "    num_epochs = trial.suggest_int(\"num_train_epochs\", 2, 5)\n",
        "    n_samples = len(train_dataset)\n",
        "\n",
        "    model = AutoModelForSequenceClassification.from_pretrained(model_checkpoint, num_labels=5)\n",
        "    tokenizer = AutoTokenizer.from_pretrained(model_checkpoint)\n",
        "\n",
        "    run_name = f\"{run_prefix}-ep{num_epochs}-lr{learning_rate}-bs{batch_size}-samples{n_samples}-run{int(time.time())}-no_preprocess\"\n",
        "\n",
        "    args = TrainingArguments(\n",
        "        output_dir=f\"./results/{run_prefix}/{run_name}\",\n",
        "        disable_tqdm=True,\n",
        "        fp16=True,\n",
        "        eval_strategy=\"epoch\",\n",
        "        save_strategy=\"epoch\",\n",
        "        per_device_train_batch_size=batch_size,\n",
        "        per_device_eval_batch_size=batch_size,\n",
        "        num_train_epochs=num_epochs,\n",
        "        learning_rate=learning_rate,\n",
        "        weight_decay=0.01,\n",
        "        load_best_model_at_end=True,\n",
        "        save_total_limit=1,\n",
        "        logging_strategy=\"epoch\",\n",
        "        logging_dir=f\"./logs/{run_prefix}/{run_name}\",\n",
        "        run_name=run_name,\n",
        "        report_to=\"wandb\",\n",
        "        metric_for_best_model=\"f1_macro\",\n",
        "        greater_is_better=True\n",
        "    )\n",
        "\n",
        "    trainer = Trainer(\n",
        "        model=model,\n",
        "        args=args,\n",
        "        train_dataset=train_dataset,\n",
        "        eval_dataset=val_dataset,\n",
        "        tokenizer=tokenizer,\n",
        "        compute_metrics=compute_metrics\n",
        "    )\n",
        "\n",
        "    return trainer"
      ],
      "metadata": {
        "id": "8X9aALiCIFgT"
      },
      "id": "8X9aALiCIFgT",
      "execution_count": 93,
      "outputs": []
    },
    {
      "cell_type": "code",
      "source": [
        "def objective_bert(trial):\n",
        "    trainer = build_trainer(\n",
        "        model_checkpoint=\"bert-base-uncased\",\n",
        "        trial=trial,\n",
        "        run_prefix=\"bert\",\n",
        "        train_dataset=tokenized_bert_train_sub,\n",
        "        val_dataset=tokenized_bert_val_sub\n",
        "    )\n",
        "    trainer.train()\n",
        "    eval_result = trainer.evaluate()\n",
        "    return eval_result[\"eval_f1_macro\"]\n",
        "\n",
        "def objective_roberta(trial):\n",
        "    trainer = build_trainer(\n",
        "        model_checkpoint=\"roberta-base\",\n",
        "        trial=trial,\n",
        "        run_prefix=\"roberta\",\n",
        "        train_dataset=tokenized_roberta_train_sub,\n",
        "        val_dataset=tokenized_roberta_val_sub\n",
        "    )\n",
        "    trainer.train()\n",
        "    eval_result = trainer.evaluate()\n",
        "    return eval_result[\"eval_f1_macro\"]"
      ],
      "metadata": {
        "id": "RDTlIbcgTdbS"
      },
      "id": "RDTlIbcgTdbS",
      "execution_count": 94,
      "outputs": []
    },
    {
      "cell_type": "code",
      "source": [
        "study_bert = optuna.create_study(direction=\"maximize\",\n",
        "                                 pruner=MedianPruner(n_startup_trials=2, n_warmup_steps=1),\n",
        "                                 study_name=\"bert_study_stratify_no_preprocess\",\n",
        "                                 storage=\"sqlite:////content/drive/MyDrive/Colab Notebooks/nlp_project/optuna/bert_study_stratify_no_preprocess.db\",\n",
        "                                 load_if_exists=True)\n",
        "study_bert.optimize(objective_bert, n_trials=5)"
      ],
      "metadata": {
        "id": "FVHz-uRATikZ",
        "colab": {
          "base_uri": "https://localhost:8080/"
        },
        "outputId": "f0a12802-6240-4f21-b160-f2561554dfdc"
      },
      "id": "FVHz-uRATikZ",
      "execution_count": 95,
      "outputs": [
        {
          "output_type": "stream",
          "name": "stderr",
          "text": [
            "[I 2025-07-27 20:49:10,660] Using an existing study with name 'bert_study_stratify_no_preprocess' instead of creating a new one.\n",
            "Some weights of BertForSequenceClassification were not initialized from the model checkpoint at bert-base-uncased and are newly initialized: ['classifier.bias', 'classifier.weight']\n",
            "You should probably TRAIN this model on a down-stream task to be able to use it for predictions and inference.\n",
            "/tmp/ipython-input-93-2841737310.py:34: FutureWarning: `tokenizer` is deprecated and will be removed in version 5.0.0 for `Trainer.__init__`. Use `processing_class` instead.\n",
            "  trainer = Trainer(\n"
          ]
        },
        {
          "output_type": "stream",
          "name": "stdout",
          "text": [
            "{'loss': 1.473, 'grad_norm': 11.279875755310059, 'learning_rate': 2.06462268431497e-05, 'epoch': 1.0}\n",
            "{'eval_loss': 1.2267123460769653, 'eval_accuracy': 0.462, 'eval_f1_macro': 0.4735340832257668, 'eval_runtime': 1.3649, 'eval_samples_per_second': 366.332, 'eval_steps_per_second': 46.158, 'epoch': 1.0}\n",
            "{'loss': 0.9946, 'grad_norm': 16.656282424926758, 'learning_rate': 3.2642255878497555e-07, 'epoch': 2.0}\n",
            "{'eval_loss': 1.0689821243286133, 'eval_accuracy': 0.57, 'eval_f1_macro': 0.5811683970332522, 'eval_runtime': 1.3784, 'eval_samples_per_second': 362.745, 'eval_steps_per_second': 45.706, 'epoch': 2.0}\n",
            "{'train_runtime': 45.4665, 'train_samples_per_second': 87.977, 'train_steps_per_second': 10.997, 'train_loss': 1.2337723388671875, 'epoch': 2.0}\n",
            "{'eval_loss': 1.0689821243286133, 'eval_accuracy': 0.57, 'eval_f1_macro': 0.5811683970332522, 'eval_runtime': 1.4236, 'eval_samples_per_second': 351.213, 'eval_steps_per_second': 44.253, 'epoch': 2.0}\n"
          ]
        },
        {
          "output_type": "stream",
          "name": "stderr",
          "text": [
            "[I 2025-07-27 20:50:00,286] Trial 5 finished with value: 0.5811683970332522 and parameters: {'learning_rate': 4.080281984812194e-05, 'batch_size': 8, 'num_train_epochs': 2}. Best is trial 2 with value: 0.6268387639451145.\n",
            "Some weights of BertForSequenceClassification were not initialized from the model checkpoint at bert-base-uncased and are newly initialized: ['classifier.bias', 'classifier.weight']\n",
            "You should probably TRAIN this model on a down-stream task to be able to use it for predictions and inference.\n",
            "/tmp/ipython-input-93-2841737310.py:34: FutureWarning: `tokenizer` is deprecated and will be removed in version 5.0.0 for `Trainer.__init__`. Use `processing_class` instead.\n",
            "  trainer = Trainer(\n"
          ]
        },
        {
          "output_type": "stream",
          "name": "stdout",
          "text": [
            "{'loss': 1.5671, 'grad_norm': 6.147643089294434, 'learning_rate': 1.749415907768789e-05, 'epoch': 1.0}\n",
            "{'eval_loss': 1.5139579772949219, 'eval_accuracy': 0.302, 'eval_f1_macro': 0.18981580214158172, 'eval_runtime': 0.4438, 'eval_samples_per_second': 1126.683, 'eval_steps_per_second': 36.054, 'epoch': 1.0}\n",
            "{'loss': 1.4454, 'grad_norm': 8.56684398651123, 'learning_rate': 1.3207052900546984e-05, 'epoch': 2.0}\n",
            "{'eval_loss': 1.4393876791000366, 'eval_accuracy': 0.368, 'eval_f1_macro': 0.29760501599783185, 'eval_runtime': 0.4183, 'eval_samples_per_second': 1195.443, 'eval_steps_per_second': 38.254, 'epoch': 2.0}\n",
            "{'loss': 1.2512, 'grad_norm': 10.294244766235352, 'learning_rate': 8.850799849581226e-06, 'epoch': 3.0}\n",
            "{'eval_loss': 1.3034530878067017, 'eval_accuracy': 0.416, 'eval_f1_macro': 0.42343033545198805, 'eval_runtime': 0.4252, 'eval_samples_per_second': 1176.024, 'eval_steps_per_second': 37.633, 'epoch': 3.0}\n",
            "{'loss': 1.0714, 'grad_norm': 16.660293579101562, 'learning_rate': 4.56369367244032e-06, 'epoch': 4.0}\n",
            "{'eval_loss': 1.278710961341858, 'eval_accuracy': 0.456, 'eval_f1_macro': 0.4672332860944926, 'eval_runtime': 0.4179, 'eval_samples_per_second': 1196.391, 'eval_steps_per_second': 38.285, 'epoch': 4.0}\n",
            "{'loss': 0.9538, 'grad_norm': 7.077731609344482, 'learning_rate': 2.0744062147456e-07, 'epoch': 5.0}\n",
            "{'eval_loss': 1.277950644493103, 'eval_accuracy': 0.444, 'eval_f1_macro': 0.45246932850520494, 'eval_runtime': 0.4077, 'eval_samples_per_second': 1226.278, 'eval_steps_per_second': 39.241, 'epoch': 5.0}\n",
            "{'train_runtime': 40.6183, 'train_samples_per_second': 246.194, 'train_steps_per_second': 7.755, 'train_loss': 1.2577847919766865, 'epoch': 5.0}\n",
            "{'eval_loss': 1.278710961341858, 'eval_accuracy': 0.456, 'eval_f1_macro': 0.4672332860944926, 'eval_runtime': 0.4336, 'eval_samples_per_second': 1153.151, 'eval_steps_per_second': 36.901, 'epoch': 5.0}\n"
          ]
        },
        {
          "output_type": "stream",
          "name": "stderr",
          "text": [
            "[I 2025-07-27 20:50:43,636] Trial 6 finished with value: 0.4672332860944926 and parameters: {'learning_rate': 2.1781265254828797e-05, 'batch_size': 32, 'num_train_epochs': 5}. Best is trial 2 with value: 0.6268387639451145.\n",
            "Some weights of BertForSequenceClassification were not initialized from the model checkpoint at bert-base-uncased and are newly initialized: ['classifier.bias', 'classifier.weight']\n",
            "You should probably TRAIN this model on a down-stream task to be able to use it for predictions and inference.\n",
            "/tmp/ipython-input-93-2841737310.py:34: FutureWarning: `tokenizer` is deprecated and will be removed in version 5.0.0 for `Trainer.__init__`. Use `processing_class` instead.\n",
            "  trainer = Trainer(\n"
          ]
        },
        {
          "output_type": "stream",
          "name": "stdout",
          "text": [
            "{'loss': 1.454, 'grad_norm': 13.142681121826172, 'learning_rate': 3.016686671249066e-05, 'epoch': 1.0}\n",
            "{'eval_loss': 1.2842656373977661, 'eval_accuracy': 0.472, 'eval_f1_macro': 0.47298837138327554, 'eval_runtime': 1.3724, 'eval_samples_per_second': 364.323, 'eval_steps_per_second': 45.905, 'epoch': 1.0}\n",
            "{'loss': 1.0048, 'grad_norm': 13.86949348449707, 'learning_rate': 1.517339419137204e-05, 'epoch': 2.0}\n",
            "{'eval_loss': 1.0271869897842407, 'eval_accuracy': 0.578, 'eval_f1_macro': 0.5912312418764032, 'eval_runtime': 1.3949, 'eval_samples_per_second': 358.44, 'eval_steps_per_second': 45.163, 'epoch': 2.0}\n",
            "{'loss': 0.5655, 'grad_norm': 20.33502197265625, 'learning_rate': 2.3989556033789787e-07, 'epoch': 3.0}\n",
            "{'eval_loss': 1.1311417818069458, 'eval_accuracy': 0.586, 'eval_f1_macro': 0.5934297268987322, 'eval_runtime': 1.4238, 'eval_samples_per_second': 351.172, 'eval_steps_per_second': 44.248, 'epoch': 3.0}\n",
            "{'train_runtime': 67.4014, 'train_samples_per_second': 89.019, 'train_steps_per_second': 11.127, 'train_loss': 1.008094950358073, 'epoch': 3.0}\n"
          ]
        },
        {
          "output_type": "stream",
          "name": "stderr",
          "text": [
            "[I 2025-07-27 20:51:54,657] Trial 7 finished with value: 0.5934297268987322 and parameters: {'learning_rate': 4.4980417563355854e-05, 'batch_size': 8, 'num_train_epochs': 3}. Best is trial 2 with value: 0.6268387639451145.\n"
          ]
        },
        {
          "output_type": "stream",
          "name": "stdout",
          "text": [
            "{'eval_loss': 1.1311417818069458, 'eval_accuracy': 0.586, 'eval_f1_macro': 0.5934297268987322, 'eval_runtime': 1.45, 'eval_samples_per_second': 344.837, 'eval_steps_per_second': 43.45, 'epoch': 3.0}\n"
          ]
        },
        {
          "output_type": "stream",
          "name": "stderr",
          "text": [
            "Some weights of BertForSequenceClassification were not initialized from the model checkpoint at bert-base-uncased and are newly initialized: ['classifier.bias', 'classifier.weight']\n",
            "You should probably TRAIN this model on a down-stream task to be able to use it for predictions and inference.\n",
            "/tmp/ipython-input-93-2841737310.py:34: FutureWarning: `tokenizer` is deprecated and will be removed in version 5.0.0 for `Trainer.__init__`. Use `processing_class` instead.\n",
            "  trainer = Trainer(\n"
          ]
        },
        {
          "output_type": "stream",
          "name": "stdout",
          "text": [
            "{'loss': 1.5648, 'grad_norm': 30.777372360229492, 'learning_rate': 1.0671293901080498e-05, 'epoch': 1.0}\n",
            "{'eval_loss': 1.4943945407867432, 'eval_accuracy': 0.362, 'eval_f1_macro': 0.3574108026484007, 'eval_runtime': 1.3813, 'eval_samples_per_second': 361.972, 'eval_steps_per_second': 45.608, 'epoch': 1.0}\n",
            "{'loss': 1.2817, 'grad_norm': 8.48298168182373, 'learning_rate': 2.0924105688393135e-07, 'epoch': 2.0}\n",
            "{'eval_loss': 1.2750639915466309, 'eval_accuracy': 0.456, 'eval_f1_macro': 0.4706886475858491, 'eval_runtime': 1.3667, 'eval_samples_per_second': 365.846, 'eval_steps_per_second': 46.097, 'epoch': 2.0}\n",
            "{'train_runtime': 45.3483, 'train_samples_per_second': 88.206, 'train_steps_per_second': 11.026, 'train_loss': 1.4232604370117188, 'epoch': 2.0}\n",
            "{'eval_loss': 1.2750639915466309, 'eval_accuracy': 0.456, 'eval_f1_macro': 0.4706886475858491, 'eval_runtime': 1.3888, 'eval_samples_per_second': 360.026, 'eval_steps_per_second': 45.363, 'epoch': 2.0}\n"
          ]
        },
        {
          "output_type": "stream",
          "name": "stderr",
          "text": [
            "[I 2025-07-27 20:52:44,180] Trial 8 finished with value: 0.4706886475858491 and parameters: {'learning_rate': 2.0924105688393135e-05, 'batch_size': 8, 'num_train_epochs': 2}. Best is trial 2 with value: 0.6268387639451145.\n",
            "Some weights of BertForSequenceClassification were not initialized from the model checkpoint at bert-base-uncased and are newly initialized: ['classifier.bias', 'classifier.weight']\n",
            "You should probably TRAIN this model on a down-stream task to be able to use it for predictions and inference.\n",
            "/tmp/ipython-input-93-2841737310.py:34: FutureWarning: `tokenizer` is deprecated and will be removed in version 5.0.0 for `Trainer.__init__`. Use `processing_class` instead.\n",
            "  trainer = Trainer(\n"
          ]
        },
        {
          "output_type": "stream",
          "name": "stdout",
          "text": [
            "{'loss': 1.4887, 'grad_norm': 7.255120277404785, 'learning_rate': 1.4302892789266096e-05, 'epoch': 1.0}\n",
            "{'eval_loss': 1.333715796470642, 'eval_accuracy': 0.434, 'eval_f1_macro': 0.44481439325718847, 'eval_runtime': 0.7338, 'eval_samples_per_second': 681.373, 'eval_steps_per_second': 43.608, 'epoch': 1.0}\n",
            "{'loss': 1.128, 'grad_norm': 8.103170394897461, 'learning_rate': 3.3522404974842415e-07, 'epoch': 2.0}\n",
            "{'eval_loss': 1.242388129234314, 'eval_accuracy': 0.468, 'eval_f1_macro': 0.4787755848748746, 'eval_runtime': 0.7591, 'eval_samples_per_second': 658.665, 'eval_steps_per_second': 42.155, 'epoch': 2.0}\n",
            "{'train_runtime': 25.5296, 'train_samples_per_second': 156.681, 'train_steps_per_second': 9.793, 'train_loss': 1.3083780517578125, 'epoch': 2.0}\n"
          ]
        },
        {
          "output_type": "stream",
          "name": "stderr",
          "text": [
            "[I 2025-07-27 20:53:12,027] Trial 9 finished with value: 0.4787755848748746 and parameters: {'learning_rate': 2.7935337479035344e-05, 'batch_size': 16, 'num_train_epochs': 2}. Best is trial 2 with value: 0.6268387639451145.\n"
          ]
        },
        {
          "output_type": "stream",
          "name": "stdout",
          "text": [
            "{'eval_loss': 1.242388129234314, 'eval_accuracy': 0.468, 'eval_f1_macro': 0.4787755848748746, 'eval_runtime': 0.7718, 'eval_samples_per_second': 647.851, 'eval_steps_per_second': 41.462, 'epoch': 2.0}\n"
          ]
        }
      ]
    },
    {
      "cell_type": "code",
      "source": [
        "study_roberta = optuna.create_study(direction=\"maximize\",\n",
        "                                    pruner=MedianPruner(n_startup_trials=2, n_warmup_steps=1),\n",
        "                                    study_name=\"roberta_study_stratify_no_preprocess\",\n",
        "                                    storage=\"sqlite:////content/drive/MyDrive/Colab Notebooks/nlp_project/optuna/roberta_study_stratify_no_preprocess.db\",\n",
        "                                    load_if_exists=True)\n",
        "study_roberta.optimize(objective_roberta, n_trials=5)"
      ],
      "metadata": {
        "id": "tuNyZvQkgY64",
        "colab": {
          "base_uri": "https://localhost:8080/"
        },
        "outputId": "27ae5206-f420-4e45-9319-041f107b741b"
      },
      "id": "tuNyZvQkgY64",
      "execution_count": 96,
      "outputs": [
        {
          "output_type": "stream",
          "name": "stderr",
          "text": [
            "[I 2025-07-27 20:53:12,074] Using an existing study with name 'roberta_study_stratify_no_preprocess' instead of creating a new one.\n",
            "Some weights of RobertaForSequenceClassification were not initialized from the model checkpoint at roberta-base and are newly initialized: ['classifier.dense.bias', 'classifier.dense.weight', 'classifier.out_proj.bias', 'classifier.out_proj.weight']\n",
            "You should probably TRAIN this model on a down-stream task to be able to use it for predictions and inference.\n",
            "/tmp/ipython-input-93-2841737310.py:34: FutureWarning: `tokenizer` is deprecated and will be removed in version 5.0.0 for `Trainer.__init__`. Use `processing_class` instead.\n",
            "  trainer = Trainer(\n"
          ]
        },
        {
          "output_type": "stream",
          "name": "stdout",
          "text": [
            "{'loss': 1.5593, 'grad_norm': 7.488118648529053, 'learning_rate': 1.9870364087802768e-05, 'epoch': 1.0}\n",
            "{'eval_loss': 1.4581249952316284, 'eval_accuracy': 0.376, 'eval_f1_macro': 0.31566675152522583, 'eval_runtime': 0.4292, 'eval_samples_per_second': 1164.982, 'eval_steps_per_second': 37.279, 'epoch': 1.0}\n",
            "{'loss': 1.3022, 'grad_norm': 13.697330474853516, 'learning_rate': 1.3316264938422798e-05, 'epoch': 2.0}\n",
            "{'eval_loss': 1.2754279375076294, 'eval_accuracy': 0.44, 'eval_f1_macro': 0.45286557390714843, 'eval_runtime': 0.4195, 'eval_samples_per_second': 1191.884, 'eval_steps_per_second': 38.14, 'epoch': 2.0}\n",
            "{'loss': 1.0645, 'grad_norm': 22.469097137451172, 'learning_rate': 6.866199108874256e-06, 'epoch': 3.0}\n",
            "{'eval_loss': 1.261343240737915, 'eval_accuracy': 0.446, 'eval_f1_macro': 0.4570951305191041, 'eval_runtime': 0.4146, 'eval_samples_per_second': 1206.085, 'eval_steps_per_second': 38.595, 'epoch': 3.0}\n",
            "{'loss': 0.9009, 'grad_norm': 41.303890228271484, 'learning_rate': 3.1209995949428433e-07, 'epoch': 4.0}\n",
            "{'eval_loss': 1.2724069356918335, 'eval_accuracy': 0.484, 'eval_f1_macro': 0.4979689975080307, 'eval_runtime': 0.4133, 'eval_samples_per_second': 1209.743, 'eval_steps_per_second': 38.712, 'epoch': 4.0}\n",
            "{'train_runtime': 34.164, 'train_samples_per_second': 234.164, 'train_steps_per_second': 7.376, 'train_loss': 1.206724378797743, 'epoch': 4.0}\n",
            "{'eval_loss': 1.2724069356918335, 'eval_accuracy': 0.484, 'eval_f1_macro': 0.4979689975080307, 'eval_runtime': 0.4251, 'eval_samples_per_second': 1176.104, 'eval_steps_per_second': 37.635, 'epoch': 4.0}\n"
          ]
        },
        {
          "output_type": "stream",
          "name": "stderr",
          "text": [
            "[I 2025-07-27 20:53:50,535] Trial 5 finished with value: 0.4979689975080307 and parameters: {'learning_rate': 2.6216396597519885e-05, 'batch_size': 32, 'num_train_epochs': 4}. Best is trial 3 with value: 0.5954185429373753.\n",
            "Some weights of RobertaForSequenceClassification were not initialized from the model checkpoint at roberta-base and are newly initialized: ['classifier.dense.bias', 'classifier.dense.weight', 'classifier.out_proj.bias', 'classifier.out_proj.weight']\n",
            "You should probably TRAIN this model on a down-stream task to be able to use it for predictions and inference.\n",
            "/tmp/ipython-input-93-2841737310.py:34: FutureWarning: `tokenizer` is deprecated and will be removed in version 5.0.0 for `Trainer.__init__`. Use `processing_class` instead.\n",
            "  trainer = Trainer(\n"
          ]
        },
        {
          "output_type": "stream",
          "name": "stdout",
          "text": [
            "{'loss': 1.5876, 'grad_norm': 2.97064208984375, 'learning_rate': 3.287939618494191e-05, 'epoch': 1.0}\n",
            "{'eval_loss': 1.5830800533294678, 'eval_accuracy': 0.274, 'eval_f1_macro': 0.08602825745682888, 'eval_runtime': 0.7366, 'eval_samples_per_second': 678.833, 'eval_steps_per_second': 43.445, 'epoch': 1.0}\n",
            "{'loss': 1.5702, 'grad_norm': 2.9269001483917236, 'learning_rate': 2.474158156032555e-05, 'epoch': 2.0}\n",
            "{'eval_loss': 1.5577460527420044, 'eval_accuracy': 0.278, 'eval_f1_macro': 0.1574894765055847, 'eval_runtime': 0.7203, 'eval_samples_per_second': 694.14, 'eval_steps_per_second': 44.425, 'epoch': 2.0}\n",
            "{'loss': 1.5483, 'grad_norm': 2.9746205806732178, 'learning_rate': 1.6669394473004482e-05, 'epoch': 3.0}\n",
            "{'eval_loss': 1.5391367673873901, 'eval_accuracy': 0.306, 'eval_f1_macro': 0.19329253639589794, 'eval_runtime': 0.7312, 'eval_samples_per_second': 683.807, 'eval_steps_per_second': 43.764, 'epoch': 3.0}\n",
            "{'loss': 1.5385, 'grad_norm': 5.046313285827637, 'learning_rate': 8.465952311092828e-06, 'epoch': 4.0}\n",
            "{'eval_loss': 1.522989273071289, 'eval_accuracy': 0.27, 'eval_f1_macro': 0.15111668000881742, 'eval_runtime': 0.7509, 'eval_samples_per_second': 665.837, 'eval_steps_per_second': 42.614, 'epoch': 4.0}\n",
            "{'loss': 1.4643, 'grad_norm': 5.533627986907959, 'learning_rate': 2.62510149181173e-07, 'epoch': 5.0}\n",
            "{'eval_loss': 1.5036362409591675, 'eval_accuracy': 0.294, 'eval_f1_macro': 0.1751362001871829, 'eval_runtime': 0.7318, 'eval_samples_per_second': 683.256, 'eval_steps_per_second': 43.728, 'epoch': 5.0}\n",
            "{'train_runtime': 66.7251, 'train_samples_per_second': 149.869, 'train_steps_per_second': 9.367, 'train_loss': 1.5417914306640625, 'epoch': 5.0}\n"
          ]
        },
        {
          "output_type": "stream",
          "name": "stderr",
          "text": [
            "[I 2025-07-27 20:54:59,413] Trial 6 finished with value: 0.19329253639589794 and parameters: {'learning_rate': 4.101721080955828e-05, 'batch_size': 16, 'num_train_epochs': 5}. Best is trial 3 with value: 0.5954185429373753.\n"
          ]
        },
        {
          "output_type": "stream",
          "name": "stdout",
          "text": [
            "{'eval_loss': 1.5391367673873901, 'eval_accuracy': 0.306, 'eval_f1_macro': 0.19329253639589794, 'eval_runtime': 0.7867, 'eval_samples_per_second': 635.585, 'eval_steps_per_second': 40.677, 'epoch': 5.0}\n"
          ]
        },
        {
          "output_type": "stream",
          "name": "stderr",
          "text": [
            "Some weights of RobertaForSequenceClassification were not initialized from the model checkpoint at roberta-base and are newly initialized: ['classifier.dense.bias', 'classifier.dense.weight', 'classifier.out_proj.bias', 'classifier.out_proj.weight']\n",
            "You should probably TRAIN this model on a down-stream task to be able to use it for predictions and inference.\n",
            "/tmp/ipython-input-93-2841737310.py:34: FutureWarning: `tokenizer` is deprecated and will be removed in version 5.0.0 for `Trainer.__init__`. Use `processing_class` instead.\n",
            "  trainer = Trainer(\n"
          ]
        },
        {
          "output_type": "stream",
          "name": "stdout",
          "text": [
            "{'loss': 1.4883, 'grad_norm': 10.031575202941895, 'learning_rate': 2.3431378485094977e-05, 'epoch': 1.0}\n",
            "{'eval_loss': 1.3850435018539429, 'eval_accuracy': 0.39, 'eval_f1_macro': 0.39430260004193685, 'eval_runtime': 0.7322, 'eval_samples_per_second': 682.904, 'eval_steps_per_second': 43.706, 'epoch': 1.0}\n",
            "{'loss': 1.1602, 'grad_norm': 17.368078231811523, 'learning_rate': 1.5703351280248347e-05, 'epoch': 2.0}\n",
            "{'eval_loss': 1.2424190044403076, 'eval_accuracy': 0.476, 'eval_f1_macro': 0.48857332059518727, 'eval_runtime': 0.7515, 'eval_samples_per_second': 665.337, 'eval_steps_per_second': 42.582, 'epoch': 2.0}\n",
            "{'loss': 0.8947, 'grad_norm': 15.050333023071289, 'learning_rate': 7.97532407540172e-06, 'epoch': 3.0}\n",
            "{'eval_loss': 1.2974826097488403, 'eval_accuracy': 0.476, 'eval_f1_macro': 0.48575404609063283, 'eval_runtime': 0.7564, 'eval_samples_per_second': 661.007, 'eval_steps_per_second': 42.304, 'epoch': 3.0}\n",
            "{'loss': 0.691, 'grad_norm': 35.1767463684082, 'learning_rate': 2.472968705550921e-07, 'epoch': 4.0}\n",
            "{'eval_loss': 1.2980761528015137, 'eval_accuracy': 0.474, 'eval_f1_macro': 0.4962716567258744, 'eval_runtime': 0.7319, 'eval_samples_per_second': 683.12, 'eval_steps_per_second': 43.72, 'epoch': 4.0}\n",
            "{'train_runtime': 53.8452, 'train_samples_per_second': 148.574, 'train_steps_per_second': 9.286, 'train_loss': 1.0585654754638671, 'epoch': 4.0}\n",
            "{'eval_loss': 1.2980761528015137, 'eval_accuracy': 0.474, 'eval_f1_macro': 0.4962716567258744, 'eval_runtime': 0.7368, 'eval_samples_per_second': 678.653, 'eval_steps_per_second': 43.434, 'epoch': 4.0}\n"
          ]
        },
        {
          "output_type": "stream",
          "name": "stderr",
          "text": [
            "[I 2025-07-27 20:55:57,108] Trial 7 finished with value: 0.4962716567258744 and parameters: {'learning_rate': 3.091210881938651e-05, 'batch_size': 16, 'num_train_epochs': 4}. Best is trial 3 with value: 0.5954185429373753.\n",
            "Some weights of RobertaForSequenceClassification were not initialized from the model checkpoint at roberta-base and are newly initialized: ['classifier.dense.bias', 'classifier.dense.weight', 'classifier.out_proj.bias', 'classifier.out_proj.weight']\n",
            "You should probably TRAIN this model on a down-stream task to be able to use it for predictions and inference.\n",
            "/tmp/ipython-input-93-2841737310.py:34: FutureWarning: `tokenizer` is deprecated and will be removed in version 5.0.0 for `Trainer.__init__`. Use `processing_class` instead.\n",
            "  trainer = Trainer(\n"
          ]
        },
        {
          "output_type": "stream",
          "name": "stdout",
          "text": [
            "{'loss': 1.5699, 'grad_norm': 6.283294677734375, 'learning_rate': 8.424145503175858e-06, 'epoch': 1.0}\n",
            "{'eval_loss': 1.5376425981521606, 'eval_accuracy': 0.288, 'eval_f1_macro': 0.1643105563610922, 'eval_runtime': 0.727, 'eval_samples_per_second': 687.803, 'eval_steps_per_second': 44.019, 'epoch': 1.0}\n",
            "{'loss': 1.3959, 'grad_norm': 14.039741516113281, 'learning_rate': 4.2620182782866e-06, 'epoch': 2.0}\n",
            "{'eval_loss': 1.334127426147461, 'eval_accuracy': 0.408, 'eval_f1_macro': 0.4188935915230488, 'eval_runtime': 0.7287, 'eval_samples_per_second': 686.134, 'eval_steps_per_second': 43.913, 'epoch': 2.0}\n",
            "{'loss': 1.1806, 'grad_norm': 17.883142471313477, 'learning_rate': 9.98910533973422e-08, 'epoch': 3.0}\n",
            "{'eval_loss': 1.3055121898651123, 'eval_accuracy': 0.41, 'eval_f1_macro': 0.42351176134457863, 'eval_runtime': 0.7701, 'eval_samples_per_second': 649.294, 'eval_steps_per_second': 41.555, 'epoch': 3.0}\n",
            "{'train_runtime': 39.9841, 'train_samples_per_second': 150.06, 'train_steps_per_second': 9.379, 'train_loss': 1.3821150716145834, 'epoch': 3.0}\n"
          ]
        },
        {
          "output_type": "stream",
          "name": "stderr",
          "text": [
            "[I 2025-07-27 20:56:39,274] Trial 8 finished with value: 0.42351176134457863 and parameters: {'learning_rate': 1.2486381674667774e-05, 'batch_size': 16, 'num_train_epochs': 3}. Best is trial 3 with value: 0.5954185429373753.\n"
          ]
        },
        {
          "output_type": "stream",
          "name": "stdout",
          "text": [
            "{'eval_loss': 1.3055121898651123, 'eval_accuracy': 0.41, 'eval_f1_macro': 0.42351176134457863, 'eval_runtime': 0.7715, 'eval_samples_per_second': 648.054, 'eval_steps_per_second': 41.475, 'epoch': 3.0}\n"
          ]
        },
        {
          "output_type": "stream",
          "name": "stderr",
          "text": [
            "Some weights of RobertaForSequenceClassification were not initialized from the model checkpoint at roberta-base and are newly initialized: ['classifier.dense.bias', 'classifier.dense.weight', 'classifier.out_proj.bias', 'classifier.out_proj.weight']\n",
            "You should probably TRAIN this model on a down-stream task to be able to use it for predictions and inference.\n",
            "/tmp/ipython-input-93-2841737310.py:34: FutureWarning: `tokenizer` is deprecated and will be removed in version 5.0.0 for `Trainer.__init__`. Use `processing_class` instead.\n",
            "  trainer = Trainer(\n"
          ]
        },
        {
          "output_type": "stream",
          "name": "stdout",
          "text": [
            "{'loss': 1.5812, 'grad_norm': 4.143873691558838, 'learning_rate': 5.964058131372879e-06, 'epoch': 1.0}\n",
            "{'eval_loss': 1.5650722980499268, 'eval_accuracy': 0.256, 'eval_f1_macro': 0.09381363244176014, 'eval_runtime': 0.4207, 'eval_samples_per_second': 1188.385, 'eval_steps_per_second': 38.028, 'epoch': 1.0}\n",
            "{'loss': 1.5305, 'grad_norm': 5.970037460327148, 'learning_rate': 2.75264221447979e-07, 'epoch': 2.0}\n",
            "{'eval_loss': 1.534778356552124, 'eval_accuracy': 0.286, 'eval_f1_macro': 0.17301249740797733, 'eval_runtime': 0.4235, 'eval_samples_per_second': 1180.75, 'eval_steps_per_second': 37.784, 'epoch': 2.0}\n",
            "{'train_runtime': 19.7568, 'train_samples_per_second': 202.462, 'train_steps_per_second': 6.378, 'train_loss': 1.555830334860181, 'epoch': 2.0}\n"
          ]
        },
        {
          "output_type": "stream",
          "name": "stderr",
          "text": [
            "[I 2025-07-27 20:57:02,829] Trial 9 finished with value: 0.17301249740797733 and parameters: {'learning_rate': 1.1561097300815119e-05, 'batch_size': 32, 'num_train_epochs': 2}. Best is trial 3 with value: 0.5954185429373753.\n"
          ]
        },
        {
          "output_type": "stream",
          "name": "stdout",
          "text": [
            "{'eval_loss': 1.534778356552124, 'eval_accuracy': 0.286, 'eval_f1_macro': 0.17301249740797733, 'eval_runtime': 0.4346, 'eval_samples_per_second': 1150.495, 'eval_steps_per_second': 36.816, 'epoch': 2.0}\n"
          ]
        }
      ]
    },
    {
      "cell_type": "code",
      "source": [
        "best_trial_bert = study_bert.best_trial\n",
        "print('Bert best trial on subset:')\n",
        "print(best_trial_bert.params)\n",
        "best_trial_roberta = study_roberta.best_trial\n",
        "print('RoBerta best trial on subset:')\n",
        "print(best_trial_roberta.params)"
      ],
      "metadata": {
        "id": "o6_NmeZoZ8FI",
        "colab": {
          "base_uri": "https://localhost:8080/"
        },
        "outputId": "5c5794b3-39b5-4a11-e1ac-f5a4f9fbe0fc"
      },
      "id": "o6_NmeZoZ8FI",
      "execution_count": 97,
      "outputs": [
        {
          "output_type": "stream",
          "name": "stdout",
          "text": [
            "Bert best trial on subset:\n",
            "{'learning_rate': 3.793274955606689e-05, 'batch_size': 32, 'num_train_epochs': 5}\n",
            "RoBerta best trial on subset:\n",
            "{'learning_rate': 2.2755931315738675e-05, 'batch_size': 8, 'num_train_epochs': 5}\n"
          ]
        }
      ]
    },
    {
      "cell_type": "code",
      "source": [
        "final_trainer_bert = build_trainer(\n",
        "    model_checkpoint=\"bert-base-uncased\",\n",
        "    trial=best_trial_bert,\n",
        "    run_prefix=\"bert_final_stratify_no_preprocess\",\n",
        "    train_dataset=tokenized_bert_train,\n",
        "    val_dataset=tokenized_bert_val\n",
        ")\n",
        "final_trainer_bert.train()"
      ],
      "metadata": {
        "colab": {
          "base_uri": "https://localhost:8080/"
        },
        "id": "iAjcXgiz1HDn",
        "outputId": "cc60279d-d197-425b-a82e-57c71142615b"
      },
      "id": "iAjcXgiz1HDn",
      "execution_count": 98,
      "outputs": [
        {
          "output_type": "stream",
          "name": "stderr",
          "text": [
            "Some weights of BertForSequenceClassification were not initialized from the model checkpoint at bert-base-uncased and are newly initialized: ['classifier.bias', 'classifier.weight']\n",
            "You should probably TRAIN this model on a down-stream task to be able to use it for predictions and inference.\n",
            "/tmp/ipython-input-93-2841737310.py:34: FutureWarning: `tokenizer` is deprecated and will be removed in version 5.0.0 for `Trainer.__init__`. Use `processing_class` instead.\n",
            "  trainer = Trainer(\n"
          ]
        },
        {
          "output_type": "stream",
          "name": "stdout",
          "text": [
            "{'loss': 0.7267, 'grad_norm': 31.37412452697754, 'learning_rate': 3.036977866555658e-05, 'epoch': 1.0}\n",
            "{'eval_loss': 0.5666289329528809, 'eval_accuracy': 0.8059505002632965, 'eval_f1_macro': 0.8055703175499342, 'eval_runtime': 3.0648, 'eval_samples_per_second': 1239.217, 'eval_steps_per_second': 38.827, 'epoch': 1.0}\n",
            "{'loss': 0.3673, 'grad_norm': 6.351016521453857, 'learning_rate': 2.2783228754343205e-05, 'epoch': 2.0}\n",
            "{'eval_loss': 0.5646061301231384, 'eval_accuracy': 0.8085834649815693, 'eval_f1_macro': 0.8151192242858502, 'eval_runtime': 3.0615, 'eval_samples_per_second': 1240.583, 'eval_steps_per_second': 38.87, 'epoch': 2.0}\n",
            "{'loss': 0.2431, 'grad_norm': 20.84602928161621, 'learning_rate': 1.5202573598305595e-05, 'epoch': 3.0}\n",
            "{'eval_loss': 0.4836413860321045, 'eval_accuracy': 0.8504476040021064, 'eval_f1_macro': 0.855097155032054, 'eval_runtime': 3.02, 'eval_samples_per_second': 1257.605, 'eval_steps_per_second': 39.404, 'epoch': 3.0}\n",
            "{'loss': 0.165, 'grad_norm': 16.093339920043945, 'learning_rate': 7.616023687092218e-06, 'epoch': 4.0}\n",
            "{'eval_loss': 0.5172222256660461, 'eval_accuracy': 0.8522906793048973, 'eval_f1_macro': 0.8556649857297876, 'eval_runtime': 3.0234, 'eval_samples_per_second': 1256.191, 'eval_steps_per_second': 39.359, 'epoch': 4.0}\n",
            "{'loss': 0.1057, 'grad_norm': 0.035873111337423325, 'learning_rate': 4.126328623037579e-08, 'epoch': 5.0}\n",
            "{'eval_loss': 0.5993380546569824, 'eval_accuracy': 0.8593996840442338, 'eval_f1_macro': 0.8624141510006877, 'eval_runtime': 3.0277, 'eval_samples_per_second': 1254.398, 'eval_steps_per_second': 39.303, 'epoch': 5.0}\n",
            "{'train_runtime': 598.5939, 'train_samples_per_second': 343.781, 'train_steps_per_second': 10.75, 'train_loss': 0.3215532138353183, 'epoch': 5.0}\n"
          ]
        },
        {
          "output_type": "execute_result",
          "data": {
            "text/plain": [
              "TrainOutput(global_step=6435, training_loss=0.3215532138353183, metrics={'train_runtime': 598.5939, 'train_samples_per_second': 343.781, 'train_steps_per_second': 10.75, 'train_loss': 0.3215532138353183, 'epoch': 5.0})"
            ]
          },
          "metadata": {},
          "execution_count": 98
        }
      ]
    },
    {
      "cell_type": "code",
      "source": [
        "final_trainer_roberta = build_trainer(\n",
        "    model_checkpoint=\"roberta-base\",\n",
        "    trial=best_trial_roberta,\n",
        "    run_prefix=\"roberta_final_stratify_no_preprocess\",\n",
        "    train_dataset=tokenized_roberta_train,\n",
        "    val_dataset=tokenized_roberta_val\n",
        ")\n",
        "final_trainer_roberta.train()"
      ],
      "metadata": {
        "colab": {
          "base_uri": "https://localhost:8080/"
        },
        "id": "3z1JVX-11g_o",
        "outputId": "3a876f78-d601-41f5-a66d-cecdca49a651"
      },
      "id": "3z1JVX-11g_o",
      "execution_count": 99,
      "outputs": [
        {
          "output_type": "stream",
          "name": "stderr",
          "text": [
            "Some weights of RobertaForSequenceClassification were not initialized from the model checkpoint at roberta-base and are newly initialized: ['classifier.dense.bias', 'classifier.dense.weight', 'classifier.out_proj.bias', 'classifier.out_proj.weight']\n",
            "You should probably TRAIN this model on a down-stream task to be able to use it for predictions and inference.\n",
            "/tmp/ipython-input-93-2841737310.py:34: FutureWarning: `tokenizer` is deprecated and will be removed in version 5.0.0 for `Trainer.__init__`. Use `processing_class` instead.\n",
            "  trainer = Trainer(\n"
          ]
        },
        {
          "output_type": "stream",
          "name": "stdout",
          "text": [
            "{'loss': 0.8834, 'grad_norm': 20.14725685119629, 'learning_rate': 1.8210937142744882e-05, 'epoch': 1.0}\n",
            "{'eval_loss': 0.9594243168830872, 'eval_accuracy': 0.667983149025803, 'eval_f1_macro': 0.6772403663898248, 'eval_runtime': 10.2745, 'eval_samples_per_second': 369.652, 'eval_steps_per_second': 46.231, 'epoch': 1.0}\n",
            "{'loss': 0.5519, 'grad_norm': 15.50577449798584, 'learning_rate': 1.3662404632520267e-05, 'epoch': 2.0}\n",
            "{'eval_loss': 0.6814717054367065, 'eval_accuracy': 0.7785676671932596, 'eval_f1_macro': 0.7869201780821529, 'eval_runtime': 10.5122, 'eval_samples_per_second': 361.294, 'eval_steps_per_second': 45.185, 'epoch': 2.0}\n",
            "{'loss': 0.4362, 'grad_norm': 3.4310147762298584, 'learning_rate': 9.112987537987942e-06, 'epoch': 3.0}\n",
            "{'eval_loss': 0.6444135904312134, 'eval_accuracy': 0.8048973143759873, 'eval_f1_macro': 0.8127646870659374, 'eval_runtime': 10.3861, 'eval_samples_per_second': 365.68, 'eval_steps_per_second': 45.734, 'epoch': 3.0}\n",
            "{'loss': 0.3615, 'grad_norm': 125.06330871582031, 'learning_rate': 4.56357044345562e-06, 'epoch': 4.0}\n",
            "{'eval_loss': 0.7236915230751038, 'eval_accuracy': 0.8267509215376514, 'eval_f1_macro': 0.8325889732873593, 'eval_runtime': 10.428, 'eval_samples_per_second': 364.211, 'eval_steps_per_second': 45.55, 'epoch': 4.0}\n",
            "{'loss': 0.2877, 'grad_norm': 0.03356070816516876, 'learning_rate': 1.3268764615591063e-08, 'epoch': 5.0}\n",
            "{'eval_loss': 0.857302188873291, 'eval_accuracy': 0.818852027382833, 'eval_f1_macro': 0.8254445161328452, 'eval_runtime': 10.3767, 'eval_samples_per_second': 366.014, 'eval_steps_per_second': 45.776, 'epoch': 5.0}\n",
            "{'train_runtime': 2078.1942, 'train_samples_per_second': 99.021, 'train_steps_per_second': 12.379, 'train_loss': 0.5041161350142735, 'epoch': 5.0}\n"
          ]
        },
        {
          "output_type": "execute_result",
          "data": {
            "text/plain": [
              "TrainOutput(global_step=25725, training_loss=0.5041161350142735, metrics={'train_runtime': 2078.1942, 'train_samples_per_second': 99.021, 'train_steps_per_second': 12.379, 'train_loss': 0.5041161350142735, 'epoch': 5.0})"
            ]
          },
          "metadata": {},
          "execution_count": 99
        }
      ]
    },
    {
      "cell_type": "code",
      "source": [
        "final_trainer_bert.save_model(\"models/bert_final_stratify_no_preprocess\")\n",
        "bert_tokenizer.save_pretrained(\"models/bert_final_stratify_no_preprocess\")\n",
        "!cp -r models/bert_final_stratify_no_preprocess \"/content/drive/MyDrive/Colab Notebooks/nlp_project/models/bert_best_model_stratify_no_preprocess\"\n",
        "\n",
        "final_trainer_roberta.save_model(\"models/roberta_final_stratify_no_preprocess\")\n",
        "roberta_tokenizer.save_pretrained(\"models/roberta_final_stratify_no_preprocess\")\n",
        "!cp -r models/roberta_final_stratify_no_preprocess \"/content/drive/MyDrive/Colab Notebooks/nlp_project/models/roberta_best_model_stratify_no_preprocess\""
      ],
      "metadata": {
        "id": "orC3ee4J3ng4"
      },
      "id": "orC3ee4J3ng4",
      "execution_count": 100,
      "outputs": []
    },
    {
      "cell_type": "code",
      "source": [],
      "metadata": {
        "id": "VZe9xCMR8vbj"
      },
      "id": "VZe9xCMR8vbj",
      "execution_count": 100,
      "outputs": []
    },
    {
      "cell_type": "code",
      "source": [],
      "metadata": {
        "id": "-hFHWbvH9YBM"
      },
      "id": "-hFHWbvH9YBM",
      "execution_count": 100,
      "outputs": []
    }
  ],
  "metadata": {
    "kernelspec": {
      "display_name": "Python 3",
      "name": "python3"
    },
    "language_info": {
      "codemirror_mode": {
        "name": "ipython",
        "version": 3
      },
      "file_extension": ".py",
      "mimetype": "text/x-python",
      "name": "python",
      "nbconvert_exporter": "python",
      "pygments_lexer": "ipython3",
      "version": "3.9.13"
    },
    "colab": {
      "provenance": [],
      "machine_shape": "hm",
      "gpuType": "A100",
      "include_colab_link": true
    },
    "accelerator": "GPU",
    "widgets": {
      "application/vnd.jupyter.widget-state+json": {
        "a814dd3ac07743c7929ff84ea4f3b760": {
          "model_module": "@jupyter-widgets/controls",
          "model_name": "HBoxModel",
          "model_module_version": "1.5.0",
          "state": {
            "_dom_classes": [],
            "_model_module": "@jupyter-widgets/controls",
            "_model_module_version": "1.5.0",
            "_model_name": "HBoxModel",
            "_view_count": null,
            "_view_module": "@jupyter-widgets/controls",
            "_view_module_version": "1.5.0",
            "_view_name": "HBoxView",
            "box_style": "",
            "children": [
              "IPY_MODEL_b975beecbe194fa9a7fc561d8ba764e8",
              "IPY_MODEL_8dac41efefe44aaf8d381d3ef451bd0f",
              "IPY_MODEL_e42d5fcfca46456aa3bb0f086aa8bfea"
            ],
            "layout": "IPY_MODEL_fcc467ff26264e6cb90aad2da1f2e9bf"
          }
        },
        "b975beecbe194fa9a7fc561d8ba764e8": {
          "model_module": "@jupyter-widgets/controls",
          "model_name": "HTMLModel",
          "model_module_version": "1.5.0",
          "state": {
            "_dom_classes": [],
            "_model_module": "@jupyter-widgets/controls",
            "_model_module_version": "1.5.0",
            "_model_name": "HTMLModel",
            "_view_count": null,
            "_view_module": "@jupyter-widgets/controls",
            "_view_module_version": "1.5.0",
            "_view_name": "HTMLView",
            "description": "",
            "description_tooltip": null,
            "layout": "IPY_MODEL_5ce8a6b948f347e294021bd2f155c40f",
            "placeholder": "​",
            "style": "IPY_MODEL_b8ff6bc20d734a6f80ad4e0ac77284e7",
            "value": "Map: 100%"
          }
        },
        "8dac41efefe44aaf8d381d3ef451bd0f": {
          "model_module": "@jupyter-widgets/controls",
          "model_name": "FloatProgressModel",
          "model_module_version": "1.5.0",
          "state": {
            "_dom_classes": [],
            "_model_module": "@jupyter-widgets/controls",
            "_model_module_version": "1.5.0",
            "_model_name": "FloatProgressModel",
            "_view_count": null,
            "_view_module": "@jupyter-widgets/controls",
            "_view_module_version": "1.5.0",
            "_view_name": "ProgressView",
            "bar_style": "success",
            "description": "",
            "description_tooltip": null,
            "layout": "IPY_MODEL_9e7d7993eb0749689a106e0e04cbf935",
            "max": 2000,
            "min": 0,
            "orientation": "horizontal",
            "style": "IPY_MODEL_1853e092154f4168b55e578521ec7bfc",
            "value": 2000
          }
        },
        "e42d5fcfca46456aa3bb0f086aa8bfea": {
          "model_module": "@jupyter-widgets/controls",
          "model_name": "HTMLModel",
          "model_module_version": "1.5.0",
          "state": {
            "_dom_classes": [],
            "_model_module": "@jupyter-widgets/controls",
            "_model_module_version": "1.5.0",
            "_model_name": "HTMLModel",
            "_view_count": null,
            "_view_module": "@jupyter-widgets/controls",
            "_view_module_version": "1.5.0",
            "_view_name": "HTMLView",
            "description": "",
            "description_tooltip": null,
            "layout": "IPY_MODEL_9b096919021c4845bfbbb1d28a401f55",
            "placeholder": "​",
            "style": "IPY_MODEL_3784a34da8d646c9b0a9d61f0137a227",
            "value": " 2000/2000 [00:00&lt;00:00, 13673.32 examples/s]"
          }
        },
        "fcc467ff26264e6cb90aad2da1f2e9bf": {
          "model_module": "@jupyter-widgets/base",
          "model_name": "LayoutModel",
          "model_module_version": "1.2.0",
          "state": {
            "_model_module": "@jupyter-widgets/base",
            "_model_module_version": "1.2.0",
            "_model_name": "LayoutModel",
            "_view_count": null,
            "_view_module": "@jupyter-widgets/base",
            "_view_module_version": "1.2.0",
            "_view_name": "LayoutView",
            "align_content": null,
            "align_items": null,
            "align_self": null,
            "border": null,
            "bottom": null,
            "display": null,
            "flex": null,
            "flex_flow": null,
            "grid_area": null,
            "grid_auto_columns": null,
            "grid_auto_flow": null,
            "grid_auto_rows": null,
            "grid_column": null,
            "grid_gap": null,
            "grid_row": null,
            "grid_template_areas": null,
            "grid_template_columns": null,
            "grid_template_rows": null,
            "height": null,
            "justify_content": null,
            "justify_items": null,
            "left": null,
            "margin": null,
            "max_height": null,
            "max_width": null,
            "min_height": null,
            "min_width": null,
            "object_fit": null,
            "object_position": null,
            "order": null,
            "overflow": null,
            "overflow_x": null,
            "overflow_y": null,
            "padding": null,
            "right": null,
            "top": null,
            "visibility": null,
            "width": null
          }
        },
        "5ce8a6b948f347e294021bd2f155c40f": {
          "model_module": "@jupyter-widgets/base",
          "model_name": "LayoutModel",
          "model_module_version": "1.2.0",
          "state": {
            "_model_module": "@jupyter-widgets/base",
            "_model_module_version": "1.2.0",
            "_model_name": "LayoutModel",
            "_view_count": null,
            "_view_module": "@jupyter-widgets/base",
            "_view_module_version": "1.2.0",
            "_view_name": "LayoutView",
            "align_content": null,
            "align_items": null,
            "align_self": null,
            "border": null,
            "bottom": null,
            "display": null,
            "flex": null,
            "flex_flow": null,
            "grid_area": null,
            "grid_auto_columns": null,
            "grid_auto_flow": null,
            "grid_auto_rows": null,
            "grid_column": null,
            "grid_gap": null,
            "grid_row": null,
            "grid_template_areas": null,
            "grid_template_columns": null,
            "grid_template_rows": null,
            "height": null,
            "justify_content": null,
            "justify_items": null,
            "left": null,
            "margin": null,
            "max_height": null,
            "max_width": null,
            "min_height": null,
            "min_width": null,
            "object_fit": null,
            "object_position": null,
            "order": null,
            "overflow": null,
            "overflow_x": null,
            "overflow_y": null,
            "padding": null,
            "right": null,
            "top": null,
            "visibility": null,
            "width": null
          }
        },
        "b8ff6bc20d734a6f80ad4e0ac77284e7": {
          "model_module": "@jupyter-widgets/controls",
          "model_name": "DescriptionStyleModel",
          "model_module_version": "1.5.0",
          "state": {
            "_model_module": "@jupyter-widgets/controls",
            "_model_module_version": "1.5.0",
            "_model_name": "DescriptionStyleModel",
            "_view_count": null,
            "_view_module": "@jupyter-widgets/base",
            "_view_module_version": "1.2.0",
            "_view_name": "StyleView",
            "description_width": ""
          }
        },
        "9e7d7993eb0749689a106e0e04cbf935": {
          "model_module": "@jupyter-widgets/base",
          "model_name": "LayoutModel",
          "model_module_version": "1.2.0",
          "state": {
            "_model_module": "@jupyter-widgets/base",
            "_model_module_version": "1.2.0",
            "_model_name": "LayoutModel",
            "_view_count": null,
            "_view_module": "@jupyter-widgets/base",
            "_view_module_version": "1.2.0",
            "_view_name": "LayoutView",
            "align_content": null,
            "align_items": null,
            "align_self": null,
            "border": null,
            "bottom": null,
            "display": null,
            "flex": null,
            "flex_flow": null,
            "grid_area": null,
            "grid_auto_columns": null,
            "grid_auto_flow": null,
            "grid_auto_rows": null,
            "grid_column": null,
            "grid_gap": null,
            "grid_row": null,
            "grid_template_areas": null,
            "grid_template_columns": null,
            "grid_template_rows": null,
            "height": null,
            "justify_content": null,
            "justify_items": null,
            "left": null,
            "margin": null,
            "max_height": null,
            "max_width": null,
            "min_height": null,
            "min_width": null,
            "object_fit": null,
            "object_position": null,
            "order": null,
            "overflow": null,
            "overflow_x": null,
            "overflow_y": null,
            "padding": null,
            "right": null,
            "top": null,
            "visibility": null,
            "width": null
          }
        },
        "1853e092154f4168b55e578521ec7bfc": {
          "model_module": "@jupyter-widgets/controls",
          "model_name": "ProgressStyleModel",
          "model_module_version": "1.5.0",
          "state": {
            "_model_module": "@jupyter-widgets/controls",
            "_model_module_version": "1.5.0",
            "_model_name": "ProgressStyleModel",
            "_view_count": null,
            "_view_module": "@jupyter-widgets/base",
            "_view_module_version": "1.2.0",
            "_view_name": "StyleView",
            "bar_color": null,
            "description_width": ""
          }
        },
        "9b096919021c4845bfbbb1d28a401f55": {
          "model_module": "@jupyter-widgets/base",
          "model_name": "LayoutModel",
          "model_module_version": "1.2.0",
          "state": {
            "_model_module": "@jupyter-widgets/base",
            "_model_module_version": "1.2.0",
            "_model_name": "LayoutModel",
            "_view_count": null,
            "_view_module": "@jupyter-widgets/base",
            "_view_module_version": "1.2.0",
            "_view_name": "LayoutView",
            "align_content": null,
            "align_items": null,
            "align_self": null,
            "border": null,
            "bottom": null,
            "display": null,
            "flex": null,
            "flex_flow": null,
            "grid_area": null,
            "grid_auto_columns": null,
            "grid_auto_flow": null,
            "grid_auto_rows": null,
            "grid_column": null,
            "grid_gap": null,
            "grid_row": null,
            "grid_template_areas": null,
            "grid_template_columns": null,
            "grid_template_rows": null,
            "height": null,
            "justify_content": null,
            "justify_items": null,
            "left": null,
            "margin": null,
            "max_height": null,
            "max_width": null,
            "min_height": null,
            "min_width": null,
            "object_fit": null,
            "object_position": null,
            "order": null,
            "overflow": null,
            "overflow_x": null,
            "overflow_y": null,
            "padding": null,
            "right": null,
            "top": null,
            "visibility": null,
            "width": null
          }
        },
        "3784a34da8d646c9b0a9d61f0137a227": {
          "model_module": "@jupyter-widgets/controls",
          "model_name": "DescriptionStyleModel",
          "model_module_version": "1.5.0",
          "state": {
            "_model_module": "@jupyter-widgets/controls",
            "_model_module_version": "1.5.0",
            "_model_name": "DescriptionStyleModel",
            "_view_count": null,
            "_view_module": "@jupyter-widgets/base",
            "_view_module_version": "1.2.0",
            "_view_name": "StyleView",
            "description_width": ""
          }
        },
        "588054b1929549b280e3194e2f403014": {
          "model_module": "@jupyter-widgets/controls",
          "model_name": "HBoxModel",
          "model_module_version": "1.5.0",
          "state": {
            "_dom_classes": [],
            "_model_module": "@jupyter-widgets/controls",
            "_model_module_version": "1.5.0",
            "_model_name": "HBoxModel",
            "_view_count": null,
            "_view_module": "@jupyter-widgets/controls",
            "_view_module_version": "1.5.0",
            "_view_name": "HBoxView",
            "box_style": "",
            "children": [
              "IPY_MODEL_97dc22e76f8142beb5b9b3580b081c26",
              "IPY_MODEL_3034741a3e2e4d518648f1c1d0bcefa3",
              "IPY_MODEL_124fafbdb5604ad38ed9bc33542b3b43"
            ],
            "layout": "IPY_MODEL_3366e67f85aa4dbdb697ee1fe6163dd3"
          }
        },
        "97dc22e76f8142beb5b9b3580b081c26": {
          "model_module": "@jupyter-widgets/controls",
          "model_name": "HTMLModel",
          "model_module_version": "1.5.0",
          "state": {
            "_dom_classes": [],
            "_model_module": "@jupyter-widgets/controls",
            "_model_module_version": "1.5.0",
            "_model_name": "HTMLModel",
            "_view_count": null,
            "_view_module": "@jupyter-widgets/controls",
            "_view_module_version": "1.5.0",
            "_view_name": "HTMLView",
            "description": "",
            "description_tooltip": null,
            "layout": "IPY_MODEL_76e08ea3751f4b9bbcaf140c2c0edc70",
            "placeholder": "​",
            "style": "IPY_MODEL_a45e75ed999a4bd8b9cafe5366f15a6a",
            "value": "Map: 100%"
          }
        },
        "3034741a3e2e4d518648f1c1d0bcefa3": {
          "model_module": "@jupyter-widgets/controls",
          "model_name": "FloatProgressModel",
          "model_module_version": "1.5.0",
          "state": {
            "_dom_classes": [],
            "_model_module": "@jupyter-widgets/controls",
            "_model_module_version": "1.5.0",
            "_model_name": "FloatProgressModel",
            "_view_count": null,
            "_view_module": "@jupyter-widgets/controls",
            "_view_module_version": "1.5.0",
            "_view_name": "ProgressView",
            "bar_style": "success",
            "description": "",
            "description_tooltip": null,
            "layout": "IPY_MODEL_ea963a9429974e3380aa1350b3efc599",
            "max": 500,
            "min": 0,
            "orientation": "horizontal",
            "style": "IPY_MODEL_dd74d6bfa6d94999822e8ff350e898eb",
            "value": 500
          }
        },
        "124fafbdb5604ad38ed9bc33542b3b43": {
          "model_module": "@jupyter-widgets/controls",
          "model_name": "HTMLModel",
          "model_module_version": "1.5.0",
          "state": {
            "_dom_classes": [],
            "_model_module": "@jupyter-widgets/controls",
            "_model_module_version": "1.5.0",
            "_model_name": "HTMLModel",
            "_view_count": null,
            "_view_module": "@jupyter-widgets/controls",
            "_view_module_version": "1.5.0",
            "_view_name": "HTMLView",
            "description": "",
            "description_tooltip": null,
            "layout": "IPY_MODEL_40f94c84cc16458f80ba0fbeba77ca9d",
            "placeholder": "​",
            "style": "IPY_MODEL_c39639af9e4a42dda13d356c676ebed1",
            "value": " 500/500 [00:00&lt;00:00, 10168.95 examples/s]"
          }
        },
        "3366e67f85aa4dbdb697ee1fe6163dd3": {
          "model_module": "@jupyter-widgets/base",
          "model_name": "LayoutModel",
          "model_module_version": "1.2.0",
          "state": {
            "_model_module": "@jupyter-widgets/base",
            "_model_module_version": "1.2.0",
            "_model_name": "LayoutModel",
            "_view_count": null,
            "_view_module": "@jupyter-widgets/base",
            "_view_module_version": "1.2.0",
            "_view_name": "LayoutView",
            "align_content": null,
            "align_items": null,
            "align_self": null,
            "border": null,
            "bottom": null,
            "display": null,
            "flex": null,
            "flex_flow": null,
            "grid_area": null,
            "grid_auto_columns": null,
            "grid_auto_flow": null,
            "grid_auto_rows": null,
            "grid_column": null,
            "grid_gap": null,
            "grid_row": null,
            "grid_template_areas": null,
            "grid_template_columns": null,
            "grid_template_rows": null,
            "height": null,
            "justify_content": null,
            "justify_items": null,
            "left": null,
            "margin": null,
            "max_height": null,
            "max_width": null,
            "min_height": null,
            "min_width": null,
            "object_fit": null,
            "object_position": null,
            "order": null,
            "overflow": null,
            "overflow_x": null,
            "overflow_y": null,
            "padding": null,
            "right": null,
            "top": null,
            "visibility": null,
            "width": null
          }
        },
        "76e08ea3751f4b9bbcaf140c2c0edc70": {
          "model_module": "@jupyter-widgets/base",
          "model_name": "LayoutModel",
          "model_module_version": "1.2.0",
          "state": {
            "_model_module": "@jupyter-widgets/base",
            "_model_module_version": "1.2.0",
            "_model_name": "LayoutModel",
            "_view_count": null,
            "_view_module": "@jupyter-widgets/base",
            "_view_module_version": "1.2.0",
            "_view_name": "LayoutView",
            "align_content": null,
            "align_items": null,
            "align_self": null,
            "border": null,
            "bottom": null,
            "display": null,
            "flex": null,
            "flex_flow": null,
            "grid_area": null,
            "grid_auto_columns": null,
            "grid_auto_flow": null,
            "grid_auto_rows": null,
            "grid_column": null,
            "grid_gap": null,
            "grid_row": null,
            "grid_template_areas": null,
            "grid_template_columns": null,
            "grid_template_rows": null,
            "height": null,
            "justify_content": null,
            "justify_items": null,
            "left": null,
            "margin": null,
            "max_height": null,
            "max_width": null,
            "min_height": null,
            "min_width": null,
            "object_fit": null,
            "object_position": null,
            "order": null,
            "overflow": null,
            "overflow_x": null,
            "overflow_y": null,
            "padding": null,
            "right": null,
            "top": null,
            "visibility": null,
            "width": null
          }
        },
        "a45e75ed999a4bd8b9cafe5366f15a6a": {
          "model_module": "@jupyter-widgets/controls",
          "model_name": "DescriptionStyleModel",
          "model_module_version": "1.5.0",
          "state": {
            "_model_module": "@jupyter-widgets/controls",
            "_model_module_version": "1.5.0",
            "_model_name": "DescriptionStyleModel",
            "_view_count": null,
            "_view_module": "@jupyter-widgets/base",
            "_view_module_version": "1.2.0",
            "_view_name": "StyleView",
            "description_width": ""
          }
        },
        "ea963a9429974e3380aa1350b3efc599": {
          "model_module": "@jupyter-widgets/base",
          "model_name": "LayoutModel",
          "model_module_version": "1.2.0",
          "state": {
            "_model_module": "@jupyter-widgets/base",
            "_model_module_version": "1.2.0",
            "_model_name": "LayoutModel",
            "_view_count": null,
            "_view_module": "@jupyter-widgets/base",
            "_view_module_version": "1.2.0",
            "_view_name": "LayoutView",
            "align_content": null,
            "align_items": null,
            "align_self": null,
            "border": null,
            "bottom": null,
            "display": null,
            "flex": null,
            "flex_flow": null,
            "grid_area": null,
            "grid_auto_columns": null,
            "grid_auto_flow": null,
            "grid_auto_rows": null,
            "grid_column": null,
            "grid_gap": null,
            "grid_row": null,
            "grid_template_areas": null,
            "grid_template_columns": null,
            "grid_template_rows": null,
            "height": null,
            "justify_content": null,
            "justify_items": null,
            "left": null,
            "margin": null,
            "max_height": null,
            "max_width": null,
            "min_height": null,
            "min_width": null,
            "object_fit": null,
            "object_position": null,
            "order": null,
            "overflow": null,
            "overflow_x": null,
            "overflow_y": null,
            "padding": null,
            "right": null,
            "top": null,
            "visibility": null,
            "width": null
          }
        },
        "dd74d6bfa6d94999822e8ff350e898eb": {
          "model_module": "@jupyter-widgets/controls",
          "model_name": "ProgressStyleModel",
          "model_module_version": "1.5.0",
          "state": {
            "_model_module": "@jupyter-widgets/controls",
            "_model_module_version": "1.5.0",
            "_model_name": "ProgressStyleModel",
            "_view_count": null,
            "_view_module": "@jupyter-widgets/base",
            "_view_module_version": "1.2.0",
            "_view_name": "StyleView",
            "bar_color": null,
            "description_width": ""
          }
        },
        "40f94c84cc16458f80ba0fbeba77ca9d": {
          "model_module": "@jupyter-widgets/base",
          "model_name": "LayoutModel",
          "model_module_version": "1.2.0",
          "state": {
            "_model_module": "@jupyter-widgets/base",
            "_model_module_version": "1.2.0",
            "_model_name": "LayoutModel",
            "_view_count": null,
            "_view_module": "@jupyter-widgets/base",
            "_view_module_version": "1.2.0",
            "_view_name": "LayoutView",
            "align_content": null,
            "align_items": null,
            "align_self": null,
            "border": null,
            "bottom": null,
            "display": null,
            "flex": null,
            "flex_flow": null,
            "grid_area": null,
            "grid_auto_columns": null,
            "grid_auto_flow": null,
            "grid_auto_rows": null,
            "grid_column": null,
            "grid_gap": null,
            "grid_row": null,
            "grid_template_areas": null,
            "grid_template_columns": null,
            "grid_template_rows": null,
            "height": null,
            "justify_content": null,
            "justify_items": null,
            "left": null,
            "margin": null,
            "max_height": null,
            "max_width": null,
            "min_height": null,
            "min_width": null,
            "object_fit": null,
            "object_position": null,
            "order": null,
            "overflow": null,
            "overflow_x": null,
            "overflow_y": null,
            "padding": null,
            "right": null,
            "top": null,
            "visibility": null,
            "width": null
          }
        },
        "c39639af9e4a42dda13d356c676ebed1": {
          "model_module": "@jupyter-widgets/controls",
          "model_name": "DescriptionStyleModel",
          "model_module_version": "1.5.0",
          "state": {
            "_model_module": "@jupyter-widgets/controls",
            "_model_module_version": "1.5.0",
            "_model_name": "DescriptionStyleModel",
            "_view_count": null,
            "_view_module": "@jupyter-widgets/base",
            "_view_module_version": "1.2.0",
            "_view_name": "StyleView",
            "description_width": ""
          }
        },
        "18ccf6f103984aa1af3e1bb9fc75b784": {
          "model_module": "@jupyter-widgets/controls",
          "model_name": "HBoxModel",
          "model_module_version": "1.5.0",
          "state": {
            "_dom_classes": [],
            "_model_module": "@jupyter-widgets/controls",
            "_model_module_version": "1.5.0",
            "_model_name": "HBoxModel",
            "_view_count": null,
            "_view_module": "@jupyter-widgets/controls",
            "_view_module_version": "1.5.0",
            "_view_name": "HBoxView",
            "box_style": "",
            "children": [
              "IPY_MODEL_1bfd94f468e84aed8116e45afe814a44",
              "IPY_MODEL_48dcfeddf3d84c5092f41a7e3ea02a92",
              "IPY_MODEL_f85531f3191c4d34bce0f7289c089f12"
            ],
            "layout": "IPY_MODEL_39825b2baaab489b9dc78f9d78d091d0"
          }
        },
        "1bfd94f468e84aed8116e45afe814a44": {
          "model_module": "@jupyter-widgets/controls",
          "model_name": "HTMLModel",
          "model_module_version": "1.5.0",
          "state": {
            "_dom_classes": [],
            "_model_module": "@jupyter-widgets/controls",
            "_model_module_version": "1.5.0",
            "_model_name": "HTMLModel",
            "_view_count": null,
            "_view_module": "@jupyter-widgets/controls",
            "_view_module_version": "1.5.0",
            "_view_name": "HTMLView",
            "description": "",
            "description_tooltip": null,
            "layout": "IPY_MODEL_613ad2579c0a402e836105156c63eb2e",
            "placeholder": "​",
            "style": "IPY_MODEL_22c381efe12044caa4784180dd8bb532",
            "value": "Map: 100%"
          }
        },
        "48dcfeddf3d84c5092f41a7e3ea02a92": {
          "model_module": "@jupyter-widgets/controls",
          "model_name": "FloatProgressModel",
          "model_module_version": "1.5.0",
          "state": {
            "_dom_classes": [],
            "_model_module": "@jupyter-widgets/controls",
            "_model_module_version": "1.5.0",
            "_model_name": "FloatProgressModel",
            "_view_count": null,
            "_view_module": "@jupyter-widgets/controls",
            "_view_module_version": "1.5.0",
            "_view_name": "ProgressView",
            "bar_style": "success",
            "description": "",
            "description_tooltip": null,
            "layout": "IPY_MODEL_339c9c4ef9a44e3da3c1b4dfaf7f531b",
            "max": 2000,
            "min": 0,
            "orientation": "horizontal",
            "style": "IPY_MODEL_8a1a545680e74ca2b9bc66e7bef86758",
            "value": 2000
          }
        },
        "f85531f3191c4d34bce0f7289c089f12": {
          "model_module": "@jupyter-widgets/controls",
          "model_name": "HTMLModel",
          "model_module_version": "1.5.0",
          "state": {
            "_dom_classes": [],
            "_model_module": "@jupyter-widgets/controls",
            "_model_module_version": "1.5.0",
            "_model_name": "HTMLModel",
            "_view_count": null,
            "_view_module": "@jupyter-widgets/controls",
            "_view_module_version": "1.5.0",
            "_view_name": "HTMLView",
            "description": "",
            "description_tooltip": null,
            "layout": "IPY_MODEL_ef2ca3fe9ba84e37b1cefb5344377f19",
            "placeholder": "​",
            "style": "IPY_MODEL_e79cfc2bc22b4d2884a6b59661332a99",
            "value": " 2000/2000 [00:00&lt;00:00, 15445.79 examples/s]"
          }
        },
        "39825b2baaab489b9dc78f9d78d091d0": {
          "model_module": "@jupyter-widgets/base",
          "model_name": "LayoutModel",
          "model_module_version": "1.2.0",
          "state": {
            "_model_module": "@jupyter-widgets/base",
            "_model_module_version": "1.2.0",
            "_model_name": "LayoutModel",
            "_view_count": null,
            "_view_module": "@jupyter-widgets/base",
            "_view_module_version": "1.2.0",
            "_view_name": "LayoutView",
            "align_content": null,
            "align_items": null,
            "align_self": null,
            "border": null,
            "bottom": null,
            "display": null,
            "flex": null,
            "flex_flow": null,
            "grid_area": null,
            "grid_auto_columns": null,
            "grid_auto_flow": null,
            "grid_auto_rows": null,
            "grid_column": null,
            "grid_gap": null,
            "grid_row": null,
            "grid_template_areas": null,
            "grid_template_columns": null,
            "grid_template_rows": null,
            "height": null,
            "justify_content": null,
            "justify_items": null,
            "left": null,
            "margin": null,
            "max_height": null,
            "max_width": null,
            "min_height": null,
            "min_width": null,
            "object_fit": null,
            "object_position": null,
            "order": null,
            "overflow": null,
            "overflow_x": null,
            "overflow_y": null,
            "padding": null,
            "right": null,
            "top": null,
            "visibility": null,
            "width": null
          }
        },
        "613ad2579c0a402e836105156c63eb2e": {
          "model_module": "@jupyter-widgets/base",
          "model_name": "LayoutModel",
          "model_module_version": "1.2.0",
          "state": {
            "_model_module": "@jupyter-widgets/base",
            "_model_module_version": "1.2.0",
            "_model_name": "LayoutModel",
            "_view_count": null,
            "_view_module": "@jupyter-widgets/base",
            "_view_module_version": "1.2.0",
            "_view_name": "LayoutView",
            "align_content": null,
            "align_items": null,
            "align_self": null,
            "border": null,
            "bottom": null,
            "display": null,
            "flex": null,
            "flex_flow": null,
            "grid_area": null,
            "grid_auto_columns": null,
            "grid_auto_flow": null,
            "grid_auto_rows": null,
            "grid_column": null,
            "grid_gap": null,
            "grid_row": null,
            "grid_template_areas": null,
            "grid_template_columns": null,
            "grid_template_rows": null,
            "height": null,
            "justify_content": null,
            "justify_items": null,
            "left": null,
            "margin": null,
            "max_height": null,
            "max_width": null,
            "min_height": null,
            "min_width": null,
            "object_fit": null,
            "object_position": null,
            "order": null,
            "overflow": null,
            "overflow_x": null,
            "overflow_y": null,
            "padding": null,
            "right": null,
            "top": null,
            "visibility": null,
            "width": null
          }
        },
        "22c381efe12044caa4784180dd8bb532": {
          "model_module": "@jupyter-widgets/controls",
          "model_name": "DescriptionStyleModel",
          "model_module_version": "1.5.0",
          "state": {
            "_model_module": "@jupyter-widgets/controls",
            "_model_module_version": "1.5.0",
            "_model_name": "DescriptionStyleModel",
            "_view_count": null,
            "_view_module": "@jupyter-widgets/base",
            "_view_module_version": "1.2.0",
            "_view_name": "StyleView",
            "description_width": ""
          }
        },
        "339c9c4ef9a44e3da3c1b4dfaf7f531b": {
          "model_module": "@jupyter-widgets/base",
          "model_name": "LayoutModel",
          "model_module_version": "1.2.0",
          "state": {
            "_model_module": "@jupyter-widgets/base",
            "_model_module_version": "1.2.0",
            "_model_name": "LayoutModel",
            "_view_count": null,
            "_view_module": "@jupyter-widgets/base",
            "_view_module_version": "1.2.0",
            "_view_name": "LayoutView",
            "align_content": null,
            "align_items": null,
            "align_self": null,
            "border": null,
            "bottom": null,
            "display": null,
            "flex": null,
            "flex_flow": null,
            "grid_area": null,
            "grid_auto_columns": null,
            "grid_auto_flow": null,
            "grid_auto_rows": null,
            "grid_column": null,
            "grid_gap": null,
            "grid_row": null,
            "grid_template_areas": null,
            "grid_template_columns": null,
            "grid_template_rows": null,
            "height": null,
            "justify_content": null,
            "justify_items": null,
            "left": null,
            "margin": null,
            "max_height": null,
            "max_width": null,
            "min_height": null,
            "min_width": null,
            "object_fit": null,
            "object_position": null,
            "order": null,
            "overflow": null,
            "overflow_x": null,
            "overflow_y": null,
            "padding": null,
            "right": null,
            "top": null,
            "visibility": null,
            "width": null
          }
        },
        "8a1a545680e74ca2b9bc66e7bef86758": {
          "model_module": "@jupyter-widgets/controls",
          "model_name": "ProgressStyleModel",
          "model_module_version": "1.5.0",
          "state": {
            "_model_module": "@jupyter-widgets/controls",
            "_model_module_version": "1.5.0",
            "_model_name": "ProgressStyleModel",
            "_view_count": null,
            "_view_module": "@jupyter-widgets/base",
            "_view_module_version": "1.2.0",
            "_view_name": "StyleView",
            "bar_color": null,
            "description_width": ""
          }
        },
        "ef2ca3fe9ba84e37b1cefb5344377f19": {
          "model_module": "@jupyter-widgets/base",
          "model_name": "LayoutModel",
          "model_module_version": "1.2.0",
          "state": {
            "_model_module": "@jupyter-widgets/base",
            "_model_module_version": "1.2.0",
            "_model_name": "LayoutModel",
            "_view_count": null,
            "_view_module": "@jupyter-widgets/base",
            "_view_module_version": "1.2.0",
            "_view_name": "LayoutView",
            "align_content": null,
            "align_items": null,
            "align_self": null,
            "border": null,
            "bottom": null,
            "display": null,
            "flex": null,
            "flex_flow": null,
            "grid_area": null,
            "grid_auto_columns": null,
            "grid_auto_flow": null,
            "grid_auto_rows": null,
            "grid_column": null,
            "grid_gap": null,
            "grid_row": null,
            "grid_template_areas": null,
            "grid_template_columns": null,
            "grid_template_rows": null,
            "height": null,
            "justify_content": null,
            "justify_items": null,
            "left": null,
            "margin": null,
            "max_height": null,
            "max_width": null,
            "min_height": null,
            "min_width": null,
            "object_fit": null,
            "object_position": null,
            "order": null,
            "overflow": null,
            "overflow_x": null,
            "overflow_y": null,
            "padding": null,
            "right": null,
            "top": null,
            "visibility": null,
            "width": null
          }
        },
        "e79cfc2bc22b4d2884a6b59661332a99": {
          "model_module": "@jupyter-widgets/controls",
          "model_name": "DescriptionStyleModel",
          "model_module_version": "1.5.0",
          "state": {
            "_model_module": "@jupyter-widgets/controls",
            "_model_module_version": "1.5.0",
            "_model_name": "DescriptionStyleModel",
            "_view_count": null,
            "_view_module": "@jupyter-widgets/base",
            "_view_module_version": "1.2.0",
            "_view_name": "StyleView",
            "description_width": ""
          }
        },
        "217cb232c12549189aa642ee862985ea": {
          "model_module": "@jupyter-widgets/controls",
          "model_name": "HBoxModel",
          "model_module_version": "1.5.0",
          "state": {
            "_dom_classes": [],
            "_model_module": "@jupyter-widgets/controls",
            "_model_module_version": "1.5.0",
            "_model_name": "HBoxModel",
            "_view_count": null,
            "_view_module": "@jupyter-widgets/controls",
            "_view_module_version": "1.5.0",
            "_view_name": "HBoxView",
            "box_style": "",
            "children": [
              "IPY_MODEL_ea3a75df4ee5472a9315123343b16de1",
              "IPY_MODEL_758f2fa2dd3d4765b0a5ef8ecebb920c",
              "IPY_MODEL_ac4376d1bbe74fa4a928bc72a2cc5410"
            ],
            "layout": "IPY_MODEL_af2892f43502416fb671e1d4d1ed47a5"
          }
        },
        "ea3a75df4ee5472a9315123343b16de1": {
          "model_module": "@jupyter-widgets/controls",
          "model_name": "HTMLModel",
          "model_module_version": "1.5.0",
          "state": {
            "_dom_classes": [],
            "_model_module": "@jupyter-widgets/controls",
            "_model_module_version": "1.5.0",
            "_model_name": "HTMLModel",
            "_view_count": null,
            "_view_module": "@jupyter-widgets/controls",
            "_view_module_version": "1.5.0",
            "_view_name": "HTMLView",
            "description": "",
            "description_tooltip": null,
            "layout": "IPY_MODEL_edbf8af993ae4a5a84f59ea583ce6d25",
            "placeholder": "​",
            "style": "IPY_MODEL_9530c66303df49e7b2c1a02138627846",
            "value": "Map: 100%"
          }
        },
        "758f2fa2dd3d4765b0a5ef8ecebb920c": {
          "model_module": "@jupyter-widgets/controls",
          "model_name": "FloatProgressModel",
          "model_module_version": "1.5.0",
          "state": {
            "_dom_classes": [],
            "_model_module": "@jupyter-widgets/controls",
            "_model_module_version": "1.5.0",
            "_model_name": "FloatProgressModel",
            "_view_count": null,
            "_view_module": "@jupyter-widgets/controls",
            "_view_module_version": "1.5.0",
            "_view_name": "ProgressView",
            "bar_style": "success",
            "description": "",
            "description_tooltip": null,
            "layout": "IPY_MODEL_a6e18804490f4efb9d64b850da42a077",
            "max": 500,
            "min": 0,
            "orientation": "horizontal",
            "style": "IPY_MODEL_cae79b190cd04ea4ad98b716b9c4eab6",
            "value": 500
          }
        },
        "ac4376d1bbe74fa4a928bc72a2cc5410": {
          "model_module": "@jupyter-widgets/controls",
          "model_name": "HTMLModel",
          "model_module_version": "1.5.0",
          "state": {
            "_dom_classes": [],
            "_model_module": "@jupyter-widgets/controls",
            "_model_module_version": "1.5.0",
            "_model_name": "HTMLModel",
            "_view_count": null,
            "_view_module": "@jupyter-widgets/controls",
            "_view_module_version": "1.5.0",
            "_view_name": "HTMLView",
            "description": "",
            "description_tooltip": null,
            "layout": "IPY_MODEL_96f1a81fcfcc44cb9af53e2a5f1757af",
            "placeholder": "​",
            "style": "IPY_MODEL_db2303fafa494bd2b046399317194417",
            "value": " 500/500 [00:00&lt;00:00, 11119.05 examples/s]"
          }
        },
        "af2892f43502416fb671e1d4d1ed47a5": {
          "model_module": "@jupyter-widgets/base",
          "model_name": "LayoutModel",
          "model_module_version": "1.2.0",
          "state": {
            "_model_module": "@jupyter-widgets/base",
            "_model_module_version": "1.2.0",
            "_model_name": "LayoutModel",
            "_view_count": null,
            "_view_module": "@jupyter-widgets/base",
            "_view_module_version": "1.2.0",
            "_view_name": "LayoutView",
            "align_content": null,
            "align_items": null,
            "align_self": null,
            "border": null,
            "bottom": null,
            "display": null,
            "flex": null,
            "flex_flow": null,
            "grid_area": null,
            "grid_auto_columns": null,
            "grid_auto_flow": null,
            "grid_auto_rows": null,
            "grid_column": null,
            "grid_gap": null,
            "grid_row": null,
            "grid_template_areas": null,
            "grid_template_columns": null,
            "grid_template_rows": null,
            "height": null,
            "justify_content": null,
            "justify_items": null,
            "left": null,
            "margin": null,
            "max_height": null,
            "max_width": null,
            "min_height": null,
            "min_width": null,
            "object_fit": null,
            "object_position": null,
            "order": null,
            "overflow": null,
            "overflow_x": null,
            "overflow_y": null,
            "padding": null,
            "right": null,
            "top": null,
            "visibility": null,
            "width": null
          }
        },
        "edbf8af993ae4a5a84f59ea583ce6d25": {
          "model_module": "@jupyter-widgets/base",
          "model_name": "LayoutModel",
          "model_module_version": "1.2.0",
          "state": {
            "_model_module": "@jupyter-widgets/base",
            "_model_module_version": "1.2.0",
            "_model_name": "LayoutModel",
            "_view_count": null,
            "_view_module": "@jupyter-widgets/base",
            "_view_module_version": "1.2.0",
            "_view_name": "LayoutView",
            "align_content": null,
            "align_items": null,
            "align_self": null,
            "border": null,
            "bottom": null,
            "display": null,
            "flex": null,
            "flex_flow": null,
            "grid_area": null,
            "grid_auto_columns": null,
            "grid_auto_flow": null,
            "grid_auto_rows": null,
            "grid_column": null,
            "grid_gap": null,
            "grid_row": null,
            "grid_template_areas": null,
            "grid_template_columns": null,
            "grid_template_rows": null,
            "height": null,
            "justify_content": null,
            "justify_items": null,
            "left": null,
            "margin": null,
            "max_height": null,
            "max_width": null,
            "min_height": null,
            "min_width": null,
            "object_fit": null,
            "object_position": null,
            "order": null,
            "overflow": null,
            "overflow_x": null,
            "overflow_y": null,
            "padding": null,
            "right": null,
            "top": null,
            "visibility": null,
            "width": null
          }
        },
        "9530c66303df49e7b2c1a02138627846": {
          "model_module": "@jupyter-widgets/controls",
          "model_name": "DescriptionStyleModel",
          "model_module_version": "1.5.0",
          "state": {
            "_model_module": "@jupyter-widgets/controls",
            "_model_module_version": "1.5.0",
            "_model_name": "DescriptionStyleModel",
            "_view_count": null,
            "_view_module": "@jupyter-widgets/base",
            "_view_module_version": "1.2.0",
            "_view_name": "StyleView",
            "description_width": ""
          }
        },
        "a6e18804490f4efb9d64b850da42a077": {
          "model_module": "@jupyter-widgets/base",
          "model_name": "LayoutModel",
          "model_module_version": "1.2.0",
          "state": {
            "_model_module": "@jupyter-widgets/base",
            "_model_module_version": "1.2.0",
            "_model_name": "LayoutModel",
            "_view_count": null,
            "_view_module": "@jupyter-widgets/base",
            "_view_module_version": "1.2.0",
            "_view_name": "LayoutView",
            "align_content": null,
            "align_items": null,
            "align_self": null,
            "border": null,
            "bottom": null,
            "display": null,
            "flex": null,
            "flex_flow": null,
            "grid_area": null,
            "grid_auto_columns": null,
            "grid_auto_flow": null,
            "grid_auto_rows": null,
            "grid_column": null,
            "grid_gap": null,
            "grid_row": null,
            "grid_template_areas": null,
            "grid_template_columns": null,
            "grid_template_rows": null,
            "height": null,
            "justify_content": null,
            "justify_items": null,
            "left": null,
            "margin": null,
            "max_height": null,
            "max_width": null,
            "min_height": null,
            "min_width": null,
            "object_fit": null,
            "object_position": null,
            "order": null,
            "overflow": null,
            "overflow_x": null,
            "overflow_y": null,
            "padding": null,
            "right": null,
            "top": null,
            "visibility": null,
            "width": null
          }
        },
        "cae79b190cd04ea4ad98b716b9c4eab6": {
          "model_module": "@jupyter-widgets/controls",
          "model_name": "ProgressStyleModel",
          "model_module_version": "1.5.0",
          "state": {
            "_model_module": "@jupyter-widgets/controls",
            "_model_module_version": "1.5.0",
            "_model_name": "ProgressStyleModel",
            "_view_count": null,
            "_view_module": "@jupyter-widgets/base",
            "_view_module_version": "1.2.0",
            "_view_name": "StyleView",
            "bar_color": null,
            "description_width": ""
          }
        },
        "96f1a81fcfcc44cb9af53e2a5f1757af": {
          "model_module": "@jupyter-widgets/base",
          "model_name": "LayoutModel",
          "model_module_version": "1.2.0",
          "state": {
            "_model_module": "@jupyter-widgets/base",
            "_model_module_version": "1.2.0",
            "_model_name": "LayoutModel",
            "_view_count": null,
            "_view_module": "@jupyter-widgets/base",
            "_view_module_version": "1.2.0",
            "_view_name": "LayoutView",
            "align_content": null,
            "align_items": null,
            "align_self": null,
            "border": null,
            "bottom": null,
            "display": null,
            "flex": null,
            "flex_flow": null,
            "grid_area": null,
            "grid_auto_columns": null,
            "grid_auto_flow": null,
            "grid_auto_rows": null,
            "grid_column": null,
            "grid_gap": null,
            "grid_row": null,
            "grid_template_areas": null,
            "grid_template_columns": null,
            "grid_template_rows": null,
            "height": null,
            "justify_content": null,
            "justify_items": null,
            "left": null,
            "margin": null,
            "max_height": null,
            "max_width": null,
            "min_height": null,
            "min_width": null,
            "object_fit": null,
            "object_position": null,
            "order": null,
            "overflow": null,
            "overflow_x": null,
            "overflow_y": null,
            "padding": null,
            "right": null,
            "top": null,
            "visibility": null,
            "width": null
          }
        },
        "db2303fafa494bd2b046399317194417": {
          "model_module": "@jupyter-widgets/controls",
          "model_name": "DescriptionStyleModel",
          "model_module_version": "1.5.0",
          "state": {
            "_model_module": "@jupyter-widgets/controls",
            "_model_module_version": "1.5.0",
            "_model_name": "DescriptionStyleModel",
            "_view_count": null,
            "_view_module": "@jupyter-widgets/base",
            "_view_module_version": "1.2.0",
            "_view_name": "StyleView",
            "description_width": ""
          }
        },
        "edfe6aa3d11d4684b7d5e7fe068d4671": {
          "model_module": "@jupyter-widgets/controls",
          "model_name": "HBoxModel",
          "model_module_version": "1.5.0",
          "state": {
            "_dom_classes": [],
            "_model_module": "@jupyter-widgets/controls",
            "_model_module_version": "1.5.0",
            "_model_name": "HBoxModel",
            "_view_count": null,
            "_view_module": "@jupyter-widgets/controls",
            "_view_module_version": "1.5.0",
            "_view_name": "HBoxView",
            "box_style": "",
            "children": [
              "IPY_MODEL_51104b85e84a47a497cfee0c34b57fed",
              "IPY_MODEL_c4d07333de714294bc1c7c39b3e27788",
              "IPY_MODEL_3df521b0b48943c691a1b829ae48930a"
            ],
            "layout": "IPY_MODEL_46bd879fd2d7473ea759f96955266ec7"
          }
        },
        "51104b85e84a47a497cfee0c34b57fed": {
          "model_module": "@jupyter-widgets/controls",
          "model_name": "HTMLModel",
          "model_module_version": "1.5.0",
          "state": {
            "_dom_classes": [],
            "_model_module": "@jupyter-widgets/controls",
            "_model_module_version": "1.5.0",
            "_model_name": "HTMLModel",
            "_view_count": null,
            "_view_module": "@jupyter-widgets/controls",
            "_view_module_version": "1.5.0",
            "_view_name": "HTMLView",
            "description": "",
            "description_tooltip": null,
            "layout": "IPY_MODEL_c8a9abe74f8b49a0a4d15e01fcd25eaa",
            "placeholder": "​",
            "style": "IPY_MODEL_d34ef56014744eae8b5ce80b09382441",
            "value": "Map: 100%"
          }
        },
        "c4d07333de714294bc1c7c39b3e27788": {
          "model_module": "@jupyter-widgets/controls",
          "model_name": "FloatProgressModel",
          "model_module_version": "1.5.0",
          "state": {
            "_dom_classes": [],
            "_model_module": "@jupyter-widgets/controls",
            "_model_module_version": "1.5.0",
            "_model_name": "FloatProgressModel",
            "_view_count": null,
            "_view_module": "@jupyter-widgets/controls",
            "_view_module_version": "1.5.0",
            "_view_name": "ProgressView",
            "bar_style": "success",
            "description": "",
            "description_tooltip": null,
            "layout": "IPY_MODEL_f5a8e1fe92944a09ae1f73a8e36f686e",
            "max": 41157,
            "min": 0,
            "orientation": "horizontal",
            "style": "IPY_MODEL_00190930f0a24a7aa376539255c8b8ff",
            "value": 41157
          }
        },
        "3df521b0b48943c691a1b829ae48930a": {
          "model_module": "@jupyter-widgets/controls",
          "model_name": "HTMLModel",
          "model_module_version": "1.5.0",
          "state": {
            "_dom_classes": [],
            "_model_module": "@jupyter-widgets/controls",
            "_model_module_version": "1.5.0",
            "_model_name": "HTMLModel",
            "_view_count": null,
            "_view_module": "@jupyter-widgets/controls",
            "_view_module_version": "1.5.0",
            "_view_name": "HTMLView",
            "description": "",
            "description_tooltip": null,
            "layout": "IPY_MODEL_8d08305c6b134b6597f904bc5f0940c6",
            "placeholder": "​",
            "style": "IPY_MODEL_812d046ad8884b279c80b8748480a0f9",
            "value": " 41157/41157 [00:03&lt;00:00, 9684.76 examples/s]"
          }
        },
        "46bd879fd2d7473ea759f96955266ec7": {
          "model_module": "@jupyter-widgets/base",
          "model_name": "LayoutModel",
          "model_module_version": "1.2.0",
          "state": {
            "_model_module": "@jupyter-widgets/base",
            "_model_module_version": "1.2.0",
            "_model_name": "LayoutModel",
            "_view_count": null,
            "_view_module": "@jupyter-widgets/base",
            "_view_module_version": "1.2.0",
            "_view_name": "LayoutView",
            "align_content": null,
            "align_items": null,
            "align_self": null,
            "border": null,
            "bottom": null,
            "display": null,
            "flex": null,
            "flex_flow": null,
            "grid_area": null,
            "grid_auto_columns": null,
            "grid_auto_flow": null,
            "grid_auto_rows": null,
            "grid_column": null,
            "grid_gap": null,
            "grid_row": null,
            "grid_template_areas": null,
            "grid_template_columns": null,
            "grid_template_rows": null,
            "height": null,
            "justify_content": null,
            "justify_items": null,
            "left": null,
            "margin": null,
            "max_height": null,
            "max_width": null,
            "min_height": null,
            "min_width": null,
            "object_fit": null,
            "object_position": null,
            "order": null,
            "overflow": null,
            "overflow_x": null,
            "overflow_y": null,
            "padding": null,
            "right": null,
            "top": null,
            "visibility": null,
            "width": null
          }
        },
        "c8a9abe74f8b49a0a4d15e01fcd25eaa": {
          "model_module": "@jupyter-widgets/base",
          "model_name": "LayoutModel",
          "model_module_version": "1.2.0",
          "state": {
            "_model_module": "@jupyter-widgets/base",
            "_model_module_version": "1.2.0",
            "_model_name": "LayoutModel",
            "_view_count": null,
            "_view_module": "@jupyter-widgets/base",
            "_view_module_version": "1.2.0",
            "_view_name": "LayoutView",
            "align_content": null,
            "align_items": null,
            "align_self": null,
            "border": null,
            "bottom": null,
            "display": null,
            "flex": null,
            "flex_flow": null,
            "grid_area": null,
            "grid_auto_columns": null,
            "grid_auto_flow": null,
            "grid_auto_rows": null,
            "grid_column": null,
            "grid_gap": null,
            "grid_row": null,
            "grid_template_areas": null,
            "grid_template_columns": null,
            "grid_template_rows": null,
            "height": null,
            "justify_content": null,
            "justify_items": null,
            "left": null,
            "margin": null,
            "max_height": null,
            "max_width": null,
            "min_height": null,
            "min_width": null,
            "object_fit": null,
            "object_position": null,
            "order": null,
            "overflow": null,
            "overflow_x": null,
            "overflow_y": null,
            "padding": null,
            "right": null,
            "top": null,
            "visibility": null,
            "width": null
          }
        },
        "d34ef56014744eae8b5ce80b09382441": {
          "model_module": "@jupyter-widgets/controls",
          "model_name": "DescriptionStyleModel",
          "model_module_version": "1.5.0",
          "state": {
            "_model_module": "@jupyter-widgets/controls",
            "_model_module_version": "1.5.0",
            "_model_name": "DescriptionStyleModel",
            "_view_count": null,
            "_view_module": "@jupyter-widgets/base",
            "_view_module_version": "1.2.0",
            "_view_name": "StyleView",
            "description_width": ""
          }
        },
        "f5a8e1fe92944a09ae1f73a8e36f686e": {
          "model_module": "@jupyter-widgets/base",
          "model_name": "LayoutModel",
          "model_module_version": "1.2.0",
          "state": {
            "_model_module": "@jupyter-widgets/base",
            "_model_module_version": "1.2.0",
            "_model_name": "LayoutModel",
            "_view_count": null,
            "_view_module": "@jupyter-widgets/base",
            "_view_module_version": "1.2.0",
            "_view_name": "LayoutView",
            "align_content": null,
            "align_items": null,
            "align_self": null,
            "border": null,
            "bottom": null,
            "display": null,
            "flex": null,
            "flex_flow": null,
            "grid_area": null,
            "grid_auto_columns": null,
            "grid_auto_flow": null,
            "grid_auto_rows": null,
            "grid_column": null,
            "grid_gap": null,
            "grid_row": null,
            "grid_template_areas": null,
            "grid_template_columns": null,
            "grid_template_rows": null,
            "height": null,
            "justify_content": null,
            "justify_items": null,
            "left": null,
            "margin": null,
            "max_height": null,
            "max_width": null,
            "min_height": null,
            "min_width": null,
            "object_fit": null,
            "object_position": null,
            "order": null,
            "overflow": null,
            "overflow_x": null,
            "overflow_y": null,
            "padding": null,
            "right": null,
            "top": null,
            "visibility": null,
            "width": null
          }
        },
        "00190930f0a24a7aa376539255c8b8ff": {
          "model_module": "@jupyter-widgets/controls",
          "model_name": "ProgressStyleModel",
          "model_module_version": "1.5.0",
          "state": {
            "_model_module": "@jupyter-widgets/controls",
            "_model_module_version": "1.5.0",
            "_model_name": "ProgressStyleModel",
            "_view_count": null,
            "_view_module": "@jupyter-widgets/base",
            "_view_module_version": "1.2.0",
            "_view_name": "StyleView",
            "bar_color": null,
            "description_width": ""
          }
        },
        "8d08305c6b134b6597f904bc5f0940c6": {
          "model_module": "@jupyter-widgets/base",
          "model_name": "LayoutModel",
          "model_module_version": "1.2.0",
          "state": {
            "_model_module": "@jupyter-widgets/base",
            "_model_module_version": "1.2.0",
            "_model_name": "LayoutModel",
            "_view_count": null,
            "_view_module": "@jupyter-widgets/base",
            "_view_module_version": "1.2.0",
            "_view_name": "LayoutView",
            "align_content": null,
            "align_items": null,
            "align_self": null,
            "border": null,
            "bottom": null,
            "display": null,
            "flex": null,
            "flex_flow": null,
            "grid_area": null,
            "grid_auto_columns": null,
            "grid_auto_flow": null,
            "grid_auto_rows": null,
            "grid_column": null,
            "grid_gap": null,
            "grid_row": null,
            "grid_template_areas": null,
            "grid_template_columns": null,
            "grid_template_rows": null,
            "height": null,
            "justify_content": null,
            "justify_items": null,
            "left": null,
            "margin": null,
            "max_height": null,
            "max_width": null,
            "min_height": null,
            "min_width": null,
            "object_fit": null,
            "object_position": null,
            "order": null,
            "overflow": null,
            "overflow_x": null,
            "overflow_y": null,
            "padding": null,
            "right": null,
            "top": null,
            "visibility": null,
            "width": null
          }
        },
        "812d046ad8884b279c80b8748480a0f9": {
          "model_module": "@jupyter-widgets/controls",
          "model_name": "DescriptionStyleModel",
          "model_module_version": "1.5.0",
          "state": {
            "_model_module": "@jupyter-widgets/controls",
            "_model_module_version": "1.5.0",
            "_model_name": "DescriptionStyleModel",
            "_view_count": null,
            "_view_module": "@jupyter-widgets/base",
            "_view_module_version": "1.2.0",
            "_view_name": "StyleView",
            "description_width": ""
          }
        },
        "cbb160ce152b47d89a479cd7f67c9516": {
          "model_module": "@jupyter-widgets/controls",
          "model_name": "HBoxModel",
          "model_module_version": "1.5.0",
          "state": {
            "_dom_classes": [],
            "_model_module": "@jupyter-widgets/controls",
            "_model_module_version": "1.5.0",
            "_model_name": "HBoxModel",
            "_view_count": null,
            "_view_module": "@jupyter-widgets/controls",
            "_view_module_version": "1.5.0",
            "_view_name": "HBoxView",
            "box_style": "",
            "children": [
              "IPY_MODEL_9ece7ef850ae45fe9f3a5d4474adbb5d",
              "IPY_MODEL_0fe6296249694bd887719554cff5706e",
              "IPY_MODEL_96dee1a8118b44acb11c6291591cb956"
            ],
            "layout": "IPY_MODEL_fc19301964f447aca1a228620c512a66"
          }
        },
        "9ece7ef850ae45fe9f3a5d4474adbb5d": {
          "model_module": "@jupyter-widgets/controls",
          "model_name": "HTMLModel",
          "model_module_version": "1.5.0",
          "state": {
            "_dom_classes": [],
            "_model_module": "@jupyter-widgets/controls",
            "_model_module_version": "1.5.0",
            "_model_name": "HTMLModel",
            "_view_count": null,
            "_view_module": "@jupyter-widgets/controls",
            "_view_module_version": "1.5.0",
            "_view_name": "HTMLView",
            "description": "",
            "description_tooltip": null,
            "layout": "IPY_MODEL_94c44fd114ff48cb9f9d06bd32fa21fa",
            "placeholder": "​",
            "style": "IPY_MODEL_9b082a2a866e4819b9a97278eca27341",
            "value": "Map: 100%"
          }
        },
        "0fe6296249694bd887719554cff5706e": {
          "model_module": "@jupyter-widgets/controls",
          "model_name": "FloatProgressModel",
          "model_module_version": "1.5.0",
          "state": {
            "_dom_classes": [],
            "_model_module": "@jupyter-widgets/controls",
            "_model_module_version": "1.5.0",
            "_model_name": "FloatProgressModel",
            "_view_count": null,
            "_view_module": "@jupyter-widgets/controls",
            "_view_module_version": "1.5.0",
            "_view_name": "ProgressView",
            "bar_style": "success",
            "description": "",
            "description_tooltip": null,
            "layout": "IPY_MODEL_e22fde3c2ee342dd8ad4d197086c8008",
            "max": 3798,
            "min": 0,
            "orientation": "horizontal",
            "style": "IPY_MODEL_af80a0bdeb5348629bf584cb945e64f0",
            "value": 3798
          }
        },
        "96dee1a8118b44acb11c6291591cb956": {
          "model_module": "@jupyter-widgets/controls",
          "model_name": "HTMLModel",
          "model_module_version": "1.5.0",
          "state": {
            "_dom_classes": [],
            "_model_module": "@jupyter-widgets/controls",
            "_model_module_version": "1.5.0",
            "_model_name": "HTMLModel",
            "_view_count": null,
            "_view_module": "@jupyter-widgets/controls",
            "_view_module_version": "1.5.0",
            "_view_name": "HTMLView",
            "description": "",
            "description_tooltip": null,
            "layout": "IPY_MODEL_2ccfc466b80341ad8cad38c3afb41c48",
            "placeholder": "​",
            "style": "IPY_MODEL_7896516c30ab49108e9014fd826036b8",
            "value": " 3798/3798 [00:00&lt;00:00, 13479.98 examples/s]"
          }
        },
        "fc19301964f447aca1a228620c512a66": {
          "model_module": "@jupyter-widgets/base",
          "model_name": "LayoutModel",
          "model_module_version": "1.2.0",
          "state": {
            "_model_module": "@jupyter-widgets/base",
            "_model_module_version": "1.2.0",
            "_model_name": "LayoutModel",
            "_view_count": null,
            "_view_module": "@jupyter-widgets/base",
            "_view_module_version": "1.2.0",
            "_view_name": "LayoutView",
            "align_content": null,
            "align_items": null,
            "align_self": null,
            "border": null,
            "bottom": null,
            "display": null,
            "flex": null,
            "flex_flow": null,
            "grid_area": null,
            "grid_auto_columns": null,
            "grid_auto_flow": null,
            "grid_auto_rows": null,
            "grid_column": null,
            "grid_gap": null,
            "grid_row": null,
            "grid_template_areas": null,
            "grid_template_columns": null,
            "grid_template_rows": null,
            "height": null,
            "justify_content": null,
            "justify_items": null,
            "left": null,
            "margin": null,
            "max_height": null,
            "max_width": null,
            "min_height": null,
            "min_width": null,
            "object_fit": null,
            "object_position": null,
            "order": null,
            "overflow": null,
            "overflow_x": null,
            "overflow_y": null,
            "padding": null,
            "right": null,
            "top": null,
            "visibility": null,
            "width": null
          }
        },
        "94c44fd114ff48cb9f9d06bd32fa21fa": {
          "model_module": "@jupyter-widgets/base",
          "model_name": "LayoutModel",
          "model_module_version": "1.2.0",
          "state": {
            "_model_module": "@jupyter-widgets/base",
            "_model_module_version": "1.2.0",
            "_model_name": "LayoutModel",
            "_view_count": null,
            "_view_module": "@jupyter-widgets/base",
            "_view_module_version": "1.2.0",
            "_view_name": "LayoutView",
            "align_content": null,
            "align_items": null,
            "align_self": null,
            "border": null,
            "bottom": null,
            "display": null,
            "flex": null,
            "flex_flow": null,
            "grid_area": null,
            "grid_auto_columns": null,
            "grid_auto_flow": null,
            "grid_auto_rows": null,
            "grid_column": null,
            "grid_gap": null,
            "grid_row": null,
            "grid_template_areas": null,
            "grid_template_columns": null,
            "grid_template_rows": null,
            "height": null,
            "justify_content": null,
            "justify_items": null,
            "left": null,
            "margin": null,
            "max_height": null,
            "max_width": null,
            "min_height": null,
            "min_width": null,
            "object_fit": null,
            "object_position": null,
            "order": null,
            "overflow": null,
            "overflow_x": null,
            "overflow_y": null,
            "padding": null,
            "right": null,
            "top": null,
            "visibility": null,
            "width": null
          }
        },
        "9b082a2a866e4819b9a97278eca27341": {
          "model_module": "@jupyter-widgets/controls",
          "model_name": "DescriptionStyleModel",
          "model_module_version": "1.5.0",
          "state": {
            "_model_module": "@jupyter-widgets/controls",
            "_model_module_version": "1.5.0",
            "_model_name": "DescriptionStyleModel",
            "_view_count": null,
            "_view_module": "@jupyter-widgets/base",
            "_view_module_version": "1.2.0",
            "_view_name": "StyleView",
            "description_width": ""
          }
        },
        "e22fde3c2ee342dd8ad4d197086c8008": {
          "model_module": "@jupyter-widgets/base",
          "model_name": "LayoutModel",
          "model_module_version": "1.2.0",
          "state": {
            "_model_module": "@jupyter-widgets/base",
            "_model_module_version": "1.2.0",
            "_model_name": "LayoutModel",
            "_view_count": null,
            "_view_module": "@jupyter-widgets/base",
            "_view_module_version": "1.2.0",
            "_view_name": "LayoutView",
            "align_content": null,
            "align_items": null,
            "align_self": null,
            "border": null,
            "bottom": null,
            "display": null,
            "flex": null,
            "flex_flow": null,
            "grid_area": null,
            "grid_auto_columns": null,
            "grid_auto_flow": null,
            "grid_auto_rows": null,
            "grid_column": null,
            "grid_gap": null,
            "grid_row": null,
            "grid_template_areas": null,
            "grid_template_columns": null,
            "grid_template_rows": null,
            "height": null,
            "justify_content": null,
            "justify_items": null,
            "left": null,
            "margin": null,
            "max_height": null,
            "max_width": null,
            "min_height": null,
            "min_width": null,
            "object_fit": null,
            "object_position": null,
            "order": null,
            "overflow": null,
            "overflow_x": null,
            "overflow_y": null,
            "padding": null,
            "right": null,
            "top": null,
            "visibility": null,
            "width": null
          }
        },
        "af80a0bdeb5348629bf584cb945e64f0": {
          "model_module": "@jupyter-widgets/controls",
          "model_name": "ProgressStyleModel",
          "model_module_version": "1.5.0",
          "state": {
            "_model_module": "@jupyter-widgets/controls",
            "_model_module_version": "1.5.0",
            "_model_name": "ProgressStyleModel",
            "_view_count": null,
            "_view_module": "@jupyter-widgets/base",
            "_view_module_version": "1.2.0",
            "_view_name": "StyleView",
            "bar_color": null,
            "description_width": ""
          }
        },
        "2ccfc466b80341ad8cad38c3afb41c48": {
          "model_module": "@jupyter-widgets/base",
          "model_name": "LayoutModel",
          "model_module_version": "1.2.0",
          "state": {
            "_model_module": "@jupyter-widgets/base",
            "_model_module_version": "1.2.0",
            "_model_name": "LayoutModel",
            "_view_count": null,
            "_view_module": "@jupyter-widgets/base",
            "_view_module_version": "1.2.0",
            "_view_name": "LayoutView",
            "align_content": null,
            "align_items": null,
            "align_self": null,
            "border": null,
            "bottom": null,
            "display": null,
            "flex": null,
            "flex_flow": null,
            "grid_area": null,
            "grid_auto_columns": null,
            "grid_auto_flow": null,
            "grid_auto_rows": null,
            "grid_column": null,
            "grid_gap": null,
            "grid_row": null,
            "grid_template_areas": null,
            "grid_template_columns": null,
            "grid_template_rows": null,
            "height": null,
            "justify_content": null,
            "justify_items": null,
            "left": null,
            "margin": null,
            "max_height": null,
            "max_width": null,
            "min_height": null,
            "min_width": null,
            "object_fit": null,
            "object_position": null,
            "order": null,
            "overflow": null,
            "overflow_x": null,
            "overflow_y": null,
            "padding": null,
            "right": null,
            "top": null,
            "visibility": null,
            "width": null
          }
        },
        "7896516c30ab49108e9014fd826036b8": {
          "model_module": "@jupyter-widgets/controls",
          "model_name": "DescriptionStyleModel",
          "model_module_version": "1.5.0",
          "state": {
            "_model_module": "@jupyter-widgets/controls",
            "_model_module_version": "1.5.0",
            "_model_name": "DescriptionStyleModel",
            "_view_count": null,
            "_view_module": "@jupyter-widgets/base",
            "_view_module_version": "1.2.0",
            "_view_name": "StyleView",
            "description_width": ""
          }
        },
        "f2a04dc1ca69442eb820a8acf16906aa": {
          "model_module": "@jupyter-widgets/controls",
          "model_name": "HBoxModel",
          "model_module_version": "1.5.0",
          "state": {
            "_dom_classes": [],
            "_model_module": "@jupyter-widgets/controls",
            "_model_module_version": "1.5.0",
            "_model_name": "HBoxModel",
            "_view_count": null,
            "_view_module": "@jupyter-widgets/controls",
            "_view_module_version": "1.5.0",
            "_view_name": "HBoxView",
            "box_style": "",
            "children": [
              "IPY_MODEL_8884a5b513cb402cac60a9069cebff74",
              "IPY_MODEL_34705faa499a4dc4841aadcacda8c171",
              "IPY_MODEL_b0067fe2fc5b4a6ea4567dae1de772a9"
            ],
            "layout": "IPY_MODEL_97ba5edda16249b7b21efdf3b41881f5"
          }
        },
        "8884a5b513cb402cac60a9069cebff74": {
          "model_module": "@jupyter-widgets/controls",
          "model_name": "HTMLModel",
          "model_module_version": "1.5.0",
          "state": {
            "_dom_classes": [],
            "_model_module": "@jupyter-widgets/controls",
            "_model_module_version": "1.5.0",
            "_model_name": "HTMLModel",
            "_view_count": null,
            "_view_module": "@jupyter-widgets/controls",
            "_view_module_version": "1.5.0",
            "_view_name": "HTMLView",
            "description": "",
            "description_tooltip": null,
            "layout": "IPY_MODEL_d9aab4eb32e046458a768e2c03d22913",
            "placeholder": "​",
            "style": "IPY_MODEL_ff543fd1cea64e9482263cd6a2f7654d",
            "value": "Map: 100%"
          }
        },
        "34705faa499a4dc4841aadcacda8c171": {
          "model_module": "@jupyter-widgets/controls",
          "model_name": "FloatProgressModel",
          "model_module_version": "1.5.0",
          "state": {
            "_dom_classes": [],
            "_model_module": "@jupyter-widgets/controls",
            "_model_module_version": "1.5.0",
            "_model_name": "FloatProgressModel",
            "_view_count": null,
            "_view_module": "@jupyter-widgets/controls",
            "_view_module_version": "1.5.0",
            "_view_name": "ProgressView",
            "bar_style": "success",
            "description": "",
            "description_tooltip": null,
            "layout": "IPY_MODEL_602bf7f7ad7046689b4ed6bbd13054dd",
            "max": 41157,
            "min": 0,
            "orientation": "horizontal",
            "style": "IPY_MODEL_91c5becb3d5f41cd818d3a79d889f7c7",
            "value": 41157
          }
        },
        "b0067fe2fc5b4a6ea4567dae1de772a9": {
          "model_module": "@jupyter-widgets/controls",
          "model_name": "HTMLModel",
          "model_module_version": "1.5.0",
          "state": {
            "_dom_classes": [],
            "_model_module": "@jupyter-widgets/controls",
            "_model_module_version": "1.5.0",
            "_model_name": "HTMLModel",
            "_view_count": null,
            "_view_module": "@jupyter-widgets/controls",
            "_view_module_version": "1.5.0",
            "_view_name": "HTMLView",
            "description": "",
            "description_tooltip": null,
            "layout": "IPY_MODEL_28d3d0b9f4744ed2b5bfaa441343b1fb",
            "placeholder": "​",
            "style": "IPY_MODEL_c6c89a1968de4e3ab4b17e7ead8fd916",
            "value": " 41157/41157 [00:02&lt;00:00, 17630.72 examples/s]"
          }
        },
        "97ba5edda16249b7b21efdf3b41881f5": {
          "model_module": "@jupyter-widgets/base",
          "model_name": "LayoutModel",
          "model_module_version": "1.2.0",
          "state": {
            "_model_module": "@jupyter-widgets/base",
            "_model_module_version": "1.2.0",
            "_model_name": "LayoutModel",
            "_view_count": null,
            "_view_module": "@jupyter-widgets/base",
            "_view_module_version": "1.2.0",
            "_view_name": "LayoutView",
            "align_content": null,
            "align_items": null,
            "align_self": null,
            "border": null,
            "bottom": null,
            "display": null,
            "flex": null,
            "flex_flow": null,
            "grid_area": null,
            "grid_auto_columns": null,
            "grid_auto_flow": null,
            "grid_auto_rows": null,
            "grid_column": null,
            "grid_gap": null,
            "grid_row": null,
            "grid_template_areas": null,
            "grid_template_columns": null,
            "grid_template_rows": null,
            "height": null,
            "justify_content": null,
            "justify_items": null,
            "left": null,
            "margin": null,
            "max_height": null,
            "max_width": null,
            "min_height": null,
            "min_width": null,
            "object_fit": null,
            "object_position": null,
            "order": null,
            "overflow": null,
            "overflow_x": null,
            "overflow_y": null,
            "padding": null,
            "right": null,
            "top": null,
            "visibility": null,
            "width": null
          }
        },
        "d9aab4eb32e046458a768e2c03d22913": {
          "model_module": "@jupyter-widgets/base",
          "model_name": "LayoutModel",
          "model_module_version": "1.2.0",
          "state": {
            "_model_module": "@jupyter-widgets/base",
            "_model_module_version": "1.2.0",
            "_model_name": "LayoutModel",
            "_view_count": null,
            "_view_module": "@jupyter-widgets/base",
            "_view_module_version": "1.2.0",
            "_view_name": "LayoutView",
            "align_content": null,
            "align_items": null,
            "align_self": null,
            "border": null,
            "bottom": null,
            "display": null,
            "flex": null,
            "flex_flow": null,
            "grid_area": null,
            "grid_auto_columns": null,
            "grid_auto_flow": null,
            "grid_auto_rows": null,
            "grid_column": null,
            "grid_gap": null,
            "grid_row": null,
            "grid_template_areas": null,
            "grid_template_columns": null,
            "grid_template_rows": null,
            "height": null,
            "justify_content": null,
            "justify_items": null,
            "left": null,
            "margin": null,
            "max_height": null,
            "max_width": null,
            "min_height": null,
            "min_width": null,
            "object_fit": null,
            "object_position": null,
            "order": null,
            "overflow": null,
            "overflow_x": null,
            "overflow_y": null,
            "padding": null,
            "right": null,
            "top": null,
            "visibility": null,
            "width": null
          }
        },
        "ff543fd1cea64e9482263cd6a2f7654d": {
          "model_module": "@jupyter-widgets/controls",
          "model_name": "DescriptionStyleModel",
          "model_module_version": "1.5.0",
          "state": {
            "_model_module": "@jupyter-widgets/controls",
            "_model_module_version": "1.5.0",
            "_model_name": "DescriptionStyleModel",
            "_view_count": null,
            "_view_module": "@jupyter-widgets/base",
            "_view_module_version": "1.2.0",
            "_view_name": "StyleView",
            "description_width": ""
          }
        },
        "602bf7f7ad7046689b4ed6bbd13054dd": {
          "model_module": "@jupyter-widgets/base",
          "model_name": "LayoutModel",
          "model_module_version": "1.2.0",
          "state": {
            "_model_module": "@jupyter-widgets/base",
            "_model_module_version": "1.2.0",
            "_model_name": "LayoutModel",
            "_view_count": null,
            "_view_module": "@jupyter-widgets/base",
            "_view_module_version": "1.2.0",
            "_view_name": "LayoutView",
            "align_content": null,
            "align_items": null,
            "align_self": null,
            "border": null,
            "bottom": null,
            "display": null,
            "flex": null,
            "flex_flow": null,
            "grid_area": null,
            "grid_auto_columns": null,
            "grid_auto_flow": null,
            "grid_auto_rows": null,
            "grid_column": null,
            "grid_gap": null,
            "grid_row": null,
            "grid_template_areas": null,
            "grid_template_columns": null,
            "grid_template_rows": null,
            "height": null,
            "justify_content": null,
            "justify_items": null,
            "left": null,
            "margin": null,
            "max_height": null,
            "max_width": null,
            "min_height": null,
            "min_width": null,
            "object_fit": null,
            "object_position": null,
            "order": null,
            "overflow": null,
            "overflow_x": null,
            "overflow_y": null,
            "padding": null,
            "right": null,
            "top": null,
            "visibility": null,
            "width": null
          }
        },
        "91c5becb3d5f41cd818d3a79d889f7c7": {
          "model_module": "@jupyter-widgets/controls",
          "model_name": "ProgressStyleModel",
          "model_module_version": "1.5.0",
          "state": {
            "_model_module": "@jupyter-widgets/controls",
            "_model_module_version": "1.5.0",
            "_model_name": "ProgressStyleModel",
            "_view_count": null,
            "_view_module": "@jupyter-widgets/base",
            "_view_module_version": "1.2.0",
            "_view_name": "StyleView",
            "bar_color": null,
            "description_width": ""
          }
        },
        "28d3d0b9f4744ed2b5bfaa441343b1fb": {
          "model_module": "@jupyter-widgets/base",
          "model_name": "LayoutModel",
          "model_module_version": "1.2.0",
          "state": {
            "_model_module": "@jupyter-widgets/base",
            "_model_module_version": "1.2.0",
            "_model_name": "LayoutModel",
            "_view_count": null,
            "_view_module": "@jupyter-widgets/base",
            "_view_module_version": "1.2.0",
            "_view_name": "LayoutView",
            "align_content": null,
            "align_items": null,
            "align_self": null,
            "border": null,
            "bottom": null,
            "display": null,
            "flex": null,
            "flex_flow": null,
            "grid_area": null,
            "grid_auto_columns": null,
            "grid_auto_flow": null,
            "grid_auto_rows": null,
            "grid_column": null,
            "grid_gap": null,
            "grid_row": null,
            "grid_template_areas": null,
            "grid_template_columns": null,
            "grid_template_rows": null,
            "height": null,
            "justify_content": null,
            "justify_items": null,
            "left": null,
            "margin": null,
            "max_height": null,
            "max_width": null,
            "min_height": null,
            "min_width": null,
            "object_fit": null,
            "object_position": null,
            "order": null,
            "overflow": null,
            "overflow_x": null,
            "overflow_y": null,
            "padding": null,
            "right": null,
            "top": null,
            "visibility": null,
            "width": null
          }
        },
        "c6c89a1968de4e3ab4b17e7ead8fd916": {
          "model_module": "@jupyter-widgets/controls",
          "model_name": "DescriptionStyleModel",
          "model_module_version": "1.5.0",
          "state": {
            "_model_module": "@jupyter-widgets/controls",
            "_model_module_version": "1.5.0",
            "_model_name": "DescriptionStyleModel",
            "_view_count": null,
            "_view_module": "@jupyter-widgets/base",
            "_view_module_version": "1.2.0",
            "_view_name": "StyleView",
            "description_width": ""
          }
        },
        "e080a4caac9046b398b047c0599ea17c": {
          "model_module": "@jupyter-widgets/controls",
          "model_name": "HBoxModel",
          "model_module_version": "1.5.0",
          "state": {
            "_dom_classes": [],
            "_model_module": "@jupyter-widgets/controls",
            "_model_module_version": "1.5.0",
            "_model_name": "HBoxModel",
            "_view_count": null,
            "_view_module": "@jupyter-widgets/controls",
            "_view_module_version": "1.5.0",
            "_view_name": "HBoxView",
            "box_style": "",
            "children": [
              "IPY_MODEL_417eca9cff7c46cda0ab328703ad7dc5",
              "IPY_MODEL_791f22603eac4c919824eb1941d2693c",
              "IPY_MODEL_5a9405ed1cc3436c9e84ff23fad047b6"
            ],
            "layout": "IPY_MODEL_5641af475fb74f339f9c015334f7eea6"
          }
        },
        "417eca9cff7c46cda0ab328703ad7dc5": {
          "model_module": "@jupyter-widgets/controls",
          "model_name": "HTMLModel",
          "model_module_version": "1.5.0",
          "state": {
            "_dom_classes": [],
            "_model_module": "@jupyter-widgets/controls",
            "_model_module_version": "1.5.0",
            "_model_name": "HTMLModel",
            "_view_count": null,
            "_view_module": "@jupyter-widgets/controls",
            "_view_module_version": "1.5.0",
            "_view_name": "HTMLView",
            "description": "",
            "description_tooltip": null,
            "layout": "IPY_MODEL_2df53b9629c84bb9a6f720dcda160854",
            "placeholder": "​",
            "style": "IPY_MODEL_4be6cc4a8faf421f8e63e13a61485c72",
            "value": "Map: 100%"
          }
        },
        "791f22603eac4c919824eb1941d2693c": {
          "model_module": "@jupyter-widgets/controls",
          "model_name": "FloatProgressModel",
          "model_module_version": "1.5.0",
          "state": {
            "_dom_classes": [],
            "_model_module": "@jupyter-widgets/controls",
            "_model_module_version": "1.5.0",
            "_model_name": "FloatProgressModel",
            "_view_count": null,
            "_view_module": "@jupyter-widgets/controls",
            "_view_module_version": "1.5.0",
            "_view_name": "ProgressView",
            "bar_style": "success",
            "description": "",
            "description_tooltip": null,
            "layout": "IPY_MODEL_449474690963413ab2b075b6589fff19",
            "max": 3798,
            "min": 0,
            "orientation": "horizontal",
            "style": "IPY_MODEL_94277b7ce9e446008ac31d03dd9a6ba4",
            "value": 3798
          }
        },
        "5a9405ed1cc3436c9e84ff23fad047b6": {
          "model_module": "@jupyter-widgets/controls",
          "model_name": "HTMLModel",
          "model_module_version": "1.5.0",
          "state": {
            "_dom_classes": [],
            "_model_module": "@jupyter-widgets/controls",
            "_model_module_version": "1.5.0",
            "_model_name": "HTMLModel",
            "_view_count": null,
            "_view_module": "@jupyter-widgets/controls",
            "_view_module_version": "1.5.0",
            "_view_name": "HTMLView",
            "description": "",
            "description_tooltip": null,
            "layout": "IPY_MODEL_a6a5dfe8f3124d149f8cb433a8972fb1",
            "placeholder": "​",
            "style": "IPY_MODEL_adb9513534ca47d78c70bcd17d3c5735",
            "value": " 3798/3798 [00:00&lt;00:00, 5202.17 examples/s]"
          }
        },
        "5641af475fb74f339f9c015334f7eea6": {
          "model_module": "@jupyter-widgets/base",
          "model_name": "LayoutModel",
          "model_module_version": "1.2.0",
          "state": {
            "_model_module": "@jupyter-widgets/base",
            "_model_module_version": "1.2.0",
            "_model_name": "LayoutModel",
            "_view_count": null,
            "_view_module": "@jupyter-widgets/base",
            "_view_module_version": "1.2.0",
            "_view_name": "LayoutView",
            "align_content": null,
            "align_items": null,
            "align_self": null,
            "border": null,
            "bottom": null,
            "display": null,
            "flex": null,
            "flex_flow": null,
            "grid_area": null,
            "grid_auto_columns": null,
            "grid_auto_flow": null,
            "grid_auto_rows": null,
            "grid_column": null,
            "grid_gap": null,
            "grid_row": null,
            "grid_template_areas": null,
            "grid_template_columns": null,
            "grid_template_rows": null,
            "height": null,
            "justify_content": null,
            "justify_items": null,
            "left": null,
            "margin": null,
            "max_height": null,
            "max_width": null,
            "min_height": null,
            "min_width": null,
            "object_fit": null,
            "object_position": null,
            "order": null,
            "overflow": null,
            "overflow_x": null,
            "overflow_y": null,
            "padding": null,
            "right": null,
            "top": null,
            "visibility": null,
            "width": null
          }
        },
        "2df53b9629c84bb9a6f720dcda160854": {
          "model_module": "@jupyter-widgets/base",
          "model_name": "LayoutModel",
          "model_module_version": "1.2.0",
          "state": {
            "_model_module": "@jupyter-widgets/base",
            "_model_module_version": "1.2.0",
            "_model_name": "LayoutModel",
            "_view_count": null,
            "_view_module": "@jupyter-widgets/base",
            "_view_module_version": "1.2.0",
            "_view_name": "LayoutView",
            "align_content": null,
            "align_items": null,
            "align_self": null,
            "border": null,
            "bottom": null,
            "display": null,
            "flex": null,
            "flex_flow": null,
            "grid_area": null,
            "grid_auto_columns": null,
            "grid_auto_flow": null,
            "grid_auto_rows": null,
            "grid_column": null,
            "grid_gap": null,
            "grid_row": null,
            "grid_template_areas": null,
            "grid_template_columns": null,
            "grid_template_rows": null,
            "height": null,
            "justify_content": null,
            "justify_items": null,
            "left": null,
            "margin": null,
            "max_height": null,
            "max_width": null,
            "min_height": null,
            "min_width": null,
            "object_fit": null,
            "object_position": null,
            "order": null,
            "overflow": null,
            "overflow_x": null,
            "overflow_y": null,
            "padding": null,
            "right": null,
            "top": null,
            "visibility": null,
            "width": null
          }
        },
        "4be6cc4a8faf421f8e63e13a61485c72": {
          "model_module": "@jupyter-widgets/controls",
          "model_name": "DescriptionStyleModel",
          "model_module_version": "1.5.0",
          "state": {
            "_model_module": "@jupyter-widgets/controls",
            "_model_module_version": "1.5.0",
            "_model_name": "DescriptionStyleModel",
            "_view_count": null,
            "_view_module": "@jupyter-widgets/base",
            "_view_module_version": "1.2.0",
            "_view_name": "StyleView",
            "description_width": ""
          }
        },
        "449474690963413ab2b075b6589fff19": {
          "model_module": "@jupyter-widgets/base",
          "model_name": "LayoutModel",
          "model_module_version": "1.2.0",
          "state": {
            "_model_module": "@jupyter-widgets/base",
            "_model_module_version": "1.2.0",
            "_model_name": "LayoutModel",
            "_view_count": null,
            "_view_module": "@jupyter-widgets/base",
            "_view_module_version": "1.2.0",
            "_view_name": "LayoutView",
            "align_content": null,
            "align_items": null,
            "align_self": null,
            "border": null,
            "bottom": null,
            "display": null,
            "flex": null,
            "flex_flow": null,
            "grid_area": null,
            "grid_auto_columns": null,
            "grid_auto_flow": null,
            "grid_auto_rows": null,
            "grid_column": null,
            "grid_gap": null,
            "grid_row": null,
            "grid_template_areas": null,
            "grid_template_columns": null,
            "grid_template_rows": null,
            "height": null,
            "justify_content": null,
            "justify_items": null,
            "left": null,
            "margin": null,
            "max_height": null,
            "max_width": null,
            "min_height": null,
            "min_width": null,
            "object_fit": null,
            "object_position": null,
            "order": null,
            "overflow": null,
            "overflow_x": null,
            "overflow_y": null,
            "padding": null,
            "right": null,
            "top": null,
            "visibility": null,
            "width": null
          }
        },
        "94277b7ce9e446008ac31d03dd9a6ba4": {
          "model_module": "@jupyter-widgets/controls",
          "model_name": "ProgressStyleModel",
          "model_module_version": "1.5.0",
          "state": {
            "_model_module": "@jupyter-widgets/controls",
            "_model_module_version": "1.5.0",
            "_model_name": "ProgressStyleModel",
            "_view_count": null,
            "_view_module": "@jupyter-widgets/base",
            "_view_module_version": "1.2.0",
            "_view_name": "StyleView",
            "bar_color": null,
            "description_width": ""
          }
        },
        "a6a5dfe8f3124d149f8cb433a8972fb1": {
          "model_module": "@jupyter-widgets/base",
          "model_name": "LayoutModel",
          "model_module_version": "1.2.0",
          "state": {
            "_model_module": "@jupyter-widgets/base",
            "_model_module_version": "1.2.0",
            "_model_name": "LayoutModel",
            "_view_count": null,
            "_view_module": "@jupyter-widgets/base",
            "_view_module_version": "1.2.0",
            "_view_name": "LayoutView",
            "align_content": null,
            "align_items": null,
            "align_self": null,
            "border": null,
            "bottom": null,
            "display": null,
            "flex": null,
            "flex_flow": null,
            "grid_area": null,
            "grid_auto_columns": null,
            "grid_auto_flow": null,
            "grid_auto_rows": null,
            "grid_column": null,
            "grid_gap": null,
            "grid_row": null,
            "grid_template_areas": null,
            "grid_template_columns": null,
            "grid_template_rows": null,
            "height": null,
            "justify_content": null,
            "justify_items": null,
            "left": null,
            "margin": null,
            "max_height": null,
            "max_width": null,
            "min_height": null,
            "min_width": null,
            "object_fit": null,
            "object_position": null,
            "order": null,
            "overflow": null,
            "overflow_x": null,
            "overflow_y": null,
            "padding": null,
            "right": null,
            "top": null,
            "visibility": null,
            "width": null
          }
        },
        "adb9513534ca47d78c70bcd17d3c5735": {
          "model_module": "@jupyter-widgets/controls",
          "model_name": "DescriptionStyleModel",
          "model_module_version": "1.5.0",
          "state": {
            "_model_module": "@jupyter-widgets/controls",
            "_model_module_version": "1.5.0",
            "_model_name": "DescriptionStyleModel",
            "_view_count": null,
            "_view_module": "@jupyter-widgets/base",
            "_view_module_version": "1.2.0",
            "_view_name": "StyleView",
            "description_width": ""
          }
        }
      }
    }
  },
  "nbformat": 4,
  "nbformat_minor": 5
}