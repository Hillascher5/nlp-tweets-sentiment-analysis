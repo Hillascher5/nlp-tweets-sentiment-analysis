{
  "cells": [
    {
      "cell_type": "markdown",
      "id": "5728f352",
      "metadata": {
        "id": "5728f352"
      },
      "source": [
        "## **NLP - Text Classification Project**\n",
        "Group H - August 2025\n",
        "\n",
        "Classification of tweets from Twitter that have been manually tagged for sentiment analysis."
      ]
    },
    {
      "cell_type": "code",
      "execution_count": 1,
      "id": "2a7e16b9",
      "metadata": {
        "id": "2a7e16b9"
      },
      "outputs": [],
      "source": [
        "# # Needed for Google Colab\n",
        "# !pip install --quiet evaluate transformers optuna datasets nltk scikit-learn\n",
        "# !pip install numpy==1.26.4"
      ]
    },
    {
      "cell_type": "code",
      "execution_count": 2,
      "id": "98d8c7ec",
      "metadata": {
        "colab": {
          "base_uri": "https://localhost:8080/"
        },
        "id": "98d8c7ec",
        "outputId": "bb840406-c9cd-4f51-9da5-805a13a3e372"
      },
      "outputs": [
        {
          "output_type": "stream",
          "name": "stdout",
          "text": [
            "env: CUDA_LAUNCH_BLOCKING=1\n",
            "Drive already mounted at /content/drive; to attempt to forcibly remount, call drive.mount(\"/content/drive\", force_remount=True).\n"
          ]
        },
        {
          "output_type": "stream",
          "name": "stderr",
          "text": [
            "\u001b[34m\u001b[1mwandb\u001b[0m: Currently logged in as: \u001b[33mhillas\u001b[0m (\u001b[33mhillas-tel-aviv-university\u001b[0m) to \u001b[32mhttps://api.wandb.ai\u001b[0m. Use \u001b[1m`wandb login --relogin`\u001b[0m to force relogin\n",
            "[nltk_data] Downloading package stopwords to /root/nltk_data...\n",
            "[nltk_data]   Package stopwords is already up-to-date!\n",
            "[nltk_data] Downloading package wordnet to /root/nltk_data...\n",
            "[nltk_data]   Package wordnet is already up-to-date!\n",
            "[nltk_data] Downloading package omw-1.4 to /root/nltk_data...\n",
            "[nltk_data]   Package omw-1.4 is already up-to-date!\n"
          ]
        },
        {
          "output_type": "execute_result",
          "data": {
            "text/plain": [
              "True"
            ]
          },
          "metadata": {},
          "execution_count": 2
        }
      ],
      "source": [
        "%env CUDA_LAUNCH_BLOCKING=1\n",
        "\n",
        "from wordcloud import WordCloud, STOPWORDS\n",
        "from geopy.geocoders import Nominatim\n",
        "from geopy.exc import GeocoderTimedOut\n",
        "from tqdm import tqdm\n",
        "from collections import Counter\n",
        "from nltk.corpus import stopwords\n",
        "from sklearn.feature_extraction.text import CountVectorizer\n",
        "from sklearn.metrics import accuracy_score, classification_report, f1_score\n",
        "from sklearn.model_selection import train_test_split\n",
        "from nltk.stem import WordNetLemmatizer\n",
        "from transformers import AutoTokenizer, AutoModelForSequenceClassification, DataCollatorWithPadding, TrainingArguments, Trainer\n",
        "from datasets import Dataset\n",
        "from optuna.pruners import MedianPruner\n",
        "from google.colab import drive\n",
        "drive.mount('/content/drive')\n",
        "\n",
        "import pandas as pd\n",
        "import seaborn as sns\n",
        "import matplotlib.pyplot as plt\n",
        "import numpy as np\n",
        "import os\n",
        "import re\n",
        "import string\n",
        "import time\n",
        "import glob\n",
        "import nltk\n",
        "import evaluate\n",
        "import transformers\n",
        "import torch\n",
        "import optuna\n",
        "import wandb\n",
        "wandb.login()\n",
        "\n",
        "os.environ[\"WANDB_PROJECT\"] = \"tweet-sentiment-classification_split_to_test\"\n",
        "os.environ[\"WANDB_INIT_TIMEOUT\"] = \"180\"\n",
        "\n",
        "nltk.download('stopwords')\n",
        "nltk.download('wordnet')\n",
        "nltk.download('omw-1.4')"
      ]
    },
    {
      "cell_type": "code",
      "execution_count": 3,
      "id": "a7cb67fc",
      "metadata": {
        "id": "a7cb67fc"
      },
      "outputs": [],
      "source": [
        "# Load data\n",
        "df_train = pd.read_csv('/content/drive/MyDrive/Colab Notebooks/nlp_project/Data/Corona_NLP_train.csv', encoding='latin1')\n",
        "df_test = pd.read_csv('/content/drive/MyDrive/Colab Notebooks/nlp_project/Data/Corona_NLP_test.csv', encoding='latin1')"
      ]
    },
    {
      "cell_type": "code",
      "execution_count": 4,
      "id": "4f61f969",
      "metadata": {
        "id": "4f61f969"
      },
      "outputs": [],
      "source": [
        "# Merge and shuffle for better stratified splits\n",
        "df_full = pd.concat([df_train, df_test], ignore_index=True)\n",
        "df_full = df_full.sample(frac=1.0, random_state=42).reset_index(drop=True)"
      ]
    },
    {
      "cell_type": "markdown",
      "id": "028f623d",
      "metadata": {
        "id": "028f623d"
      },
      "source": [
        "### Pre-processing the Data\n",
        "\n",
        "The tweets were cleaned by lowercasing (to reduce redundancy), removing stopwords, punctuation, numbers, short words, and applying lemmatization to reduce words to their base form (e.g. running → run). <br>This helps reduce noise and improve model performance."
      ]
    },
    {
      "cell_type": "code",
      "execution_count": 5,
      "id": "25abd4fe",
      "metadata": {
        "id": "25abd4fe"
      },
      "outputs": [],
      "source": [
        "# Try without pre-processing\n",
        "is_preprocessed = \"no_preprocess\"\n",
        "df_full[\"clean_text\"] = df_full[\"OriginalTweet\"]"
      ]
    },
    {
      "cell_type": "code",
      "source": [
        "# # Try minimal pre-processing\n",
        "# is_preprocessed = \"minimal_preprocess\"\n",
        "# def light_preprocess(text):\n",
        "#     # text = re.sub(r\"http\\S+|www.\\S+\", \"\", text)   # Remove URLs\n",
        "#     # text = re.sub(r\"@\\w+\", \"\", text)              # Remove @mentions\n",
        "#     # text = re.sub(r\"#(\\w+)\", r\"\\1\", text)         # Unwrap hashtags\n",
        "#     return text.strip()\n",
        "# df_full[\"clean_text\"] = df_full[\"OriginalTweet\"].apply(light_preprocess)"
      ],
      "metadata": {
        "id": "9jbagrO7K5a5"
      },
      "id": "9jbagrO7K5a5",
      "execution_count": null,
      "outputs": []
    },
    {
      "cell_type": "markdown",
      "id": "36e48007",
      "metadata": {
        "id": "36e48007"
      },
      "source": [
        "## Fine-Tuning Pretrained Language Models\n",
        "\n",
        "Apply NLP techniques using transfer learning on our tweets dataset. Specifically, fine-tuning two pretrained transformer-based models from the Hugging Face library — BERT and RoBERTa — on our sentiment classification task. These models will be trained using both standard PyTorch and the Hugging Face API. Model performance will be monitored and tuned using hyperparameter optimization (Optuna) and experiment tracking (Weights & Biases)."
      ]
    },
    {
      "cell_type": "markdown",
      "id": "5f809a00",
      "metadata": {
        "id": "5f809a00"
      },
      "source": [
        "**Load Pretrained Models**\n",
        "\n",
        "Initialize tokenizers and models for BERT and RoBERTa, both widely used transformer architectures for text classification. The classification head is configured based on the number of sentiment labels."
      ]
    },
    {
      "cell_type": "code",
      "execution_count": 6,
      "id": "c2655478",
      "metadata": {
        "colab": {
          "base_uri": "https://localhost:8080/"
        },
        "id": "c2655478",
        "outputId": "b0c729c5-ac93-46b1-fb5e-2032609f2571"
      },
      "outputs": [
        {
          "output_type": "stream",
          "name": "stderr",
          "text": [
            "/usr/local/lib/python3.11/dist-packages/huggingface_hub/utils/_auth.py:94: UserWarning: \n",
            "The secret `HF_TOKEN` does not exist in your Colab secrets.\n",
            "To authenticate with the Hugging Face Hub, create a token in your settings tab (https://huggingface.co/settings/tokens), set it as secret in your Google Colab and restart your session.\n",
            "You will be able to reuse this secret in all of your notebooks.\n",
            "Please note that authentication is recommended but still optional to access public models or datasets.\n",
            "  warnings.warn(\n",
            "Some weights of BertForSequenceClassification were not initialized from the model checkpoint at bert-base-uncased and are newly initialized: ['classifier.bias', 'classifier.weight']\n",
            "You should probably TRAIN this model on a down-stream task to be able to use it for predictions and inference.\n",
            "Some weights of RobertaForSequenceClassification were not initialized from the model checkpoint at roberta-base and are newly initialized: ['classifier.dense.bias', 'classifier.dense.weight', 'classifier.out_proj.bias', 'classifier.out_proj.weight']\n",
            "You should probably TRAIN this model on a down-stream task to be able to use it for predictions and inference.\n"
          ]
        }
      ],
      "source": [
        "# Choose pretrained models\n",
        "bert_model_name = \"bert-base-uncased\"\n",
        "roberta_model_name = \"roberta-base\"\n",
        "\n",
        "sentiment_labels = df_full['Sentiment'].unique()\n",
        "n_labels = len(sentiment_labels)\n",
        "\n",
        "# Load BERT tokenizer and model\n",
        "bert_tokenizer = AutoTokenizer.from_pretrained(bert_model_name)\n",
        "bert_model = AutoModelForSequenceClassification.from_pretrained(bert_model_name, num_labels=n_labels)\n",
        "\n",
        "# Load RoBERTa tokenizer and model\n",
        "roberta_tokenizer = AutoTokenizer.from_pretrained(roberta_model_name)\n",
        "roberta_model = AutoModelForSequenceClassification.from_pretrained(roberta_model_name, num_labels=n_labels)"
      ]
    },
    {
      "cell_type": "markdown",
      "id": "fc95eef6",
      "metadata": {
        "id": "fc95eef6"
      },
      "source": [
        "**Encode Sentiment Labels**\n",
        "\n",
        "Map each unique sentiment label to a numeric ID for model compatibility, and apply this mapping to both training and validation datasets."
      ]
    },
    {
      "cell_type": "code",
      "execution_count": 7,
      "id": "ad49ba34",
      "metadata": {
        "id": "ad49ba34"
      },
      "outputs": [],
      "source": [
        "# Mapping sentiments to unique numeric IDs\n",
        "unique_labels = sorted(df_full[\"Sentiment\"].unique())\n",
        "label2id = {label: idx for idx, label in enumerate(unique_labels)}\n",
        "df_full[\"label\"] = df_full[\"Sentiment\"].map(label2id)"
      ]
    },
    {
      "cell_type": "code",
      "execution_count": 8,
      "id": "1b3bc653",
      "metadata": {
        "colab": {
          "base_uri": "https://localhost:8080/"
        },
        "id": "1b3bc653",
        "outputId": "42645edc-2f0a-4efc-f6f5-dd904d56ab52"
      },
      "outputs": [
        {
          "output_type": "stream",
          "name": "stdout",
          "text": [
            "Train size: 31466\n",
            "Val size: 6745\n",
            "Test size: 6744\n"
          ]
        }
      ],
      "source": [
        "# Stratified split: 70% train, 15% val, 15% test\n",
        "train_val_df, test_df = train_test_split(df_full, test_size=0.15, stratify=df_full[\"label\"], random_state=42)\n",
        "train_df, val_df = train_test_split(train_val_df, test_size=0.1765, stratify=train_val_df[\"label\"], random_state=42)\n",
        "\n",
        "# Confirm sizes\n",
        "print(\"Train size:\", len(train_df))\n",
        "print(\"Val size:\", len(val_df))\n",
        "print(\"Test size:\", len(test_df))"
      ]
    },
    {
      "cell_type": "markdown",
      "id": "8a9d2aae",
      "metadata": {
        "id": "8a9d2aae"
      },
      "source": [
        "**Use Small Subsets for Quick Evaluation**\n",
        "\n",
        "Select shuffled samples from each training and validation dataset for both BERT and RoBERTa. This allows faster experimentation during model development."
      ]
    },
    {
      "cell_type": "code",
      "execution_count": 9,
      "id": "52bd0bc9",
      "metadata": {
        "id": "52bd0bc9"
      },
      "outputs": [],
      "source": [
        "train_subset_df, _ = train_test_split(\n",
        "    train_df[[\"clean_text\", \"label\"]],\n",
        "    train_size=2000,\n",
        "    stratify=train_df[\"label\"],\n",
        "    random_state=42\n",
        ")\n",
        "\n",
        "val_subset_df, _ = train_test_split(\n",
        "    val_df[[\"clean_text\", \"label\"]],\n",
        "    train_size=500,\n",
        "    stratify=val_df[\"label\"],\n",
        "    random_state=42\n",
        ")"
      ]
    },
    {
      "cell_type": "markdown",
      "id": "1f6baec2",
      "metadata": {
        "id": "1f6baec2"
      },
      "source": [
        "**Tokenization**\n",
        "\n",
        "Define tokenization functions for BERT and RoBERTa to preprocess text with truncation and fixed padding.\n",
        "\n",
        "Transform training and validation DataFrames into Dataset objects compatible with Hugging Face workflows.\n",
        "\n",
        "Apply tokenization to training and validation datasets using each model's tokenizer."
      ]
    },
    {
      "cell_type": "code",
      "execution_count": 10,
      "id": "e68b523d",
      "metadata": {
        "id": "e68b523d"
      },
      "outputs": [],
      "source": [
        "# Tokenize function\n",
        "def tokenize_function_bert(examples):\n",
        "    return bert_tokenizer(examples[\"clean_text\"], truncation=True, padding='max_length', max_length=64)\n",
        "\n",
        "def tokenize_function_roberta(examples):\n",
        "    return roberta_tokenizer(examples[\"clean_text\"], truncation=True, padding='max_length', max_length=64)"
      ]
    },
    {
      "cell_type": "code",
      "execution_count": 11,
      "id": "ab47dda3",
      "metadata": {
        "id": "ab47dda3"
      },
      "outputs": [],
      "source": [
        "# Convert DataFrame to Hugging Face Dataset\n",
        "hf_subset_train = Dataset.from_pandas(train_subset_df)\n",
        "hf_subset_val = Dataset.from_pandas(val_subset_df)\n",
        "\n",
        "hf_train = Dataset.from_pandas(train_df[[\"clean_text\", \"label\"]])\n",
        "hf_val = Dataset.from_pandas(val_df[[\"clean_text\", \"label\"]])\n",
        "hf_test = Dataset.from_pandas(test_df[[\"clean_text\", \"label\"]])"
      ]
    },
    {
      "cell_type": "code",
      "execution_count": 12,
      "id": "6b99bc94",
      "metadata": {
        "colab": {
          "base_uri": "https://localhost:8080/",
          "height": 145,
          "referenced_widgets": [
            "361a75759c5e4af78e349454f178b8c4",
            "8fad9e65248347fa85d69bb160d1dbf8",
            "9865b62db7b347fa94b5e3dc2826e788",
            "6bca277bd016419a88f4ab2ebdc6ed5a",
            "428a74c3249c40958e40b720ae3eaed9",
            "9e95d87c3a434f57b263f7e2dc5e4cd5",
            "42551931e7f94b8493db3d4810207658",
            "b62d70b237da46f19836ba573b2c3a65",
            "5cb63b1d103a448baa296f794458365e",
            "b5540743a1954ea48661eb4c1cde4726",
            "552ba73d246e4d82b1beeaf8d28bcb0e",
            "e5da444b9bb6423891f6e6135217c876",
            "39d9f692d5234dfcb53bf7735bdb59b8",
            "7a9663ed605a4d588c8f35259f3494f6",
            "91b38cf450b644639acfc2c4cff12dd1",
            "9c47d081ff804bd6808bb2b0c062ed85",
            "54152d87c8c247eab6aaf74227251093",
            "1d9b3a91d26447c1b7589d5aa753a5d5",
            "f566bd5fa01d49e6a49d4eb20da72fe1",
            "8a4a02c1f3484f218c98df45dd9de947",
            "1c38791317c4484cb2cbf41906b8dbc4",
            "006f8789a1f04268827b2c7dddfb2d66",
            "1e6111e7b8604ff0bc0d4a79d478eef4",
            "be990da04f464e508798b781a3874812",
            "34c56024a8544afba1e784e23839e128",
            "f21bd1e834484785b23b8174fd764490",
            "aea8f43eb510466bbcbd76818df4b86a",
            "f09ab361a6cb4f419b4ccdaf59dcee6d",
            "d992e5fbff3c493f81825fb75cc7e1e3",
            "1cb59a7444ef4a9da2b9ff4adccbee39",
            "78c9d894b8fa4d36b2af6965ef58e48b",
            "54e25bd120f949b9bdd3b985b64a495b",
            "99270674df8e4786a0f3749f3d9e413d",
            "55fb14a3903f46e88564821e8ed53b80",
            "ee35226d7f884b10a4632eba593e4228",
            "dcd6adf736274413b1aaf0de36f96840",
            "a21b490b37a646739d9bd379b9de868b",
            "dac28aaa4fb24a33b8eb7e66e0b747ef",
            "8d3ef4b34e454d9f9bb2741b880ff2d1",
            "8012c92df9834d92afc41cf8a118624d",
            "2d970e2792e04b1cb4de75d4e458fffc",
            "8d1367ce9e7b43f0b12a04f45291d3f3",
            "e65c729059024b128cbacca9ed05ccef",
            "00142ac7006f4ec6a5451148d70e9be8"
          ]
        },
        "id": "6b99bc94",
        "outputId": "020e8a6f-726d-4bb3-fbf6-39683c76bd29"
      },
      "outputs": [
        {
          "output_type": "display_data",
          "data": {
            "text/plain": [
              "Map:   0%|          | 0/2000 [00:00<?, ? examples/s]"
            ],
            "application/vnd.jupyter.widget-view+json": {
              "version_major": 2,
              "version_minor": 0,
              "model_id": "361a75759c5e4af78e349454f178b8c4"
            }
          },
          "metadata": {}
        },
        {
          "output_type": "display_data",
          "data": {
            "text/plain": [
              "Map:   0%|          | 0/500 [00:00<?, ? examples/s]"
            ],
            "application/vnd.jupyter.widget-view+json": {
              "version_major": 2,
              "version_minor": 0,
              "model_id": "e5da444b9bb6423891f6e6135217c876"
            }
          },
          "metadata": {}
        },
        {
          "output_type": "display_data",
          "data": {
            "text/plain": [
              "Map:   0%|          | 0/2000 [00:00<?, ? examples/s]"
            ],
            "application/vnd.jupyter.widget-view+json": {
              "version_major": 2,
              "version_minor": 0,
              "model_id": "1e6111e7b8604ff0bc0d4a79d478eef4"
            }
          },
          "metadata": {}
        },
        {
          "output_type": "display_data",
          "data": {
            "text/plain": [
              "Map:   0%|          | 0/500 [00:00<?, ? examples/s]"
            ],
            "application/vnd.jupyter.widget-view+json": {
              "version_major": 2,
              "version_minor": 0,
              "model_id": "55fb14a3903f46e88564821e8ed53b80"
            }
          },
          "metadata": {}
        }
      ],
      "source": [
        "# Tokenize subsets\n",
        "# Tokenize for BERT\n",
        "tokenized_bert_train_sub = hf_subset_train.map(tokenize_function_bert, batched=True)\n",
        "tokenized_bert_train_sub.set_format(\"torch\", columns=[\"input_ids\", \"attention_mask\", \"label\"])\n",
        "\n",
        "tokenized_bert_val_sub = hf_subset_val.map(tokenize_function_bert, batched=True)\n",
        "tokenized_bert_val_sub.set_format(\"torch\", columns=[\"input_ids\", \"attention_mask\", \"label\"])\n",
        "\n",
        "# Tokenize for RoBERTa\n",
        "tokenized_roberta_train_sub = hf_subset_train.map(tokenize_function_roberta, batched=True)\n",
        "tokenized_roberta_train_sub.set_format(\"torch\", columns=[\"input_ids\", \"attention_mask\", \"label\"])\n",
        "\n",
        "tokenized_roberta_val_sub = hf_subset_val.map(tokenize_function_roberta, batched=True)\n",
        "tokenized_roberta_val_sub.set_format(\"torch\", columns=[\"input_ids\", \"attention_mask\", \"label\"])"
      ]
    },
    {
      "cell_type": "code",
      "execution_count": 13,
      "id": "1efa62d8",
      "metadata": {
        "colab": {
          "base_uri": "https://localhost:8080/",
          "height": 209,
          "referenced_widgets": [
            "a9d0cc16b42c42d2a14a3b89a9085e68",
            "0e91a950e80d4bfdbc171392522649ae",
            "673ee1e480b74ed8a19811f490dcba1d",
            "b41747443020456db2e7ee4113186dbc",
            "4fc088f3f8ee4936ba336f0a1267014e",
            "181945316c4a4c46be267a5f311f555f",
            "e7a3fcecbc334094a79bbbe5a8552bb6",
            "835c8d3ecc054e49ad802c01642e89a1",
            "cb0e1dc03edc4c70bc8160e443bbeaa0",
            "00c5b91fcfa3449e8b5d78eb88ccb8bc",
            "7690af1a5e3141e89a78d1aed204df62",
            "8c547877457242e3b9fd5927adc858bf",
            "ebf9126ec9f9478bb7f998144f549766",
            "bbfc7592e90d400b8ed2f393141f8928",
            "2a68dc685c004caca1219e1989f4b7cc",
            "74f8b642dd274d4cbaab8801c7bdb8c6",
            "8b880a53c0e84de783ea450692c350a8",
            "f724f2219d504ee5867c6c974d78f678",
            "a24aecab7123400ca0f20705749b9471",
            "798f0c399ed04039a665131bb90e3d65",
            "f87c20925ac64d8f86f1c8ef5c3c9acb",
            "40652f602fe743b4bfad39f85a3284fb",
            "04032912130f4320b0bdae03841bb869",
            "c1ce80bd07084b5dbd2b74dc83bdffd9",
            "8e72441f273042a6be6bf2a51b7a318e",
            "50456ec34c92490ab09353cde6df4a96",
            "ec38b4a78b0141e0a8423e3d91e04ed9",
            "749f8623ed2e4115b8ad6fb626e660be",
            "b57cdb3946134d8aa40ed0579bba2704",
            "b703a10c86ef4be5aed5875b42a327cf",
            "c8e22245a5df480f85b5e63c68e170ab",
            "f48442ad8c174dd2987408d1265ac84d",
            "8e3b78f458e34ecfad0dbf911bc83518",
            "5d38eda138994244b97b7147722eb78d",
            "d5bd4a984e834fd3856d4e2c4f4fb5cc",
            "2aea91eef8c942eba357c07dcdacdb31",
            "433f73dcbd5948079f306a0977d0b532",
            "8050c2acdbc34e68ad707f0016476e6e",
            "5c55545045b5418fb44af15bdeb64c1e",
            "9199618aefa34e09af21998fc1e25342",
            "5e42a283a14c4633bd42902bbbcd2587",
            "131c0348698f419ebd1d626cd9bd51b7",
            "09d095fedf5b4711ba881bc10e3d0146",
            "54dbff0a0a294f46a290b76077c77dc0",
            "ac12b394d12544b4a55855cf69a9f665",
            "f95533841ce04f6ca046e112fb23b737",
            "45a3da4d90d349c1b32aec1a2c8cb018",
            "6c1008a2841e4570a35d31413fb71991",
            "85d80f8d1b3d431c93c7a0b2ef3fe893",
            "6e106316c3e64b008d47cac4c3f81858",
            "538b62587e464da39977ed5f0f308965",
            "9e81cae0287a425380fdef323af53243",
            "3577d22e8bfd4cbfb594ea8252681011",
            "091fe542e266441da120a93cef34c105",
            "5436fdb6ee4240a89dc07a107e14c735",
            "0e624944b8a3493fa4ecfc75476bcffd",
            "7249016c36fe4907aeed7e63ca0c32fa",
            "75fe120b189b4eb29376547a068a0a02",
            "3643704576e24c9898a647dec4fb3562",
            "9a78692488b54e269766a910a340b26a",
            "5410d65029d04bf7af83380a896722eb",
            "4961c68b43634373be5d64b962018f21",
            "bd39fe96034c4ffa842178fb1c55b115",
            "b5c18f8e67a146e4986d032c691bb757",
            "9e58165640254f118ce1e54b0acbb633",
            "19db1c794bc049a2812d9deda5f3b995"
          ]
        },
        "id": "1efa62d8",
        "outputId": "06292458-94c0-4ea8-96c7-228946fb9f63"
      },
      "outputs": [
        {
          "output_type": "display_data",
          "data": {
            "text/plain": [
              "Map:   0%|          | 0/31466 [00:00<?, ? examples/s]"
            ],
            "application/vnd.jupyter.widget-view+json": {
              "version_major": 2,
              "version_minor": 0,
              "model_id": "a9d0cc16b42c42d2a14a3b89a9085e68"
            }
          },
          "metadata": {}
        },
        {
          "output_type": "display_data",
          "data": {
            "text/plain": [
              "Map:   0%|          | 0/6745 [00:00<?, ? examples/s]"
            ],
            "application/vnd.jupyter.widget-view+json": {
              "version_major": 2,
              "version_minor": 0,
              "model_id": "8c547877457242e3b9fd5927adc858bf"
            }
          },
          "metadata": {}
        },
        {
          "output_type": "display_data",
          "data": {
            "text/plain": [
              "Map:   0%|          | 0/6744 [00:00<?, ? examples/s]"
            ],
            "application/vnd.jupyter.widget-view+json": {
              "version_major": 2,
              "version_minor": 0,
              "model_id": "04032912130f4320b0bdae03841bb869"
            }
          },
          "metadata": {}
        },
        {
          "output_type": "display_data",
          "data": {
            "text/plain": [
              "Map:   0%|          | 0/31466 [00:00<?, ? examples/s]"
            ],
            "application/vnd.jupyter.widget-view+json": {
              "version_major": 2,
              "version_minor": 0,
              "model_id": "5d38eda138994244b97b7147722eb78d"
            }
          },
          "metadata": {}
        },
        {
          "output_type": "display_data",
          "data": {
            "text/plain": [
              "Map:   0%|          | 0/6745 [00:00<?, ? examples/s]"
            ],
            "application/vnd.jupyter.widget-view+json": {
              "version_major": 2,
              "version_minor": 0,
              "model_id": "ac12b394d12544b4a55855cf69a9f665"
            }
          },
          "metadata": {}
        },
        {
          "output_type": "display_data",
          "data": {
            "text/plain": [
              "Map:   0%|          | 0/6744 [00:00<?, ? examples/s]"
            ],
            "application/vnd.jupyter.widget-view+json": {
              "version_major": 2,
              "version_minor": 0,
              "model_id": "0e624944b8a3493fa4ecfc75476bcffd"
            }
          },
          "metadata": {}
        }
      ],
      "source": [
        "# Tokenize full dataset\n",
        "# Tokenize for BERT\n",
        "tokenized_bert_train = hf_train.map(tokenize_function_bert, batched=True)\n",
        "tokenized_bert_train.set_format(\"torch\", columns=[\"input_ids\", \"attention_mask\", \"label\"])\n",
        "\n",
        "tokenized_bert_val = hf_val.map(tokenize_function_bert, batched=True)\n",
        "tokenized_bert_val.set_format(\"torch\", columns=[\"input_ids\", \"attention_mask\", \"label\"])\n",
        "\n",
        "tokenized_bert_test = hf_test.map(tokenize_function_bert, batched=True)\n",
        "tokenized_bert_test.set_format(\"torch\", columns=[\"input_ids\", \"attention_mask\", \"label\"])\n",
        "\n",
        "# Tokenize for RoBERTa\n",
        "tokenized_roberta_train = hf_train.map(tokenize_function_roberta, batched=True)\n",
        "tokenized_roberta_train.set_format(\"torch\", columns=[\"input_ids\", \"attention_mask\", \"label\"])\n",
        "\n",
        "tokenized_roberta_val = hf_val.map(tokenize_function_roberta, batched=True)\n",
        "tokenized_roberta_val.set_format(\"torch\", columns=[\"input_ids\", \"attention_mask\", \"label\"])\n",
        "\n",
        "tokenized_roberta_test = hf_test.map(tokenize_function_roberta, batched=True)\n",
        "tokenized_roberta_test.set_format(\"torch\", columns=[\"input_ids\", \"attention_mask\", \"label\"])"
      ]
    },
    {
      "cell_type": "code",
      "execution_count": 14,
      "id": "90b7dbf6",
      "metadata": {
        "id": "90b7dbf6"
      },
      "outputs": [],
      "source": [
        "accuracy_metric = evaluate.load(\"accuracy\")\n",
        "f1_metric = evaluate.load(\"f1\")\n",
        "\n",
        "def compute_metrics(eval_pred):\n",
        "    logits, labels = eval_pred\n",
        "    predictions = np.argmax(logits, axis=1)\n",
        "    return {\n",
        "        \"accuracy\": accuracy_metric.compute(predictions=predictions, references=labels)[\"accuracy\"],\n",
        "        \"f1_macro\": f1_metric.compute(predictions=predictions, references=labels, average=\"macro\")[\"f1\"]\n",
        "    }"
      ]
    },
    {
      "cell_type": "markdown",
      "id": "eddf48fe",
      "metadata": {
        "id": "eddf48fe"
      },
      "source": [
        "**Hyperparameters Tuning with Optuna**"
      ]
    },
    {
      "cell_type": "code",
      "execution_count": 15,
      "id": "0d7b5654",
      "metadata": {
        "id": "0d7b5654"
      },
      "outputs": [],
      "source": [
        "def build_trainer(model_checkpoint, trial, run_prefix, train_dataset, val_dataset):\n",
        "    # Sample hyperparameters\n",
        "    learning_rate = trial.suggest_float(\"learning_rate\", 1e-5, 5e-5, log=True)\n",
        "    batch_size = trial.suggest_categorical(\"batch_size\", [8, 16, 32])\n",
        "    num_epochs = trial.suggest_int(\"num_train_epochs\", 2, 5)\n",
        "    n_samples = len(train_dataset)\n",
        "\n",
        "    model = AutoModelForSequenceClassification.from_pretrained(model_checkpoint, num_labels=5)\n",
        "    tokenizer = AutoTokenizer.from_pretrained(model_checkpoint)\n",
        "\n",
        "    run_name = f\"{run_prefix}-ep{num_epochs}-lr{learning_rate}-bs{batch_size}-samples{n_samples}-run{int(time.time())}-{is_preprocessed}\"\n",
        "\n",
        "    args = TrainingArguments(\n",
        "        output_dir=f\"./results/{run_prefix}/{run_name}\",\n",
        "        disable_tqdm=True,\n",
        "        fp16=True,\n",
        "        eval_strategy=\"epoch\",\n",
        "        save_strategy=\"epoch\",\n",
        "        per_device_train_batch_size=batch_size,\n",
        "        per_device_eval_batch_size=batch_size,\n",
        "        num_train_epochs=num_epochs,\n",
        "        learning_rate=learning_rate,\n",
        "        weight_decay=0.01,\n",
        "        load_best_model_at_end=True,\n",
        "        save_total_limit=1,\n",
        "        logging_strategy=\"epoch\",\n",
        "        logging_dir=f\"./logs/{run_prefix}/{run_name}\",\n",
        "        run_name=run_name,\n",
        "        report_to=\"wandb\",\n",
        "        metric_for_best_model=\"f1_macro\",\n",
        "        greater_is_better=True\n",
        "    )\n",
        "\n",
        "    trainer = Trainer(\n",
        "        model=model,\n",
        "        args=args,\n",
        "        train_dataset=train_dataset,\n",
        "        eval_dataset=val_dataset,\n",
        "        tokenizer=tokenizer,\n",
        "        compute_metrics=compute_metrics\n",
        "    )\n",
        "\n",
        "    return trainer"
      ]
    },
    {
      "cell_type": "code",
      "execution_count": 16,
      "id": "ed3cd8cc",
      "metadata": {
        "id": "ed3cd8cc"
      },
      "outputs": [],
      "source": [
        "def objective_bert(trial):\n",
        "    trainer = build_trainer(\n",
        "        model_checkpoint=\"bert-base-uncased\",\n",
        "        trial=trial,\n",
        "        run_prefix=\"bert\",\n",
        "        train_dataset=tokenized_bert_train_sub,\n",
        "        val_dataset=tokenized_bert_val_sub\n",
        "    )\n",
        "    trainer.train()\n",
        "    eval_result = trainer.evaluate()\n",
        "    return eval_result[\"eval_f1_macro\"]\n",
        "\n",
        "def objective_roberta(trial):\n",
        "    trainer = build_trainer(\n",
        "        model_checkpoint=\"roberta-base\",\n",
        "        trial=trial,\n",
        "        run_prefix=\"roberta\",\n",
        "        train_dataset=tokenized_roberta_train_sub,\n",
        "        val_dataset=tokenized_roberta_val_sub\n",
        "    )\n",
        "    trainer.train()\n",
        "    eval_result = trainer.evaluate()\n",
        "\n",
        "    return eval_result[\"eval_f1_macro\"]"
      ]
    },
    {
      "cell_type": "code",
      "execution_count": 17,
      "id": "fb4921af",
      "metadata": {
        "colab": {
          "base_uri": "https://localhost:8080/",
          "height": 1000
        },
        "id": "fb4921af",
        "outputId": "38053a14-c515-4c4d-d49d-004a450be5d6"
      },
      "outputs": [
        {
          "output_type": "stream",
          "name": "stderr",
          "text": [
            "[I 2025-07-30 20:19:33,623] Using an existing study with name 'bert_study_stratify_no_preprocess' instead of creating a new one.\n",
            "Some weights of BertForSequenceClassification were not initialized from the model checkpoint at bert-base-uncased and are newly initialized: ['classifier.bias', 'classifier.weight']\n",
            "You should probably TRAIN this model on a down-stream task to be able to use it for predictions and inference.\n",
            "/tmp/ipython-input-1416991230.py:34: FutureWarning: `tokenizer` is deprecated and will be removed in version 5.0.0 for `Trainer.__init__`. Use `processing_class` instead.\n",
            "  trainer = Trainer(\n"
          ]
        },
        {
          "output_type": "display_data",
          "data": {
            "text/plain": [
              "<IPython.core.display.HTML object>"
            ],
            "text/html": [
              "Changes to your `wandb` environment variables will be ignored because your `wandb` session has already started. For more information on how to modify your settings with `wandb.init()` arguments, please refer to <a href='https://wandb.me/wandb-init' target=\"_blank\">the W&B docs</a>."
            ]
          },
          "metadata": {}
        },
        {
          "output_type": "display_data",
          "data": {
            "text/plain": [
              "<IPython.core.display.HTML object>"
            ],
            "text/html": [
              "Tracking run with wandb version 0.21.0"
            ]
          },
          "metadata": {}
        },
        {
          "output_type": "display_data",
          "data": {
            "text/plain": [
              "<IPython.core.display.HTML object>"
            ],
            "text/html": [
              "Run data is saved locally in <code>/content/wandb/run-20250730_201935-ndkjwksm</code>"
            ]
          },
          "metadata": {}
        },
        {
          "output_type": "display_data",
          "data": {
            "text/plain": [
              "<IPython.core.display.HTML object>"
            ],
            "text/html": [
              "Syncing run <strong><a href='https://wandb.ai/hillas-tel-aviv-university/tweet-sentiment-classification_split_to_test/runs/ndkjwksm' target=\"_blank\">bert-ep4-lr3.787812558564427e-05-bs8-samples2000-run1753906774-no_preprocess</a></strong> to <a href='https://wandb.ai/hillas-tel-aviv-university/tweet-sentiment-classification_split_to_test' target=\"_blank\">Weights & Biases</a> (<a href='https://wandb.me/developer-guide' target=\"_blank\">docs</a>)<br>"
            ]
          },
          "metadata": {}
        },
        {
          "output_type": "display_data",
          "data": {
            "text/plain": [
              "<IPython.core.display.HTML object>"
            ],
            "text/html": [
              " View project at <a href='https://wandb.ai/hillas-tel-aviv-university/tweet-sentiment-classification_split_to_test' target=\"_blank\">https://wandb.ai/hillas-tel-aviv-university/tweet-sentiment-classification_split_to_test</a>"
            ]
          },
          "metadata": {}
        },
        {
          "output_type": "display_data",
          "data": {
            "text/plain": [
              "<IPython.core.display.HTML object>"
            ],
            "text/html": [
              " View run at <a href='https://wandb.ai/hillas-tel-aviv-university/tweet-sentiment-classification_split_to_test/runs/ndkjwksm' target=\"_blank\">https://wandb.ai/hillas-tel-aviv-university/tweet-sentiment-classification_split_to_test/runs/ndkjwksm</a>"
            ]
          },
          "metadata": {}
        },
        {
          "output_type": "stream",
          "name": "stderr",
          "text": [
            "/usr/local/lib/python3.11/dist-packages/torch/nn/modules/module.py:1750: FutureWarning: `encoder_attention_mask` is deprecated and will be removed in version 4.55.0 for `BertSdpaSelfAttention.forward`.\n",
            "  return forward_call(*args, **kwargs)\n"
          ]
        },
        {
          "output_type": "stream",
          "name": "stdout",
          "text": [
            "{'loss': 1.4147, 'grad_norm': 12.60844612121582, 'learning_rate': 2.852222856599014e-05, 'epoch': 1.0}\n",
            "{'eval_loss': 1.1058979034423828, 'eval_accuracy': 0.542, 'eval_f1_macro': 0.512927060809423, 'eval_runtime': 1.3565, 'eval_samples_per_second': 368.597, 'eval_steps_per_second': 46.443, 'epoch': 1.0}\n"
          ]
        },
        {
          "output_type": "stream",
          "name": "stderr",
          "text": [
            "/usr/local/lib/python3.11/dist-packages/torch/nn/modules/module.py:1750: FutureWarning: `encoder_attention_mask` is deprecated and will be removed in version 4.55.0 for `BertSdpaSelfAttention.forward`.\n",
            "  return forward_call(*args, **kwargs)\n"
          ]
        },
        {
          "output_type": "stream",
          "name": "stdout",
          "text": [
            "{'loss': 0.9373, 'grad_norm': 16.291322708129883, 'learning_rate': 1.9090575295164712e-05, 'epoch': 2.0}\n",
            "{'eval_loss': 1.0512663125991821, 'eval_accuracy': 0.542, 'eval_f1_macro': 0.5505361273725048, 'eval_runtime': 1.3669, 'eval_samples_per_second': 365.78, 'eval_steps_per_second': 46.088, 'epoch': 2.0}\n"
          ]
        },
        {
          "output_type": "stream",
          "name": "stderr",
          "text": [
            "/usr/local/lib/python3.11/dist-packages/torch/nn/modules/module.py:1750: FutureWarning: `encoder_attention_mask` is deprecated and will be removed in version 4.55.0 for `BertSdpaSelfAttention.forward`.\n",
            "  return forward_call(*args, **kwargs)\n"
          ]
        },
        {
          "output_type": "stream",
          "name": "stdout",
          "text": [
            "{'loss': 0.5418, 'grad_norm': 29.329479217529297, 'learning_rate': 9.621043898753646e-06, 'epoch': 3.0}\n",
            "{'eval_loss': 1.1019622087478638, 'eval_accuracy': 0.606, 'eval_f1_macro': 0.6031293543058249, 'eval_runtime': 1.3561, 'eval_samples_per_second': 368.714, 'eval_steps_per_second': 46.458, 'epoch': 3.0}\n"
          ]
        },
        {
          "output_type": "stream",
          "name": "stderr",
          "text": [
            "/usr/local/lib/python3.11/dist-packages/torch/nn/modules/module.py:1750: FutureWarning: `encoder_attention_mask` is deprecated and will be removed in version 4.55.0 for `BertSdpaSelfAttention.forward`.\n",
            "  return forward_call(*args, **kwargs)\n"
          ]
        },
        {
          "output_type": "stream",
          "name": "stdout",
          "text": [
            "{'loss': 0.299, 'grad_norm': 19.242189407348633, 'learning_rate': 1.8939062792822137e-07, 'epoch': 4.0}\n",
            "{'eval_loss': 1.2530885934829712, 'eval_accuracy': 0.592, 'eval_f1_macro': 0.5869729757087246, 'eval_runtime': 1.355, 'eval_samples_per_second': 369.009, 'eval_steps_per_second': 46.495, 'epoch': 4.0}\n",
            "{'train_runtime': 90.0943, 'train_samples_per_second': 88.796, 'train_steps_per_second': 11.099, 'train_loss': 0.7982215576171875, 'epoch': 4.0}\n"
          ]
        },
        {
          "output_type": "stream",
          "name": "stderr",
          "text": [
            "/usr/local/lib/python3.11/dist-packages/torch/nn/modules/module.py:1750: FutureWarning: `encoder_attention_mask` is deprecated and will be removed in version 4.55.0 for `BertSdpaSelfAttention.forward`.\n",
            "  return forward_call(*args, **kwargs)\n",
            "[I 2025-07-30 20:21:07,160] Trial 18 finished with value: 0.6031293543058249 and parameters: {'learning_rate': 3.787812558564427e-05, 'batch_size': 8, 'num_train_epochs': 4}. Best is trial 2 with value: 0.6268387639451145.\n"
          ]
        },
        {
          "output_type": "stream",
          "name": "stdout",
          "text": [
            "{'eval_loss': 1.1019622087478638, 'eval_accuracy': 0.606, 'eval_f1_macro': 0.6031293543058249, 'eval_runtime': 1.3634, 'eval_samples_per_second': 366.735, 'eval_steps_per_second': 46.209, 'epoch': 4.0}\n"
          ]
        },
        {
          "output_type": "stream",
          "name": "stderr",
          "text": [
            "Some weights of BertForSequenceClassification were not initialized from the model checkpoint at bert-base-uncased and are newly initialized: ['classifier.bias', 'classifier.weight']\n",
            "You should probably TRAIN this model on a down-stream task to be able to use it for predictions and inference.\n",
            "/tmp/ipython-input-1416991230.py:34: FutureWarning: `tokenizer` is deprecated and will be removed in version 5.0.0 for `Trainer.__init__`. Use `processing_class` instead.\n",
            "  trainer = Trainer(\n",
            "/usr/local/lib/python3.11/dist-packages/torch/nn/modules/module.py:1750: FutureWarning: `encoder_attention_mask` is deprecated and will be removed in version 4.55.0 for `BertSdpaSelfAttention.forward`.\n",
            "  return forward_call(*args, **kwargs)\n"
          ]
        },
        {
          "output_type": "stream",
          "name": "stdout",
          "text": [
            "{'loss': 1.4223, 'grad_norm': 13.544726371765137, 'learning_rate': 2.1022362912373408e-05, 'epoch': 1.0}\n",
            "{'eval_loss': 1.177762746810913, 'eval_accuracy': 0.506, 'eval_f1_macro': 0.5034116123642439, 'eval_runtime': 1.335, 'eval_samples_per_second': 374.544, 'eval_steps_per_second': 47.193, 'epoch': 1.0}\n"
          ]
        },
        {
          "output_type": "stream",
          "name": "stderr",
          "text": [
            "/usr/local/lib/python3.11/dist-packages/torch/nn/modules/module.py:1750: FutureWarning: `encoder_attention_mask` is deprecated and will be removed in version 4.55.0 for `BertSdpaSelfAttention.forward`.\n",
            "  return forward_call(*args, **kwargs)\n"
          ]
        },
        {
          "output_type": "stream",
          "name": "stdout",
          "text": [
            "{'loss': 0.9492, 'grad_norm': 28.371627807617188, 'learning_rate': 1.5782491797624305e-05, 'epoch': 2.0}\n",
            "{'eval_loss': 1.091188907623291, 'eval_accuracy': 0.552, 'eval_f1_macro': 0.5632305834186712, 'eval_runtime': 1.3634, 'eval_samples_per_second': 366.727, 'eval_steps_per_second': 46.208, 'epoch': 2.0}\n"
          ]
        },
        {
          "output_type": "stream",
          "name": "stderr",
          "text": [
            "/usr/local/lib/python3.11/dist-packages/torch/nn/modules/module.py:1750: FutureWarning: `encoder_attention_mask` is deprecated and will be removed in version 4.55.0 for `BertSdpaSelfAttention.forward`.\n",
            "  return forward_call(*args, **kwargs)\n"
          ]
        },
        {
          "output_type": "stream",
          "name": "stdout",
          "text": [
            "{'loss': 0.614, 'grad_norm': 27.463851928710938, 'learning_rate': 1.0563580167334195e-05, 'epoch': 3.0}\n",
            "{'eval_loss': 1.1288081407546997, 'eval_accuracy': 0.566, 'eval_f1_macro': 0.5795270657506536, 'eval_runtime': 1.3736, 'eval_samples_per_second': 364.0, 'eval_steps_per_second': 45.864, 'epoch': 3.0}\n"
          ]
        },
        {
          "output_type": "stream",
          "name": "stderr",
          "text": [
            "/usr/local/lib/python3.11/dist-packages/torch/nn/modules/module.py:1750: FutureWarning: `encoder_attention_mask` is deprecated and will be removed in version 4.55.0 for `BertSdpaSelfAttention.forward`.\n",
            "  return forward_call(*args, **kwargs)\n"
          ]
        },
        {
          "output_type": "stream",
          "name": "stdout",
          "text": [
            "{'loss': 0.3718, 'grad_norm': 15.052289962768555, 'learning_rate': 5.344668537044087e-06, 'epoch': 4.0}\n",
            "{'eval_loss': 1.4150032997131348, 'eval_accuracy': 0.57, 'eval_f1_macro': 0.5645180002541184, 'eval_runtime': 1.3711, 'eval_samples_per_second': 364.666, 'eval_steps_per_second': 45.948, 'epoch': 4.0}\n"
          ]
        },
        {
          "output_type": "stream",
          "name": "stderr",
          "text": [
            "/usr/local/lib/python3.11/dist-packages/torch/nn/modules/module.py:1750: FutureWarning: `encoder_attention_mask` is deprecated and will be removed in version 4.55.0 for `BertSdpaSelfAttention.forward`.\n",
            "  return forward_call(*args, **kwargs)\n"
          ]
        },
        {
          "output_type": "stream",
          "name": "stdout",
          "text": [
            "{'loss': 0.2204, 'grad_norm': 21.712162017822266, 'learning_rate': 1.257569067539785e-07, 'epoch': 5.0}\n",
            "{'eval_loss': 1.4936425685882568, 'eval_accuracy': 0.594, 'eval_f1_macro': 0.5998239532933249, 'eval_runtime': 1.3657, 'eval_samples_per_second': 366.107, 'eval_steps_per_second': 46.13, 'epoch': 5.0}\n",
            "{'train_runtime': 110.5796, 'train_samples_per_second': 90.433, 'train_steps_per_second': 11.304, 'train_loss': 0.7155514038085937, 'epoch': 5.0}\n"
          ]
        },
        {
          "output_type": "stream",
          "name": "stderr",
          "text": [
            "/usr/local/lib/python3.11/dist-packages/torch/nn/modules/module.py:1750: FutureWarning: `encoder_attention_mask` is deprecated and will be removed in version 4.55.0 for `BertSdpaSelfAttention.forward`.\n",
            "  return forward_call(*args, **kwargs)\n",
            "[I 2025-07-30 20:23:01,134] Trial 19 finished with value: 0.5998239532933249 and parameters: {'learning_rate': 2.6199355573745524e-05, 'batch_size': 8, 'num_train_epochs': 5}. Best is trial 2 with value: 0.6268387639451145.\n"
          ]
        },
        {
          "output_type": "stream",
          "name": "stdout",
          "text": [
            "{'eval_loss': 1.4936425685882568, 'eval_accuracy': 0.594, 'eval_f1_macro': 0.5998239532933249, 'eval_runtime': 1.4239, 'eval_samples_per_second': 351.152, 'eval_steps_per_second': 44.245, 'epoch': 5.0}\n"
          ]
        },
        {
          "output_type": "stream",
          "name": "stderr",
          "text": [
            "Some weights of BertForSequenceClassification were not initialized from the model checkpoint at bert-base-uncased and are newly initialized: ['classifier.bias', 'classifier.weight']\n",
            "You should probably TRAIN this model on a down-stream task to be able to use it for predictions and inference.\n",
            "/tmp/ipython-input-1416991230.py:34: FutureWarning: `tokenizer` is deprecated and will be removed in version 5.0.0 for `Trainer.__init__`. Use `processing_class` instead.\n",
            "  trainer = Trainer(\n",
            "/usr/local/lib/python3.11/dist-packages/torch/nn/modules/module.py:1750: FutureWarning: `encoder_attention_mask` is deprecated and will be removed in version 4.55.0 for `BertSdpaSelfAttention.forward`.\n",
            "  return forward_call(*args, **kwargs)\n"
          ]
        },
        {
          "output_type": "stream",
          "name": "stdout",
          "text": [
            "{'loss': 1.5158, 'grad_norm': 6.579808235168457, 'learning_rate': 3.7884119695912245e-05, 'epoch': 1.0}\n",
            "{'eval_loss': 1.306054711341858, 'eval_accuracy': 0.436, 'eval_f1_macro': 0.4194653733176306, 'eval_runtime': 0.432, 'eval_samples_per_second': 1157.367, 'eval_steps_per_second': 37.036, 'epoch': 1.0}\n"
          ]
        },
        {
          "output_type": "stream",
          "name": "stderr",
          "text": [
            "/usr/local/lib/python3.11/dist-packages/torch/nn/modules/module.py:1750: FutureWarning: `encoder_attention_mask` is deprecated and will be removed in version 4.55.0 for `BertSdpaSelfAttention.forward`.\n",
            "  return forward_call(*args, **kwargs)\n"
          ]
        },
        {
          "output_type": "stream",
          "name": "stdout",
          "text": [
            "{'loss': 1.0878, 'grad_norm': 9.410057067871094, 'learning_rate': 2.5586656757972146e-05, 'epoch': 2.0}\n",
            "{'eval_loss': 1.1069848537445068, 'eval_accuracy': 0.546, 'eval_f1_macro': 0.547173273766395, 'eval_runtime': 0.4283, 'eval_samples_per_second': 1167.48, 'eval_steps_per_second': 37.359, 'epoch': 2.0}\n"
          ]
        },
        {
          "output_type": "stream",
          "name": "stderr",
          "text": [
            "/usr/local/lib/python3.11/dist-packages/torch/nn/modules/module.py:1750: FutureWarning: `encoder_attention_mask` is deprecated and will be removed in version 4.55.0 for `BertSdpaSelfAttention.forward`.\n",
            "  return forward_call(*args, **kwargs)\n"
          ]
        },
        {
          "output_type": "stream",
          "name": "stdout",
          "text": [
            "{'loss': 0.77, 'grad_norm': 17.800806045532227, 'learning_rate': 1.3090847643613657e-05, 'epoch': 3.0}\n",
            "{'eval_loss': 1.1072627305984497, 'eval_accuracy': 0.56, 'eval_f1_macro': 0.5676301562574081, 'eval_runtime': 0.4434, 'eval_samples_per_second': 1127.685, 'eval_steps_per_second': 36.086, 'epoch': 3.0}\n"
          ]
        },
        {
          "output_type": "stream",
          "name": "stderr",
          "text": [
            "/usr/local/lib/python3.11/dist-packages/torch/nn/modules/module.py:1750: FutureWarning: `encoder_attention_mask` is deprecated and will be removed in version 4.55.0 for `BertSdpaSelfAttention.forward`.\n",
            "  return forward_call(*args, **kwargs)\n"
          ]
        },
        {
          "output_type": "stream",
          "name": "stdout",
          "text": [
            "{'loss': 0.5322, 'grad_norm': 9.647764205932617, 'learning_rate': 5.950385292551662e-07, 'epoch': 4.0}\n",
            "{'eval_loss': 1.1015324592590332, 'eval_accuracy': 0.6, 'eval_f1_macro': 0.6068619918606134, 'eval_runtime': 0.4281, 'eval_samples_per_second': 1167.976, 'eval_steps_per_second': 37.375, 'epoch': 4.0}\n",
            "{'train_runtime': 32.1339, 'train_samples_per_second': 248.958, 'train_steps_per_second': 7.842, 'train_loss': 0.9764505113874163, 'epoch': 4.0}\n"
          ]
        },
        {
          "output_type": "stream",
          "name": "stderr",
          "text": [
            "/usr/local/lib/python3.11/dist-packages/torch/nn/modules/module.py:1750: FutureWarning: `encoder_attention_mask` is deprecated and will be removed in version 4.55.0 for `BertSdpaSelfAttention.forward`.\n",
            "  return forward_call(*args, **kwargs)\n",
            "[I 2025-07-30 20:23:36,989] Trial 20 finished with value: 0.6068619918606134 and parameters: {'learning_rate': 4.998323645743396e-05, 'batch_size': 32, 'num_train_epochs': 4}. Best is trial 2 with value: 0.6268387639451145.\n"
          ]
        },
        {
          "output_type": "stream",
          "name": "stdout",
          "text": [
            "{'eval_loss': 1.1015324592590332, 'eval_accuracy': 0.6, 'eval_f1_macro': 0.6068619918606134, 'eval_runtime': 0.4716, 'eval_samples_per_second': 1060.124, 'eval_steps_per_second': 33.924, 'epoch': 4.0}\n"
          ]
        },
        {
          "output_type": "stream",
          "name": "stderr",
          "text": [
            "Some weights of BertForSequenceClassification were not initialized from the model checkpoint at bert-base-uncased and are newly initialized: ['classifier.bias', 'classifier.weight']\n",
            "You should probably TRAIN this model on a down-stream task to be able to use it for predictions and inference.\n",
            "/tmp/ipython-input-1416991230.py:34: FutureWarning: `tokenizer` is deprecated and will be removed in version 5.0.0 for `Trainer.__init__`. Use `processing_class` instead.\n",
            "  trainer = Trainer(\n",
            "/usr/local/lib/python3.11/dist-packages/torch/nn/modules/module.py:1750: FutureWarning: `encoder_attention_mask` is deprecated and will be removed in version 4.55.0 for `BertSdpaSelfAttention.forward`.\n",
            "  return forward_call(*args, **kwargs)\n"
          ]
        },
        {
          "output_type": "stream",
          "name": "stdout",
          "text": [
            "{'loss': 1.4808, 'grad_norm': 6.955602645874023, 'learning_rate': 2.6276135415738722e-05, 'epoch': 1.0}\n",
            "{'eval_loss': 1.2905200719833374, 'eval_accuracy': 0.45, 'eval_f1_macro': 0.4389164016420655, 'eval_runtime': 0.7498, 'eval_samples_per_second': 666.84, 'eval_steps_per_second': 42.678, 'epoch': 1.0}\n"
          ]
        },
        {
          "output_type": "stream",
          "name": "stderr",
          "text": [
            "/usr/local/lib/python3.11/dist-packages/torch/nn/modules/module.py:1750: FutureWarning: `encoder_attention_mask` is deprecated and will be removed in version 4.55.0 for `BertSdpaSelfAttention.forward`.\n",
            "  return forward_call(*args, **kwargs)\n"
          ]
        },
        {
          "output_type": "stream",
          "name": "stdout",
          "text": [
            "{'loss': 1.0511, 'grad_norm': 8.569428443908691, 'learning_rate': 1.9785615910655852e-05, 'epoch': 2.0}\n",
            "{'eval_loss': 1.0956815481185913, 'eval_accuracy': 0.53, 'eval_f1_macro': 0.536932662594593, 'eval_runtime': 0.7508, 'eval_samples_per_second': 665.987, 'eval_steps_per_second': 42.623, 'epoch': 2.0}\n"
          ]
        },
        {
          "output_type": "stream",
          "name": "stderr",
          "text": [
            "/usr/local/lib/python3.11/dist-packages/torch/nn/modules/module.py:1750: FutureWarning: `encoder_attention_mask` is deprecated and will be removed in version 4.55.0 for `BertSdpaSelfAttention.forward`.\n",
            "  return forward_call(*args, **kwargs)\n"
          ]
        },
        {
          "output_type": "stream",
          "name": "stdout",
          "text": [
            "{'loss': 0.7071, 'grad_norm': 16.691593170166016, 'learning_rate': 1.324275350633844e-05, 'epoch': 3.0}\n",
            "{'eval_loss': 1.1305564641952515, 'eval_accuracy': 0.53, 'eval_f1_macro': 0.5410230321944505, 'eval_runtime': 0.7398, 'eval_samples_per_second': 675.872, 'eval_steps_per_second': 43.256, 'epoch': 3.0}\n"
          ]
        },
        {
          "output_type": "stream",
          "name": "stderr",
          "text": [
            "/usr/local/lib/python3.11/dist-packages/torch/nn/modules/module.py:1750: FutureWarning: `encoder_attention_mask` is deprecated and will be removed in version 4.55.0 for `BertSdpaSelfAttention.forward`.\n",
            "  return forward_call(*args, **kwargs)\n"
          ]
        },
        {
          "output_type": "stream",
          "name": "stdout",
          "text": [
            "{'loss': 0.4474, 'grad_norm': 8.52975082397461, 'learning_rate': 6.752234001255568e-06, 'epoch': 4.0}\n",
            "{'eval_loss': 1.1609251499176025, 'eval_accuracy': 0.56, 'eval_f1_macro': 0.5611759283265635, 'eval_runtime': 0.7196, 'eval_samples_per_second': 694.877, 'eval_steps_per_second': 44.472, 'epoch': 4.0}\n"
          ]
        },
        {
          "output_type": "stream",
          "name": "stderr",
          "text": [
            "/usr/local/lib/python3.11/dist-packages/torch/nn/modules/module.py:1750: FutureWarning: `encoder_attention_mask` is deprecated and will be removed in version 4.55.0 for `BertSdpaSelfAttention.forward`.\n",
            "  return forward_call(*args, **kwargs)\n"
          ]
        },
        {
          "output_type": "stream",
          "name": "stdout",
          "text": [
            "{'loss': 0.2834, 'grad_norm': 10.494964599609375, 'learning_rate': 2.0937159693815714e-07, 'epoch': 5.0}\n",
            "{'eval_loss': 1.2285706996917725, 'eval_accuracy': 0.568, 'eval_f1_macro': 0.5699573249610679, 'eval_runtime': 0.729, 'eval_samples_per_second': 685.886, 'eval_steps_per_second': 43.897, 'epoch': 5.0}\n",
            "{'train_runtime': 63.4968, 'train_samples_per_second': 157.488, 'train_steps_per_second': 9.843, 'train_loss': 0.7939666381835937, 'epoch': 5.0}\n"
          ]
        },
        {
          "output_type": "stream",
          "name": "stderr",
          "text": [
            "/usr/local/lib/python3.11/dist-packages/torch/nn/modules/module.py:1750: FutureWarning: `encoder_attention_mask` is deprecated and will be removed in version 4.55.0 for `BertSdpaSelfAttention.forward`.\n",
            "  return forward_call(*args, **kwargs)\n",
            "[I 2025-07-30 20:24:43,188] Trial 21 finished with value: 0.5699573249610679 and parameters: {'learning_rate': 3.2714312021587054e-05, 'batch_size': 16, 'num_train_epochs': 5}. Best is trial 2 with value: 0.6268387639451145.\n"
          ]
        },
        {
          "output_type": "stream",
          "name": "stdout",
          "text": [
            "{'eval_loss': 1.2285706996917725, 'eval_accuracy': 0.568, 'eval_f1_macro': 0.5699573249610679, 'eval_runtime': 0.76, 'eval_samples_per_second': 657.909, 'eval_steps_per_second': 42.106, 'epoch': 5.0}\n"
          ]
        },
        {
          "output_type": "stream",
          "name": "stderr",
          "text": [
            "Some weights of BertForSequenceClassification were not initialized from the model checkpoint at bert-base-uncased and are newly initialized: ['classifier.bias', 'classifier.weight']\n",
            "You should probably TRAIN this model on a down-stream task to be able to use it for predictions and inference.\n",
            "/tmp/ipython-input-1416991230.py:34: FutureWarning: `tokenizer` is deprecated and will be removed in version 5.0.0 for `Trainer.__init__`. Use `processing_class` instead.\n",
            "  trainer = Trainer(\n",
            "/usr/local/lib/python3.11/dist-packages/torch/nn/modules/module.py:1750: FutureWarning: `encoder_attention_mask` is deprecated and will be removed in version 4.55.0 for `BertSdpaSelfAttention.forward`.\n",
            "  return forward_call(*args, **kwargs)\n"
          ]
        },
        {
          "output_type": "stream",
          "name": "stdout",
          "text": [
            "{'loss': 1.5778, 'grad_norm': 5.338494777679443, 'learning_rate': 8.836861635104806e-06, 'epoch': 1.0}\n",
            "{'eval_loss': 1.5110957622528076, 'eval_accuracy': 0.334, 'eval_f1_macro': 0.19958115719832814, 'eval_runtime': 0.4171, 'eval_samples_per_second': 1198.651, 'eval_steps_per_second': 38.357, 'epoch': 1.0}\n"
          ]
        },
        {
          "output_type": "stream",
          "name": "stderr",
          "text": [
            "/usr/local/lib/python3.11/dist-packages/torch/nn/modules/module.py:1750: FutureWarning: `encoder_attention_mask` is deprecated and will be removed in version 4.55.0 for `BertSdpaSelfAttention.forward`.\n",
            "  return forward_call(*args, **kwargs)\n"
          ]
        },
        {
          "output_type": "stream",
          "name": "stdout",
          "text": [
            "{'loss': 1.4443, 'grad_norm': 11.372334480285645, 'learning_rate': 5.968351575541988e-06, 'epoch': 2.0}\n",
            "{'eval_loss': 1.4312206506729126, 'eval_accuracy': 0.34, 'eval_f1_macro': 0.27858947889879143, 'eval_runtime': 0.4245, 'eval_samples_per_second': 1177.764, 'eval_steps_per_second': 37.688, 'epoch': 2.0}\n"
          ]
        },
        {
          "output_type": "stream",
          "name": "stderr",
          "text": [
            "/usr/local/lib/python3.11/dist-packages/torch/nn/modules/module.py:1750: FutureWarning: `encoder_attention_mask` is deprecated and will be removed in version 4.55.0 for `BertSdpaSelfAttention.forward`.\n",
            "  return forward_call(*args, **kwargs)\n"
          ]
        },
        {
          "output_type": "stream",
          "name": "stdout",
          "text": [
            "{'loss': 1.3413, 'grad_norm': 11.1275634765625, 'learning_rate': 3.0535752246959017e-06, 'epoch': 3.0}\n",
            "{'eval_loss': 1.3675439357757568, 'eval_accuracy': 0.372, 'eval_f1_macro': 0.3262861716495743, 'eval_runtime': 0.4415, 'eval_samples_per_second': 1132.389, 'eval_steps_per_second': 36.236, 'epoch': 3.0}\n"
          ]
        },
        {
          "output_type": "stream",
          "name": "stderr",
          "text": [
            "/usr/local/lib/python3.11/dist-packages/torch/nn/modules/module.py:1750: FutureWarning: `encoder_attention_mask` is deprecated and will be removed in version 4.55.0 for `BertSdpaSelfAttention.forward`.\n",
            "  return forward_call(*args, **kwargs)\n"
          ]
        },
        {
          "output_type": "stream",
          "name": "stdout",
          "text": [
            "{'loss': 1.2522, 'grad_norm': 12.682279586791992, 'learning_rate': 1.387988738498137e-07, 'epoch': 4.0}\n",
            "{'eval_loss': 1.3479912281036377, 'eval_accuracy': 0.376, 'eval_f1_macro': 0.3297174700150692, 'eval_runtime': 0.4723, 'eval_samples_per_second': 1058.732, 'eval_steps_per_second': 33.879, 'epoch': 4.0}\n",
            "{'train_runtime': 32.0627, 'train_samples_per_second': 249.511, 'train_steps_per_second': 7.86, 'train_loss': 1.4038911849733382, 'epoch': 4.0}\n"
          ]
        },
        {
          "output_type": "stream",
          "name": "stderr",
          "text": [
            "/usr/local/lib/python3.11/dist-packages/torch/nn/modules/module.py:1750: FutureWarning: `encoder_attention_mask` is deprecated and will be removed in version 4.55.0 for `BertSdpaSelfAttention.forward`.\n",
            "  return forward_call(*args, **kwargs)\n"
          ]
        },
        {
          "output_type": "stream",
          "name": "stdout",
          "text": [
            "{'eval_loss': 1.3479912281036377, 'eval_accuracy': 0.376, 'eval_f1_macro': 0.3297174700150692, 'eval_runtime': 0.4648, 'eval_samples_per_second': 1075.742, 'eval_steps_per_second': 34.424, 'epoch': 4.0}\n"
          ]
        },
        {
          "output_type": "stream",
          "name": "stderr",
          "text": [
            "[I 2025-07-30 20:25:19,946] Trial 22 finished with value: 0.3297174700150692 and parameters: {'learning_rate': 1.165910540338435e-05, 'batch_size': 32, 'num_train_epochs': 4}. Best is trial 2 with value: 0.6268387639451145.\n"
          ]
        },
        {
          "output_type": "display_data",
          "data": {
            "text/plain": [
              "<IPython.core.display.HTML object>"
            ],
            "text/html": []
          },
          "metadata": {}
        },
        {
          "output_type": "display_data",
          "data": {
            "text/plain": [
              "<IPython.core.display.HTML object>"
            ],
            "text/html": [
              "<br>    <style><br>        .wandb-row {<br>            display: flex;<br>            flex-direction: row;<br>            flex-wrap: wrap;<br>            justify-content: flex-start;<br>            width: 100%;<br>        }<br>        .wandb-col {<br>            display: flex;<br>            flex-direction: column;<br>            flex-basis: 100%;<br>            flex: 1;<br>            padding: 10px;<br>        }<br>    </style><br><div class=\"wandb-row\"><div class=\"wandb-col\"><h3>Run history:</h3><br/><table class=\"wandb\"><tr><td>eval/accuracy</td><td>▆▆███▅▇▇▇██▄▆▇██▄▆▆▇▇▇▁▁▂▂▂</td></tr><tr><td>eval/f1_macro</td><td>▆▇███▆▇█▇██▅▇▇██▅▇▇▇▇▇▁▂▃▃▃</td></tr><tr><td>eval/loss</td><td>▂▁▂▄▂▃▂▂▇██▅▂▂▂▂▅▂▂▃▄▄█▇▆▆▆</td></tr><tr><td>eval/runtime</td><td>█████▇█████▁▁▁▁▁▃▃▃▃▃▃▁▁▁▁▁</td></tr><tr><td>eval/samples_per_second</td><td>▁▁▁▁▁▁▁▁▁▁▁██▇█▇▄▄▄▄▄▄██▇▇▇</td></tr><tr><td>eval/steps_per_second</td><td>█▇██▇█▇▇▇▇▆▃▃▂▃▁▆▆▆▇▆▅▃▃▂▁▁</td></tr><tr><td>train/epoch</td><td>▁▃▃▅▅▆▆▆▁▁▃▅▅▆███▁▃▃▅▆▆▆▁▃▅▅▆▆███▁▁▃▅▆▆▆</td></tr><tr><td>train/global_step</td><td>▂▂▄▄▅▇▇▇▇▂▄▄▅▅▇███▁▁▂▂▂▂▂▁▂▃▃▄▄▄▄▁▁▂▂▂▂▂</td></tr><tr><td>train/grad_norm</td><td>▃▄█▅▃█▇▄▆▁▂▅▂▁▂▄▂▃▁▃▃▃</td></tr><tr><td>train/learning_rate</td><td>▆▅▃▁▅▄▃▂▁█▆▃▁▆▅▃▂▁▃▂▂▁</td></tr><tr><td>train/loss</td><td>▇▅▃▁▇▅▃▂▁█▅▄▃▇▅▄▂▁█▇▇▆</td></tr></table><br/></div><div class=\"wandb-col\"><h3>Run summary:</h3><br/><table class=\"wandb\"><tr><td>eval/accuracy</td><td>0.376</td></tr><tr><td>eval/f1_macro</td><td>0.32972</td></tr><tr><td>eval/loss</td><td>1.34799</td></tr><tr><td>eval/runtime</td><td>0.4648</td></tr><tr><td>eval/samples_per_second</td><td>1075.742</td></tr><tr><td>eval/steps_per_second</td><td>34.424</td></tr><tr><td>total_flos</td><td>263118142464000.0</td></tr><tr><td>train/epoch</td><td>4</td></tr><tr><td>train/global_step</td><td>252</td></tr><tr><td>train/grad_norm</td><td>12.68228</td></tr><tr><td>train/learning_rate</td><td>0.0</td></tr><tr><td>train/loss</td><td>1.2522</td></tr><tr><td>train_loss</td><td>1.40389</td></tr><tr><td>train_runtime</td><td>32.0627</td></tr><tr><td>train_samples_per_second</td><td>249.511</td></tr><tr><td>train_steps_per_second</td><td>7.86</td></tr></table><br/></div></div>"
            ]
          },
          "metadata": {}
        },
        {
          "output_type": "display_data",
          "data": {
            "text/plain": [
              "<IPython.core.display.HTML object>"
            ],
            "text/html": [
              " View run <strong style=\"color:#cdcd00\">bert-ep4-lr3.787812558564427e-05-bs8-samples2000-run1753906774-no_preprocess</strong> at: <a href='https://wandb.ai/hillas-tel-aviv-university/tweet-sentiment-classification_split_to_test/runs/ndkjwksm' target=\"_blank\">https://wandb.ai/hillas-tel-aviv-university/tweet-sentiment-classification_split_to_test/runs/ndkjwksm</a><br> View project at: <a href='https://wandb.ai/hillas-tel-aviv-university/tweet-sentiment-classification_split_to_test' target=\"_blank\">https://wandb.ai/hillas-tel-aviv-university/tweet-sentiment-classification_split_to_test</a><br>Synced 5 W&B file(s), 0 media file(s), 0 artifact file(s) and 0 other file(s)"
            ]
          },
          "metadata": {}
        },
        {
          "output_type": "display_data",
          "data": {
            "text/plain": [
              "<IPython.core.display.HTML object>"
            ],
            "text/html": [
              "Find logs at: <code>./wandb/run-20250730_201935-ndkjwksm/logs</code>"
            ]
          },
          "metadata": {}
        }
      ],
      "source": [
        "study_bert = optuna.create_study(direction=\"maximize\",\n",
        "                                 pruner=MedianPruner(n_startup_trials=2, n_warmup_steps=1),\n",
        "                                 study_name=f\"bert_study_stratify_{is_preprocessed}\",\n",
        "                                 storage=f\"sqlite:////content/drive/MyDrive/Colab Notebooks/nlp_project/optuna/bert_study_stratify_{is_preprocessed}.db\",\n",
        "                                 load_if_exists=True)\n",
        "study_bert.optimize(objective_bert, n_trials=5)\n",
        "wandb.finish()"
      ]
    },
    {
      "cell_type": "code",
      "execution_count": 18,
      "id": "3092247f",
      "metadata": {
        "colab": {
          "base_uri": "https://localhost:8080/",
          "height": 1000
        },
        "id": "3092247f",
        "outputId": "4bd06241-a131-444c-fddd-8941cd7ae856"
      },
      "outputs": [
        {
          "output_type": "stream",
          "name": "stderr",
          "text": [
            "[I 2025-07-30 20:25:22,171] Using an existing study with name 'roberta_study_stratify_no_preprocess' instead of creating a new one.\n",
            "Some weights of RobertaForSequenceClassification were not initialized from the model checkpoint at roberta-base and are newly initialized: ['classifier.dense.bias', 'classifier.dense.weight', 'classifier.out_proj.bias', 'classifier.out_proj.weight']\n",
            "You should probably TRAIN this model on a down-stream task to be able to use it for predictions and inference.\n",
            "/tmp/ipython-input-1416991230.py:34: FutureWarning: `tokenizer` is deprecated and will be removed in version 5.0.0 for `Trainer.__init__`. Use `processing_class` instead.\n",
            "  trainer = Trainer(\n"
          ]
        },
        {
          "output_type": "display_data",
          "data": {
            "text/plain": [
              "<IPython.core.display.HTML object>"
            ],
            "text/html": [
              "Changes to your `wandb` environment variables will be ignored because your `wandb` session has already started. For more information on how to modify your settings with `wandb.init()` arguments, please refer to <a href='https://wandb.me/wandb-init' target=\"_blank\">the W&B docs</a>."
            ]
          },
          "metadata": {}
        },
        {
          "output_type": "display_data",
          "data": {
            "text/plain": [
              "<IPython.core.display.HTML object>"
            ],
            "text/html": [
              "Tracking run with wandb version 0.21.0"
            ]
          },
          "metadata": {}
        },
        {
          "output_type": "display_data",
          "data": {
            "text/plain": [
              "<IPython.core.display.HTML object>"
            ],
            "text/html": [
              "Run data is saved locally in <code>/content/wandb/run-20250730_202524-y2wvagql</code>"
            ]
          },
          "metadata": {}
        },
        {
          "output_type": "display_data",
          "data": {
            "text/plain": [
              "<IPython.core.display.HTML object>"
            ],
            "text/html": [
              "Syncing run <strong><a href='https://wandb.ai/hillas-tel-aviv-university/tweet-sentiment-classification_split_to_test/runs/y2wvagql' target=\"_blank\">roberta-ep5-lr2.7875610890782984e-05-bs8-samples2000-run1753907123-no_preprocess</a></strong> to <a href='https://wandb.ai/hillas-tel-aviv-university/tweet-sentiment-classification_split_to_test' target=\"_blank\">Weights & Biases</a> (<a href='https://wandb.me/developer-guide' target=\"_blank\">docs</a>)<br>"
            ]
          },
          "metadata": {}
        },
        {
          "output_type": "display_data",
          "data": {
            "text/plain": [
              "<IPython.core.display.HTML object>"
            ],
            "text/html": [
              " View project at <a href='https://wandb.ai/hillas-tel-aviv-university/tweet-sentiment-classification_split_to_test' target=\"_blank\">https://wandb.ai/hillas-tel-aviv-university/tweet-sentiment-classification_split_to_test</a>"
            ]
          },
          "metadata": {}
        },
        {
          "output_type": "display_data",
          "data": {
            "text/plain": [
              "<IPython.core.display.HTML object>"
            ],
            "text/html": [
              " View run at <a href='https://wandb.ai/hillas-tel-aviv-university/tweet-sentiment-classification_split_to_test/runs/y2wvagql' target=\"_blank\">https://wandb.ai/hillas-tel-aviv-university/tweet-sentiment-classification_split_to_test/runs/y2wvagql</a>"
            ]
          },
          "metadata": {}
        },
        {
          "output_type": "stream",
          "name": "stderr",
          "text": [
            "/usr/local/lib/python3.11/dist-packages/torch/nn/modules/module.py:1750: FutureWarning: `encoder_attention_mask` is deprecated and will be removed in version 4.55.0 for `RobertaSdpaSelfAttention.forward`.\n",
            "  return forward_call(*args, **kwargs)\n"
          ]
        },
        {
          "output_type": "stream",
          "name": "stdout",
          "text": [
            "{'loss': 1.5455, 'grad_norm': 17.907859802246094, 'learning_rate': 2.2389690667476893e-05, 'epoch': 1.0}\n",
            "{'eval_loss': 1.393770456314087, 'eval_accuracy': 0.39, 'eval_f1_macro': 0.275195401453007, 'eval_runtime': 1.3901, 'eval_samples_per_second': 359.695, 'eval_steps_per_second': 45.322, 'epoch': 1.0}\n"
          ]
        },
        {
          "output_type": "stream",
          "name": "stderr",
          "text": [
            "/usr/local/lib/python3.11/dist-packages/torch/nn/modules/module.py:1750: FutureWarning: `encoder_attention_mask` is deprecated and will be removed in version 4.55.0 for `RobertaSdpaSelfAttention.forward`.\n",
            "  return forward_call(*args, **kwargs)\n"
          ]
        },
        {
          "output_type": "stream",
          "name": "stdout",
          "text": [
            "{'loss': 1.2241, 'grad_norm': 14.286575317382812, 'learning_rate': 1.6814568489320294e-05, 'epoch': 2.0}\n",
            "{'eval_loss': 1.1991417407989502, 'eval_accuracy': 0.468, 'eval_f1_macro': 0.46857006466872725, 'eval_runtime': 1.4132, 'eval_samples_per_second': 353.803, 'eval_steps_per_second': 44.579, 'epoch': 2.0}\n"
          ]
        },
        {
          "output_type": "stream",
          "name": "stderr",
          "text": [
            "/usr/local/lib/python3.11/dist-packages/torch/nn/modules/module.py:1750: FutureWarning: `encoder_attention_mask` is deprecated and will be removed in version 4.55.0 for `RobertaSdpaSelfAttention.forward`.\n",
            "  return forward_call(*args, **kwargs)\n"
          ]
        },
        {
          "output_type": "stream",
          "name": "stdout",
          "text": [
            "{'loss': 0.9454, 'grad_norm': 16.48642921447754, 'learning_rate': 1.1261746799876326e-05, 'epoch': 3.0}\n",
            "{'eval_loss': 1.1502487659454346, 'eval_accuracy': 0.516, 'eval_f1_macro': 0.5320795731036472, 'eval_runtime': 1.4089, 'eval_samples_per_second': 354.885, 'eval_steps_per_second': 44.716, 'epoch': 3.0}\n"
          ]
        },
        {
          "output_type": "stream",
          "name": "stderr",
          "text": [
            "/usr/local/lib/python3.11/dist-packages/torch/nn/modules/module.py:1750: FutureWarning: `encoder_attention_mask` is deprecated and will be removed in version 4.55.0 for `RobertaSdpaSelfAttention.forward`.\n",
            "  return forward_call(*args, **kwargs)\n"
          ]
        },
        {
          "output_type": "stream",
          "name": "stdout",
          "text": [
            "{'loss': 0.6674, 'grad_norm': 33.093265533447266, 'learning_rate': 5.686624621719728e-06, 'epoch': 4.0}\n",
            "{'eval_loss': 1.2139266729354858, 'eval_accuracy': 0.556, 'eval_f1_macro': 0.5562377135327574, 'eval_runtime': 1.4062, 'eval_samples_per_second': 355.579, 'eval_steps_per_second': 44.803, 'epoch': 4.0}\n"
          ]
        },
        {
          "output_type": "stream",
          "name": "stderr",
          "text": [
            "/usr/local/lib/python3.11/dist-packages/torch/nn/modules/module.py:1750: FutureWarning: `encoder_attention_mask` is deprecated and will be removed in version 4.55.0 for `RobertaSdpaSelfAttention.forward`.\n",
            "  return forward_call(*args, **kwargs)\n"
          ]
        },
        {
          "output_type": "stream",
          "name": "stdout",
          "text": [
            "{'loss': 0.4712, 'grad_norm': 22.517065048217773, 'learning_rate': 1.3380293227575831e-07, 'epoch': 5.0}\n",
            "{'eval_loss': 1.3278592824935913, 'eval_accuracy': 0.558, 'eval_f1_macro': 0.5675403092727829, 'eval_runtime': 1.3972, 'eval_samples_per_second': 357.855, 'eval_steps_per_second': 45.09, 'epoch': 5.0}\n",
            "{'train_runtime': 117.7916, 'train_samples_per_second': 84.896, 'train_steps_per_second': 10.612, 'train_loss': 0.9707136474609375, 'epoch': 5.0}\n"
          ]
        },
        {
          "output_type": "stream",
          "name": "stderr",
          "text": [
            "/usr/local/lib/python3.11/dist-packages/torch/nn/modules/module.py:1750: FutureWarning: `encoder_attention_mask` is deprecated and will be removed in version 4.55.0 for `RobertaSdpaSelfAttention.forward`.\n",
            "  return forward_call(*args, **kwargs)\n",
            "[I 2025-07-30 20:27:23,558] Trial 15 finished with value: 0.5675403092727829 and parameters: {'learning_rate': 2.7875610890782984e-05, 'batch_size': 8, 'num_train_epochs': 5}. Best is trial 3 with value: 0.5954185429373753.\n"
          ]
        },
        {
          "output_type": "stream",
          "name": "stdout",
          "text": [
            "{'eval_loss': 1.3278592824935913, 'eval_accuracy': 0.558, 'eval_f1_macro': 0.5675403092727829, 'eval_runtime': 1.5068, 'eval_samples_per_second': 331.837, 'eval_steps_per_second': 41.812, 'epoch': 5.0}\n"
          ]
        },
        {
          "output_type": "stream",
          "name": "stderr",
          "text": [
            "Some weights of RobertaForSequenceClassification were not initialized from the model checkpoint at roberta-base and are newly initialized: ['classifier.dense.bias', 'classifier.dense.weight', 'classifier.out_proj.bias', 'classifier.out_proj.weight']\n",
            "You should probably TRAIN this model on a down-stream task to be able to use it for predictions and inference.\n",
            "/tmp/ipython-input-1416991230.py:34: FutureWarning: `tokenizer` is deprecated and will be removed in version 5.0.0 for `Trainer.__init__`. Use `processing_class` instead.\n",
            "  trainer = Trainer(\n",
            "/usr/local/lib/python3.11/dist-packages/torch/nn/modules/module.py:1750: FutureWarning: `encoder_attention_mask` is deprecated and will be removed in version 4.55.0 for `RobertaSdpaSelfAttention.forward`.\n",
            "  return forward_call(*args, **kwargs)\n"
          ]
        },
        {
          "output_type": "stream",
          "name": "stdout",
          "text": [
            "{'loss': 1.5147, 'grad_norm': 12.034588813781738, 'learning_rate': 1.668711523313704e-05, 'epoch': 1.0}\n",
            "{'eval_loss': 1.348911166191101, 'eval_accuracy': 0.378, 'eval_f1_macro': 0.32067725834715427, 'eval_runtime': 1.3995, 'eval_samples_per_second': 357.26, 'eval_steps_per_second': 45.015, 'epoch': 1.0}\n"
          ]
        },
        {
          "output_type": "stream",
          "name": "stderr",
          "text": [
            "/usr/local/lib/python3.11/dist-packages/torch/nn/modules/module.py:1750: FutureWarning: `encoder_attention_mask` is deprecated and will be removed in version 4.55.0 for `RobertaSdpaSelfAttention.forward`.\n",
            "  return forward_call(*args, **kwargs)\n"
          ]
        },
        {
          "output_type": "stream",
          "name": "stdout",
          "text": [
            "{'loss': 1.1577, 'grad_norm': 31.473848342895508, 'learning_rate': 1.1176383544740326e-05, 'epoch': 2.0}\n",
            "{'eval_loss': 1.2673025131225586, 'eval_accuracy': 0.464, 'eval_f1_macro': 0.467898511178132, 'eval_runtime': 1.3891, 'eval_samples_per_second': 359.958, 'eval_steps_per_second': 45.355, 'epoch': 2.0}\n"
          ]
        },
        {
          "output_type": "stream",
          "name": "stderr",
          "text": [
            "/usr/local/lib/python3.11/dist-packages/torch/nn/modules/module.py:1750: FutureWarning: `encoder_attention_mask` is deprecated and will be removed in version 4.55.0 for `RobertaSdpaSelfAttention.forward`.\n",
            "  return forward_call(*args, **kwargs)\n"
          ]
        },
        {
          "output_type": "stream",
          "name": "stdout",
          "text": [
            "{'loss': 0.8641, 'grad_norm': 31.390466690063477, 'learning_rate': 5.643520403779768e-06, 'epoch': 3.0}\n",
            "{'eval_loss': 1.1554433107376099, 'eval_accuracy': 0.554, 'eval_f1_macro': 0.5638537924079111, 'eval_runtime': 1.3871, 'eval_samples_per_second': 360.453, 'eval_steps_per_second': 45.417, 'epoch': 3.0}\n"
          ]
        },
        {
          "output_type": "stream",
          "name": "stderr",
          "text": [
            "/usr/local/lib/python3.11/dist-packages/torch/nn/modules/module.py:1750: FutureWarning: `encoder_attention_mask` is deprecated and will be removed in version 4.55.0 for `RobertaSdpaSelfAttention.forward`.\n",
            "  return forward_call(*args, **kwargs)\n"
          ]
        },
        {
          "output_type": "stream",
          "name": "stdout",
          "text": [
            "{'loss': 0.6477, 'grad_norm': 29.173646926879883, 'learning_rate': 1.1065726281921114e-07, 'epoch': 4.0}\n",
            "{'eval_loss': 1.2304221391677856, 'eval_accuracy': 0.55, 'eval_f1_macro': 0.5591527750961397, 'eval_runtime': 1.3987, 'eval_samples_per_second': 357.465, 'eval_steps_per_second': 45.041, 'epoch': 4.0}\n",
            "{'train_runtime': 92.9223, 'train_samples_per_second': 86.093, 'train_steps_per_second': 10.762, 'train_loss': 1.0460469665527343, 'epoch': 4.0}\n"
          ]
        },
        {
          "output_type": "stream",
          "name": "stderr",
          "text": [
            "/usr/local/lib/python3.11/dist-packages/torch/nn/modules/module.py:1750: FutureWarning: `encoder_attention_mask` is deprecated and will be removed in version 4.55.0 for `RobertaSdpaSelfAttention.forward`.\n",
            "  return forward_call(*args, **kwargs)\n",
            "[I 2025-07-30 20:29:00,387] Trial 16 finished with value: 0.5638537924079111 and parameters: {'learning_rate': 2.213145256384223e-05, 'batch_size': 8, 'num_train_epochs': 4}. Best is trial 3 with value: 0.5954185429373753.\n"
          ]
        },
        {
          "output_type": "stream",
          "name": "stdout",
          "text": [
            "{'eval_loss': 1.1554433107376099, 'eval_accuracy': 0.554, 'eval_f1_macro': 0.5638537924079111, 'eval_runtime': 1.3964, 'eval_samples_per_second': 358.075, 'eval_steps_per_second': 45.117, 'epoch': 4.0}\n"
          ]
        },
        {
          "output_type": "stream",
          "name": "stderr",
          "text": [
            "Some weights of RobertaForSequenceClassification were not initialized from the model checkpoint at roberta-base and are newly initialized: ['classifier.dense.bias', 'classifier.dense.weight', 'classifier.out_proj.bias', 'classifier.out_proj.weight']\n",
            "You should probably TRAIN this model on a down-stream task to be able to use it for predictions and inference.\n",
            "/tmp/ipython-input-1416991230.py:34: FutureWarning: `tokenizer` is deprecated and will be removed in version 5.0.0 for `Trainer.__init__`. Use `processing_class` instead.\n",
            "  trainer = Trainer(\n",
            "/usr/local/lib/python3.11/dist-packages/torch/nn/modules/module.py:1750: FutureWarning: `encoder_attention_mask` is deprecated and will be removed in version 4.55.0 for `RobertaSdpaSelfAttention.forward`.\n",
            "  return forward_call(*args, **kwargs)\n"
          ]
        },
        {
          "output_type": "stream",
          "name": "stdout",
          "text": [
            "{'loss': 1.4697, 'grad_norm': 11.25165843963623, 'learning_rate': 2.6048488908557545e-05, 'epoch': 1.0}\n",
            "{'eval_loss': 1.2011967897415161, 'eval_accuracy': 0.482, 'eval_f1_macro': 0.4537422672000158, 'eval_runtime': 1.3827, 'eval_samples_per_second': 361.614, 'eval_steps_per_second': 45.563, 'epoch': 1.0}\n"
          ]
        },
        {
          "output_type": "stream",
          "name": "stderr",
          "text": [
            "/usr/local/lib/python3.11/dist-packages/torch/nn/modules/module.py:1750: FutureWarning: `encoder_attention_mask` is deprecated and will be removed in version 4.55.0 for `RobertaSdpaSelfAttention.forward`.\n",
            "  return forward_call(*args, **kwargs)\n"
          ]
        },
        {
          "output_type": "stream",
          "name": "stdout",
          "text": [
            "{'loss': 1.0784, 'grad_norm': 15.431163787841797, 'learning_rate': 1.960778576865498e-05, 'epoch': 2.0}\n",
            "{'eval_loss': 1.1711132526397705, 'eval_accuracy': 0.512, 'eval_f1_macro': 0.5088995022594203, 'eval_runtime': 1.3866, 'eval_samples_per_second': 360.592, 'eval_steps_per_second': 45.435, 'epoch': 2.0}\n"
          ]
        },
        {
          "output_type": "stream",
          "name": "stderr",
          "text": [
            "/usr/local/lib/python3.11/dist-packages/torch/nn/modules/module.py:1750: FutureWarning: `encoder_attention_mask` is deprecated and will be removed in version 4.55.0 for `RobertaSdpaSelfAttention.forward`.\n",
            "  return forward_call(*args, **kwargs)\n"
          ]
        },
        {
          "output_type": "stream",
          "name": "stdout",
          "text": [
            "{'loss': 0.7745, 'grad_norm': 21.534217834472656, 'learning_rate': 1.3115141474398366e-05, 'epoch': 3.0}\n",
            "{'eval_loss': 1.1288906335830688, 'eval_accuracy': 0.558, 'eval_f1_macro': 0.5748353387880193, 'eval_runtime': 1.3791, 'eval_samples_per_second': 362.545, 'eval_steps_per_second': 45.681, 'epoch': 3.0}\n"
          ]
        },
        {
          "output_type": "stream",
          "name": "stderr",
          "text": [
            "/usr/local/lib/python3.11/dist-packages/torch/nn/modules/module.py:1750: FutureWarning: `encoder_attention_mask` is deprecated and will be removed in version 4.55.0 for `RobertaSdpaSelfAttention.forward`.\n",
            "  return forward_call(*args, **kwargs)\n"
          ]
        },
        {
          "output_type": "stream",
          "name": "stdout",
          "text": [
            "{'loss': 0.5218, 'grad_norm': 28.475006103515625, 'learning_rate': 6.6224971801417485e-06, 'epoch': 4.0}\n",
            "{'eval_loss': 1.3484753370285034, 'eval_accuracy': 0.566, 'eval_f1_macro': 0.5585498795630487, 'eval_runtime': 1.3892, 'eval_samples_per_second': 359.914, 'eval_steps_per_second': 45.349, 'epoch': 4.0}\n"
          ]
        },
        {
          "output_type": "stream",
          "name": "stderr",
          "text": [
            "/usr/local/lib/python3.11/dist-packages/torch/nn/modules/module.py:1750: FutureWarning: `encoder_attention_mask` is deprecated and will be removed in version 4.55.0 for `RobertaSdpaSelfAttention.forward`.\n",
            "  return forward_call(*args, **kwargs)\n"
          ]
        },
        {
          "output_type": "stream",
          "name": "stdout",
          "text": [
            "{'loss': 0.3199, 'grad_norm': 3.8302106857299805, 'learning_rate': 1.2985288588513233e-07, 'epoch': 5.0}\n",
            "{'eval_loss': 1.463205099105835, 'eval_accuracy': 0.584, 'eval_f1_macro': 0.5930349125423017, 'eval_runtime': 1.4332, 'eval_samples_per_second': 348.878, 'eval_steps_per_second': 43.959, 'epoch': 5.0}\n",
            "{'train_runtime': 116.0722, 'train_samples_per_second': 86.153, 'train_steps_per_second': 10.769, 'train_loss': 0.8328729125976563, 'epoch': 5.0}\n"
          ]
        },
        {
          "output_type": "stream",
          "name": "stderr",
          "text": [
            "/usr/local/lib/python3.11/dist-packages/torch/nn/modules/module.py:1750: FutureWarning: `encoder_attention_mask` is deprecated and will be removed in version 4.55.0 for `RobertaSdpaSelfAttention.forward`.\n",
            "  return forward_call(*args, **kwargs)\n",
            "[I 2025-07-30 20:31:01,503] Trial 17 finished with value: 0.5930349125423017 and parameters: {'learning_rate': 3.246322147128308e-05, 'batch_size': 8, 'num_train_epochs': 5}. Best is trial 3 with value: 0.5954185429373753.\n"
          ]
        },
        {
          "output_type": "stream",
          "name": "stdout",
          "text": [
            "{'eval_loss': 1.463205099105835, 'eval_accuracy': 0.584, 'eval_f1_macro': 0.5930349125423017, 'eval_runtime': 1.385, 'eval_samples_per_second': 361.022, 'eval_steps_per_second': 45.489, 'epoch': 5.0}\n"
          ]
        },
        {
          "output_type": "stream",
          "name": "stderr",
          "text": [
            "Some weights of RobertaForSequenceClassification were not initialized from the model checkpoint at roberta-base and are newly initialized: ['classifier.dense.bias', 'classifier.dense.weight', 'classifier.out_proj.bias', 'classifier.out_proj.weight']\n",
            "You should probably TRAIN this model on a down-stream task to be able to use it for predictions and inference.\n",
            "/tmp/ipython-input-1416991230.py:34: FutureWarning: `tokenizer` is deprecated and will be removed in version 5.0.0 for `Trainer.__init__`. Use `processing_class` instead.\n",
            "  trainer = Trainer(\n",
            "/usr/local/lib/python3.11/dist-packages/torch/nn/modules/module.py:1750: FutureWarning: `encoder_attention_mask` is deprecated and will be removed in version 4.55.0 for `RobertaSdpaSelfAttention.forward`.\n",
            "  return forward_call(*args, **kwargs)\n"
          ]
        },
        {
          "output_type": "stream",
          "name": "stdout",
          "text": [
            "{'loss': 1.5882, 'grad_norm': 2.5528528690338135, 'learning_rate': 3.643192943232718e-05, 'epoch': 1.0}\n",
            "{'eval_loss': 1.5719687938690186, 'eval_accuracy': 0.276, 'eval_f1_macro': 0.08652037617554859, 'eval_runtime': 1.3729, 'eval_samples_per_second': 364.19, 'eval_steps_per_second': 45.888, 'epoch': 1.0}\n"
          ]
        },
        {
          "output_type": "stream",
          "name": "stderr",
          "text": [
            "/usr/local/lib/python3.11/dist-packages/torch/nn/modules/module.py:1750: FutureWarning: `encoder_attention_mask` is deprecated and will be removed in version 4.55.0 for `RobertaSdpaSelfAttention.forward`.\n",
            "  return forward_call(*args, **kwargs)\n"
          ]
        },
        {
          "output_type": "stream",
          "name": "stdout",
          "text": [
            "{'loss': 1.564, 'grad_norm': 2.0138559341430664, 'learning_rate': 2.4368697479335868e-05, 'epoch': 2.0}\n",
            "{'eval_loss': 1.561563491821289, 'eval_accuracy': 0.306, 'eval_f1_macro': 0.16468771215207062, 'eval_runtime': 1.4349, 'eval_samples_per_second': 348.458, 'eval_steps_per_second': 43.906, 'epoch': 2.0}\n"
          ]
        },
        {
          "output_type": "stream",
          "name": "stderr",
          "text": [
            "/usr/local/lib/python3.11/dist-packages/torch/nn/modules/module.py:1750: FutureWarning: `encoder_attention_mask` is deprecated and will be removed in version 4.55.0 for `RobertaSdpaSelfAttention.forward`.\n",
            "  return forward_call(*args, **kwargs)\n"
          ]
        },
        {
          "output_type": "stream",
          "name": "stdout",
          "text": [
            "{'loss': 1.4626, 'grad_norm': 4.575378894805908, 'learning_rate': 1.2257018811673905e-05, 'epoch': 3.0}\n",
            "{'eval_loss': 1.3860869407653809, 'eval_accuracy': 0.37, 'eval_f1_macro': 0.2960389336358312, 'eval_runtime': 1.4177, 'eval_samples_per_second': 352.689, 'eval_steps_per_second': 44.439, 'epoch': 3.0}\n"
          ]
        },
        {
          "output_type": "stream",
          "name": "stderr",
          "text": [
            "/usr/local/lib/python3.11/dist-packages/torch/nn/modules/module.py:1750: FutureWarning: `encoder_attention_mask` is deprecated and will be removed in version 4.55.0 for `RobertaSdpaSelfAttention.forward`.\n",
            "  return forward_call(*args, **kwargs)\n"
          ]
        },
        {
          "output_type": "stream",
          "name": "stdout",
          "text": [
            "{'loss': 1.2863, 'grad_norm': 16.285900115966797, 'learning_rate': 1.4534014401194353e-07, 'epoch': 4.0}\n",
            "{'eval_loss': 1.3637189865112305, 'eval_accuracy': 0.38, 'eval_f1_macro': 0.34052342198761404, 'eval_runtime': 1.3909, 'eval_samples_per_second': 359.489, 'eval_steps_per_second': 45.296, 'epoch': 4.0}\n",
            "{'train_runtime': 92.5045, 'train_samples_per_second': 86.482, 'train_steps_per_second': 10.81, 'train_loss': 1.4752816162109375, 'epoch': 4.0}\n"
          ]
        },
        {
          "output_type": "stream",
          "name": "stderr",
          "text": [
            "/usr/local/lib/python3.11/dist-packages/torch/nn/modules/module.py:1750: FutureWarning: `encoder_attention_mask` is deprecated and will be removed in version 4.55.0 for `RobertaSdpaSelfAttention.forward`.\n",
            "  return forward_call(*args, **kwargs)\n",
            "[I 2025-07-30 20:32:37,421] Trial 18 finished with value: 0.34052342198761404 and parameters: {'learning_rate': 4.8446714670647846e-05, 'batch_size': 8, 'num_train_epochs': 4}. Best is trial 3 with value: 0.5954185429373753.\n"
          ]
        },
        {
          "output_type": "stream",
          "name": "stdout",
          "text": [
            "{'eval_loss': 1.3637189865112305, 'eval_accuracy': 0.38, 'eval_f1_macro': 0.34052342198761404, 'eval_runtime': 1.3962, 'eval_samples_per_second': 358.113, 'eval_steps_per_second': 45.122, 'epoch': 4.0}\n"
          ]
        },
        {
          "output_type": "stream",
          "name": "stderr",
          "text": [
            "Some weights of RobertaForSequenceClassification were not initialized from the model checkpoint at roberta-base and are newly initialized: ['classifier.dense.bias', 'classifier.dense.weight', 'classifier.out_proj.bias', 'classifier.out_proj.weight']\n",
            "You should probably TRAIN this model on a down-stream task to be able to use it for predictions and inference.\n",
            "/tmp/ipython-input-1416991230.py:34: FutureWarning: `tokenizer` is deprecated and will be removed in version 5.0.0 for `Trainer.__init__`. Use `processing_class` instead.\n",
            "  trainer = Trainer(\n",
            "/usr/local/lib/python3.11/dist-packages/torch/nn/modules/module.py:1750: FutureWarning: `encoder_attention_mask` is deprecated and will be removed in version 4.55.0 for `RobertaSdpaSelfAttention.forward`.\n",
            "  return forward_call(*args, **kwargs)\n"
          ]
        },
        {
          "output_type": "stream",
          "name": "stdout",
          "text": [
            "{'loss': 1.5755, 'grad_norm': 4.450595855712891, 'learning_rate': 9.849684485790124e-06, 'epoch': 1.0}\n",
            "{'eval_loss': 1.5412441492080688, 'eval_accuracy': 0.298, 'eval_f1_macro': 0.17551658936395365, 'eval_runtime': 0.4296, 'eval_samples_per_second': 1163.978, 'eval_steps_per_second': 37.247, 'epoch': 1.0}\n"
          ]
        },
        {
          "output_type": "stream",
          "name": "stderr",
          "text": [
            "/usr/local/lib/python3.11/dist-packages/torch/nn/modules/module.py:1750: FutureWarning: `encoder_attention_mask` is deprecated and will be removed in version 4.55.0 for `RobertaSdpaSelfAttention.forward`.\n",
            "  return forward_call(*args, **kwargs)\n"
          ]
        },
        {
          "output_type": "stream",
          "name": "stdout",
          "text": [
            "{'loss': 1.4774, 'grad_norm': 8.228392601013184, 'learning_rate': 5.04117709902644e-06, 'epoch': 2.0}\n",
            "{'eval_loss': 1.3889853954315186, 'eval_accuracy': 0.364, 'eval_f1_macro': 0.31349212182455277, 'eval_runtime': 0.4253, 'eval_samples_per_second': 1175.503, 'eval_steps_per_second': 37.616, 'epoch': 2.0}\n"
          ]
        },
        {
          "output_type": "stream",
          "name": "stderr",
          "text": [
            "/usr/local/lib/python3.11/dist-packages/torch/nn/modules/module.py:1750: FutureWarning: `encoder_attention_mask` is deprecated and will be removed in version 4.55.0 for `RobertaSdpaSelfAttention.forward`.\n",
            "  return forward_call(*args, **kwargs)\n"
          ]
        },
        {
          "output_type": "stream",
          "name": "stdout",
          "text": [
            "{'loss': 1.3195, 'grad_norm': 20.307998657226562, 'learning_rate': 2.326697122627588e-07, 'epoch': 3.0}\n",
            "{'eval_loss': 1.3184844255447388, 'eval_accuracy': 0.388, 'eval_f1_macro': 0.39017033520680117, 'eval_runtime': 0.4218, 'eval_samples_per_second': 1185.403, 'eval_steps_per_second': 37.933, 'epoch': 3.0}\n",
            "{'train_runtime': 25.3776, 'train_samples_per_second': 236.429, 'train_steps_per_second': 7.448, 'train_loss': 1.4574557511264055, 'epoch': 3.0}\n"
          ]
        },
        {
          "output_type": "stream",
          "name": "stderr",
          "text": [
            "/usr/local/lib/python3.11/dist-packages/torch/nn/modules/module.py:1750: FutureWarning: `encoder_attention_mask` is deprecated and will be removed in version 4.55.0 for `RobertaSdpaSelfAttention.forward`.\n",
            "  return forward_call(*args, **kwargs)\n",
            "[I 2025-07-30 20:33:06,768] Trial 19 finished with value: 0.39017033520680117 and parameters: {'learning_rate': 1.4658191872553804e-05, 'batch_size': 32, 'num_train_epochs': 3}. Best is trial 3 with value: 0.5954185429373753.\n"
          ]
        },
        {
          "output_type": "stream",
          "name": "stdout",
          "text": [
            "{'eval_loss': 1.3184844255447388, 'eval_accuracy': 0.388, 'eval_f1_macro': 0.39017033520680117, 'eval_runtime': 0.4191, 'eval_samples_per_second': 1193.167, 'eval_steps_per_second': 38.181, 'epoch': 3.0}\n"
          ]
        },
        {
          "output_type": "display_data",
          "data": {
            "text/plain": [
              "<IPython.core.display.HTML object>"
            ],
            "text/html": []
          },
          "metadata": {}
        },
        {
          "output_type": "display_data",
          "data": {
            "text/plain": [
              "<IPython.core.display.HTML object>"
            ],
            "text/html": [
              "<br>    <style><br>        .wandb-row {<br>            display: flex;<br>            flex-direction: row;<br>            flex-wrap: wrap;<br>            justify-content: flex-start;<br>            width: 100%;<br>        }<br>        .wandb-col {<br>            display: flex;<br>            flex-direction: column;<br>            flex-basis: 100%;<br>            flex: 1;<br>            padding: 10px;<br>        }<br>    </style><br><div class=\"wandb-row\"><div class=\"wandb-col\"><h3>Run history:</h3><br/><table class=\"wandb\"><tr><td>eval/accuracy</td><td>▄▅▆▇▇▇▃▅▇▇▇▆▆▇███▁▂▃▃▃▂▃▄▄</td></tr><tr><td>eval/f1_macro</td><td>▄▆▇▇██▄▆███▆▇████▁▂▄▅▅▂▄▅▅</td></tr><tr><td>eval/loss</td><td>▅▂▁▂▄▄▄▃▁▃▁▂▂▁▄▆▆██▅▅▅█▅▄▄</td></tr><tr><td>eval/runtime</td><td>▇▇▇▇▇█▇▇▇▇▇▇▇▇▇█▇▇█▇▇▇▁▁▁▁</td></tr><tr><td>eval/samples_per_second</td><td>▁▁▁▁▁▁▁▁▁▁▁▁▁▁▁▁▁▁▁▁▁▁████</td></tr><tr><td>eval/steps_per_second</td><td>█▇▇▇▇▅▇██▇▇████▆██▆▇█▇▁▁▂▂</td></tr><tr><td>train/epoch</td><td>▁▁▃▅▅▆████▁▃▃▅▅▆▆▆▁▃▅▅▆▆███▁▁▃▅▆▆▆▁▃▃▅▅▅</td></tr><tr><td>train/global_step</td><td>▂▄▄▅▅▇████▂▄▅▅▇▇▇▂▂▄▅▇▇███▂▂▄▄▅▇▇▇▇▁▁▂▂▂</td></tr><tr><td>train/grad_norm</td><td>▅▄▄█▆▃██▇▃▄▅▇▁▁▁▂▄▂▂▅</td></tr><tr><td>train/learning_rate</td><td>▅▄▃▂▁▄▃▂▁▆▅▄▂▁█▆▃▁▃▂▁</td></tr><tr><td>train/loss</td><td>█▆▄▃▂█▆▄▃▇▅▄▂▁██▇▆█▇▇</td></tr></table><br/></div><div class=\"wandb-col\"><h3>Run summary:</h3><br/><table class=\"wandb\"><tr><td>eval/accuracy</td><td>0.388</td></tr><tr><td>eval/f1_macro</td><td>0.39017</td></tr><tr><td>eval/loss</td><td>1.31848</td></tr><tr><td>eval/runtime</td><td>0.4191</td></tr><tr><td>eval/samples_per_second</td><td>1193.167</td></tr><tr><td>eval/steps_per_second</td><td>38.181</td></tr><tr><td>total_flos</td><td>197338606848000.0</td></tr><tr><td>train/epoch</td><td>3</td></tr><tr><td>train/global_step</td><td>189</td></tr><tr><td>train/grad_norm</td><td>20.308</td></tr><tr><td>train/learning_rate</td><td>0.0</td></tr><tr><td>train/loss</td><td>1.3195</td></tr><tr><td>train_loss</td><td>1.45746</td></tr><tr><td>train_runtime</td><td>25.3776</td></tr><tr><td>train_samples_per_second</td><td>236.429</td></tr><tr><td>train_steps_per_second</td><td>7.448</td></tr></table><br/></div></div>"
            ]
          },
          "metadata": {}
        },
        {
          "output_type": "display_data",
          "data": {
            "text/plain": [
              "<IPython.core.display.HTML object>"
            ],
            "text/html": [
              " View run <strong style=\"color:#cdcd00\">roberta-ep5-lr2.7875610890782984e-05-bs8-samples2000-run1753907123-no_preprocess</strong> at: <a href='https://wandb.ai/hillas-tel-aviv-university/tweet-sentiment-classification_split_to_test/runs/y2wvagql' target=\"_blank\">https://wandb.ai/hillas-tel-aviv-university/tweet-sentiment-classification_split_to_test/runs/y2wvagql</a><br> View project at: <a href='https://wandb.ai/hillas-tel-aviv-university/tweet-sentiment-classification_split_to_test' target=\"_blank\">https://wandb.ai/hillas-tel-aviv-university/tweet-sentiment-classification_split_to_test</a><br>Synced 5 W&B file(s), 0 media file(s), 0 artifact file(s) and 0 other file(s)"
            ]
          },
          "metadata": {}
        },
        {
          "output_type": "display_data",
          "data": {
            "text/plain": [
              "<IPython.core.display.HTML object>"
            ],
            "text/html": [
              "Find logs at: <code>./wandb/run-20250730_202524-y2wvagql/logs</code>"
            ]
          },
          "metadata": {}
        }
      ],
      "source": [
        "study_roberta = optuna.create_study(direction=\"maximize\",\n",
        "                                    pruner=MedianPruner(n_startup_trials=2, n_warmup_steps=1),\n",
        "                                    study_name=f\"roberta_study_stratify_{is_preprocessed}\",\n",
        "                                    storage=f\"sqlite:////content/drive/MyDrive/Colab Notebooks/nlp_project/optuna/roberta_study_stratify_{is_preprocessed}.db\",\n",
        "                                    load_if_exists=True)\n",
        "study_roberta.optimize(objective_roberta, n_trials=5)\n",
        "wandb.finish()"
      ]
    },
    {
      "cell_type": "code",
      "execution_count": 19,
      "id": "ac1abfc1",
      "metadata": {
        "colab": {
          "base_uri": "https://localhost:8080/"
        },
        "id": "ac1abfc1",
        "outputId": "59418217-9dab-4fba-d538-0066dd315fbf"
      },
      "outputs": [
        {
          "output_type": "stream",
          "name": "stdout",
          "text": [
            "Bert best trial on subset:\n",
            "{'learning_rate': 3.793274955606689e-05, 'batch_size': 32, 'num_train_epochs': 5}\n",
            "RoBerta best trial on subset:\n",
            "{'learning_rate': 2.2755931315738675e-05, 'batch_size': 8, 'num_train_epochs': 5}\n"
          ]
        }
      ],
      "source": [
        "best_trial_bert = study_bert.best_trial\n",
        "print('Bert best trial on subset:')\n",
        "print(best_trial_bert.params)\n",
        "best_trial_roberta = study_roberta.best_trial\n",
        "print('RoBerta best trial on subset:')\n",
        "print(best_trial_roberta.params)"
      ]
    },
    {
      "cell_type": "code",
      "execution_count": 20,
      "id": "fd2aefb5",
      "metadata": {
        "colab": {
          "base_uri": "https://localhost:8080/",
          "height": 1000
        },
        "id": "fd2aefb5",
        "outputId": "57fae8b0-bc94-4319-9ef6-a61781dd5de0"
      },
      "outputs": [
        {
          "output_type": "display_data",
          "data": {
            "text/plain": [
              "<IPython.core.display.HTML object>"
            ],
            "text/html": [
              "Changes to your `wandb` environment variables will be ignored because your `wandb` session has already started. For more information on how to modify your settings with `wandb.init()` arguments, please refer to <a href='https://wandb.me/wandb-init' target=\"_blank\">the W&B docs</a>."
            ]
          },
          "metadata": {}
        },
        {
          "output_type": "stream",
          "name": "stderr",
          "text": [
            "\u001b[34m\u001b[1mwandb\u001b[0m: \u001b[33mWARNING\u001b[0m Using a boolean value for 'reinit' is deprecated. Use 'return_previous' or 'finish_previous' instead.\n"
          ]
        },
        {
          "output_type": "display_data",
          "data": {
            "text/plain": [
              "<IPython.core.display.HTML object>"
            ],
            "text/html": [
              "Tracking run with wandb version 0.21.0"
            ]
          },
          "metadata": {}
        },
        {
          "output_type": "display_data",
          "data": {
            "text/plain": [
              "<IPython.core.display.HTML object>"
            ],
            "text/html": [
              "Run data is saved locally in <code>/content/wandb/run-20250730_203308-vybsxy58</code>"
            ]
          },
          "metadata": {}
        },
        {
          "output_type": "display_data",
          "data": {
            "text/plain": [
              "<IPython.core.display.HTML object>"
            ],
            "text/html": [
              "Syncing run <strong><a href='https://wandb.ai/hillas-tel-aviv-university/tweet-sentiment-classification_split_to_test/runs/vybsxy58' target=\"_blank\">bert_final_stratify_no_preprocess-ep5-lr3.8e-05-bs32</a></strong> to <a href='https://wandb.ai/hillas-tel-aviv-university/tweet-sentiment-classification_split_to_test' target=\"_blank\">Weights & Biases</a> (<a href='https://wandb.me/developer-guide' target=\"_blank\">docs</a>)<br>"
            ]
          },
          "metadata": {}
        },
        {
          "output_type": "display_data",
          "data": {
            "text/plain": [
              "<IPython.core.display.HTML object>"
            ],
            "text/html": [
              " View project at <a href='https://wandb.ai/hillas-tel-aviv-university/tweet-sentiment-classification_split_to_test' target=\"_blank\">https://wandb.ai/hillas-tel-aviv-university/tweet-sentiment-classification_split_to_test</a>"
            ]
          },
          "metadata": {}
        },
        {
          "output_type": "display_data",
          "data": {
            "text/plain": [
              "<IPython.core.display.HTML object>"
            ],
            "text/html": [
              " View run at <a href='https://wandb.ai/hillas-tel-aviv-university/tweet-sentiment-classification_split_to_test/runs/vybsxy58' target=\"_blank\">https://wandb.ai/hillas-tel-aviv-university/tweet-sentiment-classification_split_to_test/runs/vybsxy58</a>"
            ]
          },
          "metadata": {}
        },
        {
          "output_type": "stream",
          "name": "stderr",
          "text": [
            "Some weights of BertForSequenceClassification were not initialized from the model checkpoint at bert-base-uncased and are newly initialized: ['classifier.bias', 'classifier.weight']\n",
            "You should probably TRAIN this model on a down-stream task to be able to use it for predictions and inference.\n",
            "/tmp/ipython-input-1416991230.py:34: FutureWarning: `tokenizer` is deprecated and will be removed in version 5.0.0 for `Trainer.__init__`. Use `processing_class` instead.\n",
            "  trainer = Trainer(\n",
            "/usr/local/lib/python3.11/dist-packages/torch/nn/modules/module.py:1750: FutureWarning: `encoder_attention_mask` is deprecated and will be removed in version 4.55.0 for `BertSdpaSelfAttention.forward`.\n",
            "  return forward_call(*args, **kwargs)\n"
          ]
        },
        {
          "output_type": "stream",
          "name": "stdout",
          "text": [
            "{'loss': 0.8073, 'grad_norm': 17.527660369873047, 'learning_rate': 3.037703927863893e-05, 'epoch': 1.0}\n",
            "{'eval_loss': 0.5230451822280884, 'eval_accuracy': 0.803409933283914, 'eval_f1_macro': 0.8101932447816488, 'eval_runtime': 5.4747, 'eval_samples_per_second': 1232.035, 'eval_steps_per_second': 38.541, 'epoch': 1.0}\n"
          ]
        },
        {
          "output_type": "stream",
          "name": "stderr",
          "text": [
            "/usr/local/lib/python3.11/dist-packages/torch/nn/modules/module.py:1750: FutureWarning: `encoder_attention_mask` is deprecated and will be removed in version 4.55.0 for `BertSdpaSelfAttention.forward`.\n",
            "  return forward_call(*args, **kwargs)\n"
          ]
        },
        {
          "output_type": "stream",
          "name": "stdout",
          "text": [
            "{'loss': 0.4017, 'grad_norm': 3.877439022064209, 'learning_rate': 2.2790489367425553e-05, 'epoch': 2.0}\n",
            "{'eval_loss': 0.48625776171684265, 'eval_accuracy': 0.8300963676797628, 'eval_f1_macro': 0.8370858579249486, 'eval_runtime': 5.3411, 'eval_samples_per_second': 1262.847, 'eval_steps_per_second': 39.505, 'epoch': 2.0}\n"
          ]
        },
        {
          "output_type": "stream",
          "name": "stderr",
          "text": [
            "/usr/local/lib/python3.11/dist-packages/torch/nn/modules/module.py:1750: FutureWarning: `encoder_attention_mask` is deprecated and will be removed in version 4.55.0 for `BertSdpaSelfAttention.forward`.\n",
            "  return forward_call(*args, **kwargs)\n"
          ]
        },
        {
          "output_type": "stream",
          "name": "stdout",
          "text": [
            "{'loss': 0.2608, 'grad_norm': 12.303671836853027, 'learning_rate': 1.5203939456212176e-05, 'epoch': 3.0}\n",
            "{'eval_loss': 0.46098577976226807, 'eval_accuracy': 0.8487768717568569, 'eval_f1_macro': 0.8531536248700252, 'eval_runtime': 5.318, 'eval_samples_per_second': 1268.339, 'eval_steps_per_second': 39.677, 'epoch': 3.0}\n"
          ]
        },
        {
          "output_type": "stream",
          "name": "stderr",
          "text": [
            "/usr/local/lib/python3.11/dist-packages/torch/nn/modules/module.py:1750: FutureWarning: `encoder_attention_mask` is deprecated and will be removed in version 4.55.0 for `BertSdpaSelfAttention.forward`.\n",
            "  return forward_call(*args, **kwargs)\n"
          ]
        },
        {
          "output_type": "stream",
          "name": "stdout",
          "text": [
            "{'loss': 0.1709, 'grad_norm': 18.35509490966797, 'learning_rate': 7.625099453445153e-06, 'epoch': 4.0}\n",
            "{'eval_loss': 0.4989120364189148, 'eval_accuracy': 0.8625648628613788, 'eval_f1_macro': 0.8667745215062006, 'eval_runtime': 5.4557, 'eval_samples_per_second': 1236.325, 'eval_steps_per_second': 38.675, 'epoch': 4.0}\n"
          ]
        },
        {
          "output_type": "stream",
          "name": "stderr",
          "text": [
            "/usr/local/lib/python3.11/dist-packages/torch/nn/modules/module.py:1750: FutureWarning: `encoder_attention_mask` is deprecated and will be removed in version 4.55.0 for `BertSdpaSelfAttention.forward`.\n",
            "  return forward_call(*args, **kwargs)\n"
          ]
        },
        {
          "output_type": "stream",
          "name": "stdout",
          "text": [
            "{'loss': 0.1087, 'grad_norm': 75.40140533447266, 'learning_rate': 3.85495422317753e-08, 'epoch': 5.0}\n",
            "{'eval_loss': 0.5772148370742798, 'eval_accuracy': 0.8624166048925129, 'eval_f1_macro': 0.8670454116331431, 'eval_runtime': 5.4403, 'eval_samples_per_second': 1239.824, 'eval_steps_per_second': 38.785, 'epoch': 5.0}\n",
            "{'train_runtime': 465.5916, 'train_samples_per_second': 337.914, 'train_steps_per_second': 10.567, 'train_loss': 0.34988824177563677, 'epoch': 5.0}\n"
          ]
        },
        {
          "output_type": "display_data",
          "data": {
            "text/plain": [
              "<IPython.core.display.HTML object>"
            ],
            "text/html": []
          },
          "metadata": {}
        },
        {
          "output_type": "display_data",
          "data": {
            "text/plain": [
              "<IPython.core.display.HTML object>"
            ],
            "text/html": [
              "<br>    <style><br>        .wandb-row {<br>            display: flex;<br>            flex-direction: row;<br>            flex-wrap: wrap;<br>            justify-content: flex-start;<br>            width: 100%;<br>        }<br>        .wandb-col {<br>            display: flex;<br>            flex-direction: column;<br>            flex-basis: 100%;<br>            flex: 1;<br>            padding: 10px;<br>        }<br>    </style><br><div class=\"wandb-row\"><div class=\"wandb-col\"><h3>Run history:</h3><br/><table class=\"wandb\"><tr><td>eval/accuracy</td><td>▁▄▆██</td></tr><tr><td>eval/f1_macro</td><td>▁▄▆██</td></tr><tr><td>eval/loss</td><td>▅▃▁▃█</td></tr><tr><td>eval/runtime</td><td>█▂▁▇▆</td></tr><tr><td>eval/samples_per_second</td><td>▁▇█▂▃</td></tr><tr><td>eval/steps_per_second</td><td>▁▇█▂▃</td></tr><tr><td>train/epoch</td><td>▁▁▃▃▅▅▆▆███</td></tr><tr><td>train/global_step</td><td>▁▁▃▃▅▅▆▆███</td></tr><tr><td>train/grad_norm</td><td>▂▁▂▂█</td></tr><tr><td>train/learning_rate</td><td>█▆▄▃▁</td></tr><tr><td>train/loss</td><td>█▄▃▂▁</td></tr></table><br/></div><div class=\"wandb-col\"><h3>Run summary:</h3><br/><table class=\"wandb\"><tr><td>eval/accuracy</td><td>0.86242</td></tr><tr><td>eval/f1_macro</td><td>0.86705</td></tr><tr><td>eval/loss</td><td>0.57721</td></tr><tr><td>eval/runtime</td><td>5.4403</td></tr><tr><td>eval/samples_per_second</td><td>1239.824</td></tr><tr><td>eval/steps_per_second</td><td>38.785</td></tr><tr><td>total_flos</td><td>5174547169232640.0</td></tr><tr><td>train/epoch</td><td>5</td></tr><tr><td>train/global_step</td><td>4920</td></tr><tr><td>train/grad_norm</td><td>75.40141</td></tr><tr><td>train/learning_rate</td><td>0.0</td></tr><tr><td>train/loss</td><td>0.1087</td></tr><tr><td>train_loss</td><td>0.34989</td></tr><tr><td>train_runtime</td><td>465.5916</td></tr><tr><td>train_samples_per_second</td><td>337.914</td></tr><tr><td>train_steps_per_second</td><td>10.567</td></tr></table><br/></div></div>"
            ]
          },
          "metadata": {}
        },
        {
          "output_type": "display_data",
          "data": {
            "text/plain": [
              "<IPython.core.display.HTML object>"
            ],
            "text/html": [
              " View run <strong style=\"color:#cdcd00\">bert_final_stratify_no_preprocess-ep5-lr3.8e-05-bs32</strong> at: <a href='https://wandb.ai/hillas-tel-aviv-university/tweet-sentiment-classification_split_to_test/runs/vybsxy58' target=\"_blank\">https://wandb.ai/hillas-tel-aviv-university/tweet-sentiment-classification_split_to_test/runs/vybsxy58</a><br> View project at: <a href='https://wandb.ai/hillas-tel-aviv-university/tweet-sentiment-classification_split_to_test' target=\"_blank\">https://wandb.ai/hillas-tel-aviv-university/tweet-sentiment-classification_split_to_test</a><br>Synced 5 W&B file(s), 0 media file(s), 0 artifact file(s) and 0 other file(s)"
            ]
          },
          "metadata": {}
        },
        {
          "output_type": "display_data",
          "data": {
            "text/plain": [
              "<IPython.core.display.HTML object>"
            ],
            "text/html": [
              "Find logs at: <code>./wandb/run-20250730_203308-vybsxy58/logs</code>"
            ]
          },
          "metadata": {}
        }
      ],
      "source": [
        "best_params_bert = best_trial_bert.params\n",
        "run_name_bert = f\"bert_final_stratify_{is_preprocessed}-ep{best_params_bert['num_train_epochs']}-lr{best_params_bert['learning_rate']:.1e}-bs{best_params_bert['batch_size']}\"\n",
        "wandb.init(project=\"tweet-sentiment-classification_split_to_test\", name=run_name_bert, reinit=True)\n",
        "\n",
        "final_trainer_bert = build_trainer(\n",
        "    model_checkpoint=\"bert-base-uncased\",\n",
        "    trial=best_trial_bert,\n",
        "    run_prefix=f\"bert_final_stratify_{is_preprocessed}\",\n",
        "    train_dataset=tokenized_bert_train,\n",
        "    val_dataset=tokenized_bert_val\n",
        ")\n",
        "final_trainer_bert.train()\n",
        "final_trainer_bert.evaluate(tokenized_bert_test)\n",
        "wandb.finish()"
      ]
    },
    {
      "cell_type": "code",
      "execution_count": 21,
      "id": "ccc052fa",
      "metadata": {
        "colab": {
          "base_uri": "https://localhost:8080/",
          "height": 1000
        },
        "id": "ccc052fa",
        "outputId": "33e6f87c-785b-4a9a-d61f-22610cf26a2e"
      },
      "outputs": [
        {
          "output_type": "display_data",
          "data": {
            "text/plain": [
              "<IPython.core.display.HTML object>"
            ],
            "text/html": [
              "Changes to your `wandb` environment variables will be ignored because your `wandb` session has already started. For more information on how to modify your settings with `wandb.init()` arguments, please refer to <a href='https://wandb.me/wandb-init' target=\"_blank\">the W&B docs</a>."
            ]
          },
          "metadata": {}
        },
        {
          "output_type": "display_data",
          "data": {
            "text/plain": [
              "<IPython.core.display.HTML object>"
            ],
            "text/html": []
          },
          "metadata": {}
        },
        {
          "output_type": "display_data",
          "data": {
            "text/plain": [
              "<IPython.core.display.HTML object>"
            ],
            "text/html": [
              "Tracking run with wandb version 0.21.0"
            ]
          },
          "metadata": {}
        },
        {
          "output_type": "display_data",
          "data": {
            "text/plain": [
              "<IPython.core.display.HTML object>"
            ],
            "text/html": [
              "Run data is saved locally in <code>/content/wandb/run-20250730_204059-fx7gtkk2</code>"
            ]
          },
          "metadata": {}
        },
        {
          "output_type": "display_data",
          "data": {
            "text/plain": [
              "<IPython.core.display.HTML object>"
            ],
            "text/html": [
              "Syncing run <strong><a href='https://wandb.ai/hillas-tel-aviv-university/tweet-sentiment-classification_split_to_test/runs/fx7gtkk2' target=\"_blank\">roberta_final_stratify_no_preprocess-ep5-lr2.3e-05-bs8</a></strong> to <a href='https://wandb.ai/hillas-tel-aviv-university/tweet-sentiment-classification_split_to_test' target=\"_blank\">Weights & Biases</a> (<a href='https://wandb.me/developer-guide' target=\"_blank\">docs</a>)<br>"
            ]
          },
          "metadata": {}
        },
        {
          "output_type": "display_data",
          "data": {
            "text/plain": [
              "<IPython.core.display.HTML object>"
            ],
            "text/html": [
              " View project at <a href='https://wandb.ai/hillas-tel-aviv-university/tweet-sentiment-classification_split_to_test' target=\"_blank\">https://wandb.ai/hillas-tel-aviv-university/tweet-sentiment-classification_split_to_test</a>"
            ]
          },
          "metadata": {}
        },
        {
          "output_type": "display_data",
          "data": {
            "text/plain": [
              "<IPython.core.display.HTML object>"
            ],
            "text/html": [
              " View run at <a href='https://wandb.ai/hillas-tel-aviv-university/tweet-sentiment-classification_split_to_test/runs/fx7gtkk2' target=\"_blank\">https://wandb.ai/hillas-tel-aviv-university/tweet-sentiment-classification_split_to_test/runs/fx7gtkk2</a>"
            ]
          },
          "metadata": {}
        },
        {
          "output_type": "stream",
          "name": "stderr",
          "text": [
            "Some weights of RobertaForSequenceClassification were not initialized from the model checkpoint at roberta-base and are newly initialized: ['classifier.dense.bias', 'classifier.dense.weight', 'classifier.out_proj.bias', 'classifier.out_proj.weight']\n",
            "You should probably TRAIN this model on a down-stream task to be able to use it for predictions and inference.\n",
            "/tmp/ipython-input-1416991230.py:34: FutureWarning: `tokenizer` is deprecated and will be removed in version 5.0.0 for `Trainer.__init__`. Use `processing_class` instead.\n",
            "  trainer = Trainer(\n",
            "/usr/local/lib/python3.11/dist-packages/torch/nn/modules/module.py:1750: FutureWarning: `encoder_attention_mask` is deprecated and will be removed in version 4.55.0 for `RobertaSdpaSelfAttention.forward`.\n",
            "  return forward_call(*args, **kwargs)\n"
          ]
        },
        {
          "output_type": "stream",
          "name": "stdout",
          "text": [
            "{'loss': 0.9185, 'grad_norm': 53.88134765625, 'learning_rate': 1.8211686363617602e-05, 'epoch': 1.0}\n",
            "{'eval_loss': 0.7521365880966187, 'eval_accuracy': 0.7215715344699778, 'eval_f1_macro': 0.7308123155848059, 'eval_runtime': 18.5049, 'eval_samples_per_second': 364.498, 'eval_steps_per_second': 45.61, 'epoch': 1.0}\n"
          ]
        },
        {
          "output_type": "stream",
          "name": "stderr",
          "text": [
            "/usr/local/lib/python3.11/dist-packages/torch/nn/modules/module.py:1750: FutureWarning: `encoder_attention_mask` is deprecated and will be removed in version 4.55.0 for `RobertaSdpaSelfAttention.forward`.\n",
            "  return forward_call(*args, **kwargs)\n"
          ]
        },
        {
          "output_type": "stream",
          "name": "stdout",
          "text": [
            "{'loss': 0.5828, 'grad_norm': 3.2724196910858154, 'learning_rate': 1.3662813870812087e-05, 'epoch': 2.0}\n",
            "{'eval_loss': 0.6392106413841248, 'eval_accuracy': 0.7731653076352853, 'eval_f1_macro': 0.7834685926110598, 'eval_runtime': 18.503, 'eval_samples_per_second': 364.535, 'eval_steps_per_second': 45.614, 'epoch': 2.0}\n"
          ]
        },
        {
          "output_type": "stream",
          "name": "stderr",
          "text": [
            "/usr/local/lib/python3.11/dist-packages/torch/nn/modules/module.py:1750: FutureWarning: `encoder_attention_mask` is deprecated and will be removed in version 4.55.0 for `RobertaSdpaSelfAttention.forward`.\n",
            "  return forward_call(*args, **kwargs)\n"
          ]
        },
        {
          "output_type": "stream",
          "name": "stdout",
          "text": [
            "{'loss': 0.4556, 'grad_norm': 0.5578055381774902, 'learning_rate': 9.112784492835461e-06, 'epoch': 3.0}\n",
            "{'eval_loss': 0.6461445093154907, 'eval_accuracy': 0.8083024462564863, 'eval_f1_macro': 0.8142536728886283, 'eval_runtime': 18.7481, 'eval_samples_per_second': 359.77, 'eval_steps_per_second': 45.018, 'epoch': 3.0}\n"
          ]
        },
        {
          "output_type": "stream",
          "name": "stderr",
          "text": [
            "/usr/local/lib/python3.11/dist-packages/torch/nn/modules/module.py:1750: FutureWarning: `encoder_attention_mask` is deprecated and will be removed in version 4.55.0 for `RobertaSdpaSelfAttention.forward`.\n",
            "  return forward_call(*args, **kwargs)\n"
          ]
        },
        {
          "output_type": "stream",
          "name": "stdout",
          "text": [
            "{'loss': 0.3773, 'grad_norm': 0.354358971118927, 'learning_rate': 4.565068885201058e-06, 'epoch': 4.0}\n",
            "{'eval_loss': 0.8021866679191589, 'eval_accuracy': 0.820459599703484, 'eval_f1_macro': 0.8272797948288126, 'eval_runtime': 18.5132, 'eval_samples_per_second': 364.335, 'eval_steps_per_second': 45.589, 'epoch': 4.0}\n"
          ]
        },
        {
          "output_type": "stream",
          "name": "stderr",
          "text": [
            "/usr/local/lib/python3.11/dist-packages/torch/nn/modules/module.py:1750: FutureWarning: `encoder_attention_mask` is deprecated and will be removed in version 4.55.0 for `RobertaSdpaSelfAttention.forward`.\n",
            "  return forward_call(*args, **kwargs)\n"
          ]
        },
        {
          "output_type": "stream",
          "name": "stdout",
          "text": [
            "{'loss': 0.3051, 'grad_norm': 0.08615262806415558, 'learning_rate': 1.5039507224433287e-08, 'epoch': 5.0}\n",
            "{'eval_loss': 0.9032319784164429, 'eval_accuracy': 0.8240177909562639, 'eval_f1_macro': 0.8297178083523201, 'eval_runtime': 18.5608, 'eval_samples_per_second': 363.401, 'eval_steps_per_second': 45.472, 'epoch': 5.0}\n",
            "{'train_runtime': 1627.2206, 'train_samples_per_second': 96.686, 'train_steps_per_second': 12.088, 'train_loss': 0.5278612611011375, 'epoch': 5.0}\n"
          ]
        },
        {
          "output_type": "display_data",
          "data": {
            "text/plain": [
              "<IPython.core.display.HTML object>"
            ],
            "text/html": []
          },
          "metadata": {}
        },
        {
          "output_type": "display_data",
          "data": {
            "text/plain": [
              "<IPython.core.display.HTML object>"
            ],
            "text/html": [
              "<br>    <style><br>        .wandb-row {<br>            display: flex;<br>            flex-direction: row;<br>            flex-wrap: wrap;<br>            justify-content: flex-start;<br>            width: 100%;<br>        }<br>        .wandb-col {<br>            display: flex;<br>            flex-direction: column;<br>            flex-basis: 100%;<br>            flex: 1;<br>            padding: 10px;<br>        }<br>    </style><br><div class=\"wandb-row\"><div class=\"wandb-col\"><h3>Run history:</h3><br/><table class=\"wandb\"><tr><td>eval/accuracy</td><td>▁▅▇██</td></tr><tr><td>eval/f1_macro</td><td>▁▅▇██</td></tr><tr><td>eval/loss</td><td>▄▁▁▅█</td></tr><tr><td>eval/runtime</td><td>▁▁█▁▃</td></tr><tr><td>eval/samples_per_second</td><td>██▁█▆</td></tr><tr><td>eval/steps_per_second</td><td>██▁█▆</td></tr><tr><td>train/epoch</td><td>▁▁▃▃▅▅▆▆███</td></tr><tr><td>train/global_step</td><td>▁▁▃▃▅▅▆▆███</td></tr><tr><td>train/grad_norm</td><td>█▁▁▁▁</td></tr><tr><td>train/learning_rate</td><td>█▆▄▃▁</td></tr><tr><td>train/loss</td><td>█▄▃▂▁</td></tr></table><br/></div><div class=\"wandb-col\"><h3>Run summary:</h3><br/><table class=\"wandb\"><tr><td>eval/accuracy</td><td>0.82402</td></tr><tr><td>eval/f1_macro</td><td>0.82972</td></tr><tr><td>eval/loss</td><td>0.90323</td></tr><tr><td>eval/runtime</td><td>18.5608</td></tr><tr><td>eval/samples_per_second</td><td>363.401</td></tr><tr><td>eval/steps_per_second</td><td>45.472</td></tr><tr><td>total_flos</td><td>5174547169232640.0</td></tr><tr><td>train/epoch</td><td>5</td></tr><tr><td>train/global_step</td><td>19670</td></tr><tr><td>train/grad_norm</td><td>0.08615</td></tr><tr><td>train/learning_rate</td><td>0.0</td></tr><tr><td>train/loss</td><td>0.3051</td></tr><tr><td>train_loss</td><td>0.52786</td></tr><tr><td>train_runtime</td><td>1627.2206</td></tr><tr><td>train_samples_per_second</td><td>96.686</td></tr><tr><td>train_steps_per_second</td><td>12.088</td></tr></table><br/></div></div>"
            ]
          },
          "metadata": {}
        },
        {
          "output_type": "display_data",
          "data": {
            "text/plain": [
              "<IPython.core.display.HTML object>"
            ],
            "text/html": [
              " View run <strong style=\"color:#cdcd00\">roberta_final_stratify_no_preprocess-ep5-lr2.3e-05-bs8</strong> at: <a href='https://wandb.ai/hillas-tel-aviv-university/tweet-sentiment-classification_split_to_test/runs/fx7gtkk2' target=\"_blank\">https://wandb.ai/hillas-tel-aviv-university/tweet-sentiment-classification_split_to_test/runs/fx7gtkk2</a><br> View project at: <a href='https://wandb.ai/hillas-tel-aviv-university/tweet-sentiment-classification_split_to_test' target=\"_blank\">https://wandb.ai/hillas-tel-aviv-university/tweet-sentiment-classification_split_to_test</a><br>Synced 5 W&B file(s), 0 media file(s), 0 artifact file(s) and 0 other file(s)"
            ]
          },
          "metadata": {}
        },
        {
          "output_type": "display_data",
          "data": {
            "text/plain": [
              "<IPython.core.display.HTML object>"
            ],
            "text/html": [
              "Find logs at: <code>./wandb/run-20250730_204059-fx7gtkk2/logs</code>"
            ]
          },
          "metadata": {}
        }
      ],
      "source": [
        "best_params_roberta = best_trial_roberta.params\n",
        "run_name_roberta = f\"roberta_final_stratify_{is_preprocessed}-ep{best_params_roberta['num_train_epochs']}-lr{best_params_roberta['learning_rate']:.1e}-bs{best_params_roberta['batch_size']}\"\n",
        "wandb.init(project=\"tweet-sentiment-classification_split_to_test\", name=run_name_roberta, reinit=True)\n",
        "\n",
        "final_trainer_roberta = build_trainer(\n",
        "    model_checkpoint=\"roberta-base\",\n",
        "    trial=best_trial_roberta,\n",
        "    run_prefix=f\"roberta_final_stratify_{is_preprocessed}\",\n",
        "    train_dataset=tokenized_roberta_train,\n",
        "    val_dataset=tokenized_roberta_val\n",
        ")\n",
        "final_trainer_roberta.train()\n",
        "final_trainer_roberta.evaluate(tokenized_roberta_test)\n",
        "wandb.finish()"
      ]
    },
    {
      "cell_type": "code",
      "execution_count": 23,
      "id": "d203d986",
      "metadata": {
        "id": "d203d986"
      },
      "outputs": [],
      "source": [
        "final_trainer_bert.save_model(f\"models/bert_final_stratify_{is_preprocessed}\")\n",
        "bert_tokenizer.save_pretrained(f\"models/bert_final_stratify_{is_preprocessed}\")\n",
        "!cp -r models/bert_final_stratify_{is_preprocessed} \"/content/drive/MyDrive/Colab Notebooks/nlp_project/models/w_test_split/bert_best_model_stratify_{is_preprocessed}\"\n",
        "\n",
        "final_trainer_roberta.save_model(f\"models/roberta_final_stratify_{is_preprocessed}\")\n",
        "roberta_tokenizer.save_pretrained(f\"models/roberta_final_stratify_{is_preprocessed}\")\n",
        "!cp -r models/roberta_final_stratify_{is_preprocessed} \"/content/drive/MyDrive/Colab Notebooks/nlp_project/models/w_test_split/roberta_best_model_stratify_{is_preprocessed}\""
      ]
    },
    {
      "cell_type": "code",
      "source": [],
      "metadata": {
        "id": "DeaiAqJc3qzd"
      },
      "id": "DeaiAqJc3qzd",
      "execution_count": null,
      "outputs": []
    }
  ],
  "metadata": {
    "kernelspec": {
      "display_name": "Python 3",
      "name": "python3"
    },
    "language_info": {
      "codemirror_mode": {
        "name": "ipython",
        "version": 3
      },
      "file_extension": ".py",
      "mimetype": "text/x-python",
      "name": "python",
      "nbconvert_exporter": "python",
      "pygments_lexer": "ipython3",
      "version": "3.9.13"
    },
    "colab": {
      "provenance": [],
      "machine_shape": "hm",
      "gpuType": "A100"
    },
    "accelerator": "GPU",
    "widgets": {
      "application/vnd.jupyter.widget-state+json": {
        "361a75759c5e4af78e349454f178b8c4": {
          "model_module": "@jupyter-widgets/controls",
          "model_name": "HBoxModel",
          "model_module_version": "1.5.0",
          "state": {
            "_dom_classes": [],
            "_model_module": "@jupyter-widgets/controls",
            "_model_module_version": "1.5.0",
            "_model_name": "HBoxModel",
            "_view_count": null,
            "_view_module": "@jupyter-widgets/controls",
            "_view_module_version": "1.5.0",
            "_view_name": "HBoxView",
            "box_style": "",
            "children": [
              "IPY_MODEL_8fad9e65248347fa85d69bb160d1dbf8",
              "IPY_MODEL_9865b62db7b347fa94b5e3dc2826e788",
              "IPY_MODEL_6bca277bd016419a88f4ab2ebdc6ed5a"
            ],
            "layout": "IPY_MODEL_428a74c3249c40958e40b720ae3eaed9"
          }
        },
        "8fad9e65248347fa85d69bb160d1dbf8": {
          "model_module": "@jupyter-widgets/controls",
          "model_name": "HTMLModel",
          "model_module_version": "1.5.0",
          "state": {
            "_dom_classes": [],
            "_model_module": "@jupyter-widgets/controls",
            "_model_module_version": "1.5.0",
            "_model_name": "HTMLModel",
            "_view_count": null,
            "_view_module": "@jupyter-widgets/controls",
            "_view_module_version": "1.5.0",
            "_view_name": "HTMLView",
            "description": "",
            "description_tooltip": null,
            "layout": "IPY_MODEL_9e95d87c3a434f57b263f7e2dc5e4cd5",
            "placeholder": "​",
            "style": "IPY_MODEL_42551931e7f94b8493db3d4810207658",
            "value": "Map: 100%"
          }
        },
        "9865b62db7b347fa94b5e3dc2826e788": {
          "model_module": "@jupyter-widgets/controls",
          "model_name": "FloatProgressModel",
          "model_module_version": "1.5.0",
          "state": {
            "_dom_classes": [],
            "_model_module": "@jupyter-widgets/controls",
            "_model_module_version": "1.5.0",
            "_model_name": "FloatProgressModel",
            "_view_count": null,
            "_view_module": "@jupyter-widgets/controls",
            "_view_module_version": "1.5.0",
            "_view_name": "ProgressView",
            "bar_style": "success",
            "description": "",
            "description_tooltip": null,
            "layout": "IPY_MODEL_b62d70b237da46f19836ba573b2c3a65",
            "max": 2000,
            "min": 0,
            "orientation": "horizontal",
            "style": "IPY_MODEL_5cb63b1d103a448baa296f794458365e",
            "value": 2000
          }
        },
        "6bca277bd016419a88f4ab2ebdc6ed5a": {
          "model_module": "@jupyter-widgets/controls",
          "model_name": "HTMLModel",
          "model_module_version": "1.5.0",
          "state": {
            "_dom_classes": [],
            "_model_module": "@jupyter-widgets/controls",
            "_model_module_version": "1.5.0",
            "_model_name": "HTMLModel",
            "_view_count": null,
            "_view_module": "@jupyter-widgets/controls",
            "_view_module_version": "1.5.0",
            "_view_name": "HTMLView",
            "description": "",
            "description_tooltip": null,
            "layout": "IPY_MODEL_b5540743a1954ea48661eb4c1cde4726",
            "placeholder": "​",
            "style": "IPY_MODEL_552ba73d246e4d82b1beeaf8d28bcb0e",
            "value": " 2000/2000 [00:00&lt;00:00, 13401.27 examples/s]"
          }
        },
        "428a74c3249c40958e40b720ae3eaed9": {
          "model_module": "@jupyter-widgets/base",
          "model_name": "LayoutModel",
          "model_module_version": "1.2.0",
          "state": {
            "_model_module": "@jupyter-widgets/base",
            "_model_module_version": "1.2.0",
            "_model_name": "LayoutModel",
            "_view_count": null,
            "_view_module": "@jupyter-widgets/base",
            "_view_module_version": "1.2.0",
            "_view_name": "LayoutView",
            "align_content": null,
            "align_items": null,
            "align_self": null,
            "border": null,
            "bottom": null,
            "display": null,
            "flex": null,
            "flex_flow": null,
            "grid_area": null,
            "grid_auto_columns": null,
            "grid_auto_flow": null,
            "grid_auto_rows": null,
            "grid_column": null,
            "grid_gap": null,
            "grid_row": null,
            "grid_template_areas": null,
            "grid_template_columns": null,
            "grid_template_rows": null,
            "height": null,
            "justify_content": null,
            "justify_items": null,
            "left": null,
            "margin": null,
            "max_height": null,
            "max_width": null,
            "min_height": null,
            "min_width": null,
            "object_fit": null,
            "object_position": null,
            "order": null,
            "overflow": null,
            "overflow_x": null,
            "overflow_y": null,
            "padding": null,
            "right": null,
            "top": null,
            "visibility": null,
            "width": null
          }
        },
        "9e95d87c3a434f57b263f7e2dc5e4cd5": {
          "model_module": "@jupyter-widgets/base",
          "model_name": "LayoutModel",
          "model_module_version": "1.2.0",
          "state": {
            "_model_module": "@jupyter-widgets/base",
            "_model_module_version": "1.2.0",
            "_model_name": "LayoutModel",
            "_view_count": null,
            "_view_module": "@jupyter-widgets/base",
            "_view_module_version": "1.2.0",
            "_view_name": "LayoutView",
            "align_content": null,
            "align_items": null,
            "align_self": null,
            "border": null,
            "bottom": null,
            "display": null,
            "flex": null,
            "flex_flow": null,
            "grid_area": null,
            "grid_auto_columns": null,
            "grid_auto_flow": null,
            "grid_auto_rows": null,
            "grid_column": null,
            "grid_gap": null,
            "grid_row": null,
            "grid_template_areas": null,
            "grid_template_columns": null,
            "grid_template_rows": null,
            "height": null,
            "justify_content": null,
            "justify_items": null,
            "left": null,
            "margin": null,
            "max_height": null,
            "max_width": null,
            "min_height": null,
            "min_width": null,
            "object_fit": null,
            "object_position": null,
            "order": null,
            "overflow": null,
            "overflow_x": null,
            "overflow_y": null,
            "padding": null,
            "right": null,
            "top": null,
            "visibility": null,
            "width": null
          }
        },
        "42551931e7f94b8493db3d4810207658": {
          "model_module": "@jupyter-widgets/controls",
          "model_name": "DescriptionStyleModel",
          "model_module_version": "1.5.0",
          "state": {
            "_model_module": "@jupyter-widgets/controls",
            "_model_module_version": "1.5.0",
            "_model_name": "DescriptionStyleModel",
            "_view_count": null,
            "_view_module": "@jupyter-widgets/base",
            "_view_module_version": "1.2.0",
            "_view_name": "StyleView",
            "description_width": ""
          }
        },
        "b62d70b237da46f19836ba573b2c3a65": {
          "model_module": "@jupyter-widgets/base",
          "model_name": "LayoutModel",
          "model_module_version": "1.2.0",
          "state": {
            "_model_module": "@jupyter-widgets/base",
            "_model_module_version": "1.2.0",
            "_model_name": "LayoutModel",
            "_view_count": null,
            "_view_module": "@jupyter-widgets/base",
            "_view_module_version": "1.2.0",
            "_view_name": "LayoutView",
            "align_content": null,
            "align_items": null,
            "align_self": null,
            "border": null,
            "bottom": null,
            "display": null,
            "flex": null,
            "flex_flow": null,
            "grid_area": null,
            "grid_auto_columns": null,
            "grid_auto_flow": null,
            "grid_auto_rows": null,
            "grid_column": null,
            "grid_gap": null,
            "grid_row": null,
            "grid_template_areas": null,
            "grid_template_columns": null,
            "grid_template_rows": null,
            "height": null,
            "justify_content": null,
            "justify_items": null,
            "left": null,
            "margin": null,
            "max_height": null,
            "max_width": null,
            "min_height": null,
            "min_width": null,
            "object_fit": null,
            "object_position": null,
            "order": null,
            "overflow": null,
            "overflow_x": null,
            "overflow_y": null,
            "padding": null,
            "right": null,
            "top": null,
            "visibility": null,
            "width": null
          }
        },
        "5cb63b1d103a448baa296f794458365e": {
          "model_module": "@jupyter-widgets/controls",
          "model_name": "ProgressStyleModel",
          "model_module_version": "1.5.0",
          "state": {
            "_model_module": "@jupyter-widgets/controls",
            "_model_module_version": "1.5.0",
            "_model_name": "ProgressStyleModel",
            "_view_count": null,
            "_view_module": "@jupyter-widgets/base",
            "_view_module_version": "1.2.0",
            "_view_name": "StyleView",
            "bar_color": null,
            "description_width": ""
          }
        },
        "b5540743a1954ea48661eb4c1cde4726": {
          "model_module": "@jupyter-widgets/base",
          "model_name": "LayoutModel",
          "model_module_version": "1.2.0",
          "state": {
            "_model_module": "@jupyter-widgets/base",
            "_model_module_version": "1.2.0",
            "_model_name": "LayoutModel",
            "_view_count": null,
            "_view_module": "@jupyter-widgets/base",
            "_view_module_version": "1.2.0",
            "_view_name": "LayoutView",
            "align_content": null,
            "align_items": null,
            "align_self": null,
            "border": null,
            "bottom": null,
            "display": null,
            "flex": null,
            "flex_flow": null,
            "grid_area": null,
            "grid_auto_columns": null,
            "grid_auto_flow": null,
            "grid_auto_rows": null,
            "grid_column": null,
            "grid_gap": null,
            "grid_row": null,
            "grid_template_areas": null,
            "grid_template_columns": null,
            "grid_template_rows": null,
            "height": null,
            "justify_content": null,
            "justify_items": null,
            "left": null,
            "margin": null,
            "max_height": null,
            "max_width": null,
            "min_height": null,
            "min_width": null,
            "object_fit": null,
            "object_position": null,
            "order": null,
            "overflow": null,
            "overflow_x": null,
            "overflow_y": null,
            "padding": null,
            "right": null,
            "top": null,
            "visibility": null,
            "width": null
          }
        },
        "552ba73d246e4d82b1beeaf8d28bcb0e": {
          "model_module": "@jupyter-widgets/controls",
          "model_name": "DescriptionStyleModel",
          "model_module_version": "1.5.0",
          "state": {
            "_model_module": "@jupyter-widgets/controls",
            "_model_module_version": "1.5.0",
            "_model_name": "DescriptionStyleModel",
            "_view_count": null,
            "_view_module": "@jupyter-widgets/base",
            "_view_module_version": "1.2.0",
            "_view_name": "StyleView",
            "description_width": ""
          }
        },
        "e5da444b9bb6423891f6e6135217c876": {
          "model_module": "@jupyter-widgets/controls",
          "model_name": "HBoxModel",
          "model_module_version": "1.5.0",
          "state": {
            "_dom_classes": [],
            "_model_module": "@jupyter-widgets/controls",
            "_model_module_version": "1.5.0",
            "_model_name": "HBoxModel",
            "_view_count": null,
            "_view_module": "@jupyter-widgets/controls",
            "_view_module_version": "1.5.0",
            "_view_name": "HBoxView",
            "box_style": "",
            "children": [
              "IPY_MODEL_39d9f692d5234dfcb53bf7735bdb59b8",
              "IPY_MODEL_7a9663ed605a4d588c8f35259f3494f6",
              "IPY_MODEL_91b38cf450b644639acfc2c4cff12dd1"
            ],
            "layout": "IPY_MODEL_9c47d081ff804bd6808bb2b0c062ed85"
          }
        },
        "39d9f692d5234dfcb53bf7735bdb59b8": {
          "model_module": "@jupyter-widgets/controls",
          "model_name": "HTMLModel",
          "model_module_version": "1.5.0",
          "state": {
            "_dom_classes": [],
            "_model_module": "@jupyter-widgets/controls",
            "_model_module_version": "1.5.0",
            "_model_name": "HTMLModel",
            "_view_count": null,
            "_view_module": "@jupyter-widgets/controls",
            "_view_module_version": "1.5.0",
            "_view_name": "HTMLView",
            "description": "",
            "description_tooltip": null,
            "layout": "IPY_MODEL_54152d87c8c247eab6aaf74227251093",
            "placeholder": "​",
            "style": "IPY_MODEL_1d9b3a91d26447c1b7589d5aa753a5d5",
            "value": "Map: 100%"
          }
        },
        "7a9663ed605a4d588c8f35259f3494f6": {
          "model_module": "@jupyter-widgets/controls",
          "model_name": "FloatProgressModel",
          "model_module_version": "1.5.0",
          "state": {
            "_dom_classes": [],
            "_model_module": "@jupyter-widgets/controls",
            "_model_module_version": "1.5.0",
            "_model_name": "FloatProgressModel",
            "_view_count": null,
            "_view_module": "@jupyter-widgets/controls",
            "_view_module_version": "1.5.0",
            "_view_name": "ProgressView",
            "bar_style": "success",
            "description": "",
            "description_tooltip": null,
            "layout": "IPY_MODEL_f566bd5fa01d49e6a49d4eb20da72fe1",
            "max": 500,
            "min": 0,
            "orientation": "horizontal",
            "style": "IPY_MODEL_8a4a02c1f3484f218c98df45dd9de947",
            "value": 500
          }
        },
        "91b38cf450b644639acfc2c4cff12dd1": {
          "model_module": "@jupyter-widgets/controls",
          "model_name": "HTMLModel",
          "model_module_version": "1.5.0",
          "state": {
            "_dom_classes": [],
            "_model_module": "@jupyter-widgets/controls",
            "_model_module_version": "1.5.0",
            "_model_name": "HTMLModel",
            "_view_count": null,
            "_view_module": "@jupyter-widgets/controls",
            "_view_module_version": "1.5.0",
            "_view_name": "HTMLView",
            "description": "",
            "description_tooltip": null,
            "layout": "IPY_MODEL_1c38791317c4484cb2cbf41906b8dbc4",
            "placeholder": "​",
            "style": "IPY_MODEL_006f8789a1f04268827b2c7dddfb2d66",
            "value": " 500/500 [00:00&lt;00:00, 10898.09 examples/s]"
          }
        },
        "9c47d081ff804bd6808bb2b0c062ed85": {
          "model_module": "@jupyter-widgets/base",
          "model_name": "LayoutModel",
          "model_module_version": "1.2.0",
          "state": {
            "_model_module": "@jupyter-widgets/base",
            "_model_module_version": "1.2.0",
            "_model_name": "LayoutModel",
            "_view_count": null,
            "_view_module": "@jupyter-widgets/base",
            "_view_module_version": "1.2.0",
            "_view_name": "LayoutView",
            "align_content": null,
            "align_items": null,
            "align_self": null,
            "border": null,
            "bottom": null,
            "display": null,
            "flex": null,
            "flex_flow": null,
            "grid_area": null,
            "grid_auto_columns": null,
            "grid_auto_flow": null,
            "grid_auto_rows": null,
            "grid_column": null,
            "grid_gap": null,
            "grid_row": null,
            "grid_template_areas": null,
            "grid_template_columns": null,
            "grid_template_rows": null,
            "height": null,
            "justify_content": null,
            "justify_items": null,
            "left": null,
            "margin": null,
            "max_height": null,
            "max_width": null,
            "min_height": null,
            "min_width": null,
            "object_fit": null,
            "object_position": null,
            "order": null,
            "overflow": null,
            "overflow_x": null,
            "overflow_y": null,
            "padding": null,
            "right": null,
            "top": null,
            "visibility": null,
            "width": null
          }
        },
        "54152d87c8c247eab6aaf74227251093": {
          "model_module": "@jupyter-widgets/base",
          "model_name": "LayoutModel",
          "model_module_version": "1.2.0",
          "state": {
            "_model_module": "@jupyter-widgets/base",
            "_model_module_version": "1.2.0",
            "_model_name": "LayoutModel",
            "_view_count": null,
            "_view_module": "@jupyter-widgets/base",
            "_view_module_version": "1.2.0",
            "_view_name": "LayoutView",
            "align_content": null,
            "align_items": null,
            "align_self": null,
            "border": null,
            "bottom": null,
            "display": null,
            "flex": null,
            "flex_flow": null,
            "grid_area": null,
            "grid_auto_columns": null,
            "grid_auto_flow": null,
            "grid_auto_rows": null,
            "grid_column": null,
            "grid_gap": null,
            "grid_row": null,
            "grid_template_areas": null,
            "grid_template_columns": null,
            "grid_template_rows": null,
            "height": null,
            "justify_content": null,
            "justify_items": null,
            "left": null,
            "margin": null,
            "max_height": null,
            "max_width": null,
            "min_height": null,
            "min_width": null,
            "object_fit": null,
            "object_position": null,
            "order": null,
            "overflow": null,
            "overflow_x": null,
            "overflow_y": null,
            "padding": null,
            "right": null,
            "top": null,
            "visibility": null,
            "width": null
          }
        },
        "1d9b3a91d26447c1b7589d5aa753a5d5": {
          "model_module": "@jupyter-widgets/controls",
          "model_name": "DescriptionStyleModel",
          "model_module_version": "1.5.0",
          "state": {
            "_model_module": "@jupyter-widgets/controls",
            "_model_module_version": "1.5.0",
            "_model_name": "DescriptionStyleModel",
            "_view_count": null,
            "_view_module": "@jupyter-widgets/base",
            "_view_module_version": "1.2.0",
            "_view_name": "StyleView",
            "description_width": ""
          }
        },
        "f566bd5fa01d49e6a49d4eb20da72fe1": {
          "model_module": "@jupyter-widgets/base",
          "model_name": "LayoutModel",
          "model_module_version": "1.2.0",
          "state": {
            "_model_module": "@jupyter-widgets/base",
            "_model_module_version": "1.2.0",
            "_model_name": "LayoutModel",
            "_view_count": null,
            "_view_module": "@jupyter-widgets/base",
            "_view_module_version": "1.2.0",
            "_view_name": "LayoutView",
            "align_content": null,
            "align_items": null,
            "align_self": null,
            "border": null,
            "bottom": null,
            "display": null,
            "flex": null,
            "flex_flow": null,
            "grid_area": null,
            "grid_auto_columns": null,
            "grid_auto_flow": null,
            "grid_auto_rows": null,
            "grid_column": null,
            "grid_gap": null,
            "grid_row": null,
            "grid_template_areas": null,
            "grid_template_columns": null,
            "grid_template_rows": null,
            "height": null,
            "justify_content": null,
            "justify_items": null,
            "left": null,
            "margin": null,
            "max_height": null,
            "max_width": null,
            "min_height": null,
            "min_width": null,
            "object_fit": null,
            "object_position": null,
            "order": null,
            "overflow": null,
            "overflow_x": null,
            "overflow_y": null,
            "padding": null,
            "right": null,
            "top": null,
            "visibility": null,
            "width": null
          }
        },
        "8a4a02c1f3484f218c98df45dd9de947": {
          "model_module": "@jupyter-widgets/controls",
          "model_name": "ProgressStyleModel",
          "model_module_version": "1.5.0",
          "state": {
            "_model_module": "@jupyter-widgets/controls",
            "_model_module_version": "1.5.0",
            "_model_name": "ProgressStyleModel",
            "_view_count": null,
            "_view_module": "@jupyter-widgets/base",
            "_view_module_version": "1.2.0",
            "_view_name": "StyleView",
            "bar_color": null,
            "description_width": ""
          }
        },
        "1c38791317c4484cb2cbf41906b8dbc4": {
          "model_module": "@jupyter-widgets/base",
          "model_name": "LayoutModel",
          "model_module_version": "1.2.0",
          "state": {
            "_model_module": "@jupyter-widgets/base",
            "_model_module_version": "1.2.0",
            "_model_name": "LayoutModel",
            "_view_count": null,
            "_view_module": "@jupyter-widgets/base",
            "_view_module_version": "1.2.0",
            "_view_name": "LayoutView",
            "align_content": null,
            "align_items": null,
            "align_self": null,
            "border": null,
            "bottom": null,
            "display": null,
            "flex": null,
            "flex_flow": null,
            "grid_area": null,
            "grid_auto_columns": null,
            "grid_auto_flow": null,
            "grid_auto_rows": null,
            "grid_column": null,
            "grid_gap": null,
            "grid_row": null,
            "grid_template_areas": null,
            "grid_template_columns": null,
            "grid_template_rows": null,
            "height": null,
            "justify_content": null,
            "justify_items": null,
            "left": null,
            "margin": null,
            "max_height": null,
            "max_width": null,
            "min_height": null,
            "min_width": null,
            "object_fit": null,
            "object_position": null,
            "order": null,
            "overflow": null,
            "overflow_x": null,
            "overflow_y": null,
            "padding": null,
            "right": null,
            "top": null,
            "visibility": null,
            "width": null
          }
        },
        "006f8789a1f04268827b2c7dddfb2d66": {
          "model_module": "@jupyter-widgets/controls",
          "model_name": "DescriptionStyleModel",
          "model_module_version": "1.5.0",
          "state": {
            "_model_module": "@jupyter-widgets/controls",
            "_model_module_version": "1.5.0",
            "_model_name": "DescriptionStyleModel",
            "_view_count": null,
            "_view_module": "@jupyter-widgets/base",
            "_view_module_version": "1.2.0",
            "_view_name": "StyleView",
            "description_width": ""
          }
        },
        "1e6111e7b8604ff0bc0d4a79d478eef4": {
          "model_module": "@jupyter-widgets/controls",
          "model_name": "HBoxModel",
          "model_module_version": "1.5.0",
          "state": {
            "_dom_classes": [],
            "_model_module": "@jupyter-widgets/controls",
            "_model_module_version": "1.5.0",
            "_model_name": "HBoxModel",
            "_view_count": null,
            "_view_module": "@jupyter-widgets/controls",
            "_view_module_version": "1.5.0",
            "_view_name": "HBoxView",
            "box_style": "",
            "children": [
              "IPY_MODEL_be990da04f464e508798b781a3874812",
              "IPY_MODEL_34c56024a8544afba1e784e23839e128",
              "IPY_MODEL_f21bd1e834484785b23b8174fd764490"
            ],
            "layout": "IPY_MODEL_aea8f43eb510466bbcbd76818df4b86a"
          }
        },
        "be990da04f464e508798b781a3874812": {
          "model_module": "@jupyter-widgets/controls",
          "model_name": "HTMLModel",
          "model_module_version": "1.5.0",
          "state": {
            "_dom_classes": [],
            "_model_module": "@jupyter-widgets/controls",
            "_model_module_version": "1.5.0",
            "_model_name": "HTMLModel",
            "_view_count": null,
            "_view_module": "@jupyter-widgets/controls",
            "_view_module_version": "1.5.0",
            "_view_name": "HTMLView",
            "description": "",
            "description_tooltip": null,
            "layout": "IPY_MODEL_f09ab361a6cb4f419b4ccdaf59dcee6d",
            "placeholder": "​",
            "style": "IPY_MODEL_d992e5fbff3c493f81825fb75cc7e1e3",
            "value": "Map: 100%"
          }
        },
        "34c56024a8544afba1e784e23839e128": {
          "model_module": "@jupyter-widgets/controls",
          "model_name": "FloatProgressModel",
          "model_module_version": "1.5.0",
          "state": {
            "_dom_classes": [],
            "_model_module": "@jupyter-widgets/controls",
            "_model_module_version": "1.5.0",
            "_model_name": "FloatProgressModel",
            "_view_count": null,
            "_view_module": "@jupyter-widgets/controls",
            "_view_module_version": "1.5.0",
            "_view_name": "ProgressView",
            "bar_style": "success",
            "description": "",
            "description_tooltip": null,
            "layout": "IPY_MODEL_1cb59a7444ef4a9da2b9ff4adccbee39",
            "max": 2000,
            "min": 0,
            "orientation": "horizontal",
            "style": "IPY_MODEL_78c9d894b8fa4d36b2af6965ef58e48b",
            "value": 2000
          }
        },
        "f21bd1e834484785b23b8174fd764490": {
          "model_module": "@jupyter-widgets/controls",
          "model_name": "HTMLModel",
          "model_module_version": "1.5.0",
          "state": {
            "_dom_classes": [],
            "_model_module": "@jupyter-widgets/controls",
            "_model_module_version": "1.5.0",
            "_model_name": "HTMLModel",
            "_view_count": null,
            "_view_module": "@jupyter-widgets/controls",
            "_view_module_version": "1.5.0",
            "_view_name": "HTMLView",
            "description": "",
            "description_tooltip": null,
            "layout": "IPY_MODEL_54e25bd120f949b9bdd3b985b64a495b",
            "placeholder": "​",
            "style": "IPY_MODEL_99270674df8e4786a0f3749f3d9e413d",
            "value": " 2000/2000 [00:00&lt;00:00, 16507.26 examples/s]"
          }
        },
        "aea8f43eb510466bbcbd76818df4b86a": {
          "model_module": "@jupyter-widgets/base",
          "model_name": "LayoutModel",
          "model_module_version": "1.2.0",
          "state": {
            "_model_module": "@jupyter-widgets/base",
            "_model_module_version": "1.2.0",
            "_model_name": "LayoutModel",
            "_view_count": null,
            "_view_module": "@jupyter-widgets/base",
            "_view_module_version": "1.2.0",
            "_view_name": "LayoutView",
            "align_content": null,
            "align_items": null,
            "align_self": null,
            "border": null,
            "bottom": null,
            "display": null,
            "flex": null,
            "flex_flow": null,
            "grid_area": null,
            "grid_auto_columns": null,
            "grid_auto_flow": null,
            "grid_auto_rows": null,
            "grid_column": null,
            "grid_gap": null,
            "grid_row": null,
            "grid_template_areas": null,
            "grid_template_columns": null,
            "grid_template_rows": null,
            "height": null,
            "justify_content": null,
            "justify_items": null,
            "left": null,
            "margin": null,
            "max_height": null,
            "max_width": null,
            "min_height": null,
            "min_width": null,
            "object_fit": null,
            "object_position": null,
            "order": null,
            "overflow": null,
            "overflow_x": null,
            "overflow_y": null,
            "padding": null,
            "right": null,
            "top": null,
            "visibility": null,
            "width": null
          }
        },
        "f09ab361a6cb4f419b4ccdaf59dcee6d": {
          "model_module": "@jupyter-widgets/base",
          "model_name": "LayoutModel",
          "model_module_version": "1.2.0",
          "state": {
            "_model_module": "@jupyter-widgets/base",
            "_model_module_version": "1.2.0",
            "_model_name": "LayoutModel",
            "_view_count": null,
            "_view_module": "@jupyter-widgets/base",
            "_view_module_version": "1.2.0",
            "_view_name": "LayoutView",
            "align_content": null,
            "align_items": null,
            "align_self": null,
            "border": null,
            "bottom": null,
            "display": null,
            "flex": null,
            "flex_flow": null,
            "grid_area": null,
            "grid_auto_columns": null,
            "grid_auto_flow": null,
            "grid_auto_rows": null,
            "grid_column": null,
            "grid_gap": null,
            "grid_row": null,
            "grid_template_areas": null,
            "grid_template_columns": null,
            "grid_template_rows": null,
            "height": null,
            "justify_content": null,
            "justify_items": null,
            "left": null,
            "margin": null,
            "max_height": null,
            "max_width": null,
            "min_height": null,
            "min_width": null,
            "object_fit": null,
            "object_position": null,
            "order": null,
            "overflow": null,
            "overflow_x": null,
            "overflow_y": null,
            "padding": null,
            "right": null,
            "top": null,
            "visibility": null,
            "width": null
          }
        },
        "d992e5fbff3c493f81825fb75cc7e1e3": {
          "model_module": "@jupyter-widgets/controls",
          "model_name": "DescriptionStyleModel",
          "model_module_version": "1.5.0",
          "state": {
            "_model_module": "@jupyter-widgets/controls",
            "_model_module_version": "1.5.0",
            "_model_name": "DescriptionStyleModel",
            "_view_count": null,
            "_view_module": "@jupyter-widgets/base",
            "_view_module_version": "1.2.0",
            "_view_name": "StyleView",
            "description_width": ""
          }
        },
        "1cb59a7444ef4a9da2b9ff4adccbee39": {
          "model_module": "@jupyter-widgets/base",
          "model_name": "LayoutModel",
          "model_module_version": "1.2.0",
          "state": {
            "_model_module": "@jupyter-widgets/base",
            "_model_module_version": "1.2.0",
            "_model_name": "LayoutModel",
            "_view_count": null,
            "_view_module": "@jupyter-widgets/base",
            "_view_module_version": "1.2.0",
            "_view_name": "LayoutView",
            "align_content": null,
            "align_items": null,
            "align_self": null,
            "border": null,
            "bottom": null,
            "display": null,
            "flex": null,
            "flex_flow": null,
            "grid_area": null,
            "grid_auto_columns": null,
            "grid_auto_flow": null,
            "grid_auto_rows": null,
            "grid_column": null,
            "grid_gap": null,
            "grid_row": null,
            "grid_template_areas": null,
            "grid_template_columns": null,
            "grid_template_rows": null,
            "height": null,
            "justify_content": null,
            "justify_items": null,
            "left": null,
            "margin": null,
            "max_height": null,
            "max_width": null,
            "min_height": null,
            "min_width": null,
            "object_fit": null,
            "object_position": null,
            "order": null,
            "overflow": null,
            "overflow_x": null,
            "overflow_y": null,
            "padding": null,
            "right": null,
            "top": null,
            "visibility": null,
            "width": null
          }
        },
        "78c9d894b8fa4d36b2af6965ef58e48b": {
          "model_module": "@jupyter-widgets/controls",
          "model_name": "ProgressStyleModel",
          "model_module_version": "1.5.0",
          "state": {
            "_model_module": "@jupyter-widgets/controls",
            "_model_module_version": "1.5.0",
            "_model_name": "ProgressStyleModel",
            "_view_count": null,
            "_view_module": "@jupyter-widgets/base",
            "_view_module_version": "1.2.0",
            "_view_name": "StyleView",
            "bar_color": null,
            "description_width": ""
          }
        },
        "54e25bd120f949b9bdd3b985b64a495b": {
          "model_module": "@jupyter-widgets/base",
          "model_name": "LayoutModel",
          "model_module_version": "1.2.0",
          "state": {
            "_model_module": "@jupyter-widgets/base",
            "_model_module_version": "1.2.0",
            "_model_name": "LayoutModel",
            "_view_count": null,
            "_view_module": "@jupyter-widgets/base",
            "_view_module_version": "1.2.0",
            "_view_name": "LayoutView",
            "align_content": null,
            "align_items": null,
            "align_self": null,
            "border": null,
            "bottom": null,
            "display": null,
            "flex": null,
            "flex_flow": null,
            "grid_area": null,
            "grid_auto_columns": null,
            "grid_auto_flow": null,
            "grid_auto_rows": null,
            "grid_column": null,
            "grid_gap": null,
            "grid_row": null,
            "grid_template_areas": null,
            "grid_template_columns": null,
            "grid_template_rows": null,
            "height": null,
            "justify_content": null,
            "justify_items": null,
            "left": null,
            "margin": null,
            "max_height": null,
            "max_width": null,
            "min_height": null,
            "min_width": null,
            "object_fit": null,
            "object_position": null,
            "order": null,
            "overflow": null,
            "overflow_x": null,
            "overflow_y": null,
            "padding": null,
            "right": null,
            "top": null,
            "visibility": null,
            "width": null
          }
        },
        "99270674df8e4786a0f3749f3d9e413d": {
          "model_module": "@jupyter-widgets/controls",
          "model_name": "DescriptionStyleModel",
          "model_module_version": "1.5.0",
          "state": {
            "_model_module": "@jupyter-widgets/controls",
            "_model_module_version": "1.5.0",
            "_model_name": "DescriptionStyleModel",
            "_view_count": null,
            "_view_module": "@jupyter-widgets/base",
            "_view_module_version": "1.2.0",
            "_view_name": "StyleView",
            "description_width": ""
          }
        },
        "55fb14a3903f46e88564821e8ed53b80": {
          "model_module": "@jupyter-widgets/controls",
          "model_name": "HBoxModel",
          "model_module_version": "1.5.0",
          "state": {
            "_dom_classes": [],
            "_model_module": "@jupyter-widgets/controls",
            "_model_module_version": "1.5.0",
            "_model_name": "HBoxModel",
            "_view_count": null,
            "_view_module": "@jupyter-widgets/controls",
            "_view_module_version": "1.5.0",
            "_view_name": "HBoxView",
            "box_style": "",
            "children": [
              "IPY_MODEL_ee35226d7f884b10a4632eba593e4228",
              "IPY_MODEL_dcd6adf736274413b1aaf0de36f96840",
              "IPY_MODEL_a21b490b37a646739d9bd379b9de868b"
            ],
            "layout": "IPY_MODEL_dac28aaa4fb24a33b8eb7e66e0b747ef"
          }
        },
        "ee35226d7f884b10a4632eba593e4228": {
          "model_module": "@jupyter-widgets/controls",
          "model_name": "HTMLModel",
          "model_module_version": "1.5.0",
          "state": {
            "_dom_classes": [],
            "_model_module": "@jupyter-widgets/controls",
            "_model_module_version": "1.5.0",
            "_model_name": "HTMLModel",
            "_view_count": null,
            "_view_module": "@jupyter-widgets/controls",
            "_view_module_version": "1.5.0",
            "_view_name": "HTMLView",
            "description": "",
            "description_tooltip": null,
            "layout": "IPY_MODEL_8d3ef4b34e454d9f9bb2741b880ff2d1",
            "placeholder": "​",
            "style": "IPY_MODEL_8012c92df9834d92afc41cf8a118624d",
            "value": "Map: 100%"
          }
        },
        "dcd6adf736274413b1aaf0de36f96840": {
          "model_module": "@jupyter-widgets/controls",
          "model_name": "FloatProgressModel",
          "model_module_version": "1.5.0",
          "state": {
            "_dom_classes": [],
            "_model_module": "@jupyter-widgets/controls",
            "_model_module_version": "1.5.0",
            "_model_name": "FloatProgressModel",
            "_view_count": null,
            "_view_module": "@jupyter-widgets/controls",
            "_view_module_version": "1.5.0",
            "_view_name": "ProgressView",
            "bar_style": "success",
            "description": "",
            "description_tooltip": null,
            "layout": "IPY_MODEL_2d970e2792e04b1cb4de75d4e458fffc",
            "max": 500,
            "min": 0,
            "orientation": "horizontal",
            "style": "IPY_MODEL_8d1367ce9e7b43f0b12a04f45291d3f3",
            "value": 500
          }
        },
        "a21b490b37a646739d9bd379b9de868b": {
          "model_module": "@jupyter-widgets/controls",
          "model_name": "HTMLModel",
          "model_module_version": "1.5.0",
          "state": {
            "_dom_classes": [],
            "_model_module": "@jupyter-widgets/controls",
            "_model_module_version": "1.5.0",
            "_model_name": "HTMLModel",
            "_view_count": null,
            "_view_module": "@jupyter-widgets/controls",
            "_view_module_version": "1.5.0",
            "_view_name": "HTMLView",
            "description": "",
            "description_tooltip": null,
            "layout": "IPY_MODEL_e65c729059024b128cbacca9ed05ccef",
            "placeholder": "​",
            "style": "IPY_MODEL_00142ac7006f4ec6a5451148d70e9be8",
            "value": " 500/500 [00:00&lt;00:00, 12842.17 examples/s]"
          }
        },
        "dac28aaa4fb24a33b8eb7e66e0b747ef": {
          "model_module": "@jupyter-widgets/base",
          "model_name": "LayoutModel",
          "model_module_version": "1.2.0",
          "state": {
            "_model_module": "@jupyter-widgets/base",
            "_model_module_version": "1.2.0",
            "_model_name": "LayoutModel",
            "_view_count": null,
            "_view_module": "@jupyter-widgets/base",
            "_view_module_version": "1.2.0",
            "_view_name": "LayoutView",
            "align_content": null,
            "align_items": null,
            "align_self": null,
            "border": null,
            "bottom": null,
            "display": null,
            "flex": null,
            "flex_flow": null,
            "grid_area": null,
            "grid_auto_columns": null,
            "grid_auto_flow": null,
            "grid_auto_rows": null,
            "grid_column": null,
            "grid_gap": null,
            "grid_row": null,
            "grid_template_areas": null,
            "grid_template_columns": null,
            "grid_template_rows": null,
            "height": null,
            "justify_content": null,
            "justify_items": null,
            "left": null,
            "margin": null,
            "max_height": null,
            "max_width": null,
            "min_height": null,
            "min_width": null,
            "object_fit": null,
            "object_position": null,
            "order": null,
            "overflow": null,
            "overflow_x": null,
            "overflow_y": null,
            "padding": null,
            "right": null,
            "top": null,
            "visibility": null,
            "width": null
          }
        },
        "8d3ef4b34e454d9f9bb2741b880ff2d1": {
          "model_module": "@jupyter-widgets/base",
          "model_name": "LayoutModel",
          "model_module_version": "1.2.0",
          "state": {
            "_model_module": "@jupyter-widgets/base",
            "_model_module_version": "1.2.0",
            "_model_name": "LayoutModel",
            "_view_count": null,
            "_view_module": "@jupyter-widgets/base",
            "_view_module_version": "1.2.0",
            "_view_name": "LayoutView",
            "align_content": null,
            "align_items": null,
            "align_self": null,
            "border": null,
            "bottom": null,
            "display": null,
            "flex": null,
            "flex_flow": null,
            "grid_area": null,
            "grid_auto_columns": null,
            "grid_auto_flow": null,
            "grid_auto_rows": null,
            "grid_column": null,
            "grid_gap": null,
            "grid_row": null,
            "grid_template_areas": null,
            "grid_template_columns": null,
            "grid_template_rows": null,
            "height": null,
            "justify_content": null,
            "justify_items": null,
            "left": null,
            "margin": null,
            "max_height": null,
            "max_width": null,
            "min_height": null,
            "min_width": null,
            "object_fit": null,
            "object_position": null,
            "order": null,
            "overflow": null,
            "overflow_x": null,
            "overflow_y": null,
            "padding": null,
            "right": null,
            "top": null,
            "visibility": null,
            "width": null
          }
        },
        "8012c92df9834d92afc41cf8a118624d": {
          "model_module": "@jupyter-widgets/controls",
          "model_name": "DescriptionStyleModel",
          "model_module_version": "1.5.0",
          "state": {
            "_model_module": "@jupyter-widgets/controls",
            "_model_module_version": "1.5.0",
            "_model_name": "DescriptionStyleModel",
            "_view_count": null,
            "_view_module": "@jupyter-widgets/base",
            "_view_module_version": "1.2.0",
            "_view_name": "StyleView",
            "description_width": ""
          }
        },
        "2d970e2792e04b1cb4de75d4e458fffc": {
          "model_module": "@jupyter-widgets/base",
          "model_name": "LayoutModel",
          "model_module_version": "1.2.0",
          "state": {
            "_model_module": "@jupyter-widgets/base",
            "_model_module_version": "1.2.0",
            "_model_name": "LayoutModel",
            "_view_count": null,
            "_view_module": "@jupyter-widgets/base",
            "_view_module_version": "1.2.0",
            "_view_name": "LayoutView",
            "align_content": null,
            "align_items": null,
            "align_self": null,
            "border": null,
            "bottom": null,
            "display": null,
            "flex": null,
            "flex_flow": null,
            "grid_area": null,
            "grid_auto_columns": null,
            "grid_auto_flow": null,
            "grid_auto_rows": null,
            "grid_column": null,
            "grid_gap": null,
            "grid_row": null,
            "grid_template_areas": null,
            "grid_template_columns": null,
            "grid_template_rows": null,
            "height": null,
            "justify_content": null,
            "justify_items": null,
            "left": null,
            "margin": null,
            "max_height": null,
            "max_width": null,
            "min_height": null,
            "min_width": null,
            "object_fit": null,
            "object_position": null,
            "order": null,
            "overflow": null,
            "overflow_x": null,
            "overflow_y": null,
            "padding": null,
            "right": null,
            "top": null,
            "visibility": null,
            "width": null
          }
        },
        "8d1367ce9e7b43f0b12a04f45291d3f3": {
          "model_module": "@jupyter-widgets/controls",
          "model_name": "ProgressStyleModel",
          "model_module_version": "1.5.0",
          "state": {
            "_model_module": "@jupyter-widgets/controls",
            "_model_module_version": "1.5.0",
            "_model_name": "ProgressStyleModel",
            "_view_count": null,
            "_view_module": "@jupyter-widgets/base",
            "_view_module_version": "1.2.0",
            "_view_name": "StyleView",
            "bar_color": null,
            "description_width": ""
          }
        },
        "e65c729059024b128cbacca9ed05ccef": {
          "model_module": "@jupyter-widgets/base",
          "model_name": "LayoutModel",
          "model_module_version": "1.2.0",
          "state": {
            "_model_module": "@jupyter-widgets/base",
            "_model_module_version": "1.2.0",
            "_model_name": "LayoutModel",
            "_view_count": null,
            "_view_module": "@jupyter-widgets/base",
            "_view_module_version": "1.2.0",
            "_view_name": "LayoutView",
            "align_content": null,
            "align_items": null,
            "align_self": null,
            "border": null,
            "bottom": null,
            "display": null,
            "flex": null,
            "flex_flow": null,
            "grid_area": null,
            "grid_auto_columns": null,
            "grid_auto_flow": null,
            "grid_auto_rows": null,
            "grid_column": null,
            "grid_gap": null,
            "grid_row": null,
            "grid_template_areas": null,
            "grid_template_columns": null,
            "grid_template_rows": null,
            "height": null,
            "justify_content": null,
            "justify_items": null,
            "left": null,
            "margin": null,
            "max_height": null,
            "max_width": null,
            "min_height": null,
            "min_width": null,
            "object_fit": null,
            "object_position": null,
            "order": null,
            "overflow": null,
            "overflow_x": null,
            "overflow_y": null,
            "padding": null,
            "right": null,
            "top": null,
            "visibility": null,
            "width": null
          }
        },
        "00142ac7006f4ec6a5451148d70e9be8": {
          "model_module": "@jupyter-widgets/controls",
          "model_name": "DescriptionStyleModel",
          "model_module_version": "1.5.0",
          "state": {
            "_model_module": "@jupyter-widgets/controls",
            "_model_module_version": "1.5.0",
            "_model_name": "DescriptionStyleModel",
            "_view_count": null,
            "_view_module": "@jupyter-widgets/base",
            "_view_module_version": "1.2.0",
            "_view_name": "StyleView",
            "description_width": ""
          }
        },
        "a9d0cc16b42c42d2a14a3b89a9085e68": {
          "model_module": "@jupyter-widgets/controls",
          "model_name": "HBoxModel",
          "model_module_version": "1.5.0",
          "state": {
            "_dom_classes": [],
            "_model_module": "@jupyter-widgets/controls",
            "_model_module_version": "1.5.0",
            "_model_name": "HBoxModel",
            "_view_count": null,
            "_view_module": "@jupyter-widgets/controls",
            "_view_module_version": "1.5.0",
            "_view_name": "HBoxView",
            "box_style": "",
            "children": [
              "IPY_MODEL_0e91a950e80d4bfdbc171392522649ae",
              "IPY_MODEL_673ee1e480b74ed8a19811f490dcba1d",
              "IPY_MODEL_b41747443020456db2e7ee4113186dbc"
            ],
            "layout": "IPY_MODEL_4fc088f3f8ee4936ba336f0a1267014e"
          }
        },
        "0e91a950e80d4bfdbc171392522649ae": {
          "model_module": "@jupyter-widgets/controls",
          "model_name": "HTMLModel",
          "model_module_version": "1.5.0",
          "state": {
            "_dom_classes": [],
            "_model_module": "@jupyter-widgets/controls",
            "_model_module_version": "1.5.0",
            "_model_name": "HTMLModel",
            "_view_count": null,
            "_view_module": "@jupyter-widgets/controls",
            "_view_module_version": "1.5.0",
            "_view_name": "HTMLView",
            "description": "",
            "description_tooltip": null,
            "layout": "IPY_MODEL_181945316c4a4c46be267a5f311f555f",
            "placeholder": "​",
            "style": "IPY_MODEL_e7a3fcecbc334094a79bbbe5a8552bb6",
            "value": "Map: 100%"
          }
        },
        "673ee1e480b74ed8a19811f490dcba1d": {
          "model_module": "@jupyter-widgets/controls",
          "model_name": "FloatProgressModel",
          "model_module_version": "1.5.0",
          "state": {
            "_dom_classes": [],
            "_model_module": "@jupyter-widgets/controls",
            "_model_module_version": "1.5.0",
            "_model_name": "FloatProgressModel",
            "_view_count": null,
            "_view_module": "@jupyter-widgets/controls",
            "_view_module_version": "1.5.0",
            "_view_name": "ProgressView",
            "bar_style": "success",
            "description": "",
            "description_tooltip": null,
            "layout": "IPY_MODEL_835c8d3ecc054e49ad802c01642e89a1",
            "max": 31466,
            "min": 0,
            "orientation": "horizontal",
            "style": "IPY_MODEL_cb0e1dc03edc4c70bc8160e443bbeaa0",
            "value": 31466
          }
        },
        "b41747443020456db2e7ee4113186dbc": {
          "model_module": "@jupyter-widgets/controls",
          "model_name": "HTMLModel",
          "model_module_version": "1.5.0",
          "state": {
            "_dom_classes": [],
            "_model_module": "@jupyter-widgets/controls",
            "_model_module_version": "1.5.0",
            "_model_name": "HTMLModel",
            "_view_count": null,
            "_view_module": "@jupyter-widgets/controls",
            "_view_module_version": "1.5.0",
            "_view_name": "HTMLView",
            "description": "",
            "description_tooltip": null,
            "layout": "IPY_MODEL_00c5b91fcfa3449e8b5d78eb88ccb8bc",
            "placeholder": "​",
            "style": "IPY_MODEL_7690af1a5e3141e89a78d1aed204df62",
            "value": " 31466/31466 [00:02&lt;00:00, 14771.43 examples/s]"
          }
        },
        "4fc088f3f8ee4936ba336f0a1267014e": {
          "model_module": "@jupyter-widgets/base",
          "model_name": "LayoutModel",
          "model_module_version": "1.2.0",
          "state": {
            "_model_module": "@jupyter-widgets/base",
            "_model_module_version": "1.2.0",
            "_model_name": "LayoutModel",
            "_view_count": null,
            "_view_module": "@jupyter-widgets/base",
            "_view_module_version": "1.2.0",
            "_view_name": "LayoutView",
            "align_content": null,
            "align_items": null,
            "align_self": null,
            "border": null,
            "bottom": null,
            "display": null,
            "flex": null,
            "flex_flow": null,
            "grid_area": null,
            "grid_auto_columns": null,
            "grid_auto_flow": null,
            "grid_auto_rows": null,
            "grid_column": null,
            "grid_gap": null,
            "grid_row": null,
            "grid_template_areas": null,
            "grid_template_columns": null,
            "grid_template_rows": null,
            "height": null,
            "justify_content": null,
            "justify_items": null,
            "left": null,
            "margin": null,
            "max_height": null,
            "max_width": null,
            "min_height": null,
            "min_width": null,
            "object_fit": null,
            "object_position": null,
            "order": null,
            "overflow": null,
            "overflow_x": null,
            "overflow_y": null,
            "padding": null,
            "right": null,
            "top": null,
            "visibility": null,
            "width": null
          }
        },
        "181945316c4a4c46be267a5f311f555f": {
          "model_module": "@jupyter-widgets/base",
          "model_name": "LayoutModel",
          "model_module_version": "1.2.0",
          "state": {
            "_model_module": "@jupyter-widgets/base",
            "_model_module_version": "1.2.0",
            "_model_name": "LayoutModel",
            "_view_count": null,
            "_view_module": "@jupyter-widgets/base",
            "_view_module_version": "1.2.0",
            "_view_name": "LayoutView",
            "align_content": null,
            "align_items": null,
            "align_self": null,
            "border": null,
            "bottom": null,
            "display": null,
            "flex": null,
            "flex_flow": null,
            "grid_area": null,
            "grid_auto_columns": null,
            "grid_auto_flow": null,
            "grid_auto_rows": null,
            "grid_column": null,
            "grid_gap": null,
            "grid_row": null,
            "grid_template_areas": null,
            "grid_template_columns": null,
            "grid_template_rows": null,
            "height": null,
            "justify_content": null,
            "justify_items": null,
            "left": null,
            "margin": null,
            "max_height": null,
            "max_width": null,
            "min_height": null,
            "min_width": null,
            "object_fit": null,
            "object_position": null,
            "order": null,
            "overflow": null,
            "overflow_x": null,
            "overflow_y": null,
            "padding": null,
            "right": null,
            "top": null,
            "visibility": null,
            "width": null
          }
        },
        "e7a3fcecbc334094a79bbbe5a8552bb6": {
          "model_module": "@jupyter-widgets/controls",
          "model_name": "DescriptionStyleModel",
          "model_module_version": "1.5.0",
          "state": {
            "_model_module": "@jupyter-widgets/controls",
            "_model_module_version": "1.5.0",
            "_model_name": "DescriptionStyleModel",
            "_view_count": null,
            "_view_module": "@jupyter-widgets/base",
            "_view_module_version": "1.2.0",
            "_view_name": "StyleView",
            "description_width": ""
          }
        },
        "835c8d3ecc054e49ad802c01642e89a1": {
          "model_module": "@jupyter-widgets/base",
          "model_name": "LayoutModel",
          "model_module_version": "1.2.0",
          "state": {
            "_model_module": "@jupyter-widgets/base",
            "_model_module_version": "1.2.0",
            "_model_name": "LayoutModel",
            "_view_count": null,
            "_view_module": "@jupyter-widgets/base",
            "_view_module_version": "1.2.0",
            "_view_name": "LayoutView",
            "align_content": null,
            "align_items": null,
            "align_self": null,
            "border": null,
            "bottom": null,
            "display": null,
            "flex": null,
            "flex_flow": null,
            "grid_area": null,
            "grid_auto_columns": null,
            "grid_auto_flow": null,
            "grid_auto_rows": null,
            "grid_column": null,
            "grid_gap": null,
            "grid_row": null,
            "grid_template_areas": null,
            "grid_template_columns": null,
            "grid_template_rows": null,
            "height": null,
            "justify_content": null,
            "justify_items": null,
            "left": null,
            "margin": null,
            "max_height": null,
            "max_width": null,
            "min_height": null,
            "min_width": null,
            "object_fit": null,
            "object_position": null,
            "order": null,
            "overflow": null,
            "overflow_x": null,
            "overflow_y": null,
            "padding": null,
            "right": null,
            "top": null,
            "visibility": null,
            "width": null
          }
        },
        "cb0e1dc03edc4c70bc8160e443bbeaa0": {
          "model_module": "@jupyter-widgets/controls",
          "model_name": "ProgressStyleModel",
          "model_module_version": "1.5.0",
          "state": {
            "_model_module": "@jupyter-widgets/controls",
            "_model_module_version": "1.5.0",
            "_model_name": "ProgressStyleModel",
            "_view_count": null,
            "_view_module": "@jupyter-widgets/base",
            "_view_module_version": "1.2.0",
            "_view_name": "StyleView",
            "bar_color": null,
            "description_width": ""
          }
        },
        "00c5b91fcfa3449e8b5d78eb88ccb8bc": {
          "model_module": "@jupyter-widgets/base",
          "model_name": "LayoutModel",
          "model_module_version": "1.2.0",
          "state": {
            "_model_module": "@jupyter-widgets/base",
            "_model_module_version": "1.2.0",
            "_model_name": "LayoutModel",
            "_view_count": null,
            "_view_module": "@jupyter-widgets/base",
            "_view_module_version": "1.2.0",
            "_view_name": "LayoutView",
            "align_content": null,
            "align_items": null,
            "align_self": null,
            "border": null,
            "bottom": null,
            "display": null,
            "flex": null,
            "flex_flow": null,
            "grid_area": null,
            "grid_auto_columns": null,
            "grid_auto_flow": null,
            "grid_auto_rows": null,
            "grid_column": null,
            "grid_gap": null,
            "grid_row": null,
            "grid_template_areas": null,
            "grid_template_columns": null,
            "grid_template_rows": null,
            "height": null,
            "justify_content": null,
            "justify_items": null,
            "left": null,
            "margin": null,
            "max_height": null,
            "max_width": null,
            "min_height": null,
            "min_width": null,
            "object_fit": null,
            "object_position": null,
            "order": null,
            "overflow": null,
            "overflow_x": null,
            "overflow_y": null,
            "padding": null,
            "right": null,
            "top": null,
            "visibility": null,
            "width": null
          }
        },
        "7690af1a5e3141e89a78d1aed204df62": {
          "model_module": "@jupyter-widgets/controls",
          "model_name": "DescriptionStyleModel",
          "model_module_version": "1.5.0",
          "state": {
            "_model_module": "@jupyter-widgets/controls",
            "_model_module_version": "1.5.0",
            "_model_name": "DescriptionStyleModel",
            "_view_count": null,
            "_view_module": "@jupyter-widgets/base",
            "_view_module_version": "1.2.0",
            "_view_name": "StyleView",
            "description_width": ""
          }
        },
        "8c547877457242e3b9fd5927adc858bf": {
          "model_module": "@jupyter-widgets/controls",
          "model_name": "HBoxModel",
          "model_module_version": "1.5.0",
          "state": {
            "_dom_classes": [],
            "_model_module": "@jupyter-widgets/controls",
            "_model_module_version": "1.5.0",
            "_model_name": "HBoxModel",
            "_view_count": null,
            "_view_module": "@jupyter-widgets/controls",
            "_view_module_version": "1.5.0",
            "_view_name": "HBoxView",
            "box_style": "",
            "children": [
              "IPY_MODEL_ebf9126ec9f9478bb7f998144f549766",
              "IPY_MODEL_bbfc7592e90d400b8ed2f393141f8928",
              "IPY_MODEL_2a68dc685c004caca1219e1989f4b7cc"
            ],
            "layout": "IPY_MODEL_74f8b642dd274d4cbaab8801c7bdb8c6"
          }
        },
        "ebf9126ec9f9478bb7f998144f549766": {
          "model_module": "@jupyter-widgets/controls",
          "model_name": "HTMLModel",
          "model_module_version": "1.5.0",
          "state": {
            "_dom_classes": [],
            "_model_module": "@jupyter-widgets/controls",
            "_model_module_version": "1.5.0",
            "_model_name": "HTMLModel",
            "_view_count": null,
            "_view_module": "@jupyter-widgets/controls",
            "_view_module_version": "1.5.0",
            "_view_name": "HTMLView",
            "description": "",
            "description_tooltip": null,
            "layout": "IPY_MODEL_8b880a53c0e84de783ea450692c350a8",
            "placeholder": "​",
            "style": "IPY_MODEL_f724f2219d504ee5867c6c974d78f678",
            "value": "Map: 100%"
          }
        },
        "bbfc7592e90d400b8ed2f393141f8928": {
          "model_module": "@jupyter-widgets/controls",
          "model_name": "FloatProgressModel",
          "model_module_version": "1.5.0",
          "state": {
            "_dom_classes": [],
            "_model_module": "@jupyter-widgets/controls",
            "_model_module_version": "1.5.0",
            "_model_name": "FloatProgressModel",
            "_view_count": null,
            "_view_module": "@jupyter-widgets/controls",
            "_view_module_version": "1.5.0",
            "_view_name": "ProgressView",
            "bar_style": "success",
            "description": "",
            "description_tooltip": null,
            "layout": "IPY_MODEL_a24aecab7123400ca0f20705749b9471",
            "max": 6745,
            "min": 0,
            "orientation": "horizontal",
            "style": "IPY_MODEL_798f0c399ed04039a665131bb90e3d65",
            "value": 6745
          }
        },
        "2a68dc685c004caca1219e1989f4b7cc": {
          "model_module": "@jupyter-widgets/controls",
          "model_name": "HTMLModel",
          "model_module_version": "1.5.0",
          "state": {
            "_dom_classes": [],
            "_model_module": "@jupyter-widgets/controls",
            "_model_module_version": "1.5.0",
            "_model_name": "HTMLModel",
            "_view_count": null,
            "_view_module": "@jupyter-widgets/controls",
            "_view_module_version": "1.5.0",
            "_view_name": "HTMLView",
            "description": "",
            "description_tooltip": null,
            "layout": "IPY_MODEL_f87c20925ac64d8f86f1c8ef5c3c9acb",
            "placeholder": "​",
            "style": "IPY_MODEL_40652f602fe743b4bfad39f85a3284fb",
            "value": " 6745/6745 [00:00&lt;00:00, 10005.61 examples/s]"
          }
        },
        "74f8b642dd274d4cbaab8801c7bdb8c6": {
          "model_module": "@jupyter-widgets/base",
          "model_name": "LayoutModel",
          "model_module_version": "1.2.0",
          "state": {
            "_model_module": "@jupyter-widgets/base",
            "_model_module_version": "1.2.0",
            "_model_name": "LayoutModel",
            "_view_count": null,
            "_view_module": "@jupyter-widgets/base",
            "_view_module_version": "1.2.0",
            "_view_name": "LayoutView",
            "align_content": null,
            "align_items": null,
            "align_self": null,
            "border": null,
            "bottom": null,
            "display": null,
            "flex": null,
            "flex_flow": null,
            "grid_area": null,
            "grid_auto_columns": null,
            "grid_auto_flow": null,
            "grid_auto_rows": null,
            "grid_column": null,
            "grid_gap": null,
            "grid_row": null,
            "grid_template_areas": null,
            "grid_template_columns": null,
            "grid_template_rows": null,
            "height": null,
            "justify_content": null,
            "justify_items": null,
            "left": null,
            "margin": null,
            "max_height": null,
            "max_width": null,
            "min_height": null,
            "min_width": null,
            "object_fit": null,
            "object_position": null,
            "order": null,
            "overflow": null,
            "overflow_x": null,
            "overflow_y": null,
            "padding": null,
            "right": null,
            "top": null,
            "visibility": null,
            "width": null
          }
        },
        "8b880a53c0e84de783ea450692c350a8": {
          "model_module": "@jupyter-widgets/base",
          "model_name": "LayoutModel",
          "model_module_version": "1.2.0",
          "state": {
            "_model_module": "@jupyter-widgets/base",
            "_model_module_version": "1.2.0",
            "_model_name": "LayoutModel",
            "_view_count": null,
            "_view_module": "@jupyter-widgets/base",
            "_view_module_version": "1.2.0",
            "_view_name": "LayoutView",
            "align_content": null,
            "align_items": null,
            "align_self": null,
            "border": null,
            "bottom": null,
            "display": null,
            "flex": null,
            "flex_flow": null,
            "grid_area": null,
            "grid_auto_columns": null,
            "grid_auto_flow": null,
            "grid_auto_rows": null,
            "grid_column": null,
            "grid_gap": null,
            "grid_row": null,
            "grid_template_areas": null,
            "grid_template_columns": null,
            "grid_template_rows": null,
            "height": null,
            "justify_content": null,
            "justify_items": null,
            "left": null,
            "margin": null,
            "max_height": null,
            "max_width": null,
            "min_height": null,
            "min_width": null,
            "object_fit": null,
            "object_position": null,
            "order": null,
            "overflow": null,
            "overflow_x": null,
            "overflow_y": null,
            "padding": null,
            "right": null,
            "top": null,
            "visibility": null,
            "width": null
          }
        },
        "f724f2219d504ee5867c6c974d78f678": {
          "model_module": "@jupyter-widgets/controls",
          "model_name": "DescriptionStyleModel",
          "model_module_version": "1.5.0",
          "state": {
            "_model_module": "@jupyter-widgets/controls",
            "_model_module_version": "1.5.0",
            "_model_name": "DescriptionStyleModel",
            "_view_count": null,
            "_view_module": "@jupyter-widgets/base",
            "_view_module_version": "1.2.0",
            "_view_name": "StyleView",
            "description_width": ""
          }
        },
        "a24aecab7123400ca0f20705749b9471": {
          "model_module": "@jupyter-widgets/base",
          "model_name": "LayoutModel",
          "model_module_version": "1.2.0",
          "state": {
            "_model_module": "@jupyter-widgets/base",
            "_model_module_version": "1.2.0",
            "_model_name": "LayoutModel",
            "_view_count": null,
            "_view_module": "@jupyter-widgets/base",
            "_view_module_version": "1.2.0",
            "_view_name": "LayoutView",
            "align_content": null,
            "align_items": null,
            "align_self": null,
            "border": null,
            "bottom": null,
            "display": null,
            "flex": null,
            "flex_flow": null,
            "grid_area": null,
            "grid_auto_columns": null,
            "grid_auto_flow": null,
            "grid_auto_rows": null,
            "grid_column": null,
            "grid_gap": null,
            "grid_row": null,
            "grid_template_areas": null,
            "grid_template_columns": null,
            "grid_template_rows": null,
            "height": null,
            "justify_content": null,
            "justify_items": null,
            "left": null,
            "margin": null,
            "max_height": null,
            "max_width": null,
            "min_height": null,
            "min_width": null,
            "object_fit": null,
            "object_position": null,
            "order": null,
            "overflow": null,
            "overflow_x": null,
            "overflow_y": null,
            "padding": null,
            "right": null,
            "top": null,
            "visibility": null,
            "width": null
          }
        },
        "798f0c399ed04039a665131bb90e3d65": {
          "model_module": "@jupyter-widgets/controls",
          "model_name": "ProgressStyleModel",
          "model_module_version": "1.5.0",
          "state": {
            "_model_module": "@jupyter-widgets/controls",
            "_model_module_version": "1.5.0",
            "_model_name": "ProgressStyleModel",
            "_view_count": null,
            "_view_module": "@jupyter-widgets/base",
            "_view_module_version": "1.2.0",
            "_view_name": "StyleView",
            "bar_color": null,
            "description_width": ""
          }
        },
        "f87c20925ac64d8f86f1c8ef5c3c9acb": {
          "model_module": "@jupyter-widgets/base",
          "model_name": "LayoutModel",
          "model_module_version": "1.2.0",
          "state": {
            "_model_module": "@jupyter-widgets/base",
            "_model_module_version": "1.2.0",
            "_model_name": "LayoutModel",
            "_view_count": null,
            "_view_module": "@jupyter-widgets/base",
            "_view_module_version": "1.2.0",
            "_view_name": "LayoutView",
            "align_content": null,
            "align_items": null,
            "align_self": null,
            "border": null,
            "bottom": null,
            "display": null,
            "flex": null,
            "flex_flow": null,
            "grid_area": null,
            "grid_auto_columns": null,
            "grid_auto_flow": null,
            "grid_auto_rows": null,
            "grid_column": null,
            "grid_gap": null,
            "grid_row": null,
            "grid_template_areas": null,
            "grid_template_columns": null,
            "grid_template_rows": null,
            "height": null,
            "justify_content": null,
            "justify_items": null,
            "left": null,
            "margin": null,
            "max_height": null,
            "max_width": null,
            "min_height": null,
            "min_width": null,
            "object_fit": null,
            "object_position": null,
            "order": null,
            "overflow": null,
            "overflow_x": null,
            "overflow_y": null,
            "padding": null,
            "right": null,
            "top": null,
            "visibility": null,
            "width": null
          }
        },
        "40652f602fe743b4bfad39f85a3284fb": {
          "model_module": "@jupyter-widgets/controls",
          "model_name": "DescriptionStyleModel",
          "model_module_version": "1.5.0",
          "state": {
            "_model_module": "@jupyter-widgets/controls",
            "_model_module_version": "1.5.0",
            "_model_name": "DescriptionStyleModel",
            "_view_count": null,
            "_view_module": "@jupyter-widgets/base",
            "_view_module_version": "1.2.0",
            "_view_name": "StyleView",
            "description_width": ""
          }
        },
        "04032912130f4320b0bdae03841bb869": {
          "model_module": "@jupyter-widgets/controls",
          "model_name": "HBoxModel",
          "model_module_version": "1.5.0",
          "state": {
            "_dom_classes": [],
            "_model_module": "@jupyter-widgets/controls",
            "_model_module_version": "1.5.0",
            "_model_name": "HBoxModel",
            "_view_count": null,
            "_view_module": "@jupyter-widgets/controls",
            "_view_module_version": "1.5.0",
            "_view_name": "HBoxView",
            "box_style": "",
            "children": [
              "IPY_MODEL_c1ce80bd07084b5dbd2b74dc83bdffd9",
              "IPY_MODEL_8e72441f273042a6be6bf2a51b7a318e",
              "IPY_MODEL_50456ec34c92490ab09353cde6df4a96"
            ],
            "layout": "IPY_MODEL_ec38b4a78b0141e0a8423e3d91e04ed9"
          }
        },
        "c1ce80bd07084b5dbd2b74dc83bdffd9": {
          "model_module": "@jupyter-widgets/controls",
          "model_name": "HTMLModel",
          "model_module_version": "1.5.0",
          "state": {
            "_dom_classes": [],
            "_model_module": "@jupyter-widgets/controls",
            "_model_module_version": "1.5.0",
            "_model_name": "HTMLModel",
            "_view_count": null,
            "_view_module": "@jupyter-widgets/controls",
            "_view_module_version": "1.5.0",
            "_view_name": "HTMLView",
            "description": "",
            "description_tooltip": null,
            "layout": "IPY_MODEL_749f8623ed2e4115b8ad6fb626e660be",
            "placeholder": "​",
            "style": "IPY_MODEL_b57cdb3946134d8aa40ed0579bba2704",
            "value": "Map: 100%"
          }
        },
        "8e72441f273042a6be6bf2a51b7a318e": {
          "model_module": "@jupyter-widgets/controls",
          "model_name": "FloatProgressModel",
          "model_module_version": "1.5.0",
          "state": {
            "_dom_classes": [],
            "_model_module": "@jupyter-widgets/controls",
            "_model_module_version": "1.5.0",
            "_model_name": "FloatProgressModel",
            "_view_count": null,
            "_view_module": "@jupyter-widgets/controls",
            "_view_module_version": "1.5.0",
            "_view_name": "ProgressView",
            "bar_style": "success",
            "description": "",
            "description_tooltip": null,
            "layout": "IPY_MODEL_b703a10c86ef4be5aed5875b42a327cf",
            "max": 6744,
            "min": 0,
            "orientation": "horizontal",
            "style": "IPY_MODEL_c8e22245a5df480f85b5e63c68e170ab",
            "value": 6744
          }
        },
        "50456ec34c92490ab09353cde6df4a96": {
          "model_module": "@jupyter-widgets/controls",
          "model_name": "HTMLModel",
          "model_module_version": "1.5.0",
          "state": {
            "_dom_classes": [],
            "_model_module": "@jupyter-widgets/controls",
            "_model_module_version": "1.5.0",
            "_model_name": "HTMLModel",
            "_view_count": null,
            "_view_module": "@jupyter-widgets/controls",
            "_view_module_version": "1.5.0",
            "_view_name": "HTMLView",
            "description": "",
            "description_tooltip": null,
            "layout": "IPY_MODEL_f48442ad8c174dd2987408d1265ac84d",
            "placeholder": "​",
            "style": "IPY_MODEL_8e3b78f458e34ecfad0dbf911bc83518",
            "value": " 6744/6744 [00:00&lt;00:00, 14254.46 examples/s]"
          }
        },
        "ec38b4a78b0141e0a8423e3d91e04ed9": {
          "model_module": "@jupyter-widgets/base",
          "model_name": "LayoutModel",
          "model_module_version": "1.2.0",
          "state": {
            "_model_module": "@jupyter-widgets/base",
            "_model_module_version": "1.2.0",
            "_model_name": "LayoutModel",
            "_view_count": null,
            "_view_module": "@jupyter-widgets/base",
            "_view_module_version": "1.2.0",
            "_view_name": "LayoutView",
            "align_content": null,
            "align_items": null,
            "align_self": null,
            "border": null,
            "bottom": null,
            "display": null,
            "flex": null,
            "flex_flow": null,
            "grid_area": null,
            "grid_auto_columns": null,
            "grid_auto_flow": null,
            "grid_auto_rows": null,
            "grid_column": null,
            "grid_gap": null,
            "grid_row": null,
            "grid_template_areas": null,
            "grid_template_columns": null,
            "grid_template_rows": null,
            "height": null,
            "justify_content": null,
            "justify_items": null,
            "left": null,
            "margin": null,
            "max_height": null,
            "max_width": null,
            "min_height": null,
            "min_width": null,
            "object_fit": null,
            "object_position": null,
            "order": null,
            "overflow": null,
            "overflow_x": null,
            "overflow_y": null,
            "padding": null,
            "right": null,
            "top": null,
            "visibility": null,
            "width": null
          }
        },
        "749f8623ed2e4115b8ad6fb626e660be": {
          "model_module": "@jupyter-widgets/base",
          "model_name": "LayoutModel",
          "model_module_version": "1.2.0",
          "state": {
            "_model_module": "@jupyter-widgets/base",
            "_model_module_version": "1.2.0",
            "_model_name": "LayoutModel",
            "_view_count": null,
            "_view_module": "@jupyter-widgets/base",
            "_view_module_version": "1.2.0",
            "_view_name": "LayoutView",
            "align_content": null,
            "align_items": null,
            "align_self": null,
            "border": null,
            "bottom": null,
            "display": null,
            "flex": null,
            "flex_flow": null,
            "grid_area": null,
            "grid_auto_columns": null,
            "grid_auto_flow": null,
            "grid_auto_rows": null,
            "grid_column": null,
            "grid_gap": null,
            "grid_row": null,
            "grid_template_areas": null,
            "grid_template_columns": null,
            "grid_template_rows": null,
            "height": null,
            "justify_content": null,
            "justify_items": null,
            "left": null,
            "margin": null,
            "max_height": null,
            "max_width": null,
            "min_height": null,
            "min_width": null,
            "object_fit": null,
            "object_position": null,
            "order": null,
            "overflow": null,
            "overflow_x": null,
            "overflow_y": null,
            "padding": null,
            "right": null,
            "top": null,
            "visibility": null,
            "width": null
          }
        },
        "b57cdb3946134d8aa40ed0579bba2704": {
          "model_module": "@jupyter-widgets/controls",
          "model_name": "DescriptionStyleModel",
          "model_module_version": "1.5.0",
          "state": {
            "_model_module": "@jupyter-widgets/controls",
            "_model_module_version": "1.5.0",
            "_model_name": "DescriptionStyleModel",
            "_view_count": null,
            "_view_module": "@jupyter-widgets/base",
            "_view_module_version": "1.2.0",
            "_view_name": "StyleView",
            "description_width": ""
          }
        },
        "b703a10c86ef4be5aed5875b42a327cf": {
          "model_module": "@jupyter-widgets/base",
          "model_name": "LayoutModel",
          "model_module_version": "1.2.0",
          "state": {
            "_model_module": "@jupyter-widgets/base",
            "_model_module_version": "1.2.0",
            "_model_name": "LayoutModel",
            "_view_count": null,
            "_view_module": "@jupyter-widgets/base",
            "_view_module_version": "1.2.0",
            "_view_name": "LayoutView",
            "align_content": null,
            "align_items": null,
            "align_self": null,
            "border": null,
            "bottom": null,
            "display": null,
            "flex": null,
            "flex_flow": null,
            "grid_area": null,
            "grid_auto_columns": null,
            "grid_auto_flow": null,
            "grid_auto_rows": null,
            "grid_column": null,
            "grid_gap": null,
            "grid_row": null,
            "grid_template_areas": null,
            "grid_template_columns": null,
            "grid_template_rows": null,
            "height": null,
            "justify_content": null,
            "justify_items": null,
            "left": null,
            "margin": null,
            "max_height": null,
            "max_width": null,
            "min_height": null,
            "min_width": null,
            "object_fit": null,
            "object_position": null,
            "order": null,
            "overflow": null,
            "overflow_x": null,
            "overflow_y": null,
            "padding": null,
            "right": null,
            "top": null,
            "visibility": null,
            "width": null
          }
        },
        "c8e22245a5df480f85b5e63c68e170ab": {
          "model_module": "@jupyter-widgets/controls",
          "model_name": "ProgressStyleModel",
          "model_module_version": "1.5.0",
          "state": {
            "_model_module": "@jupyter-widgets/controls",
            "_model_module_version": "1.5.0",
            "_model_name": "ProgressStyleModel",
            "_view_count": null,
            "_view_module": "@jupyter-widgets/base",
            "_view_module_version": "1.2.0",
            "_view_name": "StyleView",
            "bar_color": null,
            "description_width": ""
          }
        },
        "f48442ad8c174dd2987408d1265ac84d": {
          "model_module": "@jupyter-widgets/base",
          "model_name": "LayoutModel",
          "model_module_version": "1.2.0",
          "state": {
            "_model_module": "@jupyter-widgets/base",
            "_model_module_version": "1.2.0",
            "_model_name": "LayoutModel",
            "_view_count": null,
            "_view_module": "@jupyter-widgets/base",
            "_view_module_version": "1.2.0",
            "_view_name": "LayoutView",
            "align_content": null,
            "align_items": null,
            "align_self": null,
            "border": null,
            "bottom": null,
            "display": null,
            "flex": null,
            "flex_flow": null,
            "grid_area": null,
            "grid_auto_columns": null,
            "grid_auto_flow": null,
            "grid_auto_rows": null,
            "grid_column": null,
            "grid_gap": null,
            "grid_row": null,
            "grid_template_areas": null,
            "grid_template_columns": null,
            "grid_template_rows": null,
            "height": null,
            "justify_content": null,
            "justify_items": null,
            "left": null,
            "margin": null,
            "max_height": null,
            "max_width": null,
            "min_height": null,
            "min_width": null,
            "object_fit": null,
            "object_position": null,
            "order": null,
            "overflow": null,
            "overflow_x": null,
            "overflow_y": null,
            "padding": null,
            "right": null,
            "top": null,
            "visibility": null,
            "width": null
          }
        },
        "8e3b78f458e34ecfad0dbf911bc83518": {
          "model_module": "@jupyter-widgets/controls",
          "model_name": "DescriptionStyleModel",
          "model_module_version": "1.5.0",
          "state": {
            "_model_module": "@jupyter-widgets/controls",
            "_model_module_version": "1.5.0",
            "_model_name": "DescriptionStyleModel",
            "_view_count": null,
            "_view_module": "@jupyter-widgets/base",
            "_view_module_version": "1.2.0",
            "_view_name": "StyleView",
            "description_width": ""
          }
        },
        "5d38eda138994244b97b7147722eb78d": {
          "model_module": "@jupyter-widgets/controls",
          "model_name": "HBoxModel",
          "model_module_version": "1.5.0",
          "state": {
            "_dom_classes": [],
            "_model_module": "@jupyter-widgets/controls",
            "_model_module_version": "1.5.0",
            "_model_name": "HBoxModel",
            "_view_count": null,
            "_view_module": "@jupyter-widgets/controls",
            "_view_module_version": "1.5.0",
            "_view_name": "HBoxView",
            "box_style": "",
            "children": [
              "IPY_MODEL_d5bd4a984e834fd3856d4e2c4f4fb5cc",
              "IPY_MODEL_2aea91eef8c942eba357c07dcdacdb31",
              "IPY_MODEL_433f73dcbd5948079f306a0977d0b532"
            ],
            "layout": "IPY_MODEL_8050c2acdbc34e68ad707f0016476e6e"
          }
        },
        "d5bd4a984e834fd3856d4e2c4f4fb5cc": {
          "model_module": "@jupyter-widgets/controls",
          "model_name": "HTMLModel",
          "model_module_version": "1.5.0",
          "state": {
            "_dom_classes": [],
            "_model_module": "@jupyter-widgets/controls",
            "_model_module_version": "1.5.0",
            "_model_name": "HTMLModel",
            "_view_count": null,
            "_view_module": "@jupyter-widgets/controls",
            "_view_module_version": "1.5.0",
            "_view_name": "HTMLView",
            "description": "",
            "description_tooltip": null,
            "layout": "IPY_MODEL_5c55545045b5418fb44af15bdeb64c1e",
            "placeholder": "​",
            "style": "IPY_MODEL_9199618aefa34e09af21998fc1e25342",
            "value": "Map: 100%"
          }
        },
        "2aea91eef8c942eba357c07dcdacdb31": {
          "model_module": "@jupyter-widgets/controls",
          "model_name": "FloatProgressModel",
          "model_module_version": "1.5.0",
          "state": {
            "_dom_classes": [],
            "_model_module": "@jupyter-widgets/controls",
            "_model_module_version": "1.5.0",
            "_model_name": "FloatProgressModel",
            "_view_count": null,
            "_view_module": "@jupyter-widgets/controls",
            "_view_module_version": "1.5.0",
            "_view_name": "ProgressView",
            "bar_style": "success",
            "description": "",
            "description_tooltip": null,
            "layout": "IPY_MODEL_5e42a283a14c4633bd42902bbbcd2587",
            "max": 31466,
            "min": 0,
            "orientation": "horizontal",
            "style": "IPY_MODEL_131c0348698f419ebd1d626cd9bd51b7",
            "value": 31466
          }
        },
        "433f73dcbd5948079f306a0977d0b532": {
          "model_module": "@jupyter-widgets/controls",
          "model_name": "HTMLModel",
          "model_module_version": "1.5.0",
          "state": {
            "_dom_classes": [],
            "_model_module": "@jupyter-widgets/controls",
            "_model_module_version": "1.5.0",
            "_model_name": "HTMLModel",
            "_view_count": null,
            "_view_module": "@jupyter-widgets/controls",
            "_view_module_version": "1.5.0",
            "_view_name": "HTMLView",
            "description": "",
            "description_tooltip": null,
            "layout": "IPY_MODEL_09d095fedf5b4711ba881bc10e3d0146",
            "placeholder": "​",
            "style": "IPY_MODEL_54dbff0a0a294f46a290b76077c77dc0",
            "value": " 31466/31466 [00:01&lt;00:00, 18322.08 examples/s]"
          }
        },
        "8050c2acdbc34e68ad707f0016476e6e": {
          "model_module": "@jupyter-widgets/base",
          "model_name": "LayoutModel",
          "model_module_version": "1.2.0",
          "state": {
            "_model_module": "@jupyter-widgets/base",
            "_model_module_version": "1.2.0",
            "_model_name": "LayoutModel",
            "_view_count": null,
            "_view_module": "@jupyter-widgets/base",
            "_view_module_version": "1.2.0",
            "_view_name": "LayoutView",
            "align_content": null,
            "align_items": null,
            "align_self": null,
            "border": null,
            "bottom": null,
            "display": null,
            "flex": null,
            "flex_flow": null,
            "grid_area": null,
            "grid_auto_columns": null,
            "grid_auto_flow": null,
            "grid_auto_rows": null,
            "grid_column": null,
            "grid_gap": null,
            "grid_row": null,
            "grid_template_areas": null,
            "grid_template_columns": null,
            "grid_template_rows": null,
            "height": null,
            "justify_content": null,
            "justify_items": null,
            "left": null,
            "margin": null,
            "max_height": null,
            "max_width": null,
            "min_height": null,
            "min_width": null,
            "object_fit": null,
            "object_position": null,
            "order": null,
            "overflow": null,
            "overflow_x": null,
            "overflow_y": null,
            "padding": null,
            "right": null,
            "top": null,
            "visibility": null,
            "width": null
          }
        },
        "5c55545045b5418fb44af15bdeb64c1e": {
          "model_module": "@jupyter-widgets/base",
          "model_name": "LayoutModel",
          "model_module_version": "1.2.0",
          "state": {
            "_model_module": "@jupyter-widgets/base",
            "_model_module_version": "1.2.0",
            "_model_name": "LayoutModel",
            "_view_count": null,
            "_view_module": "@jupyter-widgets/base",
            "_view_module_version": "1.2.0",
            "_view_name": "LayoutView",
            "align_content": null,
            "align_items": null,
            "align_self": null,
            "border": null,
            "bottom": null,
            "display": null,
            "flex": null,
            "flex_flow": null,
            "grid_area": null,
            "grid_auto_columns": null,
            "grid_auto_flow": null,
            "grid_auto_rows": null,
            "grid_column": null,
            "grid_gap": null,
            "grid_row": null,
            "grid_template_areas": null,
            "grid_template_columns": null,
            "grid_template_rows": null,
            "height": null,
            "justify_content": null,
            "justify_items": null,
            "left": null,
            "margin": null,
            "max_height": null,
            "max_width": null,
            "min_height": null,
            "min_width": null,
            "object_fit": null,
            "object_position": null,
            "order": null,
            "overflow": null,
            "overflow_x": null,
            "overflow_y": null,
            "padding": null,
            "right": null,
            "top": null,
            "visibility": null,
            "width": null
          }
        },
        "9199618aefa34e09af21998fc1e25342": {
          "model_module": "@jupyter-widgets/controls",
          "model_name": "DescriptionStyleModel",
          "model_module_version": "1.5.0",
          "state": {
            "_model_module": "@jupyter-widgets/controls",
            "_model_module_version": "1.5.0",
            "_model_name": "DescriptionStyleModel",
            "_view_count": null,
            "_view_module": "@jupyter-widgets/base",
            "_view_module_version": "1.2.0",
            "_view_name": "StyleView",
            "description_width": ""
          }
        },
        "5e42a283a14c4633bd42902bbbcd2587": {
          "model_module": "@jupyter-widgets/base",
          "model_name": "LayoutModel",
          "model_module_version": "1.2.0",
          "state": {
            "_model_module": "@jupyter-widgets/base",
            "_model_module_version": "1.2.0",
            "_model_name": "LayoutModel",
            "_view_count": null,
            "_view_module": "@jupyter-widgets/base",
            "_view_module_version": "1.2.0",
            "_view_name": "LayoutView",
            "align_content": null,
            "align_items": null,
            "align_self": null,
            "border": null,
            "bottom": null,
            "display": null,
            "flex": null,
            "flex_flow": null,
            "grid_area": null,
            "grid_auto_columns": null,
            "grid_auto_flow": null,
            "grid_auto_rows": null,
            "grid_column": null,
            "grid_gap": null,
            "grid_row": null,
            "grid_template_areas": null,
            "grid_template_columns": null,
            "grid_template_rows": null,
            "height": null,
            "justify_content": null,
            "justify_items": null,
            "left": null,
            "margin": null,
            "max_height": null,
            "max_width": null,
            "min_height": null,
            "min_width": null,
            "object_fit": null,
            "object_position": null,
            "order": null,
            "overflow": null,
            "overflow_x": null,
            "overflow_y": null,
            "padding": null,
            "right": null,
            "top": null,
            "visibility": null,
            "width": null
          }
        },
        "131c0348698f419ebd1d626cd9bd51b7": {
          "model_module": "@jupyter-widgets/controls",
          "model_name": "ProgressStyleModel",
          "model_module_version": "1.5.0",
          "state": {
            "_model_module": "@jupyter-widgets/controls",
            "_model_module_version": "1.5.0",
            "_model_name": "ProgressStyleModel",
            "_view_count": null,
            "_view_module": "@jupyter-widgets/base",
            "_view_module_version": "1.2.0",
            "_view_name": "StyleView",
            "bar_color": null,
            "description_width": ""
          }
        },
        "09d095fedf5b4711ba881bc10e3d0146": {
          "model_module": "@jupyter-widgets/base",
          "model_name": "LayoutModel",
          "model_module_version": "1.2.0",
          "state": {
            "_model_module": "@jupyter-widgets/base",
            "_model_module_version": "1.2.0",
            "_model_name": "LayoutModel",
            "_view_count": null,
            "_view_module": "@jupyter-widgets/base",
            "_view_module_version": "1.2.0",
            "_view_name": "LayoutView",
            "align_content": null,
            "align_items": null,
            "align_self": null,
            "border": null,
            "bottom": null,
            "display": null,
            "flex": null,
            "flex_flow": null,
            "grid_area": null,
            "grid_auto_columns": null,
            "grid_auto_flow": null,
            "grid_auto_rows": null,
            "grid_column": null,
            "grid_gap": null,
            "grid_row": null,
            "grid_template_areas": null,
            "grid_template_columns": null,
            "grid_template_rows": null,
            "height": null,
            "justify_content": null,
            "justify_items": null,
            "left": null,
            "margin": null,
            "max_height": null,
            "max_width": null,
            "min_height": null,
            "min_width": null,
            "object_fit": null,
            "object_position": null,
            "order": null,
            "overflow": null,
            "overflow_x": null,
            "overflow_y": null,
            "padding": null,
            "right": null,
            "top": null,
            "visibility": null,
            "width": null
          }
        },
        "54dbff0a0a294f46a290b76077c77dc0": {
          "model_module": "@jupyter-widgets/controls",
          "model_name": "DescriptionStyleModel",
          "model_module_version": "1.5.0",
          "state": {
            "_model_module": "@jupyter-widgets/controls",
            "_model_module_version": "1.5.0",
            "_model_name": "DescriptionStyleModel",
            "_view_count": null,
            "_view_module": "@jupyter-widgets/base",
            "_view_module_version": "1.2.0",
            "_view_name": "StyleView",
            "description_width": ""
          }
        },
        "ac12b394d12544b4a55855cf69a9f665": {
          "model_module": "@jupyter-widgets/controls",
          "model_name": "HBoxModel",
          "model_module_version": "1.5.0",
          "state": {
            "_dom_classes": [],
            "_model_module": "@jupyter-widgets/controls",
            "_model_module_version": "1.5.0",
            "_model_name": "HBoxModel",
            "_view_count": null,
            "_view_module": "@jupyter-widgets/controls",
            "_view_module_version": "1.5.0",
            "_view_name": "HBoxView",
            "box_style": "",
            "children": [
              "IPY_MODEL_f95533841ce04f6ca046e112fb23b737",
              "IPY_MODEL_45a3da4d90d349c1b32aec1a2c8cb018",
              "IPY_MODEL_6c1008a2841e4570a35d31413fb71991"
            ],
            "layout": "IPY_MODEL_85d80f8d1b3d431c93c7a0b2ef3fe893"
          }
        },
        "f95533841ce04f6ca046e112fb23b737": {
          "model_module": "@jupyter-widgets/controls",
          "model_name": "HTMLModel",
          "model_module_version": "1.5.0",
          "state": {
            "_dom_classes": [],
            "_model_module": "@jupyter-widgets/controls",
            "_model_module_version": "1.5.0",
            "_model_name": "HTMLModel",
            "_view_count": null,
            "_view_module": "@jupyter-widgets/controls",
            "_view_module_version": "1.5.0",
            "_view_name": "HTMLView",
            "description": "",
            "description_tooltip": null,
            "layout": "IPY_MODEL_6e106316c3e64b008d47cac4c3f81858",
            "placeholder": "​",
            "style": "IPY_MODEL_538b62587e464da39977ed5f0f308965",
            "value": "Map: 100%"
          }
        },
        "45a3da4d90d349c1b32aec1a2c8cb018": {
          "model_module": "@jupyter-widgets/controls",
          "model_name": "FloatProgressModel",
          "model_module_version": "1.5.0",
          "state": {
            "_dom_classes": [],
            "_model_module": "@jupyter-widgets/controls",
            "_model_module_version": "1.5.0",
            "_model_name": "FloatProgressModel",
            "_view_count": null,
            "_view_module": "@jupyter-widgets/controls",
            "_view_module_version": "1.5.0",
            "_view_name": "ProgressView",
            "bar_style": "success",
            "description": "",
            "description_tooltip": null,
            "layout": "IPY_MODEL_9e81cae0287a425380fdef323af53243",
            "max": 6745,
            "min": 0,
            "orientation": "horizontal",
            "style": "IPY_MODEL_3577d22e8bfd4cbfb594ea8252681011",
            "value": 6745
          }
        },
        "6c1008a2841e4570a35d31413fb71991": {
          "model_module": "@jupyter-widgets/controls",
          "model_name": "HTMLModel",
          "model_module_version": "1.5.0",
          "state": {
            "_dom_classes": [],
            "_model_module": "@jupyter-widgets/controls",
            "_model_module_version": "1.5.0",
            "_model_name": "HTMLModel",
            "_view_count": null,
            "_view_module": "@jupyter-widgets/controls",
            "_view_module_version": "1.5.0",
            "_view_name": "HTMLView",
            "description": "",
            "description_tooltip": null,
            "layout": "IPY_MODEL_091fe542e266441da120a93cef34c105",
            "placeholder": "​",
            "style": "IPY_MODEL_5436fdb6ee4240a89dc07a107e14c735",
            "value": " 6745/6745 [00:00&lt;00:00, 18237.06 examples/s]"
          }
        },
        "85d80f8d1b3d431c93c7a0b2ef3fe893": {
          "model_module": "@jupyter-widgets/base",
          "model_name": "LayoutModel",
          "model_module_version": "1.2.0",
          "state": {
            "_model_module": "@jupyter-widgets/base",
            "_model_module_version": "1.2.0",
            "_model_name": "LayoutModel",
            "_view_count": null,
            "_view_module": "@jupyter-widgets/base",
            "_view_module_version": "1.2.0",
            "_view_name": "LayoutView",
            "align_content": null,
            "align_items": null,
            "align_self": null,
            "border": null,
            "bottom": null,
            "display": null,
            "flex": null,
            "flex_flow": null,
            "grid_area": null,
            "grid_auto_columns": null,
            "grid_auto_flow": null,
            "grid_auto_rows": null,
            "grid_column": null,
            "grid_gap": null,
            "grid_row": null,
            "grid_template_areas": null,
            "grid_template_columns": null,
            "grid_template_rows": null,
            "height": null,
            "justify_content": null,
            "justify_items": null,
            "left": null,
            "margin": null,
            "max_height": null,
            "max_width": null,
            "min_height": null,
            "min_width": null,
            "object_fit": null,
            "object_position": null,
            "order": null,
            "overflow": null,
            "overflow_x": null,
            "overflow_y": null,
            "padding": null,
            "right": null,
            "top": null,
            "visibility": null,
            "width": null
          }
        },
        "6e106316c3e64b008d47cac4c3f81858": {
          "model_module": "@jupyter-widgets/base",
          "model_name": "LayoutModel",
          "model_module_version": "1.2.0",
          "state": {
            "_model_module": "@jupyter-widgets/base",
            "_model_module_version": "1.2.0",
            "_model_name": "LayoutModel",
            "_view_count": null,
            "_view_module": "@jupyter-widgets/base",
            "_view_module_version": "1.2.0",
            "_view_name": "LayoutView",
            "align_content": null,
            "align_items": null,
            "align_self": null,
            "border": null,
            "bottom": null,
            "display": null,
            "flex": null,
            "flex_flow": null,
            "grid_area": null,
            "grid_auto_columns": null,
            "grid_auto_flow": null,
            "grid_auto_rows": null,
            "grid_column": null,
            "grid_gap": null,
            "grid_row": null,
            "grid_template_areas": null,
            "grid_template_columns": null,
            "grid_template_rows": null,
            "height": null,
            "justify_content": null,
            "justify_items": null,
            "left": null,
            "margin": null,
            "max_height": null,
            "max_width": null,
            "min_height": null,
            "min_width": null,
            "object_fit": null,
            "object_position": null,
            "order": null,
            "overflow": null,
            "overflow_x": null,
            "overflow_y": null,
            "padding": null,
            "right": null,
            "top": null,
            "visibility": null,
            "width": null
          }
        },
        "538b62587e464da39977ed5f0f308965": {
          "model_module": "@jupyter-widgets/controls",
          "model_name": "DescriptionStyleModel",
          "model_module_version": "1.5.0",
          "state": {
            "_model_module": "@jupyter-widgets/controls",
            "_model_module_version": "1.5.0",
            "_model_name": "DescriptionStyleModel",
            "_view_count": null,
            "_view_module": "@jupyter-widgets/base",
            "_view_module_version": "1.2.0",
            "_view_name": "StyleView",
            "description_width": ""
          }
        },
        "9e81cae0287a425380fdef323af53243": {
          "model_module": "@jupyter-widgets/base",
          "model_name": "LayoutModel",
          "model_module_version": "1.2.0",
          "state": {
            "_model_module": "@jupyter-widgets/base",
            "_model_module_version": "1.2.0",
            "_model_name": "LayoutModel",
            "_view_count": null,
            "_view_module": "@jupyter-widgets/base",
            "_view_module_version": "1.2.0",
            "_view_name": "LayoutView",
            "align_content": null,
            "align_items": null,
            "align_self": null,
            "border": null,
            "bottom": null,
            "display": null,
            "flex": null,
            "flex_flow": null,
            "grid_area": null,
            "grid_auto_columns": null,
            "grid_auto_flow": null,
            "grid_auto_rows": null,
            "grid_column": null,
            "grid_gap": null,
            "grid_row": null,
            "grid_template_areas": null,
            "grid_template_columns": null,
            "grid_template_rows": null,
            "height": null,
            "justify_content": null,
            "justify_items": null,
            "left": null,
            "margin": null,
            "max_height": null,
            "max_width": null,
            "min_height": null,
            "min_width": null,
            "object_fit": null,
            "object_position": null,
            "order": null,
            "overflow": null,
            "overflow_x": null,
            "overflow_y": null,
            "padding": null,
            "right": null,
            "top": null,
            "visibility": null,
            "width": null
          }
        },
        "3577d22e8bfd4cbfb594ea8252681011": {
          "model_module": "@jupyter-widgets/controls",
          "model_name": "ProgressStyleModel",
          "model_module_version": "1.5.0",
          "state": {
            "_model_module": "@jupyter-widgets/controls",
            "_model_module_version": "1.5.0",
            "_model_name": "ProgressStyleModel",
            "_view_count": null,
            "_view_module": "@jupyter-widgets/base",
            "_view_module_version": "1.2.0",
            "_view_name": "StyleView",
            "bar_color": null,
            "description_width": ""
          }
        },
        "091fe542e266441da120a93cef34c105": {
          "model_module": "@jupyter-widgets/base",
          "model_name": "LayoutModel",
          "model_module_version": "1.2.0",
          "state": {
            "_model_module": "@jupyter-widgets/base",
            "_model_module_version": "1.2.0",
            "_model_name": "LayoutModel",
            "_view_count": null,
            "_view_module": "@jupyter-widgets/base",
            "_view_module_version": "1.2.0",
            "_view_name": "LayoutView",
            "align_content": null,
            "align_items": null,
            "align_self": null,
            "border": null,
            "bottom": null,
            "display": null,
            "flex": null,
            "flex_flow": null,
            "grid_area": null,
            "grid_auto_columns": null,
            "grid_auto_flow": null,
            "grid_auto_rows": null,
            "grid_column": null,
            "grid_gap": null,
            "grid_row": null,
            "grid_template_areas": null,
            "grid_template_columns": null,
            "grid_template_rows": null,
            "height": null,
            "justify_content": null,
            "justify_items": null,
            "left": null,
            "margin": null,
            "max_height": null,
            "max_width": null,
            "min_height": null,
            "min_width": null,
            "object_fit": null,
            "object_position": null,
            "order": null,
            "overflow": null,
            "overflow_x": null,
            "overflow_y": null,
            "padding": null,
            "right": null,
            "top": null,
            "visibility": null,
            "width": null
          }
        },
        "5436fdb6ee4240a89dc07a107e14c735": {
          "model_module": "@jupyter-widgets/controls",
          "model_name": "DescriptionStyleModel",
          "model_module_version": "1.5.0",
          "state": {
            "_model_module": "@jupyter-widgets/controls",
            "_model_module_version": "1.5.0",
            "_model_name": "DescriptionStyleModel",
            "_view_count": null,
            "_view_module": "@jupyter-widgets/base",
            "_view_module_version": "1.2.0",
            "_view_name": "StyleView",
            "description_width": ""
          }
        },
        "0e624944b8a3493fa4ecfc75476bcffd": {
          "model_module": "@jupyter-widgets/controls",
          "model_name": "HBoxModel",
          "model_module_version": "1.5.0",
          "state": {
            "_dom_classes": [],
            "_model_module": "@jupyter-widgets/controls",
            "_model_module_version": "1.5.0",
            "_model_name": "HBoxModel",
            "_view_count": null,
            "_view_module": "@jupyter-widgets/controls",
            "_view_module_version": "1.5.0",
            "_view_name": "HBoxView",
            "box_style": "",
            "children": [
              "IPY_MODEL_7249016c36fe4907aeed7e63ca0c32fa",
              "IPY_MODEL_75fe120b189b4eb29376547a068a0a02",
              "IPY_MODEL_3643704576e24c9898a647dec4fb3562"
            ],
            "layout": "IPY_MODEL_9a78692488b54e269766a910a340b26a"
          }
        },
        "7249016c36fe4907aeed7e63ca0c32fa": {
          "model_module": "@jupyter-widgets/controls",
          "model_name": "HTMLModel",
          "model_module_version": "1.5.0",
          "state": {
            "_dom_classes": [],
            "_model_module": "@jupyter-widgets/controls",
            "_model_module_version": "1.5.0",
            "_model_name": "HTMLModel",
            "_view_count": null,
            "_view_module": "@jupyter-widgets/controls",
            "_view_module_version": "1.5.0",
            "_view_name": "HTMLView",
            "description": "",
            "description_tooltip": null,
            "layout": "IPY_MODEL_5410d65029d04bf7af83380a896722eb",
            "placeholder": "​",
            "style": "IPY_MODEL_4961c68b43634373be5d64b962018f21",
            "value": "Map: 100%"
          }
        },
        "75fe120b189b4eb29376547a068a0a02": {
          "model_module": "@jupyter-widgets/controls",
          "model_name": "FloatProgressModel",
          "model_module_version": "1.5.0",
          "state": {
            "_dom_classes": [],
            "_model_module": "@jupyter-widgets/controls",
            "_model_module_version": "1.5.0",
            "_model_name": "FloatProgressModel",
            "_view_count": null,
            "_view_module": "@jupyter-widgets/controls",
            "_view_module_version": "1.5.0",
            "_view_name": "ProgressView",
            "bar_style": "success",
            "description": "",
            "description_tooltip": null,
            "layout": "IPY_MODEL_bd39fe96034c4ffa842178fb1c55b115",
            "max": 6744,
            "min": 0,
            "orientation": "horizontal",
            "style": "IPY_MODEL_b5c18f8e67a146e4986d032c691bb757",
            "value": 6744
          }
        },
        "3643704576e24c9898a647dec4fb3562": {
          "model_module": "@jupyter-widgets/controls",
          "model_name": "HTMLModel",
          "model_module_version": "1.5.0",
          "state": {
            "_dom_classes": [],
            "_model_module": "@jupyter-widgets/controls",
            "_model_module_version": "1.5.0",
            "_model_name": "HTMLModel",
            "_view_count": null,
            "_view_module": "@jupyter-widgets/controls",
            "_view_module_version": "1.5.0",
            "_view_name": "HTMLView",
            "description": "",
            "description_tooltip": null,
            "layout": "IPY_MODEL_9e58165640254f118ce1e54b0acbb633",
            "placeholder": "​",
            "style": "IPY_MODEL_19db1c794bc049a2812d9deda5f3b995",
            "value": " 6744/6744 [00:00&lt;00:00, 18043.35 examples/s]"
          }
        },
        "9a78692488b54e269766a910a340b26a": {
          "model_module": "@jupyter-widgets/base",
          "model_name": "LayoutModel",
          "model_module_version": "1.2.0",
          "state": {
            "_model_module": "@jupyter-widgets/base",
            "_model_module_version": "1.2.0",
            "_model_name": "LayoutModel",
            "_view_count": null,
            "_view_module": "@jupyter-widgets/base",
            "_view_module_version": "1.2.0",
            "_view_name": "LayoutView",
            "align_content": null,
            "align_items": null,
            "align_self": null,
            "border": null,
            "bottom": null,
            "display": null,
            "flex": null,
            "flex_flow": null,
            "grid_area": null,
            "grid_auto_columns": null,
            "grid_auto_flow": null,
            "grid_auto_rows": null,
            "grid_column": null,
            "grid_gap": null,
            "grid_row": null,
            "grid_template_areas": null,
            "grid_template_columns": null,
            "grid_template_rows": null,
            "height": null,
            "justify_content": null,
            "justify_items": null,
            "left": null,
            "margin": null,
            "max_height": null,
            "max_width": null,
            "min_height": null,
            "min_width": null,
            "object_fit": null,
            "object_position": null,
            "order": null,
            "overflow": null,
            "overflow_x": null,
            "overflow_y": null,
            "padding": null,
            "right": null,
            "top": null,
            "visibility": null,
            "width": null
          }
        },
        "5410d65029d04bf7af83380a896722eb": {
          "model_module": "@jupyter-widgets/base",
          "model_name": "LayoutModel",
          "model_module_version": "1.2.0",
          "state": {
            "_model_module": "@jupyter-widgets/base",
            "_model_module_version": "1.2.0",
            "_model_name": "LayoutModel",
            "_view_count": null,
            "_view_module": "@jupyter-widgets/base",
            "_view_module_version": "1.2.0",
            "_view_name": "LayoutView",
            "align_content": null,
            "align_items": null,
            "align_self": null,
            "border": null,
            "bottom": null,
            "display": null,
            "flex": null,
            "flex_flow": null,
            "grid_area": null,
            "grid_auto_columns": null,
            "grid_auto_flow": null,
            "grid_auto_rows": null,
            "grid_column": null,
            "grid_gap": null,
            "grid_row": null,
            "grid_template_areas": null,
            "grid_template_columns": null,
            "grid_template_rows": null,
            "height": null,
            "justify_content": null,
            "justify_items": null,
            "left": null,
            "margin": null,
            "max_height": null,
            "max_width": null,
            "min_height": null,
            "min_width": null,
            "object_fit": null,
            "object_position": null,
            "order": null,
            "overflow": null,
            "overflow_x": null,
            "overflow_y": null,
            "padding": null,
            "right": null,
            "top": null,
            "visibility": null,
            "width": null
          }
        },
        "4961c68b43634373be5d64b962018f21": {
          "model_module": "@jupyter-widgets/controls",
          "model_name": "DescriptionStyleModel",
          "model_module_version": "1.5.0",
          "state": {
            "_model_module": "@jupyter-widgets/controls",
            "_model_module_version": "1.5.0",
            "_model_name": "DescriptionStyleModel",
            "_view_count": null,
            "_view_module": "@jupyter-widgets/base",
            "_view_module_version": "1.2.0",
            "_view_name": "StyleView",
            "description_width": ""
          }
        },
        "bd39fe96034c4ffa842178fb1c55b115": {
          "model_module": "@jupyter-widgets/base",
          "model_name": "LayoutModel",
          "model_module_version": "1.2.0",
          "state": {
            "_model_module": "@jupyter-widgets/base",
            "_model_module_version": "1.2.0",
            "_model_name": "LayoutModel",
            "_view_count": null,
            "_view_module": "@jupyter-widgets/base",
            "_view_module_version": "1.2.0",
            "_view_name": "LayoutView",
            "align_content": null,
            "align_items": null,
            "align_self": null,
            "border": null,
            "bottom": null,
            "display": null,
            "flex": null,
            "flex_flow": null,
            "grid_area": null,
            "grid_auto_columns": null,
            "grid_auto_flow": null,
            "grid_auto_rows": null,
            "grid_column": null,
            "grid_gap": null,
            "grid_row": null,
            "grid_template_areas": null,
            "grid_template_columns": null,
            "grid_template_rows": null,
            "height": null,
            "justify_content": null,
            "justify_items": null,
            "left": null,
            "margin": null,
            "max_height": null,
            "max_width": null,
            "min_height": null,
            "min_width": null,
            "object_fit": null,
            "object_position": null,
            "order": null,
            "overflow": null,
            "overflow_x": null,
            "overflow_y": null,
            "padding": null,
            "right": null,
            "top": null,
            "visibility": null,
            "width": null
          }
        },
        "b5c18f8e67a146e4986d032c691bb757": {
          "model_module": "@jupyter-widgets/controls",
          "model_name": "ProgressStyleModel",
          "model_module_version": "1.5.0",
          "state": {
            "_model_module": "@jupyter-widgets/controls",
            "_model_module_version": "1.5.0",
            "_model_name": "ProgressStyleModel",
            "_view_count": null,
            "_view_module": "@jupyter-widgets/base",
            "_view_module_version": "1.2.0",
            "_view_name": "StyleView",
            "bar_color": null,
            "description_width": ""
          }
        },
        "9e58165640254f118ce1e54b0acbb633": {
          "model_module": "@jupyter-widgets/base",
          "model_name": "LayoutModel",
          "model_module_version": "1.2.0",
          "state": {
            "_model_module": "@jupyter-widgets/base",
            "_model_module_version": "1.2.0",
            "_model_name": "LayoutModel",
            "_view_count": null,
            "_view_module": "@jupyter-widgets/base",
            "_view_module_version": "1.2.0",
            "_view_name": "LayoutView",
            "align_content": null,
            "align_items": null,
            "align_self": null,
            "border": null,
            "bottom": null,
            "display": null,
            "flex": null,
            "flex_flow": null,
            "grid_area": null,
            "grid_auto_columns": null,
            "grid_auto_flow": null,
            "grid_auto_rows": null,
            "grid_column": null,
            "grid_gap": null,
            "grid_row": null,
            "grid_template_areas": null,
            "grid_template_columns": null,
            "grid_template_rows": null,
            "height": null,
            "justify_content": null,
            "justify_items": null,
            "left": null,
            "margin": null,
            "max_height": null,
            "max_width": null,
            "min_height": null,
            "min_width": null,
            "object_fit": null,
            "object_position": null,
            "order": null,
            "overflow": null,
            "overflow_x": null,
            "overflow_y": null,
            "padding": null,
            "right": null,
            "top": null,
            "visibility": null,
            "width": null
          }
        },
        "19db1c794bc049a2812d9deda5f3b995": {
          "model_module": "@jupyter-widgets/controls",
          "model_name": "DescriptionStyleModel",
          "model_module_version": "1.5.0",
          "state": {
            "_model_module": "@jupyter-widgets/controls",
            "_model_module_version": "1.5.0",
            "_model_name": "DescriptionStyleModel",
            "_view_count": null,
            "_view_module": "@jupyter-widgets/base",
            "_view_module_version": "1.2.0",
            "_view_name": "StyleView",
            "description_width": ""
          }
        }
      }
    }
  },
  "nbformat": 4,
  "nbformat_minor": 5
}