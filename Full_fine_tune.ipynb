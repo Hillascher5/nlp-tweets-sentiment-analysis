{
  "cells": [
    {
      "cell_type": "markdown",
      "metadata": {
        "id": "view-in-github",
        "colab_type": "text"
      },
      "source": [
        "<a href=\"https://colab.research.google.com/github/Hillascher5/nlp-tweets-sentiment-analysis/blob/main/Full_fine_tune.ipynb\" target=\"_parent\"><img src=\"https://colab.research.google.com/assets/colab-badge.svg\" alt=\"Open In Colab\"/></a>"
      ]
    },
    {
      "cell_type": "code",
      "execution_count": null,
      "id": "9e4b9e4a",
      "metadata": {
        "id": "9e4b9e4a"
      },
      "outputs": [],
      "source": [
        "# # Needed for Google Colab\n",
        "# !pip install --quiet evaluate transformers optuna datasets nltk scikit-learn\n",
        "# !pip install numpy==1.26.4"
      ]
    },
    {
      "cell_type": "code",
      "source": [
        "%env CUDA_LAUNCH_BLOCKING=1\n",
        "\n",
        "from wordcloud import WordCloud, STOPWORDS\n",
        "from geopy.geocoders import Nominatim\n",
        "from geopy.exc import GeocoderTimedOut\n",
        "from tqdm import tqdm\n",
        "from collections import Counter\n",
        "from nltk.corpus import stopwords\n",
        "from sklearn.feature_extraction.text import CountVectorizer\n",
        "from sklearn.metrics import accuracy_score, classification_report, precision_score, recall_score, f1_score, confusion_matrix\n",
        "from sklearn.model_selection import train_test_split\n",
        "from nltk.stem import WordNetLemmatizer\n",
        "from transformers import AutoTokenizer, AutoModelForSequenceClassification, DataCollatorWithPadding, TrainingArguments, Trainer, get_scheduler, BertTokenizer, RobertaTokenizer, RobertaForSequenceClassification\n",
        "from datasets import Dataset\n",
        "from torch.utils.data import DataLoader, TensorDataset, Dataset\n",
        "from optuna.pruners import MedianPruner\n",
        "from google.colab import drive\n",
        "drive.mount('/content/drive')\n",
        "\n",
        "import pandas as pd\n",
        "import seaborn as sns\n",
        "import matplotlib.pyplot as plt\n",
        "import numpy as np\n",
        "import torch.nn as nn\n",
        "import torch.optim as optim\n",
        "import torch.nn.functional as F\n",
        "import os\n",
        "import re\n",
        "import random\n",
        "import string\n",
        "import time\n",
        "import glob\n",
        "import nltk\n",
        "import evaluate\n",
        "import transformers\n",
        "import torch\n",
        "import optuna\n",
        "import wandb\n",
        "wandb.login()\n",
        "# API key - 0cbd7fe3cffd71df993b30edb4fa0db94f114413 - uni\n",
        "# API key - 65fb8494261cc49f8d09e6c57ef80bcad6a653b9 - pers\n",
        "\n",
        "\n",
        "num_train_samples = 5000\n",
        "os.environ[\"WANDB_PROJECT\"] = f\"tweet-sentiment-classification_split_to_test_manual_code_{num_train_samples}_samples_optuna\"\n",
        "os.environ[\"WANDB_INIT_TIMEOUT\"] = \"180\"\n",
        "\n",
        "nltk.download('stopwords')\n",
        "nltk.download('wordnet')\n",
        "nltk.download('omw-1.4')"
      ],
      "metadata": {
        "id": "5wkr211FIgWA"
      },
      "id": "5wkr211FIgWA",
      "execution_count": null,
      "outputs": []
    },
    {
      "cell_type": "code",
      "source": [
        "def set_seed_all(seed=42):\n",
        "    random.seed(seed)\n",
        "    np.random.seed(seed)\n",
        "    torch.manual_seed(seed)\n",
        "    if torch.cuda.is_available():\n",
        "        torch.cuda.manual_seed_all(seed)\n",
        "\n",
        "set_seed_all(42)"
      ],
      "metadata": {
        "id": "dsBlLMw2_T0k"
      },
      "id": "dsBlLMw2_T0k",
      "execution_count": null,
      "outputs": []
    },
    {
      "cell_type": "code",
      "source": [
        "# Load data\n",
        "df_train = pd.read_csv('/content/drive/MyDrive/Colab Notebooks/nlp_project/Data/Corona_NLP_train.csv', encoding='latin1')\n",
        "df_test = pd.read_csv('/content/drive/MyDrive/Colab Notebooks/nlp_project/Data/Corona_NLP_test.csv', encoding='latin1')"
      ],
      "metadata": {
        "id": "HfhGt5t3In0T"
      },
      "id": "HfhGt5t3In0T",
      "execution_count": null,
      "outputs": []
    },
    {
      "cell_type": "code",
      "source": [
        "# Merge and shuffle for better stratified splits\n",
        "df_full = pd.concat([df_train, df_test], ignore_index=True)\n",
        "df_full = df_full.sample(frac=1.0, random_state=42).reset_index(drop=True)"
      ],
      "metadata": {
        "id": "RjrjA9LKIpHl"
      },
      "id": "RjrjA9LKIpHl",
      "execution_count": null,
      "outputs": []
    },
    {
      "cell_type": "markdown",
      "source": [
        "### Pre-processing the Data\n",
        "\n",
        "The tweets were cleaned in several ways and also examined as raw data."
      ],
      "metadata": {
        "id": "wcmrvRRYIvaL"
      },
      "id": "wcmrvRRYIvaL"
    },
    {
      "cell_type": "code",
      "source": [
        "# # Try without pre-processing\n",
        "# is_preprocessed = \"no_preprocess\"\n",
        "# df_full[\"clean_text\"] = df_full[\"OriginalTweet\"]"
      ],
      "metadata": {
        "id": "VTO40hbuIsCd"
      },
      "id": "VTO40hbuIsCd",
      "execution_count": null,
      "outputs": []
    },
    {
      "cell_type": "code",
      "source": [
        "# Try minimal pre-processing\n",
        "def light_preprocess(text):\n",
        "    return text.strip()                             # Remove unnecessary spaces\n",
        "\n",
        "is_preprocessed = \"minimal_preprocess\"\n",
        "df_full[\"clean_text\"] = df_full[\"OriginalTweet\"].apply(light_preprocess)"
      ],
      "metadata": {
        "id": "fyNDPo3J2LDO"
      },
      "id": "fyNDPo3J2LDO",
      "execution_count": null,
      "outputs": []
    },
    {
      "cell_type": "markdown",
      "source": [
        "**Encode Sentiment Labels**\n",
        "\n",
        "Map each unique sentiment label to a numeric ID for model compatibility, and apply this mapping to both training and validation datasets."
      ],
      "metadata": {
        "id": "uPl6wQXNJjV6"
      },
      "id": "uPl6wQXNJjV6"
    },
    {
      "cell_type": "code",
      "source": [
        "# Mapping sentiments to unique numeric IDs\n",
        "unique_labels = sorted(df_full[\"Sentiment\"].unique())\n",
        "label2id = {label: idx for idx, label in enumerate(unique_labels)}\n",
        "df_full[\"label\"] = df_full[\"Sentiment\"].map(label2id)"
      ],
      "metadata": {
        "id": "8bjD51R4Jj8k"
      },
      "id": "8bjD51R4Jj8k",
      "execution_count": null,
      "outputs": []
    },
    {
      "cell_type": "code",
      "source": [
        "# Stratified split: 70% train, 15% val, 15% test\n",
        "train_val_df, test_df = train_test_split(df_full, test_size=0.15, stratify=df_full[\"label\"], random_state=42)\n",
        "train_df, val_df = train_test_split(train_val_df, test_size=0.1765, stratify=train_val_df[\"label\"], random_state=42)\n",
        "\n",
        "# Confirm sizes\n",
        "print(\"Train size:\", len(train_df))\n",
        "print(\"Val size:\", len(val_df))\n",
        "print(\"Test size:\", len(test_df))"
      ],
      "metadata": {
        "id": "A73-5ROeJmkz"
      },
      "id": "A73-5ROeJmkz",
      "execution_count": null,
      "outputs": []
    },
    {
      "cell_type": "markdown",
      "source": [
        "**Use Small Subsets for Quick Evaluation**\n",
        "\n",
        "Select shuffled samples from each training and validation dataset for both BERT and RoBERTa. This allows faster experimentation during model development."
      ],
      "metadata": {
        "id": "V3gYH2nyJsuY"
      },
      "id": "V3gYH2nyJsuY"
    },
    {
      "cell_type": "code",
      "source": [
        "train_subset_df, _ = train_test_split(\n",
        "    train_df[[\"clean_text\", \"label\"]],\n",
        "    train_size=num_train_samples,\n",
        "    stratify=train_df[\"label\"],\n",
        "    random_state=42\n",
        ")\n",
        "\n",
        "val_subset_df, _ = train_test_split(\n",
        "    val_df[[\"clean_text\", \"label\"]],\n",
        "    train_size=500,\n",
        "    stratify=val_df[\"label\"],\n",
        "    random_state=42\n",
        ")"
      ],
      "metadata": {
        "id": "9CMmMsn1JtTx"
      },
      "id": "9CMmMsn1JtTx",
      "execution_count": null,
      "outputs": []
    },
    {
      "cell_type": "markdown",
      "source": [
        "### Manual Fine-Tuning\n",
        "\n",
        "Manually fine-tune transformer models using TweetDataset class, training loop, and Optuna-driven hyperparameter search. This setup gives control over optimization, early stopping, and model saving while logging performance with Weights & Biases."
      ],
      "metadata": {
        "id": "Pg3MkLuk3117"
      },
      "id": "Pg3MkLuk3117"
    },
    {
      "cell_type": "code",
      "source": [
        "# Dataset class\n",
        "class TweetDataset(Dataset):\n",
        "    def __init__(self, df, tokenizer, max_length=256):\n",
        "        self.texts = df['clean_text'].tolist()\n",
        "        self.labels = df['label'].tolist()\n",
        "        self.tokenizer = tokenizer\n",
        "        self.max_length = max_length\n",
        "\n",
        "    def __len__(self):\n",
        "        return len(self.texts)\n",
        "\n",
        "    def __getitem__(self, idx):\n",
        "        text = self.texts[idx]\n",
        "        label = self.labels[idx]\n",
        "        encoding = self.tokenizer(\n",
        "            text,\n",
        "            padding='max_length',\n",
        "            truncation=True,\n",
        "            max_length=self.max_length,\n",
        "            return_tensors='pt'\n",
        "        )\n",
        "        return {\n",
        "            'input_ids': encoding['input_ids'].squeeze(),\n",
        "            'attention_mask': encoding['attention_mask'].squeeze(),\n",
        "            'labels': torch.tensor(label, dtype=torch.long)\n",
        "        }\n",
        "\n",
        "# Training loop\n",
        "def train_model(model, train_loader, val_loader, optimizer, criterion, lr_scheduler, epochs, patience, trial):\n",
        "    device = torch.device(\"cuda\" if torch.cuda.is_available() else \"cpu\")\n",
        "    model.to(device)\n",
        "    best_acc = 0.0\n",
        "    best_f1 = -1.0\n",
        "    best_epoch = 0\n",
        "    best_model = None\n",
        "\n",
        "    for epoch in range(1, epochs + 1):\n",
        "        model.train()\n",
        "        total_loss, total_correct = 0, 0\n",
        "        total_samples = 0\n",
        "\n",
        "        for batch in train_loader:\n",
        "            input_ids = batch['input_ids'].to(device)\n",
        "            attention_mask = batch['attention_mask'].to(device)\n",
        "            labels = batch['labels'].to(device)\n",
        "\n",
        "            optimizer.zero_grad()\n",
        "            outputs = model(input_ids, attention_mask=attention_mask)\n",
        "            loss = criterion(outputs.logits, labels)\n",
        "            loss.backward()\n",
        "            nn.utils.clip_grad_norm_(model.parameters(), 1.0)\n",
        "            optimizer.step()\n",
        "            lr_scheduler.step()\n",
        "\n",
        "            total_loss += loss.item() * input_ids.size(0)\n",
        "            total_correct += (outputs.logits.argmax(dim=1) == labels).sum().item()\n",
        "            total_samples += input_ids.size(0)\n",
        "\n",
        "        train_acc = total_correct / total_samples\n",
        "        train_loss = total_loss / total_samples\n",
        "\n",
        "        # Validation\n",
        "        model.eval()\n",
        "        val_loss, val_correct, val_total = 0, 0, 0\n",
        "        all_preds, all_labels = [], []\n",
        "        with torch.no_grad():\n",
        "            for batch in val_loader:\n",
        "                input_ids = batch['input_ids'].to(device)\n",
        "                attention_mask = batch['attention_mask'].to(device)\n",
        "                labels = batch['labels'].to(device)\n",
        "\n",
        "                outputs = model(input_ids, attention_mask=attention_mask)\n",
        "                loss = criterion(outputs.logits, labels)\n",
        "\n",
        "                val_loss += loss.item() * input_ids.size(0)\n",
        "                val_correct += (outputs.logits.argmax(dim=1) == labels).sum().item()\n",
        "                val_total += input_ids.size(0)\n",
        "\n",
        "                all_preds.extend(outputs.logits.argmax(dim=1).cpu().numpy())\n",
        "                all_labels.extend(labels.cpu().numpy())\n",
        "\n",
        "        val_acc = val_correct / val_total\n",
        "        val_f1 = f1_score(all_labels, all_preds, average='macro', zero_division=0)\n",
        "\n",
        "        wandb.log({\n",
        "            \"epoch\": epoch,\n",
        "            \"train_loss\": train_loss,\n",
        "            \"train_acc\": train_acc,\n",
        "            \"val_loss\": val_loss / val_total,\n",
        "            \"val_acc\": val_acc,\n",
        "            \"val_f1\": val_f1\n",
        "        })\n",
        "\n",
        "        # save best by F1\n",
        "        if val_f1 > best_f1:\n",
        "            best_f1 = val_f1\n",
        "            best_epoch = epoch\n",
        "            best_model = model.state_dict()\n",
        "        elif epoch - best_epoch > patience:\n",
        "            break\n",
        "\n",
        "    # if best_model:\n",
        "    #     save_path = f\"/content/drive/MyDrive/Colab Notebooks/nlp_project/models/w_test_split/Manual_finetune_min_preproc_{num_train_samples}_samples_opt/best_model_trial_{trial.number}_{num_train_samples}_samples_opt.pt\"\n",
        "    #     torch.save(best_model, save_path)\n",
        "    return float(best_f1)\n",
        "\n",
        "# Objective for Optuna\n",
        "def objective(trial, model_name, tokenizer_class, dataset_name, train_df, val_df, num_labels, device, drive_save_path=None):\n",
        "    # Hyperparameter suggestions\n",
        "    epochs = trial.suggest_int(\"epochs\", 2, 5)\n",
        "    learning_rate = trial.suggest_loguniform(\"learning_rate\", 1e-5, 1e-3)\n",
        "    weight_decay = trial.suggest_loguniform(\"weight_decay\", 1e-6, 1e-4)\n",
        "    patience = trial.suggest_int(\"patience\", 2, 4)\n",
        "    batch_size = trial.suggest_categorical(\"batch_size\", [16, 32, 64])\n",
        "    num_layers = trial.suggest_int(\"num_layers\", 1, 3)\n",
        "\n",
        "    # Tokenizer and Dataset\n",
        "    tokenizer = tokenizer_class.from_pretrained(model_name)\n",
        "    train_dataset = TweetDataset(train_df, tokenizer, max_length=256)\n",
        "    val_dataset = TweetDataset(val_df, tokenizer, max_length=256)\n",
        "\n",
        "    train_loader = DataLoader(train_dataset, batch_size=batch_size, shuffle=True)\n",
        "    val_loader = DataLoader(val_dataset, batch_size=batch_size, shuffle=False)\n",
        "\n",
        "    # Model\n",
        "    model = AutoModelForSequenceClassification.from_pretrained(model_name, num_labels=num_labels).to(device)\n",
        "\n",
        "    # Loss and optimizer\n",
        "    criterion = nn.CrossEntropyLoss(label_smoothing=0.1)\n",
        "    optimizer = optim.AdamW(model.parameters(), lr=learning_rate, weight_decay=weight_decay)\n",
        "\n",
        "    total_steps = len(train_loader) * epochs\n",
        "    warmup_steps = int(0.1 * total_steps)\n",
        "    lr_scheduler = get_scheduler(\n",
        "        \"linear\",\n",
        "        optimizer=optimizer,\n",
        "        num_warmup_steps=warmup_steps,\n",
        "        num_training_steps=total_steps\n",
        "    )\n",
        "\n",
        "    # Initialize wandb\n",
        "    wandb.init(\n",
        "        project=f\"{dataset_name}-{model_name.split('/')[-1]}\",\n",
        "        config={\n",
        "            \"epochs\": epochs,\n",
        "            \"learning_rate\": learning_rate,\n",
        "            \"weight_decay\": weight_decay,\n",
        "            \"patience\": patience,\n",
        "            \"batch_size\": batch_size,\n",
        "            \"num_layers\": num_layers,\n",
        "            \"model_name\": model_name,\n",
        "        },\n",
        "        name=f\"{model_name}-trial_{trial.number}\"\n",
        "    )\n",
        "\n",
        "    # Train the model\n",
        "    best_val_f1 = train_model(\n",
        "        model=model,\n",
        "        train_loader=train_loader,\n",
        "        val_loader=val_loader,\n",
        "        optimizer=optimizer,\n",
        "        criterion=criterion,\n",
        "        lr_scheduler=lr_scheduler,\n",
        "        epochs=epochs,\n",
        "        patience=patience,\n",
        "        trial=trial\n",
        "    )\n",
        "\n",
        "    # Save best model to drive\n",
        "    if drive_save_path:\n",
        "      if '/' in model_name:\n",
        "        model_name = model_name.split('/')[-1]\n",
        "      model_save_path = os.path.join(drive_save_path, f\"best_model_{model_name}_trial_{trial.number}_{num_train_samples}_samples_opt.pt\")\n",
        "      torch.save(model.state_dict(), model_save_path)\n",
        "\n",
        "    wandb.finish()\n",
        "    return best_val_f1"
      ],
      "metadata": {
        "id": "gaVHc6OYXqC0"
      },
      "id": "gaVHc6OYXqC0",
      "execution_count": null,
      "outputs": []
    },
    {
      "cell_type": "code",
      "source": [
        "device = torch.device(\"cuda\" if torch.cuda.is_available() else \"cpu\")\n",
        "manual_dir = f\"/content/drive/MyDrive/Colab Notebooks/nlp_project/optuna/Manual_finetune_min_preproc_{num_train_samples}_samples_opt\""
      ],
      "metadata": {
        "id": "4yfG_gpaFQLO"
      },
      "id": "4yfG_gpaFQLO",
      "execution_count": null,
      "outputs": []
    },
    {
      "cell_type": "code",
      "source": [
        "# Fine-tune BERT\n",
        "study_bert = optuna.create_study(direction=\"maximize\")\n",
        "study_bert.optimize(lambda trial: objective(\n",
        "    trial=trial,\n",
        "    model_name=\"bert-base-uncased\",\n",
        "    tokenizer_class=BertTokenizer,\n",
        "    dataset_name=\"covid_tweets_manual_trials\",\n",
        "    train_df=train_subset_df,\n",
        "    val_df=val_subset_df,\n",
        "    num_labels=5,\n",
        "    device=device,\n",
        "    drive_save_path=manual_dir\n",
        "), n_trials=5)\n",
        "wandb.finish()"
      ],
      "metadata": {
        "id": "IUbx9_FSfRZJ"
      },
      "id": "IUbx9_FSfRZJ",
      "execution_count": null,
      "outputs": []
    },
    {
      "cell_type": "code",
      "source": [
        "# Fine-tune RoBERTa\n",
        "study_roberta = optuna.create_study(direction=\"maximize\")\n",
        "study_roberta.optimize(lambda trial: objective(\n",
        "    trial=trial,\n",
        "    model_name=\"roberta-base\",\n",
        "    tokenizer_class=RobertaTokenizer,\n",
        "    dataset_name=\"covid_tweets_manual_trials\",\n",
        "    train_df=train_subset_df,\n",
        "    val_df=val_subset_df,\n",
        "    num_labels=5,\n",
        "    device=device,\n",
        "    drive_save_path=manual_dir\n",
        "), n_trials=5)\n",
        "wandb.finish()"
      ],
      "metadata": {
        "id": "W-XgNu_6fdor"
      },
      "id": "W-XgNu_6fdor",
      "execution_count": null,
      "outputs": []
    },
    {
      "cell_type": "code",
      "source": [
        "# Load deberta\n",
        "deberta_model_name = \"microsoft/deberta-v3-base\"\n",
        "n_labels = len(unique_labels)\n",
        "\n",
        "# Tokenizer and model\n",
        "deberta_tokenizer = AutoTokenizer.from_pretrained(deberta_model_name)\n",
        "deberta_model = AutoModelForSequenceClassification.from_pretrained(deberta_model_name, num_labels=n_labels)\n",
        "\n",
        "# Fine-tune DeBERTa\n",
        "study_deberta = optuna.create_study(direction=\"maximize\")\n",
        "study_deberta.optimize(lambda trial: objective(\n",
        "    trial=trial,\n",
        "    model_name=\"microsoft/deberta-v3-base\",\n",
        "    tokenizer_class=deberta_tokenizer,\n",
        "    dataset_name=\"covid_tweets_manual_trials\",\n",
        "    train_df=train_subset_df,\n",
        "    val_df=val_subset_df,\n",
        "    num_labels=5,\n",
        "    device=device,\n",
        "    drive_save_path=manual_dir\n",
        "), n_trials=5)\n",
        "wandb.finish()"
      ],
      "metadata": {
        "id": "NCBLSFf3Cl5n"
      },
      "id": "NCBLSFf3Cl5n",
      "execution_count": null,
      "outputs": []
    },
    {
      "cell_type": "code",
      "source": [
        "# Saving best trials\n",
        "save_path = manual_dir\n",
        "\n",
        "study_bert.trials_dataframe().to_csv(save_path + f\"/study_bert_results_{num_train_samples}_samples_opt.csv\", index=False)\n",
        "study_roberta.trials_dataframe().to_csv(save_path + f\"/study_roberta_results_{num_train_samples}_samples_opt.csv\", index=False)\n",
        "study_deberta.trials_dataframe().to_csv(save_path + f\"/study_deberta_results_{num_train_samples}_samples_opt.csv\", index=False)"
      ],
      "metadata": {
        "id": "BrcXdWyr_kQW"
      },
      "id": "BrcXdWyr_kQW",
      "execution_count": null,
      "outputs": []
    },
    {
      "cell_type": "code",
      "source": [
        "best_bert_trial = study_bert.best_trial\n",
        "best_roberta_trial = study_roberta.best_trial\n",
        "best_deberta_trial = study_deberta.best_trial"
      ],
      "metadata": {
        "id": "xXmdh1NbiCYh"
      },
      "id": "xXmdh1NbiCYh",
      "execution_count": null,
      "outputs": []
    },
    {
      "cell_type": "markdown",
      "source": [
        "### Fine-Tuning on Full Data\n",
        "Retrain the model on the entire dataset using the best hyperparameters found by Optuna. It rebuilds the dataloaders, initializes the model, and optimizer. Finally, it saves the fully fine-tuned model."
      ],
      "metadata": {
        "id": "iwnRGXTl5PxB"
      },
      "id": "iwnRGXTl5PxB"
    },
    {
      "cell_type": "code",
      "source": [
        "def finetune_on_full_data(model_name, tokenizer_class, best_trial, full_train_df, full_val_df, num_labels, device, save_path):\n",
        "    epochs = best_trial.params[\"epochs\"]\n",
        "    tokenizer = tokenizer_class.from_pretrained(model_name)\n",
        "\n",
        "    train_dataset = TweetDataset(full_train_df, tokenizer, max_length=256)\n",
        "    val_dataset = TweetDataset(full_val_df, tokenizer, max_length=256)\n",
        "\n",
        "    train_loader = DataLoader(train_dataset, batch_size=best_trial.params[\"batch_size\"], shuffle=True)\n",
        "    val_loader = DataLoader(val_dataset, batch_size=best_trial.params[\"batch_size\"], shuffle=False)\n",
        "\n",
        "    model = AutoModelForSequenceClassification.from_pretrained(model_name, num_labels=num_labels).to(device)\n",
        "\n",
        "    optimizer = optim.AdamW(\n",
        "        model.parameters(),\n",
        "        lr=best_trial.params[\"learning_rate\"],\n",
        "        weight_decay=best_trial.params[\"weight_decay\"]\n",
        "    )\n",
        "\n",
        "    total_steps = len(train_loader) * epochs\n",
        "    warmup_steps = int(0.1 * total_steps)\n",
        "    lr_scheduler = get_scheduler(\n",
        "        \"linear\",\n",
        "        optimizer=optimizer,\n",
        "        num_warmup_steps=warmup_steps,\n",
        "        num_training_steps=total_steps\n",
        "    )\n",
        "\n",
        "    criterion = nn.CrossEntropyLoss(label_smoothing=0.1)\n",
        "\n",
        "    dummy_trial = type('', (), {})()\n",
        "    dummy_trial.number = 999\n",
        "\n",
        "    acc = train_model(\n",
        "        model=model,\n",
        "        train_loader=train_loader,\n",
        "        val_loader=val_loader,\n",
        "        optimizer=optimizer,\n",
        "        criterion=criterion,\n",
        "        lr_scheduler=lr_scheduler,\n",
        "        epochs=epochs,\n",
        "        patience=best_trial.params[\"patience\"],\n",
        "        trial=dummy_trial\n",
        "    )\n",
        "\n",
        "    if '/' in model_name:\n",
        "      model_name = model_name.split('/')[-1]\n",
        "    final_model_path = os.path.join(save_path, f\"final_model_{model_name}_{num_train_samples}_samples_opt.pt\")\n",
        "    torch.save(model.state_dict(), final_model_path)\n",
        "    return final_model_path"
      ],
      "metadata": {
        "id": "thm-PPPMiH06"
      },
      "id": "thm-PPPMiH06",
      "execution_count": null,
      "outputs": []
    },
    {
      "cell_type": "code",
      "source": [
        "manual_dir_best = f\"/content/drive/MyDrive/Colab Notebooks/nlp_project/models/w_test_split/Manual_finetune_min_preproc_{num_train_samples}_samples_opt\""
      ],
      "metadata": {
        "id": "fBDiaqRDd043"
      },
      "id": "fBDiaqRDd043",
      "execution_count": null,
      "outputs": []
    },
    {
      "cell_type": "code",
      "source": [
        "best_params_bert = best_bert_trial.params\n",
        "run_name_bert = f\"bert_final_stratify_{is_preprocessed}-ep{best_params_bert['epochs']}-lr{best_params_bert['learning_rate']:.1e}-bs{best_params_bert['batch_size']}\"\n",
        "wandb.init(project=f\"covid_tweets_manual-bert-base-uncased_{num_train_samples}_samples_opt\", name=run_name_bert, reinit=True)\n",
        "\n",
        "final_bert_path = finetune_on_full_data(\n",
        "    model_name=\"bert-base-uncased\",\n",
        "    tokenizer_class=BertTokenizer,\n",
        "    best_trial=best_bert_trial,\n",
        "    full_train_df=train_df,\n",
        "    full_val_df=val_df,\n",
        "    num_labels=5,\n",
        "    device=device,\n",
        "    save_path=manual_dir_best\n",
        ")\n",
        "wandb.finish()\n",
        "\n",
        "\n",
        "best_params_roberta = best_roberta_trial.params\n",
        "run_name_roberta = f\"roberta_final_stratify_{is_preprocessed}-ep{best_params_roberta['epochs']}-lr{best_params_roberta['learning_rate']:.1e}-bs{best_params_roberta['batch_size']}\"\n",
        "wandb.init(project=f\"covid_tweets_manual-roberta-base_{num_train_samples}_samples_opt\", name=run_name_roberta, reinit=True)\n",
        "\n",
        "final_roberta_path = finetune_on_full_data(\n",
        "    model_name=\"roberta-base\",\n",
        "    tokenizer_class=RobertaTokenizer,\n",
        "    best_trial=best_roberta_trial,\n",
        "    full_train_df=train_df,\n",
        "    full_val_df=val_df,\n",
        "    num_labels=5,\n",
        "    device=device,\n",
        "    save_path=manual_dir_best\n",
        ")\n",
        "wandb.finish()\n",
        "\n",
        "best_params_deberta = best_deberta_trial.params\n",
        "run_name_deberta = f\"deberta_final_stratify_{is_preprocessed}-ep{best_params_deberta['epochs']}-lr{best_params_deberta['learning_rate']:.1e}-bs{best_params_deberta['batch_size']}\"\n",
        "wandb.init(project=f\"covid_tweets_manual-deberta-base_{num_train_samples}_samples_opt\", name=run_name_deberta, reinit=True)\n",
        "\n",
        "final_deberta_path = finetune_on_full_data(\n",
        "    model_name=\"microsoft/deberta-v3-base\",\n",
        "    tokenizer_class=deberta_tokenizer,\n",
        "    best_trial=best_deberta_trial,\n",
        "    full_train_df=train_df,\n",
        "    full_val_df=val_df,\n",
        "    num_labels=5,\n",
        "    device=device,\n",
        "    save_path=manual_dir_best\n",
        ")\n",
        "wandb.finish()"
      ],
      "metadata": {
        "id": "xLR1Y-Jvisac"
      },
      "id": "xLR1Y-Jvisac",
      "execution_count": null,
      "outputs": []
    },
    {
      "cell_type": "markdown",
      "source": [
        "### Model evaluation"
      ],
      "metadata": {
        "id": "kJu0LCMR6mBG"
      },
      "id": "kJu0LCMR6mBG"
    },
    {
      "cell_type": "code",
      "source": [
        "def evaluate_model(model_name, tokenizer_class, checkpoint_path, test_df, num_labels, device, batch_size=32):\n",
        "    # Load tokenizer and dataset\n",
        "    tokenizer = tokenizer_class.from_pretrained(model_name)\n",
        "    test_dataset = TweetDataset(test_df, tokenizer, max_length=256)\n",
        "    test_loader = DataLoader(test_dataset, batch_size=batch_size, shuffle=False)\n",
        "\n",
        "    # Load model and weights\n",
        "    model = AutoModelForSequenceClassification.from_pretrained(model_name, num_labels=num_labels)\n",
        "    model.load_state_dict(torch.load(checkpoint_path))\n",
        "    model.to(device)\n",
        "    model.eval()\n",
        "\n",
        "    all_labels = []\n",
        "    all_preds = []\n",
        "\n",
        "    with torch.no_grad():\n",
        "        for batch in test_loader:\n",
        "            input_ids = batch['input_ids'].to(device)\n",
        "            attention_mask = batch['attention_mask'].to(device)\n",
        "            labels = batch['labels'].to(device)\n",
        "\n",
        "            outputs = model(input_ids, attention_mask=attention_mask)\n",
        "            logits = outputs.logits\n",
        "            preds = logits.argmax(dim=1)\n",
        "\n",
        "            all_labels.extend(labels.cpu().numpy())\n",
        "            all_preds.extend(preds.cpu().numpy())\n",
        "\n",
        "    metrics = {\n",
        "        \"Accuracy\": accuracy_score(all_labels, all_preds),\n",
        "        \"Precision\": precision_score(all_labels, all_preds, average='macro'),\n",
        "        \"Recall\": recall_score(all_labels, all_preds, average='macro'),\n",
        "        \"F1 Score\": f1_score(all_labels, all_preds, average='macro')\n",
        "    }\n",
        "\n",
        "    return metrics"
      ],
      "metadata": {
        "id": "_uWK7Ip_f8oO"
      },
      "id": "_uWK7Ip_f8oO",
      "execution_count": null,
      "outputs": []
    },
    {
      "cell_type": "code",
      "source": [
        "bert_metrics = evaluate_model(\n",
        "    model_name=\"bert-base-uncased\",\n",
        "    tokenizer_class=BertTokenizer,\n",
        "    checkpoint_path=final_bert_path,\n",
        "    test_df=test_df,\n",
        "    num_labels=5,\n",
        "    device=device\n",
        ")\n",
        "\n",
        "roberta_metrics = evaluate_model(\n",
        "    model_name=\"roberta-base\",\n",
        "    tokenizer_class=RobertaTokenizer,\n",
        "    checkpoint_path=final_roberta_path,\n",
        "    test_df=test_df,\n",
        "    num_labels=5,\n",
        "    device=device\n",
        ")\n",
        "\n",
        "deberta_metrics = evaluate_model(\n",
        "    model_name=\"microsoft/deberta-v3-base\",\n",
        "    tokenizer_class=deberta_tokenizer,\n",
        "    checkpoint_path=final_deberta_path,\n",
        "    test_df=test_df,\n",
        "    num_labels=5,\n",
        "    device=device\n",
        ")"
      ],
      "metadata": {
        "id": "TilJwSmbj8vc"
      },
      "id": "TilJwSmbj8vc",
      "execution_count": null,
      "outputs": []
    },
    {
      "cell_type": "code",
      "source": [
        "bert_metrics"
      ],
      "metadata": {
        "id": "prZT0VV_0Jw5"
      },
      "id": "prZT0VV_0Jw5",
      "execution_count": null,
      "outputs": []
    },
    {
      "cell_type": "code",
      "source": [
        "roberta_metrics"
      ],
      "metadata": {
        "id": "ICj-Dhuc0dJ4"
      },
      "id": "ICj-Dhuc0dJ4",
      "execution_count": null,
      "outputs": []
    },
    {
      "cell_type": "code",
      "source": [
        "deberta_metrics"
      ],
      "metadata": {
        "id": "FX7xB0LXDpRL"
      },
      "id": "FX7xB0LXDpRL",
      "execution_count": null,
      "outputs": []
    },
    {
      "cell_type": "markdown",
      "source": [
        "Save models from manual code as Hugging Face format"
      ],
      "metadata": {
        "id": "WuEY-mMg2Gzq"
      },
      "id": "WuEY-mMg2Gzq"
    },
    {
      "cell_type": "code",
      "source": [
        "bert_path = os.path.join(manual_dir_best, f\"final_model_bert-base-uncased_{num_train_samples}_samples_opt.pt\")\n",
        "roberta_path = os.path.join(manual_dir_best, f\"final_model_roberta-base_{num_train_samples}_samples_opt.pt\")\n",
        "deberta_path = os.path.join(manual_dir_best, f\"final_model_deberta-v3-base_{num_train_samples}_samples_opt.pt\")\n",
        "\n",
        "# Mapping sentiments to unique numeric IDs\n",
        "id2label = {v:k for k,v in label2id.items()}\n",
        "\n",
        "bert_manual = AutoModelForSequenceClassification.from_pretrained(\n",
        "    \"bert-base-uncased\", num_labels=len(label2id), label2id=label2id, id2label=id2label).to(device)\n",
        "bert_manual.load_state_dict(torch.load(bert_path, map_location=device))\n",
        "bert_manual.eval()\n",
        "bert_tok_manual = AutoTokenizer.from_pretrained(\"bert-base-uncased\")\n",
        "\n",
        "roberta_manual = AutoModelForSequenceClassification.from_pretrained(\n",
        "    \"roberta-base\", num_labels=len(label2id), label2id=label2id, id2label=id2label).to(device)\n",
        "roberta_manual.load_state_dict(torch.load(roberta_path, map_location=device))\n",
        "roberta_manual.eval()\n",
        "roberta_tok_manual = AutoTokenizer.from_pretrained(\"roberta-base\")\n",
        "\n",
        "deberta_manual = AutoModelForSequenceClassification.from_pretrained(\n",
        "    \"microsoft/deberta-v3-base\", num_labels=len(label2id), label2id=label2id, id2label=id2label).to(device)\n",
        "deberta_manual.load_state_dict(torch.load(deberta_path, map_location=device))\n",
        "deberta_manual.eval()\n",
        "deberta_tok_manual = AutoTokenizer.from_pretrained(\"microsoft/deberta-v3-base\")"
      ],
      "metadata": {
        "id": "hiRV7Dgq0emF"
      },
      "id": "hiRV7Dgq0emF",
      "execution_count": null,
      "outputs": []
    },
    {
      "cell_type": "code",
      "source": [
        "# BERT manual - save_pretrained folder\n",
        "bert_manual_out = os.path.join(manual_dir_best, f\"manual2hf_bert-base-uncased_{num_train_samples}_samples_opt\")\n",
        "bert_manual.save_pretrained(bert_manual_out)\n",
        "bert_tok_manual.save_pretrained(bert_manual_out)\n",
        "\n",
        "# RoBERTa manual - save_pretrained folder\n",
        "roberta_manual_out = os.path.join(manual_dir_best, f\"manual2hf_roberta-base_{num_train_samples}_samples_opt\")\n",
        "roberta_manual.save_pretrained(roberta_manual_out)\n",
        "roberta_tok_manual.save_pretrained(roberta_manual_out)\n",
        "\n",
        "# DeBERTa manual - save_pretrained folder\n",
        "deberta_manual_out = os.path.join(manual_dir_best, f\"manual2hf_deberta-base_{num_train_samples}_samples_opt\")\n",
        "deberta_manual.save_pretrained(deberta_manual_out)\n",
        "deberta_tok_manual.save_pretrained(deberta_manual_out)"
      ],
      "metadata": {
        "id": "9cMtNPSU2Ybh"
      },
      "id": "9cMtNPSU2Ybh",
      "execution_count": null,
      "outputs": []
    },
    {
      "cell_type": "code",
      "source": [
        "# from IPython.display import Javascript\n",
        "\n",
        "# def disconnect_runtime():\n",
        "#     display(Javascript('google.colab.kernel.disconnect()'))\n",
        "\n",
        "# disconnect_runtime()"
      ],
      "metadata": {
        "id": "VZNgLQ1WiXVa"
      },
      "id": "VZNgLQ1WiXVa",
      "execution_count": null,
      "outputs": []
    },
    {
      "cell_type": "code",
      "source": [],
      "metadata": {
        "id": "3YK_kWQGIJun"
      },
      "id": "3YK_kWQGIJun",
      "execution_count": null,
      "outputs": []
    }
  ],
  "metadata": {
    "kernelspec": {
      "display_name": "Python 3",
      "name": "python3"
    },
    "language_info": {
      "codemirror_mode": {
        "name": "ipython",
        "version": 3
      },
      "file_extension": ".py",
      "mimetype": "text/x-python",
      "name": "python",
      "nbconvert_exporter": "python",
      "pygments_lexer": "ipython3",
      "version": "3.9.13"
    },
    "colab": {
      "provenance": [],
      "machine_shape": "hm",
      "gpuType": "A100",
      "include_colab_link": true
    },
    "accelerator": "GPU"
  },
  "nbformat": 4,
  "nbformat_minor": 5
}